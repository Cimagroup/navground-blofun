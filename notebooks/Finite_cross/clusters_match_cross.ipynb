{
 "cells": [
  {
   "cell_type": "code",
   "execution_count": null,
   "id": "05887489-d923-49c2-adce-ef1e6f411661",
   "metadata": {},
   "outputs": [],
   "source": [
    "from navground import sim\n",
    "import h5py\n",
    "import os\n",
    "import matplotlib.pyplot as plt\n",
    "import numpy as np\n",
    "import scipy.spatial.distance as dist\n",
    "\n",
    "import iblofunmatch.inter as ibfm\n",
    "output_dir=\"output\"\n",
    "os.makedirs(output_dir, exist_ok=True)"
   ]
  },
  {
   "cell_type": "code",
   "execution_count": null,
   "id": "13832208-783c-4498-a8fa-5c2fdf2bee1e",
   "metadata": {},
   "outputs": [],
   "source": [
    "side_length = 10\n",
    "yaml = f\"\"\"\n",
    "steps: 10000\n",
    "time_step: 0.1\n",
    "record_safety_violation: true\n",
    "record_task_events: true\n",
    "record_pose: true\n",
    "runs: 1\n",
    "save_directory: .\n",
    "scenario:\n",
    "  type: Cross\n",
    "  side: {side_length}\n",
    "  agent_margin: 0.2\n",
    "  add_safety_to_agent_margin: true\n",
    "  tolerance: 0.6\n",
    "  position_noise: 0.2\n",
    "  groups:\n",
    "    - number: 30\n",
    "      type: thymio\n",
    "      control_period: 0.1\n",
    "      behavior:\n",
    "        type: HL\n",
    "        safety_margin: 0.1 \n",
    "      radius: 0.2\n",
    "      kinematics:\n",
    "        type: 2WDiff\n",
    "        max_speed: 1.0\n",
    "        wheel_axis: 2\n",
    "      state_estimation:\n",
    "        type: Bounded\n",
    "        range: 2.0\n",
    "\"\"\""
   ]
  },
  {
   "cell_type": "code",
   "execution_count": null,
   "id": "977fd84f-3536-4f75-8ad6-998bcf0df67a",
   "metadata": {},
   "outputs": [],
   "source": [
    "experiment = sim.load_experiment(yaml)\n",
    "experiment.run()\n",
    "data = h5py.File(experiment.path)\n",
    "print(data.keys())\n",
    "run = data[\"run_0\"]\n",
    "ps = run['poses']"
   ]
  },
  {
   "cell_type": "markdown",
   "id": "8cc06ad7-c0d7-47d5-a3e2-62b9346bee41",
   "metadata": {},
   "source": [
    "Consider two close timesteps in the experiment. Was the movement ordered or not?"
   ]
  },
  {
   "cell_type": "code",
   "execution_count": null,
   "id": "a593f066-fba2-42f4-b836-99da0f460ad7",
   "metadata": {},
   "outputs": [],
   "source": [
    "start_time = 100\n",
    "end_time = 125 # long wait\n",
    "X = ps[start_time][:,[0,1]]\n",
    "Y = ps[end_time][:,[0,1]]\n",
    "fig, ax = plt.subplots(ncols=3, figsize=(18,6))\n",
    "colorlist = [\"red\", \"black\", \"blue\"]\n",
    "# Scatter points \n",
    "ax[0].scatter(X[:,0], X[:,1], c=colorlist[0])\n",
    "ax[2].scatter(Y[:,0], Y[:,1], c=colorlist[2])\n",
    "# plot both point clouds in the middle\n",
    "ax[1].scatter(X[:,0], X[:,1], c=colorlist[0], s=30, zorder=3, marker=\"x\")\n",
    "ax[1].scatter(Y[:,0], Y[:,1], c=colorlist[2], s=30, zorder=3, marker=\"+\")\n",
    "for start, end in zip(X, Y):\n",
    "    ax[1].plot([start[0], end[0]], [start[1], end[1]], c=\"black\")\n",
    "plt.savefig(\"points_matching_large_timestep.png\")"
   ]
  },
  {
   "cell_type": "markdown",
   "id": "4a39a061-56ac-411d-838e-d3dad7033fb7",
   "metadata": {},
   "source": [
    "## Compute Block Function using minimum distances in middle"
   ]
  },
  {
   "cell_type": "code",
   "execution_count": null,
   "id": "972642bc-02dc-4815-8de9-c303efb59623",
   "metadata": {},
   "outputs": [],
   "source": [
    "Dist_X = dist.squareform(dist.pdist(X))\n",
    "Dist_Y = dist.squareform(dist.pdist(Y))\n",
    "Dist_Z = np.minimum(Dist_X, Dist_Y)\n",
    "subset_indices = list(range(Dist_X.shape[0]))\n",
    "ibfm_bfun = [\n",
    "    ibfm.get_IBloFunMatch_subset(Dist_X, Dist_Z, subset_indices, output_dir),\n",
    "    ibfm.get_IBloFunMatch_subset(Dist_Y, Dist_Z, subset_indices, output_dir)\n",
    "]"
   ]
  },
  {
   "cell_type": "code",
   "execution_count": null,
   "id": "1fb21e2b-8c2e-4e3c-bf07-40eb9f503462",
   "metadata": {},
   "outputs": [],
   "source": [
    "fig, ax = plt.subplots(ncols=4, figsize=(10, 2))\n",
    "ibfm.plot_matching(ibfm_bfun[0], ax[[0,1]], fig, dim=0)\n",
    "ibfm.plot_matching(ibfm_bfun[1], ax[[2,3]], fig, dim=0)\n",
    "plt.savefig(\"match_0_large.png\")"
   ]
  },
  {
   "cell_type": "code",
   "execution_count": null,
   "id": "bd4ac563-4d3d-442e-94de-6579e1447f19",
   "metadata": {},
   "outputs": [],
   "source": [
    "fig, ax = plt.subplots(figsize=(10,10))\n",
    "ibfm.plot_XYZ_matching_0(ibfm_bfun, ax)\n",
    "max_x = max(np.max(ibfm_bfun[0][\"S_barcode_0\"]), np.max(ibfm_bfun[1][\"X_barcode_0\"]))\n",
    "ax.set_xlim([-max_x*1.1,max_x*1.1])\n",
    "plt.savefig(\"diagrams_0_match_large_timestep.png\")"
   ]
  },
  {
   "cell_type": "code",
   "execution_count": null,
   "id": "1a1febfc-4899-4c26-ad33-10c51466e300",
   "metadata": {},
   "outputs": [],
   "source": [
    "Print barcode change across a small timestep."
   ]
  },
  {
   "cell_type": "code",
   "execution_count": null,
   "id": "cf9d3b7a-873c-44bd-a83d-1e126dc735e4",
   "metadata": {},
   "outputs": [],
   "source": [
    "start_time = 100\n",
    "end_time = 105 # long wait\n",
    "X = ps[start_time][:,[0,1]]\n",
    "Y = ps[end_time][:,[0,1]]\n",
    "fig, ax = plt.subplots(ncols=3, figsize=(18,6))\n",
    "colorlist = [\"red\", \"black\", \"blue\"]\n",
    "# Scatter points \n",
    "ax[0].scatter(X[:,0], X[:,1], c=colorlist[0])\n",
    "ax[2].scatter(Y[:,0], Y[:,1], c=colorlist[2])\n",
    "# plot both point clouds in the middle\n",
    "ax[1].scatter(X[:,0], X[:,1], c=colorlist[0], s=30, zorder=3, marker=\"x\")\n",
    "ax[1].scatter(Y[:,0], Y[:,1], c=colorlist[2], s=30, zorder=3, marker=\"+\")\n",
    "for start, end in zip(X, Y):\n",
    "    ax[1].plot([start[0], end[0]], [start[1], end[1]], c=\"black\")\n",
    "plt.savefig(\"points_matching_small_timestep.png\")\n",
    "\n",
    "Dist_X = dist.squareform(dist.pdist(X))\n",
    "Dist_Y = dist.squareform(dist.pdist(Y))\n",
    "Dist_Z = np.minimum(Dist_X, Dist_Y)\n",
    "subset_indices = list(range(Dist_X.shape[0]))\n",
    "ibfm_bfun = [\n",
    "    ibfm.get_IBloFunMatch_subset(Dist_X, Dist_Z, subset_indices, output_dir),\n",
    "    ibfm.get_IBloFunMatch_subset(Dist_Y, Dist_Z, subset_indices, output_dir)\n",
    "]\n",
    "\n",
    "fig, ax = plt.subplots(figsize=(10,10))\n",
    "ibfm.plot_XYZ_matching_0(ibfm_bfun, ax)\n",
    "max_x = max(np.max(ibfm_bfun[0][\"S_barcode_0\"]), np.max(ibfm_bfun[1][\"X_barcode_0\"]))\n",
    "ax.set_xlim([-max_x*1.1,max_x*1.1])\n",
    "plt.savefig(\"diagrams_0_match_small_timestep.png\")"
   ]
  },
  {
   "cell_type": "code",
   "execution_count": null,
   "id": "42a1ad35-ece4-4110-b61a-2a9c54ce5937",
   "metadata": {},
   "outputs": [],
   "source": []
  },
  {
   "cell_type": "code",
   "execution_count": null,
   "id": "a954eff7-4f77-4185-a382-4ded09261a50",
   "metadata": {},
   "outputs": [],
   "source": []
  },
  {
   "cell_type": "code",
   "execution_count": null,
   "id": "f212344a-051b-46fc-9d93-0e8e77188bb1",
   "metadata": {},
   "outputs": [],
   "source": []
  }
 ],
 "metadata": {
  "kernelspec": {
   "display_name": "Python 3 (ipykernel)",
   "language": "python",
   "name": "python3"
  },
  "language_info": {
   "codemirror_mode": {
    "name": "ipython",
    "version": 3
   },
   "file_extension": ".py",
   "mimetype": "text/x-python",
   "name": "python",
   "nbconvert_exporter": "python",
   "pygments_lexer": "ipython3",
   "version": "3.10.12"
  }
 },
 "nbformat": 4,
 "nbformat_minor": 5
}
