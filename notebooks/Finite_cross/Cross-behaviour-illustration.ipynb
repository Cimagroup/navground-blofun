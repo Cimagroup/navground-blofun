{
 "cells": [
  {
   "cell_type": "markdown",
   "id": "10174b23-25f5-45d2-85a2-43985ce76950",
   "metadata": {},
   "source": [
    "In this notebook, we explore basic analysis of the positions and speeds to detect similarities and differences between behaviouirs.\n",
    "\n",
    "We start importing some libraries."
   ]
  },
  {
   "cell_type": "code",
   "execution_count": null,
   "id": "35f7c19a-b478-4fa9-9451-2722d6275e7c",
   "metadata": {},
   "outputs": [],
   "source": [
    "import numpy as np\n",
    "import matplotlib.pyplot as plt\n",
    "import matplotlib as mpl\n",
    "import os\n",
    "\n",
    "import perdiver.perdiver as perdiver\n",
    "\n",
    "from navground import core, sim\n",
    "\n",
    "plots_dir = os.path.join(\"plots\", \"visualisation\")\n",
    "experiment_dir = \"experiments\"\n",
    "os.makedirs(plots_dir, exist_ok=True)\n",
    "os.makedirs(\"experiments\", exist_ok=True)"
   ]
  },
  {
   "cell_type": "code",
   "execution_count": null,
   "id": "f88c00d1-7647-4543-8357-965de185f7ec",
   "metadata": {},
   "outputs": [],
   "source": [
    "# Cross\n",
    "side = 2\n",
    "num_steps = 400\n",
    "\n",
    "num_agents = 11 # 31\n",
    "num_runs = 1\n",
    "behaviour_list = [\"ORCA\", \"HL\", \"HRVO\", \"Dummy\"]\n",
    "marker_behaviour = {\"ORCA\": \"o\", \"HL\": \"X\", \"HRVO\": \"+\", \"Dummy\": \"*\"}\n",
    "color_behaviour = {}\n",
    "for i, behaviour in enumerate(behaviour_list):\n",
    "    color_behaviour[behaviour] = mpl.colormaps[\"Set1\"](i / (len(behaviour_list) +1))\n",
    "for behaviour in behaviour_list:\n",
    "    path = os.path.join(experiment_dir, f\"visualisation_{behaviour}.h5\")\n",
    "    yaml = f\"\"\"\n",
    "    steps: {num_steps}\n",
    "    time_step: 0.1\n",
    "    record_pose: true\n",
    "    record_twist: true\n",
    "    runs: {num_runs}\n",
    "    record_collisions: true\n",
    "    record_deadlocks: true\n",
    "    record_safety_violation: true\n",
    "    record_efficacy: true\n",
    "    terminated_when_idle_or_stuck: false\n",
    "    scenario:\n",
    "      type: Cross\n",
    "      side: {side} \n",
    "      groups:\n",
    "        -\n",
    "          type: thymio\n",
    "          number: {num_agents}\n",
    "          radius: 0.08\n",
    "          control_period: 0.1\n",
    "          speed_tolerance: 0.02\n",
    "          kinematics:\n",
    "            type: 2WDiff\n",
    "            wheel_axis: 0.094\n",
    "            max_speed: 0.166\n",
    "          behavior:\n",
    "            type: {behaviour}\n",
    "            optimal_speed: \n",
    "                sampler: normal\n",
    "                mean: 0.2\n",
    "                std_dev: 0.05\n",
    "            horizon: 5.0\n",
    "            safety_margin: \n",
    "                sampler: normal\n",
    "                mean: 0.2\n",
    "                std_dev: 0.05\n",
    "          state_estimation:\n",
    "            type: Bounded\n",
    "            range: 5.0\n",
    "    \"\"\"\n",
    "    experiment = sim.load_experiment(yaml)\n",
    "    experiment.run(keep=False, data_path=path)\n",
    "    del experiment"
   ]
  },
  {
   "cell_type": "code",
   "execution_count": null,
   "id": "d84b1524-0407-4828-b2ab-8b8485e41a97",
   "metadata": {},
   "outputs": [],
   "source": [
    "runs = {}\n",
    "# Reload simulations\n",
    "for behaviour in behaviour_list:\n",
    "    path = os.path.join(experiment_dir, f\"visualisation_{behaviour}.h5\")\n",
    "    recorded_experiment = sim.RecordedExperiment(path)\n",
    "    runs[behaviour] = recorded_experiment.runs"
   ]
  },
  {
   "cell_type": "markdown",
   "id": "ec5913e6-73bc-4a7e-b5c0-1a0fe3f11ee4",
   "metadata": {},
   "source": [
    "Now, we illustrate movements for each behaviour in a single image."
   ]
  },
  {
   "cell_type": "code",
   "execution_count": null,
   "id": "5a3a2cba-bd33-45c9-a9a3-2393be189c10",
   "metadata": {},
   "outputs": [],
   "source": [
    "def plot_image_cross(run, image, timestep_list, side, ax):\n",
    "    # Load poses and number of agents\n",
    "    poses = run.poses\n",
    "    num_agents = poses.shape[1]\n",
    "    # Plot image and adjust bounds\n",
    "    ax.imshow(image, extent=[-side/2, side/2, -side/2, side/2])\n",
    "    ax.set_xlim([-side/2, side/2])\n",
    "    ax.set_ylim([-side/2, side/2])\n",
    "    # Plot trajectories\n",
    "    for i in range(num_agents):\n",
    "        for f, t in zip(timestep_list[:-1], timestep_list[1:]):\n",
    "            edge = np.array([poses[f,i], poses[t,i]])\n",
    "            ax.plot(edge[:,0], edge[:,1], color=mpl.colormaps['Set1'](i/(num_agents+3)))\n",
    "        # end for\n",
    "    # end for"
   ]
  },
  {
   "cell_type": "code",
   "execution_count": null,
   "id": "937ea450-0501-4604-a777-3166e54b3dbb",
   "metadata": {},
   "outputs": [],
   "source": [
    "fig, ax = plt.subplots(ncols=len(behaviour_list), figsize=(4*len(behaviour_list),4))\n",
    "timestep_list = list(range(60,140,15))\n",
    "for i, behaviour in enumerate(behaviour_list):\n",
    "    run = runs[behaviour][0]\n",
    "    image = perdiver.image_run_timestep_list(run, timestep_list)\n",
    "    plot_image_cross(run, image, timestep_list, side, ax[i])\n",
    "    ax[i].set_title(behaviour, fontsize=20)\n",
    "\n",
    "plt.savefig(os.path.join(plots_dir, \"behaviours_cross.png\"))"
   ]
  },
  {
   "cell_type": "code",
   "execution_count": null,
   "id": "6ed906db-afe1-4713-adb4-cff59c65d427",
   "metadata": {},
   "outputs": [],
   "source": []
  }
 ],
 "metadata": {
  "kernelspec": {
   "display_name": "Python 3 (ipykernel)",
   "language": "python",
   "name": "python3"
  },
  "language_info": {
   "codemirror_mode": {
    "name": "ipython",
    "version": 3
   },
   "file_extension": ".py",
   "mimetype": "text/x-python",
   "name": "python",
   "nbconvert_exporter": "python",
   "pygments_lexer": "ipython3",
   "version": "3.10.12"
  }
 },
 "nbformat": 4,
 "nbformat_minor": 5
}
