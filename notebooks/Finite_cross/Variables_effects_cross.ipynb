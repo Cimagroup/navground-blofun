{
 "cells": [
  {
   "cell_type": "code",
   "execution_count": null,
   "id": "8fa65100-6393-4b63-86ff-5a30e9c2f45c",
   "metadata": {},
   "outputs": [],
   "source": [
    "from navground import sim\n",
    "import h5py\n",
    "import os\n",
    "import matplotlib.pyplot as plt\n",
    "import numpy as np\n",
    "import scipy.spatial.distance as dist\n",
    "\n",
    "import iblofunmatch.inter as ibfm\n",
    "output_dir=\"output\"\n",
    "os.makedirs(output_dir, exist_ok=True)"
   ]
  },
  {
   "cell_type": "markdown",
   "id": "9483523b-ebe6-482e-bb8c-fe7bc7355667",
   "metadata": {},
   "source": [
    "First, we see how the position affects the experiment."
   ]
  },
  {
   "cell_type": "code",
   "execution_count": null,
   "id": "41a54603-f6c3-40ec-a098-09268c9c7cab",
   "metadata": {},
   "outputs": [],
   "source": [
    "def compute_square_difference(ibfm_bfun):\n",
    "    blofun_X = ibfm_bfun[0][\"block_function_0\"]\n",
    "    blofun_Y = ibfm_bfun[1][\"block_function_0\"]\n",
    "    assignment = [blofun_Y.index(i) for i in blofun_X]\n",
    "    return np.sum((ibfm_bfun[0][\"S_barcode_0\"][:,1] - ibfm_bfun[0][\"S_barcode_0\"][:,1][assignment])**2)/ len(blofun_X)"
   ]
  },
  {
   "cell_type": "code",
   "execution_count": null,
   "id": "a6531959-0eae-40d4-bfb5-8e748453e87a",
   "metadata": {},
   "outputs": [],
   "source": [
    "side_length = 10\n",
    "differences_list = []\n",
    "# Create and run experiments for varying position_noise \n",
    "safety_margin_list = []\n",
    "for safety_margin in [0.1*i for i in range(1, 8, 2)]:\n",
    "    safety_margin_list.append(safety_margin)\n",
    "    yaml = f\"\"\"\n",
    "    steps: 1000\n",
    "    time_step: 0.1\n",
    "    record_safety_violation: true\n",
    "    record_task_events: true\n",
    "    record_pose: true\n",
    "    save_directory: .\n",
    "    runs: 1\n",
    "    scenario:\n",
    "      type: Cross\n",
    "      side: {side_length}\n",
    "      agent_margin: 0.2\n",
    "      add_safety_to_agent_margin: true\n",
    "      tolerance: 0.6\n",
    "      position_noise: 0.1\n",
    "      groups:\n",
    "        - number: 30\n",
    "          type: thymio\n",
    "          control_period: 0.1\n",
    "          behavior:\n",
    "            type: HL\n",
    "            safety_margin: {safety_margin}\n",
    "          radius: 0.2\n",
    "          kinematics:\n",
    "            type: 2WDiff\n",
    "            max_speed: 1.0\n",
    "            wheel_axis: 2\n",
    "          state_estimation:\n",
    "            type: Bounded\n",
    "            range: 2.0\n",
    "    \"\"\"\n",
    "    experiment = sim.load_experiment(yaml)\n",
    "    experiment.run()\n",
    "    data = h5py.File(experiment.path)\n",
    "    print(data.keys())\n",
    "    run = data[\"run_0\"]\n",
    "    ps = run['poses']\n",
    "    # Compute matchings for ranging values\n",
    "    differences = []\n",
    "    for start_time in range(700):\n",
    "        end_time = start_time + 20\n",
    "        # Get start and end points \n",
    "        X = ps[start_time][:,[0,1]]\n",
    "        Y = ps[end_time][:,[0,1]]\n",
    "        # Compute block functions\n",
    "        Dist_X = dist.squareform(dist.pdist(X))\n",
    "        Dist_Y = dist.squareform(dist.pdist(Y))\n",
    "        Dist_Z = np.minimum(Dist_X, Dist_Y)\n",
    "        subset_indices = list(range(Dist_X.shape[0]))\n",
    "        ibfm_bfun = [\n",
    "            ibfm.get_IBloFunMatch_subset(Dist_X, Dist_Z, subset_indices, output_dir, max_dim=1),\n",
    "            ibfm.get_IBloFunMatch_subset(Dist_Y, Dist_Z, subset_indices, output_dir, max_dim=1)\n",
    "        ]\n",
    "        # add diferences \n",
    "        differences.append(compute_square_difference(ibfm_bfun))\n",
    "    # end for \n",
    "    differences_list.append(differences)"
   ]
  },
  {
   "cell_type": "code",
   "execution_count": null,
   "id": "c0ce9970-2183-43c2-b734-1584a4f24232",
   "metadata": {},
   "outputs": [],
   "source": [
    "import matplotlib as mpl\n",
    "viridis = mpl.colormaps[\"viridis\"]"
   ]
  },
  {
   "cell_type": "code",
   "execution_count": null,
   "id": "eb159ad5-53e5-4007-b053-ba0173c53d6e",
   "metadata": {},
   "outputs": [],
   "source": [
    "fig, ax = plt.subplots(figsize=(15,5))\n",
    "for idx, differences in enumerate(differences_list):\n",
    "    ax.plot(list(range(len(differences))), differences, c=viridis(idx/len(differences_list)), label=f\"safety {safety_margin_list[idx]:.1f}\")\n",
    "\n",
    "ax.legend()\n",
    "plt.savefig(\"changing_safety_differences.png\")"
   ]
  },
  {
   "cell_type": "code",
   "execution_count": null,
   "id": "2365e97d-2ed2-4124-a3df-5986064d57dc",
   "metadata": {},
   "outputs": [],
   "source": [
    "yaml = f\"\"\"\n",
    "    steps: 1000\n",
    "    time_step: 0.1\n",
    "    record_safety_violation: true\n",
    "    record_task_events: true\n",
    "    record_pose: true\n",
    "    save_directory: .\n",
    "    runs: 1\n",
    "    scenario:\n",
    "      type: Cross\n",
    "      side: 7\n",
    "      agent_margin: 0.2\n",
    "      add_safety_to_agent_margin: true\n",
    "      tolerance: 0.6\n",
    "      position_noise: 0.1\n",
    "      groups:\n",
    "        - number: 30\n",
    "          type: thymio\n",
    "          control_period: 0.1\n",
    "          behavior:\n",
    "            type: HL\n",
    "            safety_margin: 0.4\n",
    "          radius: 0.6\n",
    "          color: \"#e6e6e6\"\n",
    "          kinematics:\n",
    "            type: 2WDiff\n",
    "            max_speed: 1.0\n",
    "            wheel_axis: 2\n",
    "          state_estimation:\n",
    "            type: Bounded\n",
    "            range: 2.0\n",
    "    \"\"\""
   ]
  },
  {
   "cell_type": "code",
   "execution_count": null,
   "id": "a3899e2f-7ac4-42e0-a173-987a192a797a",
   "metadata": {},
   "outputs": [],
   "source": [
    "import matplotlib.colors as colors\n",
    "import matplotlib.cm as cmx\n",
    "\n",
    "def linear_map(a, b, cmap):\n",
    "    c = cmx.ScalarMappable(norm=colors.Normalize(vmin=a, vmax=b), cmap=cmap)\n",
    "    def f(v):\n",
    "        r, g, b, _ = c.to_rgba(v)\n",
    "        return f\"#{int(r * 255):02x}{int(g * 255):02x}{int(b * 255):02x}\"\n",
    "    return f"
   ]
  },
  {
   "cell_type": "code",
   "execution_count": null,
   "id": "fa0ecfa3-6f7a-474a-8ad0-a25b461d4683",
   "metadata": {},
   "outputs": [],
   "source": [
    "from navground.sim.ui import WebUI\n",
    "\n",
    "ui = WebUI(port=8002)\n",
    "await ui.prepare()"
   ]
  },
  {
   "cell_type": "code",
   "execution_count": null,
   "id": "d84024ed-ea80-4796-bd70-b9d12154ba9c",
   "metadata": {},
   "outputs": [],
   "source": [
    "fill_map = linear_map(0.0, 1.0, cmap=cmx.RdYlGn)\n",
    "\n",
    "def f(entity):\n",
    "    if isinstance(entity, sim.Agent):\n",
    "        return {'fill': fill_map(entity.behavior.efficacy)}\n",
    "    return {}\n",
    "\n",
    "ui.decorate = f"
   ]
  },
  {
   "cell_type": "code",
   "execution_count": null,
   "id": "1a1afe4a-1f0c-44df-8be7-f9ef8c272a46",
   "metadata": {},
   "outputs": [],
   "source": [
    "import random\n",
    "# from navground.sim.ui.video import record_video\n",
    "from navground.sim.ui.video import display_video\n",
    "scenario = sim.load_scenario(yaml)\n",
    "world = sim.World()\n",
    "scenario.init_world(world, seed=random.randint(0, 2**31))\n",
    "display_video(world, time_step=0.1, duration=30.0, factor=5.0,\n",
    "              bounds=((-3, -3), (3, 3)), width=600, decorate=f)"
   ]
  },
  {
   "cell_type": "code",
   "execution_count": null,
   "id": "2f6130be-c00d-4be1-9af9-39133cac07ec",
   "metadata": {},
   "outputs": [],
   "source": []
  }
 ],
 "metadata": {
  "kernelspec": {
   "display_name": "Python 3 (ipykernel)",
   "language": "python",
   "name": "python3"
  },
  "language_info": {
   "codemirror_mode": {
    "name": "ipython",
    "version": 3
   },
   "file_extension": ".py",
   "mimetype": "text/x-python",
   "name": "python",
   "nbconvert_exporter": "python",
   "pygments_lexer": "ipython3",
   "version": "3.10.12"
  }
 },
 "nbformat": 4,
 "nbformat_minor": 5
}
