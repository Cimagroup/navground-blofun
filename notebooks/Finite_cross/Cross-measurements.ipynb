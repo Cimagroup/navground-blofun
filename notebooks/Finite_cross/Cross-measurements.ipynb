{
 "cells": [
  {
   "cell_type": "markdown",
   "id": "10174b23-25f5-45d2-85a2-43985ce76950",
   "metadata": {},
   "source": [
    "In this notebook, we explore basic analysis of the positions and speeds to detect similarities and differences between behaviouirs.\n",
    "\n",
    "We start importing some libraries."
   ]
  },
  {
   "cell_type": "code",
   "execution_count": null,
   "id": "35f7c19a-b478-4fa9-9451-2722d6275e7c",
   "metadata": {},
   "outputs": [],
   "source": [
    "import numpy as np\n",
    "import matplotlib.pyplot as plt\n",
    "import matplotlib as mpl\n",
    "import os\n",
    "\n",
    "from navground import core, sim\n",
    "\n",
    "plots_dir = os.path.join(\"plots\", \"metrics\")\n",
    "experiment_dir = \"experiments\"\n",
    "os.makedirs(plots_dir, exist_ok=True)\n",
    "os.makedirs(\"experiments\", exist_ok=True)"
   ]
  },
  {
   "cell_type": "code",
   "execution_count": null,
   "id": "f88c00d1-7647-4543-8357-965de185f7ec",
   "metadata": {},
   "outputs": [],
   "source": [
    "num_steps = 400\n",
    "side=2.5\n",
    "num_agents = 31 # 38\n",
    "num_runs = 13\n",
    "behaviour_list = [\"ORCA\", \"HL\", \"HRVO\"]\n",
    "color_behaviour = {}\n",
    "for i, behaviour in enumerate(behaviour_list):\n",
    "    color_behaviour[behaviour] = mpl.colormaps[\"Set1\"](i / (len(behaviour_list) +1))\n",
    "for behaviour in behaviour_list:\n",
    "    path = os.path.join(experiment_dir, f\"measurements_{behaviour}.h5\")\n",
    "    yaml = f\"\"\"\n",
    "    steps: {num_steps}\n",
    "    time_step: 0.1\n",
    "    record_pose: true\n",
    "    record_twist: true\n",
    "    runs: {num_runs}\n",
    "    record_collisions: true\n",
    "    record_deadlocks: true\n",
    "    record_safety_violation: true\n",
    "    record_efficacy: true\n",
    "    scenario:\n",
    "      type: Cross \n",
    "      side: {side} \n",
    "      groups:\n",
    "        -\n",
    "          type: thymio\n",
    "          number: {num_agents}\n",
    "          radius: 0.08\n",
    "          control_period: 0.1\n",
    "          speed_tolerance: 0.02\n",
    "          kinematics:\n",
    "            type: 2WDiff\n",
    "            wheel_axis: 0.094\n",
    "            max_speed: 0.166\n",
    "          behavior:\n",
    "            type: {behaviour}\n",
    "            optimal_speed: \n",
    "                sampler: normal\n",
    "                mean: 0.4\n",
    "                std_dev: 0.05\n",
    "            horizon: 5.0\n",
    "            safety_margin: \n",
    "                sampler: normal\n",
    "                mean: 0.2\n",
    "                std_dev: 0.05\n",
    "          state_estimation:\n",
    "            type: Bounded\n",
    "            range: 5.0\n",
    "    \"\"\"\n",
    "    experiment = sim.load_experiment(yaml)\n",
    "    experiment.run(keep=False, data_path=path)\n",
    "    del experiment"
   ]
  },
  {
   "cell_type": "code",
   "execution_count": null,
   "id": "d84b1524-0407-4828-b2ab-8b8485e41a97",
   "metadata": {},
   "outputs": [],
   "source": [
    "runs = {}\n",
    "# Reload simulations\n",
    "for behaviour in behaviour_list:\n",
    "    path = os.path.join(experiment_dir, f\"measurements_{behaviour}.h5\")\n",
    "    recorded_experiment = sim.RecordedExperiment(path)\n",
    "    runs[behaviour] = recorded_experiment.runs"
   ]
  },
  {
   "cell_type": "markdown",
   "id": "3963a84c-5949-4443-a5d8-dd872817631b",
   "metadata": {},
   "source": [
    "Visualise a simulation"
   ]
  },
  {
   "cell_type": "code",
   "execution_count": null,
   "id": "2a9921b5-2f7a-4312-8c2d-33db4b6d1597",
   "metadata": {},
   "outputs": [],
   "source": [
    "from navground.sim.ui import WebUI\n",
    "from navground.sim.notebook import notebook_view\n",
    "from navground.sim.replay import RealTimeReplay\n",
    "\n",
    "web_ui = WebUI(host='127.0.0.1', max_rate=-1)\n",
    "await web_ui.prepare()"
   ]
  },
  {
   "cell_type": "code",
   "execution_count": null,
   "id": "90df0e72-eeaf-4f98-8339-44b396e72d10",
   "metadata": {},
   "outputs": [],
   "source": [
    "steps_list = list(range(100, 220, 5))\n",
    "variables_behaviour = {}\n",
    "for j, behaviour in enumerate(behaviour_list):\n",
    "    variables_list = []\n",
    "    for ridx in range(num_runs):\n",
    "        variables_run = []\n",
    "        ps = np.array(runs[behaviour][ridx].poses)\n",
    "        twists = np.array(runs[behaviour][ridx].twists)\n",
    "        for idx, step in enumerate(steps_list):\n",
    "            X = ps[step]\n",
    "            vel_X = twists[step]\n",
    "            variables_run.append(np.hstack((np.mean(X, axis=0), np.std(X, axis=0), np.mean(vel_X, axis=0), np.std(vel_X, axis=0))))\n",
    "        # end for \n",
    "        variables_list.append(np.array(variables_run).transpose())\n",
    "    # end for\n",
    "    variables_behaviour[behaviour] = np.array(variables_list)"
   ]
  },
  {
   "cell_type": "code",
   "execution_count": null,
   "id": "ed4cb365-4d3c-47b8-a8b1-c0903bc91c24",
   "metadata": {},
   "outputs": [],
   "source": [
    "fig, ax = plt.subplots(ncols=2, nrows=6, figsize=(12,8))\n",
    "labels = np.array([\n",
    "    [\"x mean\", \"y mean\", \"angle mean\", \"x std\", \"y std\", \"angule std\"],\n",
    "    [\"v_x mean\", \"v_y mean\", \"angle speed mean\", \"v_x std\", \"v_y std\", \"angular speed std\"]\n",
    "]).transpose()\n",
    "for irow in range(labels.shape[0]):\n",
    "    for icol in range(labels.shape[1]):\n",
    "        for behaviour in behaviour_list:\n",
    "            for variables_run in variables_behaviour[behaviour]:\n",
    "                ax[irow, icol].set_title(labels[irow, icol])\n",
    "                ax[irow, icol].plot(list(range(variables_run.shape[1])), variables_run[icol*6 + irow], color=color_behaviour[behaviour], label=behaviour)\n",
    "\n",
    "plt.tight_layout()\n",
    "# Remove duplicate labels \n",
    "handles, labels = plt.gca().get_legend_handles_labels()\n",
    "by_label = dict(zip(labels, handles))\n",
    "plt.legend(by_label.values(), by_label.keys())\n",
    "plt.savefig(os.sep.join((plots_dir, \"basic_metrics_signals.png\")))"
   ]
  },
  {
   "cell_type": "code",
   "execution_count": null,
   "id": "61d87496-fae1-4d57-b1e4-286ae4f4ffd8",
   "metadata": {},
   "outputs": [],
   "source": [
    "from sklearn.decomposition import PCA"
   ]
  },
  {
   "cell_type": "code",
   "execution_count": null,
   "id": "973c0ffd-e22b-484c-bb3b-0cabe51600cb",
   "metadata": {},
   "outputs": [],
   "source": [
    "fig, ax = plt.subplots(ncols=6, nrows=2, figsize=(12,4))\n",
    "labels = np.array([\n",
    "    [\"x mean\", \"y mean\", \"angle mean\", \"x std\", \"y std\", \"angule std\"],\n",
    "    [\"v_x mean\", \"v_y mean\", \"angle speed mean\", \"v_x std\", \"v_y std\", \"angular speed std\"]\n",
    "])\n",
    "variables = np.vstack([variables_behaviour[behaviour] for behaviour in behaviour_list])\n",
    "for irow in range(labels.shape[0]):\n",
    "    for icol in range(labels.shape[1]):\n",
    "        ax[irow, icol].set_title(labels[irow, icol])\n",
    "        pca = PCA(n_components=2)\n",
    "        Y = pca.fit_transform(variables[:, irow*6 + icol, :])\n",
    "        Y_dict = {}\n",
    "        for i, behaviour in enumerate(behaviour_list):\n",
    "            Y_dict[behaviour] = Y[num_runs*i:num_runs*(i+1)]\n",
    "        # end for\n",
    "        for behaviour in behaviour_list:\n",
    "            ax[irow, icol].scatter(Y_dict[behaviour][:,0], Y_dict[behaviour][:,1], color=color_behaviour[behaviour], label=behaviour)\n",
    "\n",
    "# Remove duplicate labels \n",
    "handles, labels = plt.gca().get_legend_handles_labels()\n",
    "by_label = dict(zip(labels, handles))\n",
    "fig.legend(by_label.values(), by_label.keys(), loc=(0.3,0),  ncol=len(behaviour_list))\n",
    "plt.tight_layout()\n",
    "plt.savefig(os.sep.join((plots_dir, \"basic_metrics_PCA.png\")))"
   ]
  },
  {
   "cell_type": "markdown",
   "id": "3ceeecb4-eacf-46f5-af5a-d5580ccd42fa",
   "metadata": {},
   "source": [
    "Let us see how these simulations relate to efficacy and number of collisions."
   ]
  },
  {
   "cell_type": "code",
   "execution_count": null,
   "id": "8ebe5ffb-d658-499f-89d4-aa56f37a4f84",
   "metadata": {},
   "outputs": [],
   "source": [
    "import pandas as pd\n",
    "\n",
    "def count_deadlocks(deadlock_time, initial_time, final_time):\n",
    "    is_deadlocked = np.logical_and(deadlock_time > initial_time, deadlock_time < (final_time - 5.0))\n",
    "    return sum(is_deadlocked)\n",
    "\n",
    "def extract_data(experiment, initial_step, final_step):\n",
    "    collisions = []\n",
    "    deadlocks = []\n",
    "    efficacy = []\n",
    "    sms = []\n",
    "    seeds = []\n",
    "    for i, run in experiment.runs.items():\n",
    "        world = run.world\n",
    "        initial_time, final_time = initial_step*run.time_step, final_step*run.time_step\n",
    "        deadlocks.append(count_deadlocks(np.array(run.deadlocks), initial_time, final_time))\n",
    "        collisions.append(np.sum(np.logical_and(\n",
    "            initial_step < run.collisions[:,0], run.collisions[:,0] < final_step\n",
    "        )))\n",
    "        efficacy.append(np.array(run.efficacy[initial_step:final_step]).mean())\n",
    "\n",
    "    df = pd.DataFrame({\n",
    "        'deadlocks': deadlocks,\n",
    "        'collisions': collisions,\n",
    "        'efficacy': efficacy})\n",
    "    df['safe'] = (df.collisions == 0).astype(int)\n",
    "    df['fluid'] = (df.deadlocks == 0).astype(int)\n",
    "    df['ok'] = ((df.deadlocks == 0) & (df.collisions == 0)).astype(int)\n",
    "    return df"
   ]
  },
  {
   "cell_type": "code",
   "execution_count": null,
   "id": "ecd57e1a-a229-40d5-9004-e476a359a171",
   "metadata": {},
   "outputs": [],
   "source": [
    "initial_step = steps_list[0]\n",
    "final_step = steps_list[-1]\n",
    "deadlocks = {}\n",
    "collisions = {}\n",
    "efficacy = {}\n",
    "for behaviour in behaviour_list:\n",
    "    path = os.path.join(experiment_dir, f\"measurements_{behaviour}.h5\")\n",
    "    recorded_experiment = sim.RecordedExperiment(path)\n",
    "    df = extract_data(recorded_experiment, initial_step, final_step)\n",
    "    collisions[behaviour] =  list(df.collisions)\n",
    "    deadlocks[behaviour] = list(df.deadlocks)\n",
    "    efficacy[behaviour] = list(df.efficacy)"
   ]
  },
  {
   "cell_type": "code",
   "execution_count": null,
   "id": "3b2bc98f-e1fc-43d0-8cfb-c79399d27b8a",
   "metadata": {},
   "outputs": [],
   "source": [
    "fig, ax = plt.subplots(figsize=(12,4), ncols=3)\n",
    "for behaviour in behaviour_list:\n",
    "    ax[0].scatter(deadlocks[behaviour], collisions[behaviour], color=color_behaviour[behaviour], label=behaviour)\n",
    "    ax[0].set_xlabel(\"deadlocks\")\n",
    "    ax[0].set_ylabel(\"collisions\")\n",
    "    ax[1].scatter(efficacy[behaviour], collisions[behaviour], color=color_behaviour[behaviour], label=behaviour)\n",
    "    ax[1].set_xlabel(\"efficacy\")\n",
    "    ax[1].set_ylabel(\"collisions\")\n",
    "    ax[2].scatter(efficacy[behaviour], deadlocks[behaviour], color=color_behaviour[behaviour], label=behaviour)\n",
    "    ax[2].set_xlabel(\"efficacy\")\n",
    "    ax[2].set_ylabel(\"deadlocks\")\n",
    "# end for\n",
    "handles, labels = plt.gca().get_legend_handles_labels()\n",
    "by_label = dict(zip(labels, handles))\n",
    "fig.legend(by_label.values(), by_label.keys(), loc=(0.3,0),  ncol=len(behaviour_list))\n",
    "plt.tight_layout()\n",
    "plt.savefig(os.sep.join((plots_dir, \"efficiency_collisions_cross.png\")))"
   ]
  },
  {
   "cell_type": "code",
   "execution_count": null,
   "id": "dffced44-47f7-45bf-8d72-61e9eb572102",
   "metadata": {},
   "outputs": [],
   "source": [
    "deadlocks[\"HL\"]"
   ]
  },
  {
   "cell_type": "code",
   "execution_count": null,
   "id": "0923e0e4-6031-4340-b912-0cb358f13556",
   "metadata": {},
   "outputs": [],
   "source": []
  }
 ],
 "metadata": {
  "kernelspec": {
   "display_name": "Python 3 (ipykernel)",
   "language": "python",
   "name": "python3"
  },
  "language_info": {
   "codemirror_mode": {
    "name": "ipython",
    "version": 3
   },
   "file_extension": ".py",
   "mimetype": "text/x-python",
   "name": "python",
   "nbconvert_exporter": "python",
   "pygments_lexer": "ipython3",
   "version": "3.10.12"
  }
 },
 "nbformat": 4,
 "nbformat_minor": 5
}
