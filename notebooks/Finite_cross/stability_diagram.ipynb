{
 "cells": [
  {
   "cell_type": "code",
   "execution_count": null,
   "id": "ffd927f7-13bb-4a41-bd02-e747b297c235",
   "metadata": {},
   "outputs": [],
   "source": [
    "import numpy as np\n",
    "import matplotlib.pyplot as plt\n",
    "import scipy.spatial.distance as dist\n",
    "import matplotlib as mpl\n",
    "\n",
    "import iblofunmatch.inter as ibfm\n",
    "import os\n",
    "\n",
    "from navground import core, sim\n",
    "\n",
    "import perdiver.perdiver as perdiver\n",
    "from perdiver.distances import *\n",
    "\n",
    "plots_dir = \"plots/\"\n",
    "output_dir = \"output\"\n",
    "os.makedirs(output_dir, exist_ok=True)\n",
    "os.makedirs(plots_dir, exist_ok=True)"
   ]
  },
  {
   "cell_type": "code",
   "execution_count": null,
   "id": "6baf3d41-f9e3-4e77-bd81-4f90d898bfc7",
   "metadata": {},
   "outputs": [],
   "source": [
    "num_steps = 2000\n",
    "side=5.0\n",
    "# num_agents = 28\n",
    "num_agents = 20\n",
    "# num_steps = 0\n",
    "shift_time = 100\n",
    "# shift_time = 50\n",
    "steps_list = list(range(300, 330, 1))\n",
    "diags_list = []\n",
    "weight= 3\n",
    "yaml = f\"\"\"\n",
    "steps: {num_steps}\n",
    "time_step: 0.1\n",
    "save_directory: ''\n",
    "record_pose: true\n",
    "record_twist: true\n",
    "scenario:\n",
    "  type: Cross\n",
    "  side: {side}\n",
    "  groups:\n",
    "    -\n",
    "      type: thymio\n",
    "      number: {num_agents}\n",
    "      radius: 0.08\n",
    "      control_period: 0.1\n",
    "      speed_tolerance: 0.02\n",
    "      kinematics:\n",
    "        type: 2WDiff\n",
    "        wheel_axis: 0.094\n",
    "        max_speed: 0.166\n",
    "      behavior:\n",
    "        type: ORCA\n",
    "        optimal_speed: 0.12\n",
    "        horizon: 5.0\n",
    "        safety_margin: 0.034\n",
    "      state_estimation:\n",
    "        type: Bounded\n",
    "        range: 5.0\n",
    "\"\"\"\n",
    "experiment = sim.load_experiment(yaml)\n",
    "experiment.run()\n",
    "run = experiment.runs[0]\n",
    "ps = run.poses[:,:,[0,1]]\n",
    "twists = run.twists[:,:,:2] # ignore angular speeds\n",
    "# COmpute persistence diagrams and store\n",
    "diags = []\n",
    "for idx, start_step in enumerate(steps_list):\n",
    "    Dist_X, Dist_Y, Dist_Z = compute_distance_matrices_trajectories_corridor(ps, twists, start_step, shift_time, weight, length)\n",
    "    diags.append(perdiver.get_matching_diagram(Dist_X, Dist_Y, Dist_Z, output_dir))"
   ]
  },
  {
   "cell_type": "code",
   "execution_count": null,
   "id": "cf049d84-d834-43ba-b34d-1174b36c0f91",
   "metadata": {},
   "outputs": [],
   "source": [
    "len(diags)"
   ]
  },
  {
   "cell_type": "markdown",
   "id": "35075e8a-a339-4746-adf8-9c4dcb8c24ae",
   "metadata": {},
   "source": [
    "Compute persistence matching diagrams"
   ]
  },
  {
   "cell_type": "code",
   "execution_count": null,
   "id": "995ddce8-ebbc-441c-bbe2-750f284a2f9d",
   "metadata": {},
   "outputs": [],
   "source": [
    "from gudhi import representations\n",
    "npixels = 30\n",
    "xmax = np.max(diags)*1.1\n",
    "ymax = xmax"
   ]
  },
  {
   "cell_type": "markdown",
   "id": "5a5787a9-4c39-4b12-8695-6eef24f69f3d",
   "metadata": {},
   "source": [
    "Plot point cloud at two timesteps"
   ]
  },
  {
   "cell_type": "code",
   "execution_count": null,
   "id": "af03b9b8-b31f-440d-97a3-e358c356ec5a",
   "metadata": {},
   "outputs": [],
   "source": [
    "fig, ax = plt.subplots(ncols=2, figsize=(10,5))\n",
    "shift_time = 100\n",
    "color_list = [\"blue\", \"red\"]\n",
    "for i in range(2):\n",
    "    start_step = steps_list[i*10]\n",
    "    perdiver.plot_two_timesteps(ps[start_step], ps[start_step + shift_time], ax[0], X_col=color_list[i], Y_col=color_list[i])\n",
    "    # Compute matching \n",
    "    Dist_X = distances_weighted_velocities(ps[start_step], twists[start_step], weight)\n",
    "    Dist_Y = distances_weighted_velocities(ps[start_step + shift_time], twists[start_step + shift_time], weight)\n",
    "    Dist_Z = np.minimum(Dist_X, Dist_Y)\n",
    "    matching_diag = perdiver.get_matching_diagram(Dist_X, Dist_Y, Dist_Z, output_dir)\n",
    "    perdiver.plot_matching_diagram(matching_diag, ax[1], color=color_list[i])\n",
    "\n",
    "plt.tight_layout()\n",
    "plt.savefig(f\"{plots_dir}stability_diagram.png\")\n",
    "# plt.savefig(f\"{plots_dir}matching_diagram.png\")\n",
    "# plt.savefig(f\"{plots_dir}matching_diagram_next.png\")"
   ]
  },
  {
   "cell_type": "code",
   "execution_count": null,
   "id": "06322595-6fba-4ab0-a377-ce33f4010161",
   "metadata": {},
   "outputs": [],
   "source": [
    "for i, (image, diag) in enumerate(zip(ORCA_perimages, diags_list[0])):\n",
    "    fig, ax = plt.subplots(ncols=2, figsize=(8,4))\n",
    "    image = image.reshape(npixels,-1)\n",
    "    ax[0].imshow(image)\n",
    "    ax[0].set_xticks([])\n",
    "    ax[0].set_yticks([])\n",
    "    perdiver.plot_matching_diagram(diag, ax[1], max_val_diag=xmax)\n",
    "    fig.suptitle(f\"{behaviour_list[0]} step: {steps_list[i]:5d}\")\n",
    "    plt.tight_layout()\n",
    "    plt.savefig(plots_dir + f\"ORCA_{steps_list[i]:04d}\" + \".png\")\n",
    "    plt.close()"
   ]
  },
  {
   "cell_type": "code",
   "execution_count": null,
   "id": "e1b84312-edbe-4a85-8711-cfd7e1ed3752",
   "metadata": {},
   "outputs": [],
   "source": [
    "for i, (image, diag) in enumerate(zip(HL_perimages, diags_list[1])):\n",
    "    fig, ax = plt.subplots(ncols=2, figsize=(8,4))\n",
    "    image = image.reshape(npixels,-1)\n",
    "    ax[0].imshow(image)\n",
    "    ax[0].set_xticks([])\n",
    "    ax[0].set_yticks([])\n",
    "    perdiver.plot_matching_diagram(diag, ax[1], max_val_diag=xmax)\n",
    "    fig.suptitle(f\"{behaviour_list[1]} step: {steps_list[i]:5d}\")\n",
    "    plt.tight_layout()\n",
    "    plt.savefig(plots_dir + f\"HL_{steps_list[i]:04d}\" + \".png\")\n",
    "    plt.close()"
   ]
  },
  {
   "cell_type": "markdown",
   "id": "5cd92eb0-2063-4bfd-8828-287f3af91300",
   "metadata": {},
   "source": [
    "# Plot videos of both experiments to see how they behave"
   ]
  },
  {
   "cell_type": "code",
   "execution_count": null,
   "id": "510be084-4391-4fc6-a779-e32a27ca0d16",
   "metadata": {},
   "outputs": [],
   "source": [
    "import matplotlib.colors as colors\n",
    "import matplotlib.cm as cmx\n",
    "from navground.sim.ui.video import record_video\n",
    "\n",
    "def linear_map(a, b, cmap):\n",
    "    c = cmx.ScalarMappable(norm=colors.Normalize(vmin=a, vmax=b), cmap=cmap)  \n",
    "    def f(v):\n",
    "        r, g, b, _ = c.to_rgba(v)\n",
    "        return f\"#{int(r * 255):02x}{int(g * 255):02x}{int(b * 255):02x}\"\n",
    "    return f\n",
    "\n",
    "\n",
    "fill_map = linear_map(0.0, 1.0, cmap=cmx.RdYlGn)\n",
    "\n",
    "def f(entity):\n",
    "    if isinstance(entity, sim.Agent):\n",
    "        return {'fill': fill_map(entity.behavior.efficacy)}\n",
    "    return {}\n",
    "    "
   ]
  },
  {
   "cell_type": "code",
   "execution_count": null,
   "id": "31e95648-2468-4c14-bf01-fe88737249a9",
   "metadata": {},
   "outputs": [],
   "source": [
    "for behaviour in [\"ORCA\", \"HL\"]:\n",
    "    yaml = f\"\"\"\n",
    "    steps: 2\n",
    "    time_step: 0.1\n",
    "    save_directory: ''\n",
    "    record_pose: true\n",
    "    record_twist: true\n",
    "    scenario:\n",
    "      type: Corridor\n",
    "      length: {length}\n",
    "      width: {width} \n",
    "      groups:\n",
    "        -\n",
    "          type: thymio\n",
    "          number: {num_agents}\n",
    "          radius: 0.08\n",
    "          control_period: 0.1\n",
    "          speed_tolerance: 0.02\n",
    "          kinematics:\n",
    "            type: 2WDiff\n",
    "            wheel_axis: 0.094\n",
    "            max_speed: 0.166\n",
    "          behavior:\n",
    "            type: {behaviour}\n",
    "            optimal_speed: 0.12\n",
    "            horizon: 5.0\n",
    "            safety_margin: 0.034\n",
    "          state_estimation:\n",
    "            type: Bounded\n",
    "            range: 5.0\n",
    "    \"\"\"\n",
    "    experiment = sim.load_experiment(yaml)\n",
    "    experiment.run()\n",
    "    run = experiment.runs[0]\n",
    "    # Record video\n",
    "    record_video(f\"{plots_dir}{behaviour}_exp.mp4\", run.world, time_step=0.1, duration=200.0, factor=14.0,\n",
    "                  bounds=((0, 0), (length, width)), decorate=f, width=700, display_shape=True)"
   ]
  },
  {
   "cell_type": "markdown",
   "id": "7b4bc427-b312-4021-9133-0cef0b64ed4d",
   "metadata": {},
   "source": [
    "Now, we can see the generated videos"
   ]
  },
  {
   "cell_type": "code",
   "execution_count": null,
   "id": "8da49dc4-b7b0-4b96-9c74-902bf2945ee6",
   "metadata": {},
   "outputs": [],
   "source": [
    "from IPython.display import Video\n",
    "\n",
    "Video(f\"{plots_dir}ORCA_exp.mp4\", width=700)"
   ]
  },
  {
   "cell_type": "code",
   "execution_count": null,
   "id": "66f157a7-fe10-45de-b131-fafc18bda1d5",
   "metadata": {},
   "outputs": [],
   "source": [
    "from IPython.display import Video\n",
    "\n",
    "Video(f\"{plots_dir}HL_exp.mp4\", width=700)"
   ]
  },
  {
   "cell_type": "code",
   "execution_count": null,
   "id": "6feeccb9-80d5-45d4-844a-d4393e33d57f",
   "metadata": {},
   "outputs": [],
   "source": []
  }
 ],
 "metadata": {
  "kernelspec": {
   "display_name": "Python 3 (ipykernel)",
   "language": "python",
   "name": "python3"
  },
  "language_info": {
   "codemirror_mode": {
    "name": "ipython",
    "version": 3
   },
   "file_extension": ".py",
   "mimetype": "text/x-python",
   "name": "python",
   "nbconvert_exporter": "python",
   "pygments_lexer": "ipython3",
   "version": "3.10.12"
  }
 },
 "nbformat": 4,
 "nbformat_minor": 5
}
