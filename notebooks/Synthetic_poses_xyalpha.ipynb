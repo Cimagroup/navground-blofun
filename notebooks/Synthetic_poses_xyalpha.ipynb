{
 "cells": [
  {
   "cell_type": "code",
   "execution_count": null,
   "id": "fda5a5f0-798c-41a7-8d8a-32df70ac8594",
   "metadata": {},
   "outputs": [],
   "source": [
    "import argparse\n",
    "import numpy as np\n",
    "import matplotlib.pyplot as plt\n",
    "import matplotlib.patches as patches\n",
    "import matplotlib.animation as animation\n",
    "import scipy.spatial.distance as dist\n",
    "from navground import sim, core\n",
    "from tslearn.generators import random_walks\n",
    "from tslearn import metrics\n",
    "import seaborn as sns\n",
    "import gudhi\n",
    "from navground.sim.ui.video import display_video_from_run, record_video_from_run\n",
    "from functools import partial\n",
    "from IPython.display import Image\n",
    "import perdiver.perdiver as perdiver\n",
    "import os\n",
    "os.makedirs(\"Corridor_matrices\", exist_ok=True)\n",
    "os.makedirs(\"plots\", exist_ok=True)"
   ]
  },
  {
   "cell_type": "code",
   "execution_count": null,
   "id": "ecc7481a-579b-402b-bd21-44fe4625af5c",
   "metadata": {},
   "outputs": [],
   "source": [
    "poses = np.zeros((600,4, 3))"
   ]
  },
  {
   "cell_type": "code",
   "execution_count": null,
   "id": "e58162d0-0601-4a8f-ab03-4414dcd29bbf",
   "metadata": {},
   "outputs": [],
   "source": [
    "def pose0x(x):\n",
    "    x = np.asarray(x)\n",
    "    return np.where(\n",
    "        (0 <= x) & (x < 200), x / 10,\n",
    "        np.where(\n",
    "            (200 <= x) & (x < 300), 20,\n",
    "            np.where(\n",
    "                (300 <= x) & (x < 500), 20 - (x - 300) / 10,\n",
    "                np.where((500 <= x) & (x <= 600), 0, np.nan)\n",
    "            )\n",
    "        )\n",
    "    )"
   ]
  },
  {
   "cell_type": "code",
   "execution_count": null,
   "id": "4d381018-a941-40ba-a35d-848fcae727ee",
   "metadata": {},
   "outputs": [],
   "source": [
    "def pose1x(x):\n",
    "    x = np.asarray(x)\n",
    "    return np.where(\n",
    "        (0 <= x) & (x < 200), (200 - x) / 10,\n",
    "        np.where(\n",
    "            (200 <= x) & (x < 300), 0,\n",
    "            np.where(\n",
    "                (300 <= x) & (x < 500), x / 10 - 30,\n",
    "                np.where((500 <= x) & (x <= 600), 20, np.nan)\n",
    "            )\n",
    "        )\n",
    "    )"
   ]
  },
  {
   "cell_type": "code",
   "execution_count": null,
   "id": "4074eae5-790a-4950-a92a-f04ea9180fd0",
   "metadata": {},
   "outputs": [],
   "source": [
    "def pose0alpha(x):\n",
    "    x = np.asarray(x)\n",
    "    return np.where(\n",
    "        (0 <= x) & (x < 200), 0,\n",
    "        np.where(\n",
    "            (200 <= x) & (x < 300), np.pi * (x - 200) / 100,\n",
    "            np.where(\n",
    "                (300 <= x) & (x < 500), np.pi,\n",
    "                np.where((500 <= x) & (x <= 600), np.pi + np.pi * (x-500) / 100, np.nan)\n",
    "            )\n",
    "        )\n",
    "    )"
   ]
  },
  {
   "cell_type": "code",
   "execution_count": null,
   "id": "3738648b-0b82-46b4-9115-96277d57ad05",
   "metadata": {},
   "outputs": [],
   "source": [
    "def pose1alpha(x):\n",
    "    x = np.asarray(x)\n",
    "    return np.where(\n",
    "        (0 <= x) & (x < 200), np.pi,\n",
    "        np.where(\n",
    "            (200 <= x) & (x < 300), np.pi * x / 100 - np.pi,\n",
    "            np.where(\n",
    "                (300 <= x) & (x < 500), 2*np.pi,\n",
    "                np.where((500 <= x) & (x <= 600), 2*np.pi + np.pi* (x - 500) / 100, np.nan)\n",
    "            )\n",
    "        )\n",
    "    )"
   ]
  },
  {
   "cell_type": "code",
   "execution_count": null,
   "id": "f2e8ff97-5ec8-4c12-8550-e0227f994bef",
   "metadata": {},
   "outputs": [],
   "source": [
    "for t in range(600):\n",
    "    poses[t][0][0] = pose0x(t) \n",
    "    poses[t][1][0] = pose0x(t)\n",
    "    poses[t][2][0] = pose1x(t) \n",
    "    poses[t][3][0] = pose1x(t)\n",
    "    poses[t][0][1] = 0 \n",
    "    poses[t][1][1] = 1\n",
    "    poses[t][2][1] = 2 \n",
    "    poses[t][3][1] = 3\n",
    "    poses[t][0][2] = pose0alpha(t) \n",
    "    poses[t][1][2] = pose0alpha(t)\n",
    "    poses[t][2][2] = pose1alpha(t) \n",
    "    poses[t][3][2] = pose1alpha(t)"
   ]
  },
  {
   "cell_type": "markdown",
   "id": "fddf41d5-0a09-4002-8c4d-c92693285794",
   "metadata": {},
   "source": [
    "Ahora quiero comparar los sliding windows para ver si se encuentra diferencia entre los incrementos bottleneck y los partial matchings. "
   ]
  },
  {
   "cell_type": "code",
   "execution_count": null,
   "id": "1b68e392-17bb-4854-8295-3175151d06b9",
   "metadata": {},
   "outputs": [],
   "source": [
    "parser = argparse.ArgumentParser(description='Simulation Parameters')\n",
    "parser.add_argument('--length', type=float, default=10.0, help='Length of the environment')\n",
    "parser.add_argument('--width', type=float, default=10.0, help='Width of the environment')\n",
    "parser.add_argument('--num_runs', type=int, default=1, help='Number of simulation runs')\n",
    "parser.add_argument('--num_steps', type=int, default=100, help='Number of steps in the simulation')\n",
    "parser.add_argument('--time_step', type=float, default=0.1, help='Time step for the simulation')\n",
    "parser.add_argument('--num_agents', type=int, default=10, help='Number of agents in the simulation')\n",
    "parser.add_argument('--max_speed', type=float, default=1.0, help='Maximum speed of agents')\n",
    "parser.add_argument('--optimal_speed', type=float, default=1.0, help='Maximum speed of agents')\n",
    "parser.add_argument('--radius', type=float, default=0.25, help='Radius of agents')\n",
    "parser.add_argument('--safety_margin', type=float, default=0.1, help='Safety margin for agents')\n",
    "parser.add_argument('--behavior', type=str, default='HL', help='Behavior type')\n",
    "parser.add_argument('--max_edge_length', type=float, default=100.0, help='Maximum edge length in the simplicial complex')\n",
    "parser.add_argument('--time_delay', type=int, default=1, help='Time delay to analise simulation intervals')\n",
    "parser.add_argument('--embedding_length', type=int, default=10, help='Length of the simulation intervals')\n",
    "parser.add_argument('--epsilon', type=int, default=1, help='Distance between intervals')"
   ]
  },
  {
   "cell_type": "code",
   "execution_count": null,
   "id": "a6af2f77-db82-4993-8dac-c1b5581305b8",
   "metadata": {},
   "outputs": [],
   "source": [
    "args = parser.parse_args([\n",
    "        '--length', '15.0',\n",
    "        '--width', '3.5',\n",
    "        '--num_runs', '1',\n",
    "        '--num_steps', '600',\n",
    "        '--time_step', '0.1',\n",
    "        '--num_agents', '10',\n",
    "        '--max_speed', '1.66',\n",
    "        '--optimal_speed', '1.2',\n",
    "        '--radius', '0.4',\n",
    "        '--safety_margin', '0.1',\n",
    "        '--behavior', 'HL',\n",
    "        '--max_edge_length', '33.0',\n",
    "        '--time_delay', '5',\n",
    "        '--embedding_length', '11',\n",
    "        '--epsilon', '30'\n",
    "    ])"
   ]
  },
  {
   "cell_type": "code",
   "execution_count": null,
   "id": "0078ddba-9f11-4858-9f5a-f17ba6b3bb59",
   "metadata": {},
   "outputs": [],
   "source": [
    "def normangle(angle):\n",
    "    result = np.mod(angle, 2 * np.pi)\n",
    "    result[result > np.pi] -= 2 * np.pi\n",
    "    return result"
   ]
  },
  {
   "cell_type": "code",
   "execution_count": null,
   "id": "8235af35-84de-4463-a27c-53f0ae443773",
   "metadata": {},
   "outputs": [],
   "source": [
    "def custom_distance(vector1, vector2, weights):\n",
    "    result = 0\n",
    "    if weights[0] != 0:\n",
    "        px_diff = np.abs(vector1[0] - vector2[0])\n",
    "        result += px_diff * weights[0]\n",
    "    if weights[1] != 0:\n",
    "        py_diff = np.abs(vector1[1] - vector2[1])\n",
    "        result += py_diff * weights[1]\n",
    "    if weights[2] != 0:\n",
    "        pr_diff = np.abs(vector1[2] - vector2[2])\n",
    "        pr_diff = np.minimum(pr_diff, 2 * np.pi - pr_diff)\n",
    "        result += pr_diff * weights[2]\n",
    "    return result"
   ]
  },
  {
   "cell_type": "code",
   "execution_count": null,
   "id": "55770199-7d06-43db-845a-8bac6f14f32e",
   "metadata": {},
   "outputs": [],
   "source": [
    "weights = np.array([1/20,1/3,1/np.pi])"
   ]
  },
  {
   "cell_type": "code",
   "execution_count": null,
   "id": "65b00f36-d90c-4671-8814-bd44773b415e",
   "metadata": {},
   "outputs": [],
   "source": [
    "custom_distance_with_param = partial(custom_distance, weights=weights)"
   ]
  },
  {
   "cell_type": "code",
   "execution_count": null,
   "id": "e903b63b-f252-48a2-88b8-02b2eac191dd",
   "metadata": {},
   "outputs": [],
   "source": [
    "def dismat_from_steps(trajectories, steps):\n",
    "    num_agents = trajectories.shape[1]\n",
    "    dismat = np.zeros((num_agents, num_agents))\n",
    "    for a in range(num_agents):\n",
    "        for b in range(a+1):\n",
    "            _, tsim = metrics.dtw_path_from_metric(trajectories[steps,a,:], trajectories[steps,b,:], metric=custom_distance_with_param)\n",
    "            dismat[a,b] = tsim\n",
    "        # end for \n",
    "    # end for\n",
    "    return dismat\n",
    "# end def "
   ]
  },
  {
   "cell_type": "code",
   "execution_count": null,
   "id": "04e2413c-4897-4951-b2e5-3fbb8b29a38e",
   "metadata": {},
   "outputs": [],
   "source": [
    "def compute_dismat_list(trajectories, args):\n",
    "    # Set up arguments\n",
    "    sim_steps = args.num_steps\n",
    "    iterations = sim_steps - (args.embedding_length - 1) * args.time_delay\n",
    "    # Iteration computing distance matrices\n",
    "    dismat_list = []\n",
    "    for i in range(iterations):\n",
    "        progress = (i + 1) / iterations * 100\n",
    "        print(\"\", end='\\r')\n",
    "        print(f\"Progress: {progress:.2f}%\", end=\"\\r\")\n",
    "        steps = [i+args.time_delay*j for j in range(args.embedding_length)]\n",
    "        dismat_list.append(dismat_from_steps(trajectories, steps))\n",
    "    # end for iterations\n",
    "    return dismat_list\n",
    "# def compute_distmat_list"
   ]
  },
  {
   "cell_type": "code",
   "execution_count": null,
   "id": "d172fe6a-3b49-4511-a54b-b15c480805ff",
   "metadata": {},
   "outputs": [],
   "source": [
    "def pers_from_dismat(dismat, max_edge_length):\n",
    "    rips_complex = gudhi.RipsComplex(distance_matrix=dismat, max_edge_length=max_edge_length,sparse=None)\n",
    "    simplex_tree = rips_complex.create_simplex_tree(max_dimension=0)\n",
    "    simplex_tree.compute_persistence()\n",
    "    pers = simplex_tree.persistence_intervals_in_dimension(0)\n",
    "    pers[np.isinf(pers[:, 1]), 1] = max_edge_length\n",
    "    return pers\n",
    "# end def"
   ]
  },
  {
   "cell_type": "code",
   "execution_count": null,
   "id": "02bba732-39d8-4c5e-9b12-3d7cef6200c0",
   "metadata": {},
   "outputs": [],
   "source": [
    "def compute_bottleneck(dismat_list, args):\n",
    "    bottle = []\n",
    "    pers_list = [pers_from_dismat(d,args.max_edge_length) for d in dismat_list]\n",
    "    iterations = len(dismat_list) - 2*args.epsilon\n",
    "    for i in range(iterations):\n",
    "        bot1 = gudhi.bottleneck_distance(pers_list[i], pers_list[i+args.epsilon])\n",
    "        bot2 = gudhi.bottleneck_distance(pers_list[i+args.epsilon], pers_list[i+2*args.epsilon])\n",
    "        bottle.append(bot2-bot1)\n",
    "    return np.array(bottle)"
   ]
  },
  {
   "cell_type": "code",
   "execution_count": null,
   "id": "d4857d11-51bd-4f30-a228-60fc46ecaab4",
   "metadata": {},
   "outputs": [],
   "source": [
    "def compute_matching_bottleneck_signal(dismat_list, args):\n",
    "    matching_bottleneck_signal = []\n",
    "    iterations = len(dismat_list) - 2*args.epsilon\n",
    "    for i in range(iterations):\n",
    "        match1 = perdiver.get_matching_diagram(dismat_list[i], dismat_list[i+args.epsilon])\n",
    "        match2 = perdiver.get_matching_diagram(dismat_list[i+args.epsilon], dismat_list[i+2*args.epsilon])\n",
    "        matching_bottleneck_signal.append(perdiver.bottleneck_matching_diagrams(match1, match2))\n",
    "    return np.array(matching_bottleneck_signal)"
   ]
  },
  {
   "cell_type": "code",
   "execution_count": null,
   "id": "9e61996a-df15-42e4-b30c-287f63e639e6",
   "metadata": {},
   "outputs": [],
   "source": [
    "bottle_all = []\n",
    "bottle_matching_all = []\n",
    "trajectories = poses.copy()\n",
    "trajectories[:,:,2] = normangle(trajectories[:,:,2]) \n",
    "dismat_list = compute_dismat_list(trajectories, args)\n",
    "# Compute bottleneck distances\n",
    "bottle_all.append(compute_bottleneck(dismat_list, args))\n",
    "# Compute matching bottleneck distances\n",
    "bottle_matching_all.append(compute_matching_bottleneck_signal(dismat_list, args))\n",
    "# end for\n",
    "# Turn into numpy arrays\n",
    "bottle_HL = np.vstack(bottle_all)\n",
    "bottle_matching_HL = np.vstack(bottle_matching_all)\n",
    "# Save into file\n",
    "np.save('bottle_xyalpha.npy', bottle_HL)\n",
    "np.save('matching_bottleneck_xyalpha.npy', bottle_matching_HL)\n",
    "# Get quartiles\n",
    "quartile_bottle_HL = np.percentile(bottle_HL, [25, 50, 75], axis=0)\n",
    "quartile_matching_HL = np.percentile(bottle_matching_HL, [25, 50, 75], axis=0)"
   ]
  },
  {
   "cell_type": "code",
   "execution_count": null,
   "id": "7e9027ef-2ceb-4145-a2ae-310fe2c12445",
   "metadata": {},
   "outputs": [],
   "source": [
    "fig, ax = plt.subplots(ncols=2, figsize=(11,5))\n",
    "cmap = plt.cm.get_cmap('tab10', 3)\n",
    "for j, quartile_list in enumerate([quartile_bottle_HL, quartile_matching_HL]):\n",
    "    indices = np.arange(quartile_list.shape[1])\n",
    "    for i in range(3):\n",
    "        ax[j].plot(indices, quartile_list[i], color=cmap(i))\n",
    "    ax[j].grid(True)  \n",
    "ax[0].set_title(\"Bottleneck distance\")\n",
    "ax[1].set_title(\"Matching bottleneck distance\")\n",
    "plt.savefig(\"plots/xyalpha.png\")"
   ]
  },
  {
   "cell_type": "code",
   "execution_count": null,
   "id": "36ade767-4c24-48f6-994a-511ac5fa9e04",
   "metadata": {},
   "outputs": [],
   "source": [
    "def draw(i):\n",
    "    if i < 0 or i >=600:\n",
    "        i = 0\n",
    "    circle_radius = 0.2\n",
    "    fig, ax = plt.subplots(figsize=(8, 6))\n",
    "    for robot in poses[i]:\n",
    "        x, y, orientation = robot\n",
    "    \n",
    "        # Draw the robot as a circle\n",
    "        circle = plt.Circle((x, y), circle_radius, color='blue', alpha=0.5)\n",
    "        ax.add_artist(circle)\n",
    "    \n",
    "        # Draw the orientation as an arrow\n",
    "        arrow_dx = circle_radius * np.cos(orientation)\n",
    "        arrow_dy = circle_radius * np.sin(orientation)\n",
    "        ax.arrow(x, y, arrow_dx, arrow_dy, head_width=0.1, head_length=0.1, fc='red', ec='red')\n",
    "    \n",
    "    # Set axis limits and aspect ratio\n",
    "    ax.set_xlim(-0.5, 20.5)\n",
    "    ax.set_ylim(-0.5, 3.5)\n",
    "    ax.set_aspect('equal')\n",
    "    ax.set_title(f'Robots with Orientations (step {i})')\n",
    "    plt.xlabel('X Position')\n",
    "    plt.ylabel('Y Position')\n",
    "    plt.show()"
   ]
  },
  {
   "cell_type": "code",
   "execution_count": null,
   "id": "7a28a1f6-a279-46c2-b954-ef5872bc893e",
   "metadata": {},
   "outputs": [],
   "source": [
    "draw(0)"
   ]
  },
  {
   "cell_type": "code",
   "execution_count": null,
   "id": "12c9fb9f-135d-4216-b237-3bb97d132a9d",
   "metadata": {},
   "outputs": [],
   "source": []
  }
 ],
 "metadata": {
  "kernelspec": {
   "display_name": "Python 3 (ipykernel)",
   "language": "python",
   "name": "python3"
  },
  "language_info": {
   "codemirror_mode": {
    "name": "ipython",
    "version": 3
   },
   "file_extension": ".py",
   "mimetype": "text/x-python",
   "name": "python",
   "nbconvert_exporter": "python",
   "pygments_lexer": "ipython3",
   "version": "3.10.12"
  }
 },
 "nbformat": 4,
 "nbformat_minor": 5
}
