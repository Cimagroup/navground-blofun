{
 "cells": [
  {
   "cell_type": "code",
   "execution_count": null,
   "id": "276c8bd7-8e52-4a75-a075-fc49590a0817",
   "metadata": {},
   "outputs": [],
   "source": [
    "import numpy as np\n",
    "import matplotlib.pyplot as plt\n",
    "import scipy.spatial.distance as dist\n",
    "import matplotlib as mpl\n",
    "\n",
    "import iblofunmatch.inter as ibfm\n",
    "import os\n",
    "\n",
    "from navground import core, sim\n",
    "\n",
    "output_dir = \"output\"\n",
    "os.makedirs(\"output\", exist_ok=True)"
   ]
  },
  {
   "cell_type": "code",
   "execution_count": null,
   "id": "3cdd5d27-a69b-4176-b5ec-6ebbb2c2c08e",
   "metadata": {},
   "outputs": [],
   "source": [
    "length = 8.0\n",
    "num_steps = 5000\n",
    "width=1.0\n",
    "yaml = f\"\"\"\n",
    "steps: 3000\n",
    "time_step: 0.1\n",
    "save_directory: ''\n",
    "record_pose: true\n",
    "record_twist: true\n",
    "scenario:\n",
    "  type: Corridor\n",
    "  length: {length}\n",
    "  width: {width} \n",
    "  groups:\n",
    "    -\n",
    "      type: thymio\n",
    "      number: 26\n",
    "      radius: 0.08\n",
    "      control_period: 0.1\n",
    "      speed_tolerance: 0.02\n",
    "      kinematics:\n",
    "        type: 2WDiff\n",
    "        wheel_axis: 0.094\n",
    "        max_speed: 0.166\n",
    "      behavior:\n",
    "        type: HL\n",
    "        optimal_speed: 0.12\n",
    "        horizon: 5.0\n",
    "        safety_margin: 0.02\n",
    "      state_estimation:\n",
    "        type: Bounded\n",
    "        range: 5.0\n",
    "\"\"\"\n",
    "experiment = sim.load_experiment(yaml)\n",
    "experiment.run()"
   ]
  },
  {
   "cell_type": "code",
   "execution_count": null,
   "id": "0baf22f6-c846-4d06-b876-1c474d7f6ee4",
   "metadata": {},
   "outputs": [],
   "source": [
    "run = experiment.runs[0]\n",
    "ps = run.poses[:,:,[0,1]]\n",
    "twists = run.twists[:,:,:2] # ignore angular speeds"
   ]
  },
  {
   "cell_type": "markdown",
   "id": "d5d68f9f-561a-4aa2-8322-bf4499bdc83e",
   "metadata": {},
   "source": [
    "Take also into account the velocities at each instance."
   ]
  },
  {
   "cell_type": "code",
   "execution_count": null,
   "id": "c7f62901-f2fa-4d07-8fe2-651732e1977f",
   "metadata": {},
   "outputs": [],
   "source": [
    "weight = 8"
   ]
  },
  {
   "cell_type": "code",
   "execution_count": null,
   "id": "71f7bb12-389e-4fc7-bc26-5a06458874e5",
   "metadata": {},
   "outputs": [],
   "source": [
    "# def corridor_distance(points, length):\n",
    "#     dist_0 = dist.squareform(dist.pdist(points, \"minkowski\", p=1))\n",
    "#     shift_points = np.array(points) # make a copy\n",
    "#     left_pts_idx = shift_points[:,0] < length/2\n",
    "#     shift_points[left_pts_idx] += [length,0]\n",
    "#     dist_1 = dist.squareform(dist.pdist(shift_points, \"minkowski\", p=1))\n",
    "#     return np.minimum(dist_0, dist_1)"
   ]
  },
  {
   "cell_type": "code",
   "execution_count": null,
   "id": "d5d69499-c31f-4493-bbbb-84c64f5a5d1b",
   "metadata": {},
   "outputs": [],
   "source": [
    "def trajectory_corridor_distance_weighted_velocities(positions, velocities, weight, length):\n",
    "    assert(len(positions)>0)\n",
    "    assert(len(positions)==len(velocities))\n",
    "    positions_velocities_list = []\n",
    "    for idx, points in enumerate(positions):\n",
    "        positions_velocities_list.append(np.hstack((points, velocities[idx]*weight)))\n",
    "    distances_list = []\n",
    "    for idx, points_vel in enumerate(positions_velocities_list):\n",
    "        # Compare accross all different times\n",
    "        # for j in range(idx+1):\n",
    "        #     points_vel_compare = positions_velocities_list[j]\n",
    "        #     dist_0 = dist.cdist(points_vel, points_vel_compare, \"minkowski\", p=2)\n",
    "        #     shift_points_vel_compare = np.array(points_vel_compare)\n",
    "        #     shift_points_vel_compare[shift_points_vel_compare[:,0]<length/2]+=[length, 0, 0, 0]\n",
    "        #     shift_points_vel = np.array(points_vel)\n",
    "        #     shift_points_vel[shift_points_vel[:,0]<length/2]+=[length, 0, 0, 0]\n",
    "        #     dist_1 = dist.cdist(shift_points_vel, shift_points_vel_compare, \"minkowski\", p=2)\n",
    "        #     distances_list.append(np.minimum(dist_0, dist_1))\n",
    "        # # end for \n",
    "        # Compare trajectories at same time\n",
    "        points_vel_compare = positions_velocities_list[idx]\n",
    "        dist_0 = dist.cdist(points_vel, points_vel_compare, \"minkowski\", p=2)\n",
    "        shift_points_vel_compare = np.array(points_vel_compare)\n",
    "        shift_points_vel_compare[shift_points_vel_compare[:,0]<length/2]+=[length, 0, 0, 0]\n",
    "        shift_points_vel = np.array(points_vel)\n",
    "        shift_points_vel[shift_points_vel[:,0]<length/2]+=[length, 0, 0, 0]\n",
    "        dist_1 = dist.cdist(shift_points_vel, shift_points_vel_compare, \"minkowski\", p=2)\n",
    "        distances_list.append(np.minimum(dist_0, dist_1))\n",
    "    # end for\n",
    "    distances_arr = np.array(distances_list)\n",
    "    return np.min(distances_arr, axis=0)"
   ]
  },
  {
   "cell_type": "code",
   "execution_count": null,
   "id": "91a36778-4a86-422c-8634-738f70e6eed5",
   "metadata": {},
   "outputs": [],
   "source": [
    "dist_result = trajectory_corridor_distance_weighted_velocities(ps[:5], twists[:5], weight, length)"
   ]
  },
  {
   "cell_type": "code",
   "execution_count": null,
   "id": "3afc4921-44cc-4647-9f32-5998b10eb8f2",
   "metadata": {},
   "outputs": [],
   "source": [
    "def distances_corridor_weighted_velocities(points, velocities, weight, length):\n",
    "    points_velocities = np.hstack((points, velocities*weight))\n",
    "    dist_0 = dist.squareform(dist.pdist(points_velocities, \"minkowski\", p=2))\n",
    "    shift_points_vels = np.array(points_velocities) # make a copy\n",
    "    left_pts_idx = shift_points_vels[:,0] < length/2\n",
    "    shift_points_vels[left_pts_idx] += [length,0,0,0]\n",
    "    dist_1 = dist.squareform(dist.pdist(shift_points_vels, \"minkowski\", p=2))\n",
    "    return np.minimum(dist_0, dist_1)"
   ]
  },
  {
   "cell_type": "code",
   "execution_count": null,
   "id": "3e37df44-fd9e-441c-b009-496d2f981f3d",
   "metadata": {},
   "outputs": [],
   "source": [
    "distances_corridor_weighted_velocities(ps[100], twists[100], 2, length).shape"
   ]
  },
  {
   "cell_type": "code",
   "execution_count": null,
   "id": "104872f8-7f2f-4c9e-9987-8fce6e1c470f",
   "metadata": {},
   "outputs": [],
   "source": [
    "def compute_divergence_vector(X, Y, vel_X, vel_Y, weight):\n",
    "    idx_S = list(range(int(X.shape[0])))\n",
    "    # Compute distane matrices\n",
    "    # Dist_X = corridor_distance(X, length)\n",
    "    # Dist_X = Dist_X + distances_weighted_velocities(vel_X, weight)\n",
    "    Dist_X = distances_corridor_weighted_velocities(X, vel_X, weight, length)\n",
    "    # Dist_Y = corridor_distance(Y, length)\n",
    "    # Dist_Y = Dist_Y + distances_weighted_velocities(vel_Y, weight)\n",
    "    Dist_Y = distances_corridor_weighted_velocities(Y, vel_Y, weight, length)\n",
    "    Dist_Z = np.minimum(Dist_X, Dist_Y)\n",
    "    # Compute matching\n",
    "    ibfm_out = [\n",
    "        ibfm.get_IBloFunMatch_subset(Dist_X, Dist_Z, idx_S, output_dir, max_rad=-1, num_it=1, store_0_pm=True, points=False, max_dim=1),\n",
    "        ibfm.get_IBloFunMatch_subset(Dist_Y, Dist_Z, idx_S, output_dir, max_rad=-1, num_it=1, store_0_pm=True, points=False, max_dim=1)\n",
    "    ]\n",
    "    # Compute induced matchings\n",
    "    matching_XZ = ibfm_out[0][\"induced_matching_0\"]\n",
    "    matching_YZ = ibfm_out[1][\"induced_matching_0\"]\n",
    "    composition_XY = [matching_YZ.index(i) for i in matching_XZ]\n",
    "    endpoints_0 = np.array(ibfm_out[0][\"S_barcode_0\"][:,1])\n",
    "    endpoints_1 = np.array(ibfm_out[1][\"S_barcode_0\"][:,1])\n",
    "    endpoints_1 = endpoints_1[composition_XY]\n",
    "    return  endpoints_1-endpoints_0, ibfm_out[0][\"X_barcode_0\"][:,1]"
   ]
  },
  {
   "cell_type": "code",
   "execution_count": null,
   "id": "60c7be55-1080-4415-8fde-38cc2ba7b64c",
   "metadata": {},
   "outputs": [],
   "source": [
    "divergence_list = []\n",
    "Z_barcodes_list = []\n",
    "steps_list = list(range(0, 2000, 5))\n",
    "for start_step in steps_list:\n",
    "    X = ps[start_step]\n",
    "    Y = ps[start_step + 30]\n",
    "    divergence, Z_barcode = compute_divergence_vector(X, Y, twists[start_step], twists[start_step + 30], weight)\n",
    "    divergence_list.append(divergence)\n",
    "    Z_barcodes_list.append(Z_barcode)\n",
    "\n",
    "divergence_arr = np.array(divergence_list).transpose()\n",
    "Z_barcodes_arr = np.array(Z_barcodes_list).transpose()"
   ]
  },
  {
   "cell_type": "markdown",
   "id": "5272b8c5-2b37-465e-ab49-ef7e7c865e32",
   "metadata": {},
   "source": [
    "Next, we plot divergence vectors over time."
   ]
  },
  {
   "cell_type": "code",
   "execution_count": null,
   "id": "10deafa9-05bb-4b96-9404-29bab7d4d4cc",
   "metadata": {},
   "outputs": [],
   "source": [
    "fig, ax = plt.subplots(figsize=(10,2))\n",
    "vmax = np.max(divergence_arr)\n",
    "mapable = ax.imshow(divergence_arr, aspect=\"auto\", vmax=vmax, extent=(steps_list[0], steps_list[-1], 0, X.shape[0]))\n",
    "print(mapable)\n",
    "print(np.max(divergence_arr))\n",
    "ax.set_title(\"corridor\")\n",
    "plt.colorbar(mapable)\n",
    "plt.tight_layout()\n",
    "plt.savefig(\"corridor_divergence_diag_hist.png\")"
   ]
  },
  {
   "cell_type": "markdown",
   "id": "cfbf13eb-c1b6-4baa-8a58-986d1924d59d",
   "metadata": {},
   "source": [
    "Let us plot the persistence diagrams over time."
   ]
  },
  {
   "cell_type": "code",
   "execution_count": null,
   "id": "87c1cef3-5d7c-4aed-b74d-1d53d970479d",
   "metadata": {},
   "outputs": [],
   "source": [
    "def plot_matching_diagram_trajectories(positions, velocities, weight, length, ax, color=\"blue\"):\n",
    "    # Compute X, Z barcodes and matching\n",
    "    Dist_X = distances_corridor_weighted_velocities(positions[0], velocities[0], weight, length)\n",
    "    Dist_Z = trajectory_corridor_distance_weighted_velocities(positions, velocities, weight, length)\n",
    "    idx_S = list(range(Dist_X.shape[0]))\n",
    "    # Compute matching from X to Z\n",
    "    ibfm_out = ibfm.get_IBloFunMatch_subset(Dist_X, Dist_Z, idx_S, output_dir, max_rad=-1, num_it=1, store_0_pm=True, points=False, max_dim=1)\n",
    "    # Plot 0 persistence diagram of matching \n",
    "    match_diagram = []\n",
    "    for idx, bar_X in enumerate(ibfm_out[\"S_barcode_0\"]):\n",
    "        idx_match = ibfm_out[\"induced_matching_0\"][idx]\n",
    "        bar_Z = ibfm_out[\"X_barcode_0\"][idx_match]\n",
    "        match_diagram.append([bar_X[1], bar_Z[1]])\n",
    "    # end for\n",
    "    match_diagram = np.array(match_diagram)\n",
    "    # Plot matching diagram\n",
    "    ax.scatter(match_diagram[:,0], match_diagram[:,1], color=color)\n",
    "    ax.plot([0,np.max(match_diagram)*1.1], [0,np.max(match_diagram)*1.1], color=\"gray\")"
   ]
  },
  {
   "cell_type": "code",
   "execution_count": null,
   "id": "4d59d9c7-6373-4086-bd26-a884002a8f92",
   "metadata": {},
   "outputs": [],
   "source": [
    "ps[start_step:start_step+30].shape"
   ]
  },
  {
   "cell_type": "code",
   "execution_count": null,
   "id": "301cd36f-095d-4133-94f2-b176ca418efb",
   "metadata": {},
   "outputs": [],
   "source": [
    "fig, ax = plt.subplots(figsize=(4,4))\n",
    "steplist = list(range(0, 500, 3))\n",
    "for idx, start_step in enumerate(steplist):\n",
    "    plot_matching_diagram_trajectories(ps[start_step:start_step+100], twists[start_step:start_step+100], weight, length, ax, color=mpl.colormaps[\"GnBu\"](idx/len(steplist)))\n"
   ]
  },
  {
   "cell_type": "code",
   "execution_count": null,
   "id": "eae6ece6-a4f7-45c0-a63e-f41b60ef9797",
   "metadata": {},
   "outputs": [],
   "source": [
    "fig, ax = plt.subplots(figsize=(4,4))\n",
    "start_step=1000\n",
    "shift_time = 100\n",
    "plot_matching_diagram_trajectories(ps[start_step:start_step+shift_time], twists[start_step:start_step+shift_time], weight, length, ax, color=\"blue\")\n",
    "# get data\n",
    "positions = ps[start_step:start_step+shift_time]\n",
    "velocities = twists[start_step:start_step+shift_time]\n",
    "Dist_X = distances_corridor_weighted_velocities(positions[0], velocities[0], weight, length)\n",
    "Dist_Y = trajectory_corridor_distance_weighted_velocities(positions, velocities, weight, length)\n",
    "Dist_Z = np.minimum(Dist_X, Dist_Y)\n",
    "idx_S = list(range(Dist_X.shape[0]))\n",
    "# Compute matching from X to Z\n",
    "ibfm_out = ibfm.get_IBloFunMatch_subset(Dist_X, Dist_Z, idx_S, output_dir, max_rad=-1, num_it=1, store_0_pm=True, points=False, max_dim=1)\n",
    "# put persistence pairs together\n",
    "match_diagram = []\n",
    "for idx, bar_X in enumerate(ibfm_out[\"S_barcode_0\"]):\n",
    "    idx_match = ibfm_out[\"induced_matching_0\"][idx]\n",
    "    bar_Z = ibfm_out[\"X_barcode_0\"][idx_match]\n",
    "    match_diagram.append([bar_X[1], bar_Z[1]])\n",
    "# end for\n",
    "match_diagram = np.array(match_diagram)\n",
    "\n",
    "print(np.array(match_diagram))\n",
    "print(ibfm_out[\"S_reps_0\"])"
   ]
  },
  {
   "cell_type": "code",
   "execution_count": null,
   "id": "de37f527-07a8-4e2c-be76-251b2abe3237",
   "metadata": {},
   "outputs": [],
   "source": [
    "def plot_sequence(X_list, ax, mark_points=[]):\n",
    "    # Plot figure\n",
    "    X_old = X_list[0]\n",
    "    ax.scatter(X_old[:,0], X_old[:,1], s=20, marker=\"o\", color=mpl.colormaps[\"RdBu\"](1/(len(X_list)+1)), zorder=2)\n",
    "    for idx, X in enumerate(X_list[1:]):\n",
    "        ax.scatter(X[:,0], X[:,1], s=20, marker=\"o\", color=mpl.colormaps[\"RdBu\"]((idx+1)/(len(X_list)+1)), zorder=2, label=\"X\")\n",
    "        # for edge in zip(X, X_old):\n",
    "        #     edge_pts = np.array(edge)\n",
    "        #     ax.plot(edge_pts[:,0], edge_pts[:,1], color=\"gray\", zorder=1)\n",
    "        if len(mark_points)>0:\n",
    "            mark_X = X[mark_points]\n",
    "            ax.scatter(mark_X[:,0], mark_X[:,1], s=20, marker=\"+\", color=\"red\", zorder=3)\n",
    "        X_old = X\n",
    "    #end for "
   ]
  },
  {
   "cell_type": "code",
   "execution_count": null,
   "id": "f7c9e571-d07e-4d29-b76b-eddc572e0e82",
   "metadata": {},
   "outputs": [],
   "source": [
    "start_step=900\n",
    "X_seq = ps[list(range(start_step, start_step+shift_time+1, 10))]\n",
    "len(X_seq)\n",
    "fig, ax = plt.subplots(figsize=(10, 5))\n",
    "ax.set_aspect(\"equal\")\n",
    "plot_sequence(X_seq, ax, mark_points=[0])"
   ]
  },
  {
   "cell_type": "code",
   "execution_count": null,
   "id": "eb814c74-439b-4545-a4bd-32520ed26d74",
   "metadata": {},
   "outputs": [],
   "source": [
    "def plot_matching_diagram(X, Y, vel_X, vel_Y, idx_S, weight, length, ax, color=\"blue\"):\n",
    "    # Compute X, Z barcodes and matching\n",
    "    Dist_X = distances_corridor_weighted_velocities(X, vel_X, weight, length)\n",
    "    Dist_Y = distances_corridor_weighted_velocities(Y, vel_Y, weight, length)\n",
    "    Dist_Z = np.minimum(Dist_X, Dist_Y)\n",
    "    # Compute matching from X to Z\n",
    "    ibfm_out = ibfm.get_IBloFunMatch_subset(Dist_X, Dist_Z, idx_S, output_dir, max_rad=-1, num_it=1, store_0_pm=True, points=False, max_dim=1)\n",
    "    # Plot 0 persistence diagram of matching \n",
    "    match_diagram = []\n",
    "    for idx, bar_X in enumerate(ibfm_out[\"S_barcode_0\"]):\n",
    "        idx_match = ibfm_out[\"induced_matching_0\"][idx]\n",
    "        bar_Z = ibfm_out[\"X_barcode_0\"][idx_match]\n",
    "        match_diagram.append([bar_X[1], bar_Z[1]])\n",
    "    # end for\n",
    "    match_diagram = np.array(match_diagram)\n",
    "    # Plot matching diagram\n",
    "    ax.scatter(match_diagram[:,0], match_diagram[:,1], color=color)"
   ]
  },
  {
   "cell_type": "code",
   "execution_count": null,
   "id": "3216bb3f-9d32-4cce-9c9e-25651b77cd99",
   "metadata": {},
   "outputs": [],
   "source": [
    "fig, ax = plt.subplots(figsize=(4,4))\n",
    "steplist = list(range(600, 650, 2))\n",
    "for idx, start_step in enumerate(steplist):\n",
    "    X = ps[start_step]\n",
    "    Y = ps[start_step + 30]\n",
    "    vel_X = twists[start_step]\n",
    "    vel_Y = twists[start_step+30]\n",
    "    idx_S = list(range(X.shape[0]))\n",
    "    plot_matching_diagram(X, Y, vel_X, vel_Y, idx_S, weight, length, ax, color=mpl.colormaps[\"GnBu\"](idx/len(steplist)))"
   ]
  },
  {
   "cell_type": "code",
   "execution_count": null,
   "id": "62c2f1f1-e18f-44af-bd87-c9944577df56",
   "metadata": {},
   "outputs": [],
   "source": [
    "fig, ax = plt.subplots(figsize=(4,4))\n",
    "start_step=550\n",
    "X = ps[start_step]\n",
    "Y = ps[start_step + 30]\n",
    "vel_X = twists[start_step]\n",
    "vel_Y = twists[start_step+30]\n",
    "idx_S = list(range(X.shape[0]))\n",
    "plot_matching_diagram(X, Y, vel_X, vel_Y, idx_S, weight, length, ax, color=mpl.colormaps[\"GnBu\"](idx/len(steplist)))\n",
    "Dist_X = distances_corridor_weighted_velocities(X, vel_X, weight, length)\n",
    "Dist_Y = distances_corridor_weighted_velocities(Y, vel_Y, weight, length)\n",
    "Dist_Z = np.minimum(Dist_X, Dist_Y)\n",
    "# Compute matching from X to Z\n",
    "ibfm_out = ibfm.get_IBloFunMatch_subset(Dist_X, Dist_Z, idx_S, output_dir, max_rad=-1, num_it=1, store_0_pm=True, points=False, max_dim=1)\n",
    "print(ibfm_out[\"X_barcode_0\"][-5:])\n",
    "print(ibfm_out[\"X_reps_0\"][-5:])"
   ]
  },
  {
   "cell_type": "code",
   "execution_count": null,
   "id": "b01f0e20-f0d8-4dc4-89b9-5ae4ddf0892c",
   "metadata": {},
   "outputs": [],
   "source": [
    "X_seq = ps[list(range(350,380, 10))]\n",
    "len(X_seq)\n",
    "fig, ax = plt.subplots(figsize=(10, 5))\n",
    "plot_sequence(X_seq, ax, mark_points=[15])"
   ]
  },
  {
   "cell_type": "code",
   "execution_count": null,
   "id": "71e5bb3a-d0c3-433c-88d6-faff616f271f",
   "metadata": {},
   "outputs": [],
   "source": [
    "fig, ax = plt.subplots(figsize=(10,2))\n",
    "vmax = np.max(divergence_arr)\n",
    "mapable = ax.imshow(Z_barcodes_arr, aspect=\"auto\", vmax=vmax, extent=(steps_list[0], steps_list[-1], 0, X.shape[0]))\n",
    "ax.set_title(\"Z_barcode_corridor\")\n",
    "plt.colorbar(mapable)\n",
    "plt.tight_layout()"
   ]
  },
  {
   "cell_type": "code",
   "execution_count": null,
   "id": "1dd8adff-e488-45f7-a159-5720998e6088",
   "metadata": {},
   "outputs": [],
   "source": [
    "cumulative_list = []\n",
    "for j, divergence in enumerate(divergence_arr.transpose()):\n",
    "    cumulative = []\n",
    "    for i in range(divergence_arr.shape[0]):\n",
    "        cumulative.append(np.sum(divergence[:i+1]))\n",
    "    cumulative_list.append(cumulative)\n",
    "cumulative_arr = np.array(cumulative_list).transpose()"
   ]
  },
  {
   "cell_type": "code",
   "execution_count": null,
   "id": "62897e3d-c011-4eb7-b015-0aede76462fd",
   "metadata": {},
   "outputs": [],
   "source": [
    "fig, ax = plt.subplots(figsize=(10,2))\n",
    "vmax = np.max(cumulative_arr)\n",
    "vmin = np.min(cumulative_arr)\n",
    "mapable = ax.imshow(cumulative_arr, aspect=\"auto\", vmax=vmax, vmin=vmin, extent=(steps_list[0], steps_list[-1], 0, X.shape[0]))\n",
    "ax.set_title(\"cumulative\")\n",
    "plt.colorbar(mapable)\n",
    "plt.tight_layout()"
   ]
  },
  {
   "cell_type": "code",
   "execution_count": null,
   "id": "e04350a4-217e-412a-a538-5661cacae697",
   "metadata": {},
   "outputs": [],
   "source": [
    "y_max = np.max(Z_barcodes_arr)\n",
    "y_min = np.min(Z_barcodes_arr)\n",
    "y_range = np.linspace(y_min, y_max, 30)\n",
    "combinations_list = []\n",
    "for y in y_range:\n",
    "    combinations_row = [] \n",
    "    for j, column in enumerate(Z_barcodes_arr.transpose()):\n",
    "        idx = np.sum(Z_barcodes_arr[:,j] < y)-1\n",
    "        if idx < 0:\n",
    "            combinations_row.append(0)\n",
    "        else:\n",
    "            combinations_row.append(cumulative_arr[idx,j])\n",
    "    combinations_list.append(combinations_row)\n",
    "combinations_arr = np.array(combinations_list)"
   ]
  },
  {
   "cell_type": "code",
   "execution_count": null,
   "id": "b68cef46-a68f-49a1-988a-719ca490388c",
   "metadata": {},
   "outputs": [],
   "source": [
    "fig, ax = plt.subplots(figsize=(10,2))\n",
    "vmax = np.max(combinations_arr)\n",
    "vmin = np.min(combinations_arr)\n",
    "mapable = ax.imshow(combinations_arr, aspect=\"auto\", vmax=vmax, vmin=vmin, extent=(steps_list[0], steps_list[-1], 0, X.shape[0]))\n",
    "ax.set_title(\"combinations\")\n",
    "plt.colorbar(mapable)\n",
    "plt.tight_layout()"
   ]
  },
  {
   "cell_type": "code",
   "execution_count": null,
   "id": "1e9f06b9-870a-43cc-ba18-ccbd350d64ac",
   "metadata": {},
   "outputs": [],
   "source": [
    "def plot_two_timesteps(X, Y, ax, X_col=\"blue\", Y_col=\"red\"):\n",
    "    # Plot figure\n",
    "    ax.scatter(X[:,0], X[:,1], s=20, marker=\"s\", c=X_col, zorder=2, label=\"X\")\n",
    "    ax.scatter(Y[:,0], Y[:,1], s=23, marker=\"x\", c=Y_col, zorder=2, label=\"Y\")\n",
    "    for edge in zip(X, Y):\n",
    "        edge_pts = np.array(edge)\n",
    "        ax.plot(edge_pts[:,0], edge_pts[:,1], c=\"gray\", zorder=1)\n",
    "\n",
    "def plot_divergence_diagram(X, Y, vel_X, vel_Y, weight, length, ax):\n",
    "    idx_S = list(range(int(X.shape[0])))\n",
    "    # Compute distane matrices\n",
    "    Dist_X = distances_corridor_weighted_velocities(X, vel_X, weight, length)\n",
    "    Dist_Y = distances_corridor_weighted_velocities(Y, vel_Y, weight, length)\n",
    "    Dist_Z = np.minimum(Dist_X, Dist_Y)\n",
    "    # Compute induced matchings\n",
    "    ibfm_out = [\n",
    "        ibfm.get_IBloFunMatch_subset(Dist_X, Dist_Z, idx_S, output_dir, max_rad=-1, num_it=1, store_0_pm=True, points=False, max_dim=1),\n",
    "        ibfm.get_IBloFunMatch_subset(Dist_Y, Dist_Z, idx_S, output_dir, max_rad=-1, num_it=1, store_0_pm=True, points=False, max_dim=1)\n",
    "    ]\n",
    "    # Divergence diagrams \n",
    "    ibfm.plot_XYZ_matching_0(ibfm_out, ax)\n",
    "    ax.set_xlim([-4,4])\n",
    "    # print persistence divergence \n",
    "    matching_XZ = ibfm_out[0][\"induced_matching_0\"]\n",
    "    matching_YZ = ibfm_out[1][\"induced_matching_0\"]\n",
    "    composition_XY = [matching_YZ.index(i) for i in matching_XZ]\n",
    "    endpoints_0 = np.array(ibfm_out[0][\"S_barcode_0\"][:,1])\n",
    "    endpoints_1 = np.array(ibfm_out[1][\"S_barcode_0\"][:,1])\n",
    "    endpoints_1 = endpoints_1[composition_XY]\n",
    "    persistence_divergence = np.sum(np.sqrt((endpoints_0-endpoints_1)**2))\n",
    "    # print(np.abs(endpoints_0-endpoints_1))\n",
    "    # print(persistence_divergence)\n",
    "    return ibfm_out"
   ]
  },
  {
   "cell_type": "code",
   "execution_count": null,
   "id": "368023bc-6ed5-42c5-b089-9afcc320399c",
   "metadata": {},
   "outputs": [],
   "source": [
    "start_step = 1150\n",
    "X = ps[start_step]\n",
    "Y = ps[start_step + 20]\n",
    "vel_X = twists[start_step]\n",
    "vel_Y = twists[start_step + 20]\n",
    "X_len = X.shape[0]-1\n",
    "fig, ax = plt.subplots(nrows=2, ncols=2, figsize=(10, 5))\n",
    "# Interpret diagram via points\n",
    "plot_two_timesteps(X, Y, ax[0,0])\n",
    "plot_divergence_diagram(X, Y, vel_X, vel_Y, weight, length, ax[0,1])\n",
    "# change timestep \n",
    "start_step = start_step+60\n",
    "X = ps[start_step]\n",
    "Y = ps[start_step + 20]\n",
    "vel_X = twists[start_step]\n",
    "vel_Y = twists[start_step + 20]\n",
    "plot_two_timesteps(X, Y, ax[1,0])\n",
    "plot_divergence_diagram(X, Y, vel_X, vel_Y, weight, length, ax[1,1])\n",
    "plt.tight_layout()\n",
    "plt.savefig(\"corridor_exp_divergence.png\")"
   ]
  },
  {
   "cell_type": "code",
   "execution_count": null,
   "id": "00b84d78-1dbc-4ff4-a106-f0ad29b0b07d",
   "metadata": {},
   "outputs": [],
   "source": []
  }
 ],
 "metadata": {
  "kernelspec": {
   "display_name": "Python 3 (ipykernel)",
   "language": "python",
   "name": "python3"
  },
  "language_info": {
   "codemirror_mode": {
    "name": "ipython",
    "version": 3
   },
   "file_extension": ".py",
   "mimetype": "text/x-python",
   "name": "python",
   "nbconvert_exporter": "python",
   "pygments_lexer": "ipython3",
   "version": "3.10.12"
  }
 },
 "nbformat": 4,
 "nbformat_minor": 5
}
