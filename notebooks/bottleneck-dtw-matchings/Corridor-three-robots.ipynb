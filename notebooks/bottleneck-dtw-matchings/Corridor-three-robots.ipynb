{
 "cells": [
  {
   "cell_type": "code",
   "execution_count": 1,
   "id": "c6447061-a5b6-4deb-9424-ddafa203714e",
   "metadata": {},
   "outputs": [],
   "source": [
    "import argparse\n",
    "import numpy as np\n",
    "import matplotlib.pyplot as plt\n",
    "import matplotlib.patches as patches\n",
    "import matplotlib.animation as animation\n",
    "import scipy.spatial.distance as dist\n",
    "from navground import sim, core\n",
    "from tslearn.generators import random_walks\n",
    "from tslearn import metrics\n",
    "import seaborn as sns\n",
    "import gudhi\n",
    "from gudhi.wasserstein import wasserstein_distance\n",
    "from navground.sim.ui.video import display_video_from_run, record_video_from_run\n",
    "from functools import partial\n",
    "from IPython.display import Image\n",
    "\n",
    "# Create folder to save bottleneck distances between matching diagrams\n",
    "import os\n",
    "os.makedirs(\"Corridor_matrices_consecutive\", exist_ok=True)\n",
    "os.makedirs(\"plots_consecutive\", exist_ok=True)\n",
    "title_1 = \"Wasserstein distance\"\n",
    "title_2 = \"sum matching difference\"\n",
    "title_3 = \"wasserstein\""
   ]
  },
  {
   "cell_type": "code",
   "execution_count": 2,
   "id": "96c3d60b-b713-4bbf-8822-d96e8d658649",
   "metadata": {},
   "outputs": [
    {
     "data": {
      "text/plain": [
       "_StoreAction(option_strings=['--epsilon'], dest='epsilon', nargs=None, const=None, default=50, type=<class 'int'>, choices=None, required=False, help='time differences for matching and bottleneck distance computation', metavar=None)"
      ]
     },
     "execution_count": 2,
     "metadata": {},
     "output_type": "execute_result"
    }
   ],
   "source": [
    "parser = argparse.ArgumentParser(description='Simulation Parameters')\n",
    "parser.add_argument('--length', type=float, default=10.0, help='Length of the environment')\n",
    "parser.add_argument('--width', type=float, default=10.0, help='Width of the environment')\n",
    "parser.add_argument('--num_runs', type=int, default=1, help='Number of simulation runs')\n",
    "parser.add_argument('--num_steps', type=int, default=100, help='Number of steps in the simulation')\n",
    "parser.add_argument('--time_step', type=float, default=0.1, help='Time step for the simulation')\n",
    "parser.add_argument('--num_agents', type=int, default=10, help='Number of agents in the simulation')\n",
    "parser.add_argument('--max_speed', type=float, default=1.0, help='Maximum speed of agents')\n",
    "parser.add_argument('--optimal_speed', type=float, default=1.0, help='Maximum speed of agents')\n",
    "parser.add_argument('--radius', type=float, default=0.25, help='Radius of agents')\n",
    "parser.add_argument('--safety_margin', type=float, default=0.1, help='Safety margin for agents')\n",
    "parser.add_argument('--behavior', type=str, default='HL', help='Behavior type')\n",
    "parser.add_argument('--max_edge_length', type=float, default=100.0, help='Maximum edge length in the simplicial complex')\n",
    "parser.add_argument('--time_delay', type=int, default=1, help='Time delay to analise simulation intervals')\n",
    "parser.add_argument('--embedding_length', type=int, default=10, help='Length of the simulation intervals')\n",
    "parser.add_argument('--epsilon', type=int, default=50, help='time differences for matching and bottleneck distance computation')"
   ]
  },
  {
   "cell_type": "code",
   "execution_count": 3,
   "id": "0549d7eb-7974-43cd-b4a5-3928cf998d18",
   "metadata": {},
   "outputs": [],
   "source": [
    "args = parser.parse_args([\n",
    "        '--length', '18.0',\n",
    "        '--width', '1.7',\n",
    "        '--num_runs', '1',\n",
    "        '--num_agents', '2',\n",
    "        '--num_steps', '100',\n",
    "        '--time_step', '0.1',\n",
    "        '--max_speed', '1.66',\n",
    "        '--optimal_speed', '1.2',\n",
    "        '--radius', '0.4',\n",
    "        '--safety_margin', '0.1',\n",
    "        '--behavior', 'HL',\n",
    "        '--max_edge_length', '50.0',\n",
    "        '--time_delay', '2',\n",
    "        '--embedding_length', '11',\n",
    "        '--epsilon', '20',\n",
    "    ])"
   ]
  },
  {
   "cell_type": "code",
   "execution_count": 4,
   "id": "e06a51af-d7f8-4ddc-9fe9-622d4f9e25dd",
   "metadata": {},
   "outputs": [],
   "source": [
    "yaml = f\"\"\"\n",
    "runs: {args.num_runs}\n",
    "steps: {args.num_steps}\n",
    "time_step: {args.time_step}\n",
    "save_directory: ''\n",
    "record_pose: true\n",
    "record_twist: true\n",
    "record_collisions: true\n",
    "record_deadlocks: true\n",
    "scenario:\n",
    "  bounding_box:\n",
    "    min_x: 0\n",
    "    max_x: {args.length}\n",
    "    min_y: {-args.width/2}\n",
    "    max_y: {args.width/2}\n",
    "  walls:\n",
    "    - line: [[{-1}, {-args.width/2}], [{args.length + 1}, {-args.width/2}]]\n",
    "    - line: [[{-1}, {args.width/2}], [{args.length + 1}, {args.width/2}]]\n",
    "  groups:\n",
    "    -\n",
    "      type: thymio\n",
    "      number: 2\n",
    "      radius: {args.radius}\n",
    "      control_period: 0.1\n",
    "      speed_tolerance: 0.02\n",
    "      orientation: 0\n",
    "      position: [[0, 0], [5, 0]]\n",
    "      kinematics:\n",
    "        type: 2WDiff\n",
    "        wheel_axis: 0.094\n",
    "        max_speed: {args.max_speed}\n",
    "      behavior:\n",
    "        type: {args.behavior}\n",
    "        optimal_speed: {args.optimal_speed}\n",
    "        horizon: 5.0\n",
    "        safety_margin: {args.safety_margin}\n",
    "      state_estimation:\n",
    "        type: Bounded\n",
    "        range: 5.0\n",
    "      task:\n",
    "        type: Direction\n",
    "        direction: [1, 0]\n",
    "    -\n",
    "      type: thymio\n",
    "      number: 1\n",
    "      radius: {args.radius}\n",
    "      control_period: 0.1\n",
    "      speed_tolerance: 0.02\n",
    "      orientation: 0\n",
    "      position: [[4, 0]]\n",
    "      kinematics:\n",
    "        type: 2WDiff\n",
    "        wheel_axis: 0.094\n",
    "        max_speed: {args.max_speed*3/4}\n",
    "      behavior:\n",
    "        type: {args.behavior}\n",
    "        optimal_speed: {args.optimal_speed*3/4}\n",
    "        horizon: 5.0\n",
    "        safety_margin: {args.safety_margin}\n",
    "      state_estimation:\n",
    "        type: Bounded\n",
    "        range: 5.0\n",
    "      task:\n",
    "        type: Direction\n",
    "        direction: [1, 0]\n",
    "\"\"\"\n",
    "experiment = sim.load_experiment(yaml)\n",
    "experiment\n",
    "experiment.run()\n",
    "runs = experiment.runs"
   ]
  },
  {
   "cell_type": "code",
   "execution_count": 5,
   "id": "c7564512-f518-4cae-87c7-2e53d7135b8d",
   "metadata": {},
   "outputs": [
    {
     "data": {
      "text/html": [
       "<div align=middle><video width='640'src='data:video/mp4;base64,AAAAIGZ0eXBpc29tAAACAGlzb21pc28yYXZjMW1wNDEAAAAIZnJlZQAALqFtZGF0AAACVAYF//9Q3EXpvebZSLeWLNgg2SPu73gyNjQgLSBjb3JlIDE1OSByMjk5MSAxNzcxYjU1IC0gSC4yNjQvTVBFRy00IEFWQyBjb2RlYyAtIENvcHlsZWZ0IDIwMDMtMjAxOSAtIGh0dHA6Ly93d3cudmlkZW9sYW4ub3JnL3gyNjQuaHRtbCAtIG9wdGlvbnM6IGNhYmFjPTAgcmVmPTEgZGVibG9jaz0wOjA6MCBhbmFseXNlPTA6MCBtZT1kaWEgc3VibWU9MCBwc3k9MSBwc3lfcmQ9MS4wMDowLjAwIG1peGVkX3JlZj0wIG1lX3JhbmdlPTE2IGNocm9tYV9tZT0xIHRyZWxsaXM9MCA4eDhkY3Q9MCBjcW09MCBkZWFkem9uZT0yMSwxMSBmYXN0X3Bza2lwPTEgY2hyb21hX3FwX29mZnNldD0wIHRocmVhZHM9MyBsb29rYWhlYWRfdGhyZWFkcz0xIHNsaWNlZF90aHJlYWRzPTAgbnI9MCBkZWNpbWF0ZT0xIGludGVybGFjZWQ9MCBibHVyYXlfY29tcGF0PTAgY29uc3RyYWluZWRfaW50cmE9MCBiZnJhbWVzPTAgd2VpZ2h0cD0wIGtleWludD0yNTAga2V5aW50X21pbj0xMCBzY2VuZWN1dD0wIGludHJhX3JlZnJlc2g9MCByYz1jcmYgbWJ0cmVlPTAgY3JmPTIzLjAgcWNvbXA9MC42MCBxcG1pbj0wIHFwbWF4PTY5IHFwc3RlcD00IGlwX3JhdGlvPTEuNDAgYXE9MACAAAAC6mWIhDoRigACO94+Tk5OTk5OTk5OTk5OTk5OTk5OTk5OTk5OTk5OTk5OTk5OTk5OTrjsABJtojNJmREf/4AHPibr6TiAAC4RUv94byz77777777777777777777777777777774/AATSTcm0vd//AA70YAtLYKm3fXXXXXHYACYt3tgA9B2YC1Df/gAZksRCwgHPA5jShCszCCxPE+2WEiOP7DjwHKvnwO85sjAyt0FNF5DHYAEE9abWm/8IubZlG3H666647//2cauBPAASTC79oWgGoDCYr/gAVaMUGhOcSFjl1JwfbAEeBD9nJIgsC4qkcPM0qDc9g63rN8+EyETm7zKNuEqHOABDAAJyWhCCSYIIJ//4AG5S4SdgLROPEFdhFEmCHlka4dgAJh4CIuKcJ+9Es+X/wOVlhqxgOAI2T4d7opgGqXOBQmoYEvsN6Hhs2uuuuuuuuuuuuuuuuuuuuuuuuuuuuEsABwWIAeCfvzuDOzq/ABijIJMEkmOv4ZY8toSDemeQJIZDgwlhJcAxYFubftnnUymCiwniOLR7qxp0OwBu/MiMyI9XphI7fv8YHyD72EVz9dddd8JfWMVbwqWtYJLuw4GW7wAasgpKKlTEGYgAl8AODr+t/wSPtYFUwXoAiwSSbK9BAe3KAKAftf3S3eynLYSuZRFcujnAARGBwTNbObDJzf9HwAU0GQSYJeU7XfwOxycSNCkTrh/19gEvgahjEtEey7FZHcOBjgMykASqqMBQioboQkdpdjo8TkOBwBOwfB3o9uB/gfYSuadJ666666666666666666666666647AASbaIzSZkRH/+AB240+604gAAsEXL/eG8s+/fffffa333333333333333333333333x+AAmkm5Npe7/+AByogB620VFu+uuuuuuuuuuuuuuuuuuuuuuuuuuuuuuuuuuuuuuuuuuuuuuuuuuuuuuuuuuuuuuuuuuuuuuuuuuuuuvAAAAB70GaICqBRzQ7LqL+CLi4uL4uMi65oKYvWoAFEA3R3DFE0x9sctxAAPzKoR3Ce4mI1Vi1xVM0j/piK2COUI3PYKYKOmCecoRJJ2lGlgwt2sX/zR8XvdsfTZD1sFOCb0m9Fcp/iYKIALmdrQ5Of/uQEsBbPwC7dCkIv/3B6Z25Ab20xZIMx0LAhhT/z8Nwwiw5mARXUbpjP1gObOj1DIyhN//8Qqnnv/BjBRAApDfwwlLNSQU9Pl1ZiOHORpkfi6mOf7s2SAlEDCJhj1rp/M+bGPjY3faKV0RkRe/T/TIqhNwAIPrvu//wMsyQ89/hyJipLpjwAfFld0IaUX1KfXAAMtDiIJr7nkyINOQ+cb2sXZLAAd9oKqTDaD5xMKf8Dplyfpz/v4wj1dv5dfAMSS5/Aznc6vb4EKKM//M3rJ/Af3tL5KaEYUkm9pdA9umABAfNtC6CrOcfvwsDYFLUtyDOHOlc+yjZTwJunHP8wRCA6CMZhI6hYf+mw3WIsDMGINfaOEkSFXh/5UZ4RAkOPQ3dM77rfCMKTAUypjyoAC0zaImPoYV/y4UyXBtXAB0hsv+ReqOjLvaf8BGE+5haSYkkh6cP363hr/psGHTD3rVTlO+DZnosicGIgEM6uklP6KIa5oZl1F/BFxcXF8XHRdcCfAAAAV5BmkAqgKB/gUYKITdIAIF84PtTKHFJF/DFNM4/eJVvUwlqc4HVeEIdiKfAZ1z6IWYfeZFWBREl4Tu1eWCkQLwAHmbBXC95SDUs/1Ns5uy0sArwtxG++BHKBcSPbTkFp/AwYeCkQWWJXjyZwKM0PKwANkHyySHK0jyfgr0zxEIjX8jJ3K5cCjFwIYOSuhnEwlrsH5YmWoqsqsRUDHFwNaOIfLzw4f4iFJRJADEOK4ANaMXZioxSicn/vmSErxGOJqQwkYieITIRAqkRiknKFYJ2kYfI0Kut9dXa+SN9x5sQDNNp+ZYiMwmSH2W/yJujJPj4ATDx5BL5BqfQV7AzdwO3yCB5yybFJuXZxGtIhHg1/3pqYlzgGQYPgnivTCHdESmACzEVonKmzkUsLSgg3aQQ5ekpJ+eDS/GQYvnEPxVRujF7BrlNjAxU9Abuz8cCrqZToEW55f+PpD6t/4CLgAAAAS5BmmAqgKMCjNgAGKeHKJd9HnoRQaivM/+vYFGLg7bBSFWke/0CjSHmPikZyttbfj48XDnPAeTH1oIsHIg2AB8AYJM2UStavFM95wciBngF6HUmZs9dsCdAqUKawTgLLPM9JGoDB4l36AyLyEM/wKMXgAPNyr42ExftO00TNGPwYABdoeYucjHeAwMiUiiS2BRlz9KOaZ/rWYDnFeFMQB9mSjxXKf+toE5Ddqy5OVj/n/Hfwke9CP2H4Cs3pp2v++hDFBr7gGStaoVsUkqJJT3+XkxlMwAZmYEzhWEHlsYHE/EfxeKKktCh4lDK9sTY4U0jYELtPLNwcC6iTMefP/GeFMQEYpGyRj9h9EABGVtORoyUDdPKomGxX/b/0UhZiRiMT/ieUqgw9krcmz4CKgAAARtBmoAqgKJ/gUYvQ4P+AD02JXJSFcwEcKxnLS4hv3g6szM8/8r7PdX+tsCjLxMvwQsm/CH+BBgowAOAxfUGYVWNERmRGawIyeAFsNWGlyxDoJufcsf2mD0qwciBPASN8a+v/j13wKM2lCzTAoxcADk44xclZ1/YD0HazPo9Zsm329sHdMn2aekv/95Xhh6RwOH/j8vjqY/wAhrUOWksWvKZPaTbEXN178zZj7qrXm6MzkUngYg/E7mAwNaJjGBR1DPIf+IxBqD0BSsVhWBcolixmNv9/jClUQjItoCAnJB4az3K+m4JfFYxTTIxTTLf+M+GAaNk02DgDpu8py9Rl1sBmCg/oAR2z2ew+Ur/sSC9dnXN2bA/4EoTHARUAAABwUGaoC6BRzSCAkpxHiPEeI8R4jxHiPEeI8R4jxHiPEeI8R4jxHiPEeI8R4jxHiPEeI8R4jxHiPEfxclCUyU4g/wKMXABMUuhXIpHe/sB9BcvYnFS44CebuR0zP7/f1udx13hvpBg/4mJ3z+fz/BzNA2ZJgAQxDqTliVWi+Vmvw20mFi74v4nAAdjDmDWofL+bDDgTtsdmzx4pGmc/wKM0AEuJCqReTFf8tJboD905Etm37wID8sAKsvIeQ+dmFwPXYypSSS/4+lhn8/n8/n8/n8/n8/n8/n8/n8/n8/n4k/8ZXumBgDmyIa6zqf84BHxRsdRGftFmTAZu4EzHvculLjvrbgXbsU0K7///h+Thg535/P5/5IsyZx4ADnwkshGPa4Szhb+8R9S4QPS8+z1PtwwwVGE5oRJjn/gn4UxgCml002jb97QRA+ZoJW3Lnf8X2zb18pT46HgARlPTkc1HbECClJngT/oRKQshMzITWCjDTHz+fz+fz+fz+fz+fz+fz+fz+fz+fm5pBASU4jxHiPEeI8R4jxHiPEeI8R4jxHiPEeI8R4jxHiPEeI8R4jxHiPEeI8R4jxHiP4uShKZKcCfAAABGUGawCqApwKM0ADCPIph9mcfUORPgpg6P4ZS97sCjFwCoqQrrHzLzFh7TbeB//P/hiTGQ/wcxcDZpMADsGbvxFOMbxx24HSMkwMBQvj3o4yzNPw3/4u3A/ByILhQRm0/Of4FGLwAS2yZi7O7YGlM/7+35s2wWbe7s8dnf3NuMYF0ZpJN834FESXh1fDhzioOqaZ4Bj1vSa/SHzrmAaDZOZMyZ8v++YP/HfgAoxe2Iv++wIwd6TNNJj68ayKqpEyfAkHIf+CWFZlrMwG8ABcy2C1xFG64isDUAjoXCkT2oayxl+nXEutERrJOf+MjFNMDFemAAUqa2TRt+NCtNP7m/y9sfUtcq+f4WLX949zVvwIEH4h1SY1eMBEQAAABLEGa4C6Apn+BRi8AD8g53Yic3O2QXUsvbP/QBnSmOsaFKR775dNWjruFgUZZQxkboVxkg5mgAEx1lIgsoLIe6BRbExt8ZioeXpMBPBzBRAU14NNZBAhTav1//ze9gbEH87sAGwaFJ1amlSgUZsAH4LFK35MVeQIzZXJqbP//YFGLgqpj6EzujliJp7Z5rRomgOqOGUbsOH/jPPSAK8yWOKiu/9oOB0mb4iGuT4AqE2tVsn5e8PzTZOGnxczoGH8TD9UxI/DnZ7fqkC/o5OSDk2kzAFND1Ey109z9wDExtCsJBKSM73iOBPgBoH6BCVfX+r8vIDADnRL2bZ356a4rL9IAZ0qbtp/f6BuHrGK274p3/GQ4DKttokZrBtZMUGqdt2LoWMVNP7p5LfgIiAAAAQVBmwAqgKkCjNgAp6KMOsR3IQlbXkx/YFGL9BgAcmJYjr86N+Z0iPVKrstoPwP4xQh/g5i4AFGHUWBFkHyUJYwYimIAKxQfOHgk80U0pjrj/ByIL4NWIDz/AoxeATXpf0j2tMDGcy0PmAdisZ38fN5/39v22357N1N8lLAoy6rdYYwJ0OcVj2tMgCCPEs2Qnf6ASuyOYSuzw/Hf/wAIP+vaNKVUmBpCU1A+NmPyKt2bJ9DIf+CWDqYgAsuKRC3aTQlZz8AD9lAVpeNZpro3820lDiXRpCf5/4zG7TIO1pgYYAFCplsmm3xk/k/nUgjePAnmOqvhbw+5X2bN/P/3lVJgNNJgBDwAAAEUQZsgKoCof4FGaAD4dcjJWV1gGz9OxR1R/0DAVq223/luHvnLV/sCjL6ZtDAJ/2g7fQkHM0ABxtQ0bDVFplyRHz6G03uMFokz8HMFEAUKFjJB0kkw80l8h+YGz4D/4BrTYdpRR/gUYuABeTrHm1JXvAO6Wx9CRSp8FOXN5rnd3zWjSawZxMMPkAgOH/iuegYAPsjKs1TJnvW3RJ6v9qha1mb9+t9Wh40TIvv/xP1+ErB5z1GfJyQcWiTMAOyAODdbiZfizvga+dpjvd4jCY6QEIIaoKtJNsk1/Qd1dhuJ68Ow6P8CjGV7pgYDueszaACdLfok2qWmBkPwHzACqIlsWb8tL+2tpkyDzFb4H/hO9S98vgIeAAABKEGbQC6Aqn+BRi4AJnwkc9MQvngMrtMk3D/8GAD+h5jxzEMqMNIAwKkpJSg1KE3//AhVPPf7P8HMXABRCih1FzJQw9z8AOWFF3DsNEQTaXUkkwMMAduTMC+WUiRt44FGaABEFuIow1YjjQzvG162Rv+L4+sCjFwAJGEtjOq50T49IODbe+b6KX0HwixeDDh/4yStMYAJBbiIsNUzhjLGABGFNieIVFZD1Jw/QXZGTCV2cMPhKkLIZGIwPEOCf+48QzlTOe/22f4OYiD0STMAWXg12ouC8kU3ALhwY3VG8Ropf5AV27I0adoMt1W1vqfFR7WmcGABj8lm0R/+Bi6p2RxhdyOPEM/D/HQ4ACmvcvachgQEHekzI7Q/wfWw1kd1SNk+GBAQ4CGgAAABH0GbYC6ArQKM0N9aALib3QqzlfnltPwb9K9/gUYuBsD8pDF0L2O4D5aLtz0tfBnlC6Dy/kg5i/GqAAISQHi9kk8lElECLIapXgSCSjc41STA8HMvwA9v08z+6YvI0uI/wKMXgAfkOVWZORStkCyS8rZmf3ASjcU2goUpP2+RnRkmgdwWBRlh6IDiZuFc8OcVFemAmiUwAF50n0mTbZVtcebM+v+Mh/NENZbssy3Bqkxrsv5QXsrs/zdBsABDslycEUZSTMALAC40rkSnJGnmLwCtLnAMsw2lH/5KfBDtK5GvfgZmy9h+zhOUf+M74pkAL6ajqMmP6+GrxI2gd8CYRJayMtLy3v8aeWy0HmK34MF8QJ3aZmXDysCd/+q3/AQsAAABKUGbgC6ArH+BRi8AEuLOrLyYr/kZck2fb7wAU5DzFzkZzgYDDVUpUwKMvEmMk1KTCeAkeuPf/wYlclErmDmCiAEmVK/o2MOkgQtuAlwLO4UWciC0H/wYZZFEA41zZwvGglMliVOBRmwAC3IWUvIznQGVrR5Nkf/YFGL+AGFoedEfyBgpSVEkkLQa6oQJnq2Dh/4zH70yAFtXWTYo9/YfAIACbTZORkZEgLozFYnyKXF+hh/ESURIgkZkh+J4xRePO1jrjyiOf7CmAibuPfKJXImG0H3/8HMEvgKbuPcl1jMJwQt2iACoW00WZDtQfehgqYecpedNH/A2KJU+KxLYgAc25KzaRqCloeU3KQrn/HTMeGACLenGmU/28Uz0EnHwRt/QozMf9PgIWAAAASNBm6AugK8CjNjwhoxWmYFGLgCCWxdzdil+APoOykYuhe36fjtvfcuO3NLRb4aEBZeAf9B5xn+DmLwBmacYmuqPvSYAvhX+jKKMlxxW8P0GmsggUtuCPVQw8HMtO8AEIM2OmbksxzxH+BRi9OCtpgABwPVyE1bu2AoO1iOmdSOdES/Smzf/+4WRO2T4tfYFGX5ohgNXIPOBzkximmRitM8d/wBjCjWRkz3wGZN5JyHd9Qf8mehIsgAO9m8x1Sq7rwTE9ndH+atBhs/8Rg96TIBl6txl7rgacFh9KKpsHFHAeAaBUYMWmhPq7Z7wwkz/kvaip6/sj/x+tpRKYGGAFcatpWt/caN3pOT1aoFrWI3797rIFa5HXE7Of371SYDB74jgCEgAAAEtQZvALoCuf4FGaACotCuRaTFeA+2rvS/+QJ+ulbNv3r09ddtsCjLALCnkaINFZF48BlIYEFlQwXBzNgAcYbPAmuPkga1qPJ6TMHMXwEEAJGtNkiGQeCSz/eGwrtNZJpVfHvEu5teYZ/gUYuABaZoo+HyMX5wYMvWibR394AE2vIeYudkFtN3BokiSSf4tKHD/xXCmAwA8zFpFqfo/3+AbG/5W0AHmYpYRW3fOuW4+Yf47986dO6Tb5wG78Aykmf/xSiKRJEl/qOYPcTJg4C2dMgBFGCXBZhOO043vEeCAQALNxUsZlu0s0/KGdmTgZP0mP+2DZ/gUYyxaYwBvKU2UMP/AAjCvJyNGke/AjI8lJhoU/5c/yKQsxMxG8Bv8JuABHf///wOjLc96f/4CDgAAASpBm+AugLB/gUYuMkIAevxK5qxyjNYAri3+22+wOlyOXwuZvNQZr9uPclL6DwKIkvCdyaaP8HMXgAIGSjRFx6Gtsp4qYJxJh9QxgAHhQ+ZMFWaJgiyr4eDmCO+VaYG+Kf4DpmaYeuBRmhx4AJpo4y2FWK/4YpplXvzbbH2BRi+tB2ViPo/a9/E5OzT0tfBhvd+qG1hw/8ZEPDcACCWkZZiVFX/KYl8TrUWb4P95vzH3P3dYe2ayOr7NmewGX/EOuTGRPgVlo/8Rg65JkAJMgsMlE8u388R+6b82AAoFRqozVm6RYlXwQwm6RO+9XTkeXMR8YM9fFRimmBjFaYAfnE02PFtAF9s9jqn5Sl/YfjIcBMm70nT0GqTG5R0iC95Wfxu17Qe5yBrt8BBwAAABLEGaAC6AswKM2AFShq1JCic6AdnXEdbx4FGLgusfIaOVjP7fmuNLgYbSX6OTG4OYJMAB8sFJzhE7KrI/pxSYW4OYU6QSnFG2S2UUNjjPPckYEQcA/fJxn3080cm1NKmf4FGLwANcSR3IvJn+oDUa6U3H/zZvwPoeAWBXkPIXOyB7FSqVSMCjLXvgN3DXS0OUw5xVDP6mQApyLozmyH//tlnZGjDj/53/HQ/7KTM2hZ1QGELMmZqxNP+grjF0LkdAw7iZMHAsqpkAOEUNJbaaRRnkBPzwS+BJ4aKXqjWQSOVABksSMS9+nOpCEjUs2bLse49Omf+MzN6ZADMuvJtHf/v9BcADL9OjTkgXZlBKm5c/z6b4L7tUlESILMyH/ieBlJMbX0OKcI9QCvwEFAAAATJBmiAqgLJ/gUYvABjUUw+zLdpXrAm+9X3eBGF4xVWPmcf7/ofv9e+t9KV2BRl3+GGMGEf4OYzwA4IiHOIhdeYC+hYT1zyhL2WSExRaIEhaHYrcroCwZ9/qlJM4wu5OF3ZUJihb/Bh8HIgscQ8FHI/zcCjNlQwb6YFGLgAltiqt2K/gEm3u7R5HrXu+Ps9mzNnFo2iRtTe140CIDh/4zB1TTIAgvVviN/3+BTzvu9gBoyP0Rto4oDQU05kzI0Nfvh22x+K67Nk+f+JwddJgbPG9j3X/0f4mIxcRrIAPYAjgvoRQ9pSLum/q8wAIhHE0A8V5yAJ24zHM2OQ3797kFTHvGMpL5MV6ZRCmeOh+AELummTJ//TliaabvmuY8JcPE74vzYy13f9gTJ73z2Mzd/B+AgoAAAFIQZpALoC0f4FGGIAF4i6d2ZKylvAPpcx9DRykA/LLZ5vVL03NTgDBF430+AGT0vESj+mXuDmK4JHme0AG6YigMz64kCxyxmLMmWVQgAD9IPemJH7+AXxl+B4ORAQ9KBBts9Ytp5do5notNqKESNsDpCVyO8H8eBQw0FN/5s/wKM0AFMLO7ekhTeAtTH2aOVjAMxmuTp7+/39G5rRpNYFGXoIQhYnIMHtomA4f4FGM31MDACOmqxyKir/2cObiRmr9JdPB1cJM8KMiW9kRVfv5psnGKoVGdAwwzbEjuJk4DiMrpkAJDpXFEC1UGSpuVz89iRAiAnAAP5QAMA+QlXn8TwHiAAGEfYIjEqPv+M3ywSF+SDs/cLWf+K56BgBSyXRu9H//v3Vt8SZqzD0I7blxXKexKhYzss//HaqgYI04nCin/kh6FRwEDAAAATxBmmAqgLcCjNAB/xRg6QjmeEJvXkY/vwKMXAA5GJYiqsdG/KjBxBm0koX+B8JsHI0f4ORAzgAmU4akEW9T3eDyAAICnoA4mRZ+YGoMTlpUqX5EVfn1H3ycCwAC4BwXEnQZKJ4/3+ZmDeqKla0hh8HIgsOjoyRTGz/AoxcAj/WngL5NkRnH1wUwButt+bbYDsXjO/j5vLNlfbPqbclQeBRl8IcTGHOKj1TTMADF8lmyI/+D3vI5hd2Vf/x34ACmv6e00g1yY1FPTZmc2yREX1sBPo/xMRA87JhwAO8I+Jxb6Cu8nPhAEBseYSIWY3YvM7cxocjFxnMQAXwj8HqSQkGioLYXv99ffuJs/8ZDs0wGkUwAQc1smm0HAMye5G3Ogwi/b8kfbMzM/ff9vD7lfZs38xm3/iHT940LiwEBAAABF0GagCqAtn+BRi8AFw5XI2rKVyGApbbb/0Ai/WhZ3Y/6vzL98uPfgUZbKE4wNyNQciBXAAsnL8Mzvl9rI2SgAgBwQM6mNd8c/ePvSZ4ORAT4AN0kZwnOTECpKZtBGtj3GCm2n5kgUZsAC2Q5K+bcne9CnLmbNc7AoxcBmVM2QUd2/B7dzWjSar2KPGMOH/jPdRAAboylmqZMYfnPm60j1B+hC1qMnr9/0Os3GhdL1/+IE0dZm3JywnH/G/65JowegAE6GlBOXiHtF+IPyIkJCkJkMFNQ/xHSIHMzh2FQti9/9llOJhlKL6X589/8+TivPSA7m0zNogSiJeLMvLy3v+OhwCdW/iTaDKNTd+9FMVQsZ2+cD+AgIAAAASFBmqAqgLkCjNgAp8JFLSMVyBUVpktxv+wKMX8AFOh5ixyIWeBQ0qKlb9mCAsZQhHjSP8HIgKagAPkAxotGOaSW7TO1ZTG5B2AhpTrzA2QJAPvEmGPJMDB1yTPQ4yqO8HMsAq0bD3ou882f4FGLwAMLxFGPsyuR2vXpn+BwASMSo/+fI/50BAL75TepSsCjLwgAXDGBAQ5xXhTEAJk20RFj6Z3oTWjIxK6PQ/HfwwAIwp5HI0ZKU1AbZEPVKiFGJmZD6P+IEQAaiQ3xHUhncFKe0HQBwqQFGeH4EiwKXNw5TMc03unb6p187/If+Mx6rTIAwvJNoj/zD6wAIJ/k/TlAu7I5i7sq+mGnv48x+RXXRkT7D8Tg70mBm+LwL3w4v4H+AAABHUGawCqAuH+BRi9jjtAAUTboXZ3PzgRB2sR9HVnOirdX+/tmTtp6l9/sCjL8O9L08XIUHIgVBI9wBCEyGQ6M7vAAUgO5TjkvlwxBTiHPxsjYUgnj/jUpMDIKku88HIgTyFhhAgYQLDzkYk0xgZmFk4If4FGLgAXkOSujJSd7wEzaUzILOrfsBCkvVbbH9GhaTX+eHosJ4I3IJ8Dh/4/FemUSmB+AEbqfSNN3uI3eRNEeU9WPqqteeTIL2VWf5Onh+JwxuOBh7hEAhsQ6iZIAWA8Akh8UG4PTOGXxn6mwv4//cCExaGc46UaWWf+vA3waD8h/gUY6TXTwB+mrcyZ/7BqpNz8paZ4WeDzgGxClZGXvytnGnlmWg8zp+8MD/AAAATxBmuAqgLp/gUYuAMZdlMfCYQKntPxG/yuGL33/QO3TNFL0hob/BhFd8gn/s4Jeg9/8HIgKQAqJlMCDwR2ASgZtDC+r25033kkRYFjIQIzHRrmxKTpTjy36s38WSDAetkcThX8DAKzPiJGKf8AmRm2JspUUiQsphOAgwF/6jWuJUWBRmgAptEjD7EdzwZBtMm0f+fgUYuAD6fw4rM/rOoIFUklL7pYxTDh/gUYzhTHgBSymiyGpMX/nb8Q0T53ATpkbIeQqKyFgEJwyG5PidkcXE/RPrmF7B/6kQsjEzGZiMCMPCbgJ3/jwNTuf//XBLAXKAKdRyidx0q/a4mAsXKJxKj3g/j4vfoVl6/t/50l4rwcAEEWks9Eb/dGBi7Rowu5HA/+O/ABT7o5pBoGGaimGd4URmf+KuBwV+B+gAAABXUGbACqAvQKM2AA7pAwN1TvHrWYDSmcpSA0miAouSrAoxfnlgIDPyN0stQjxk2pbcAJTyQck1pOBiBur/5LQ55z/ByIGYAK1myCjuhZpsXgBTIAvkOO1BxWAwA/3KUEKIScls6JIyKIRxaSDjbSZMW9AY4ASSHIU8MZ38Clf/7zSMyAobHDvwycHIgTtwEkyf0gBB8mSxBxU0wEGA91TMc6EP8CjF4ABwerkTVu7YGlM4pEvJL3/8CIO1GfYvRzoLpidsnotfB4FESWHbl7xAYc4qMU0wMYppgAPEYis4qtSQ4trET3jMbnFGI9rnqD+TOH47/1GJyjsVvknDfLBsUREQHyiYICc/GrEQ7WedWwO/MH8/8nTMZSpCO6iQr/+xQDLApr7rb/977LfyH/jLeGGlMACfRqzKnb+D9SN+k5PXwfZBasRvX6ufsgrXZ/m7Of/iBNY6MLI7+6/gfYAAAE3QZsgKoC8f4FGLwAExbKKxH6hiVku4bTCWcMklxLDoCBF14Fi1ecAnRkbIPMdB+YoCCfgNEZ5l+/+8CiJLR+8f/wciBWAB5QsEtLOXp5h1AnpvJkKJ4jZpMwciApGiewAYEN/WFAhr+CqLfS/6mDolIuNwfbTNQCMFmsA7/IKZ4BXBEVRVlkR5yC/oPW0xMd+kYH9sy5HZYFGbAAezRU+bCxftdDyZox+wKMXDABTkHmfORHPAIZSVFJL4IZohw/8Z4UxAH5AihfwxxZrL78CzYABxJ6ADALkee+AqgcA4Qrr+EFHWCtD0mHgADWQkg0DupkdJTGGW/8ThimIdYLewM3P+I/u0lfm1MH8vFbFpiBIWyjHUEceSiYeKf8v+O4fgAP3bTpppIGSkwGHH+KpCyEzMh3wPsAAAAE8QZtAKoHnN4efvLyL/GCKBRm8NKZgURIuAA3TFQSkwjQs1IjSRBzkOJ6Z7sAwwVC/eAlP/v/vDRBMzR86XVPp099JTb1uf4ORAzAAcGYKoi40g1qXEhH1LGRLKoa+cAQdaY/vEFisIjiXmm4SLXBBh0ZTPwAC8mAB2I4CVD8/AOOMGGzKccRP9g5ECaYtwvCcWThjMRZOIy8puebyH+BRi9jgYrTAAHk0cy2FWKv7TIdvZH0etdXx972PvmT7ael2BRl+V4ZgwEOcVj/wN2mQAfLkNC/OzKM2HxIR48mIOuSZIgACABb/wABAnAB80/4A8LqM4E/7t8yRsh4bXrXyzRpUe/5/iFlP/H4r0yK9MDDANG002DgF6N3pOjX/+AXe3s8w67v+0iF73Z/G7Xg/8TjaZDNWBTnqDPgfIAAAAVZBm2Aqgec3gAYRaJTNkTeL8MAAklcBQyjo8HzEstgNFNNvzwRH+BREm4AFxgZzACSlQIJm6fAdmAAU+AAECUAHzi9XYEmWnUJKWAvlMDeNYORAJ7fmLANJJDx7ROayVkpguSZTUyAPGUJmieKqIQi/hbg5EDPpoItAAEAbH8s4HCehLR7GpT8pXMD875E8DV6YANpjsZiq19CbrekIAAgD/2AACBcADLdTuIgJgbIFan57kd/8Zrcmc9Pf7Z/FUnj7wZT/AoxcAFckNU/Ji/zgMEvXJTZ/72qEADs1kcQeVmfdANxSUpVroOcP9AcP8SJBPz09OKZgA7DKvoxsI4ONDNM+gJwLJg7U7fCxnXgB+l4mJ6s0ma0iQ7mWjC85/gUYUl9TgAFq6yem372yP/ABF+udqv6kMHIBMzIXaUud/wbBH/RKiFEbMyAYIOnCE3j9z//+B7gAAAFZQZuALoHgj4OYvwAamwlSW8hj77KgAEtQHDn+plvlvLwERta8feCI/wKIkXwImmONgAoEmEUc/PfAMB3PX4PmEIYYIVRMtHdc/zc6aHqLjMBTIK+TBaTd1elICn/01IkzqATuD4L8yUb6UrBh4ySTIAPwaRSAE9yTg9WqBk00UDwugBHVigA4G+z77gPBzBNChXycb++nqCJUzEjpj/I+twZkaeWBRmjQOgAEhcxdyViv+FbTP+v37M2bwKMXwMi3ckLI7N39UeK4HNGaScVN/BC0n5hw/wyJCEeqaYGDgplTMAGYHwbLCYYRkxFpnNIACTVwABAiACZRf3BjEMZC+PgEcKhJObMBKDqSn5tltDutwZJRCbNfyY1OwzcAYL6RPHvN3pPzPxUYppgZX0ABCWprZNGfl7Y+5+Ur+f8d/CvI0cH2pvo4CJ+S96/AiJf3z2Mzd/aAX4HuAAABREGboC6B7BzN4AFGL+NF72NbAgy+5yIRy9BFn/7/d6AjgSRJuPKADeAIrgw9hdNIWI7LMIiRf8BkIN5VGNNKDTyOHT0n0a+niIqB/U5RgAdj4FPJUI45/+S0xMGPGMKSkyAHLYL21ZbyjWGfv3jfFh3vMXBlvKbgw4BpyzOdmREjXmPgSZEqP72KBSCc8CqqMcs8YNb+/te76skmRT/AoxeAAWFI7k/JnbIC8zVxOTb//wKqY+hIro50F2/NaNI0DwKMsIWCpZD6XiYc4qqoCAtuACC4AAgI6zUAYwN3/wCVrn5XxABe8AIBBh91t47n9/VV4P4JpMu8cHAZsAx1RfM5bf8HjyEJFwQ4phBr+KHP/GY2ogAU2S6bWyf/+D9clt8SZoHyR6EK274vn7bmJWLGKjn+/ECaKyo2hgOBGLNgC3/A9QAAAUxBm8AqgeiPg5i/AD2RkaDZx3bgptERsgzFP/W3gjP8CSJF+AA/AFGPxS3LoxR+8ZILq/Q5mtg6f4z3wm//wDDna01+/8HMZAvMv4AsJmNHIJSCiiDP/w2ZJgfGGF6Jxz3d7+fBhwrNEswb7g4AeZ84lIMfhRR6MARfBZnNcWVWnoLBPBzEwBu1s1rnj1JpmNzI5p3JlgUZsBEPTOZHtaZgUYuGVJsSKq98CmF2K/hc38/7+3s9m/PZupvkpbJIYwJwOH/jfJ1NH0O+9FrzZzzIzF2dlY4hXuDDgGPEw4FGQI9QY0Z9nPgGJ77ps+gG6qFLS+2fADoRX1UiOTd4DP4CATd3xLDO4NZaBmjv1bpYRuDvUyaMJ37zyJqmfisHVNMjc0yDO7x/HQwwAKaa8mnujJ8jbTl9B10mBppNM2nmZj/vrePu67Nm/n+B6gAAAThBm+AugfQczcEXh44AF5k2J5iorJg5l/jxHTbuyIrdV3vAI4EESbwAXoR35COi4/9bYkSXhFVWMkc9zf4J4Ah+aI5DZ/3Ur4CYQiGOZDyekwMMCtQAcxCKMkMgI+KrxFFFSw4j+S/CnYIEyyCiE6Sl/wZl8BF9teePHhTqmaCXhngBeIEFKbgj1X+jr3Y9AO9UZr3543KnlP8CjNAAtiXSvGTk5bwFMozyCzu3wOWo3mmlvTtaNJrdgUZe5BD63QZVjAc4rAmyAT442pp2kflZkwO2gkbtbmwMKPQkYE/nETxnDQS0dBJmrMW83hw0JLGV4gP8DUJVqKhRl4tv89eeMBg/b2085/4rnoGAdo+aY1zgGdJtok2v+AFQk1vbN+Xl3oMYuh4Q7fA/8TiykwMniA+nSfrgeYAAAAEPQZoAJoHwj4OYvgAQykzbhI6oHgB9HEYlUedAQIz+frjNs8pqg+MJc50IfekzAlEEZqxMfipX8TPEF+D3pMwAtjRcYohsuPK1YhgcAWzwpkJhWvJf6807sDYlg5EuEKk+PeTtma3x5T/AoxcAEdkUx9m82Hgg562m93RAAkxdFXxcj/nAIAuPV/SoOE3AAg+u+7//AHLMkPPf4bP8SJGYACNMLSocR+2jSJqkmYvi2nsjfuwEIgkxqr1qKngw5TUBVlgRYNbi0xjeuA8JHl4Vmorm/g8SJEz4i5Ga2TjIqse4zSwqzOf+Mj2tMwDGynyb+eHAALXX86bPAq9HMXVlWg//LzZm1Ek/5/8CiIgeIAAAAWdBmiAugfwczcACI8brEQqse0NEwcy8AGRk0hsvIqOse92jqYEvFeCKIQuJXy245Zn5NcZ2GA+ImeDicSZgA4yU0iw5jnoZ5yd4xx43rw37j+8v3lvuca7I77j+g+4FRMwnNgYBj1hwASiBwjYdpp9FiVcvG0Yddvbj3/T/WbzQKM2AA+J9J3Ztyct1Ul6tmY/vYFGL8JuKZ6CxSt+DmmjRNA7gEBG9H4vukljDkCCJFYADgQrbVTq76NSaEfqtbIk/IbISfwJlR4ALHgJGZZg1XcU1HsSJCm+mt3ZzgBZwFndAzxLEkn2Qw54z6d/frxuqxKBu/P/GgVtZToFsxxuDQmJ48wCz9+kd/f56OxHFa90yAF9GrOjIx/dA2E27Iy0vK2f8Kfh9sk2n54ac0ebAw+NGxVUuLmK34GYbifUdy/6QA4FF/7wbTmTaP//iPsXUaz9Kt3hp2pVAQYWG0B+fW/PbY/4FuAAAA4htb292AAAAbG12aGQAAAAAAAAAAAAAAAAAAAPoAAANSAABAAABAAAAAAAAAAAAAAAAAQAAAAAAAAAAAAAAAAAAAAEAAAAAAAAAAAAAAAAAAEAAAAAAAAAAAAAAAAAAAAAAAAAAAAAAAAAAAAAAAAACAAACsnRyYWsAAABcdGtoZAAAAAMAAAAAAAAAAAAAAAEAAAAAAAANSAAAAAAAAAAAAAAAAAAAAAAAAQAAAAAAAAAAAAAAAAAAAAEAAAAAAAAAAAAAAAAAAEAAAAACWAAAAGQAAAAAACRlZHRzAAAAHGVsc3QAAAAAAAAAAQAADUgAAAAAAAEAAAAAAiptZGlhAAAAIG1kaGQAAAAAAAAAAAAAAAAAACgAAACIAFXEAAAAAAAtaGRscgAAAAAAAAAAdmlkZQAAAAAAAAAAAAAAAFZpZGVvSGFuZGxlcgAAAAHVbWluZgAAABR2bWhkAAAAAQAAAAAAAAAAAAAAJGRpbmYAAAAcZHJlZgAAAAAAAAABAAAADHVybCAAAAABAAABlXN0YmwAAACVc3RzZAAAAAAAAAABAAAAhWF2YzEAAAAAAAAAAQAAAAAAAAAAAAAAAAAAAAACWABkAEgAAABIAAAAAAAAAAEAAAAAAAAAAAAAAAAAAAAAAAAAAAAAAAAAAAAAAAAAAAAY//8AAAAvYXZjQwFCwAv/4QAYZ0LAC9oCY/lnhAAAAwAEAAADAFA8UKqAAQAEaM4PyAAAABhzdHRzAAAAAAAAAAEAAAAiAAAEAAAAABRzdHNzAAAAAAAAAAEAAAABAAAAHHN0c2MAAAAAAAAAAQAAAAEAAAAiAAAAAQAAAJxzdHN6AAAAAAAAAAAAAAAiAAAFRgAAAfMAAAFiAAABMgAAAR8AAAHFAAABHQAAATAAAAEJAAABGAAAASwAAAEjAAABLQAAAScAAAExAAABLgAAATAAAAE2AAABTAAAAUAAAAEbAAABJQAAASEAAAFAAAABYQAAATsAAAFAAAABWgAAAV0AAAFIAAABUAAAATwAAAETAAABawAAABRzdGNvAAAAAAAAAAEAAAAwAAAAYnVkdGEAAABabWV0YQAAAAAAAAAhaGRscgAAAAAAAAAAbWRpcmFwcGwAAAAAAAAAAAAAAAAtaWxzdAAAACWpdG9vAAAAHWRhdGEAAAABAAAAAExhdmY1OC4yOS4xMDA=' controls>Sorry, seems like your browser doesn't support HTML5 audio/video</video></div>"
      ],
      "text/plain": [
       "<moviepy.video.io.html_tools.HTML2 object>"
      ]
     },
     "execution_count": 5,
     "metadata": {},
     "output_type": "execute_result"
    }
   ],
   "source": [
    "display_video_from_run(run=runs[0], factor=3.0, fps=10)"
   ]
  },
  {
   "cell_type": "code",
   "execution_count": 6,
   "id": "f1943226-de94-4536-876a-0472e58473e4",
   "metadata": {},
   "outputs": [],
   "source": [
    "def normangle(angle):\n",
    "    result = np.mod(angle, 2 * np.pi)\n",
    "    result[result > np.pi] -= 2 * np.pi\n",
    "    return result"
   ]
  },
  {
   "cell_type": "code",
   "execution_count": 7,
   "id": "558f1c59-5fa6-4551-8f21-a7a2ba4c2075",
   "metadata": {},
   "outputs": [],
   "source": [
    "def custom_distance(vector1, vector2, weights):\n",
    "    result = 0\n",
    "    if weights[0] != 0:\n",
    "        px_diff = np.abs(vector1[0] - vector2[0])\n",
    "        result += (px_diff * weights[0])**2\n",
    "    if weights[1] != 0:\n",
    "        py_diff = np.abs(vector1[1] - vector2[1])\n",
    "        result += (py_diff * weights[1])**2\n",
    "    if weights[2] != 0:\n",
    "        pr_diff = np.abs(vector1[2] - vector2[2])\n",
    "        pr_diff = np.minimum(pr_diff, 2 * np.pi - pr_diff)\n",
    "        result += (pr_diff * weights[2])**2\n",
    "    return np.sqrt(result)"
   ]
  },
  {
   "cell_type": "code",
   "execution_count": 38,
   "id": "4cb8df24-4356-42e2-8da9-e8d22cf01a80",
   "metadata": {},
   "outputs": [],
   "source": [
    "weights = np.array([1,0.1,0.1])"
   ]
  },
  {
   "cell_type": "code",
   "execution_count": 39,
   "id": "cd951413-28df-462f-accb-0d11ec0ea5ea",
   "metadata": {},
   "outputs": [],
   "source": [
    "custom_distance_with_param = partial(custom_distance, weights=weights)"
   ]
  },
  {
   "cell_type": "code",
   "execution_count": 40,
   "id": "38c63b16-fd37-41ff-b129-03f4b7552a68",
   "metadata": {},
   "outputs": [],
   "source": [
    "import perdiver.perdiver as perdiver\n",
    "\n",
    "def dismat_from_steps(trajectories, steps):\n",
    "    num_agents = trajectories.shape[1]\n",
    "    dismat = np.zeros((num_agents, num_agents))\n",
    "    for a in range(num_agents):\n",
    "        for b in range(a):\n",
    "            _, tsim = metrics.dtw_path_from_metric(trajectories[steps,a,:], trajectories[steps,b,:], metric=custom_distance_with_param)\n",
    "            dismat[a,b] = tsim\n",
    "            dismat[b,a] = tsim\n",
    "        # end for \n",
    "    # end for\n",
    "    return dismat\n",
    "# end def \n",
    "\n",
    "def compute_dismat_list(trajectories, args, num_run):\n",
    "    # Set up arguments\n",
    "    sim_steps = args.num_steps\n",
    "    iterations = sim_steps - (args.embedding_length - 1) * args.time_delay\n",
    "    # Iteration computing distance matrices\n",
    "    dismat_list = []\n",
    "    for i in range(iterations):\n",
    "        progress = (i + 1) / iterations * 100\n",
    "        print(f\"Progress: {progress:.2f}% complete\", end='\\r')\n",
    "        print(f\"\\rRun {num_run + 1}/{args.num_runs}: Progress: {progress:.2f}%\", end=\"\\r\")\n",
    "        steps = [i+args.time_delay*j for j in range(args.embedding_length)]\n",
    "        dismat_list.append(dismat_from_steps(trajectories, steps))\n",
    "    # end for iterations\n",
    "    return dismat_list\n",
    "# def compute_distmat_list\n",
    "\n",
    "def pers_from_dismat(dismat, max_edge_length):\n",
    "    rips_complex = gudhi.RipsComplex(distance_matrix=dismat, max_edge_length=max_edge_length,sparse=None)\n",
    "    simplex_tree = rips_complex.create_simplex_tree(max_dimension=0)\n",
    "    simplex_tree.compute_persistence()\n",
    "    pers = simplex_tree.persistence_intervals_in_dimension(0)\n",
    "    pers[np.isinf(pers[:, 1]), 1] = max_edge_length\n",
    "    return pers\n",
    "# end def\n",
    "\n",
    "def compute_bottleneck(trajectories, dismat_list, args):\n",
    "    bottle = []\n",
    "    sim_steps = trajectories.shape[0] #It could be less than args.num_steps if it gets stuck\n",
    "    iterations = sim_steps - (args.embedding_length - 1) * args.time_delay\n",
    "    pers_list = []\n",
    "    for i in range(iterations):\n",
    "        pers_list.append(pers_from_dismat(dismat_list[i], args.max_edge_length))\n",
    "    # end for\n",
    "    print()\n",
    "    print(f\"compute_bottleneck:{iterations}\")\n",
    "    for i in range(args.epsilon,iterations):\n",
    "        # bottle.append(gudhi.bottleneck_distance(pers_list[i-epsilon], pers_list[i]))\n",
    "        bottle.append(wasserstein_distance(pers_list[i-args.epsilon], pers_list[i], internal_p=1))\n",
    "    # end for\n",
    "    return bottle\n",
    "\n",
    "def compute_matching_bottleneck_signal(distmat_list, args):\n",
    "    # Set up arguments\n",
    "    sim_steps = args.num_steps\n",
    "    iterations = sim_steps - (args.embedding_length - 1) * args.time_delay\n",
    "    # Iteration computing matching diagrams\n",
    "    matching_signal = []\n",
    "    print(f\"compute_matching:{iterations}\")\n",
    "    for i in range(args.epsilon,iterations):  \n",
    "        matching_diagram = perdiver.get_matching_diagram(dismat_list[i-args.epsilon], dismat_list[i])\n",
    "        matching_signal.append(mean_abs_diff_matching(matching_diagram))\n",
    "    # end for\n",
    "    return matching_signal\n",
    "\n",
    "def mean_abs_diff_matching(matching_diagram):\n",
    "    return np.sum(np.abs(matching_diagram[:,0]- matching_diagram[:,1]))"
   ]
  },
  {
   "cell_type": "code",
   "execution_count": 41,
   "id": "e15dbf8b-3068-41dd-83a6-1f64bd407d7f",
   "metadata": {},
   "outputs": [
    {
     "name": "stdout",
     "output_type": "stream",
     "text": [
      "Run 1/1: Progress: 100.00%\n",
      "compute_bottleneck:80\n",
      "compute_matching:80\n"
     ]
    }
   ],
   "source": [
    "# Compute distance matrix list\n",
    "trajectories = runs[0].poses.copy()\n",
    "trajectories[:,:,2] = normangle(trajectories[:,:,2]) \n",
    "dismat_list = compute_dismat_list(trajectories, args, 0)\n",
    "# Compute bottleneck distances\n",
    "wasserstein_distances = compute_bottleneck(trajectories, dismat_list, args)\n",
    "# Compute matching bottleneck distances\n",
    "matching_distance = compute_matching_bottleneck_signal(dismat_list, args)"
   ]
  },
  {
   "cell_type": "code",
   "execution_count": 42,
   "id": "3209b452-a3e2-4693-bf59-1fb32c471e4f",
   "metadata": {},
   "outputs": [
    {
     "data": {
      "image/png": "[encoded data removed]",
      "text/plain": [
       "<Figure size 1000x400 with 1 Axes>"
      ]
     },
     "metadata": {},
     "output_type": "display_data"
    }
   ],
   "source": [
    "fig, ax = plt.subplots(figsize=(10,4))\n",
    "indices = np.array(range(len(wasserstein_distances)))*args.time_delay\n",
    "ax.plot(indices, wasserstein_distances, color=\"red\", label=\"Wasserstein distance\", linewidth=5)\n",
    "indices = np.array(range(len(matching_distance)))*args.time_delay\n",
    "ax.plot(indices, matching_distance, color=\"black\", label=\"Matching distance\", linewidth=3, linestyle=\"--\")\n",
    "plt.legend()\n",
    "plt.savefig(\"plots/wasserstein-matching-three-robots.png\")"
   ]
  },
  {
   "cell_type": "code",
   "execution_count": null,
   "id": "4cc89782-b0af-428a-a69a-14e001c4222b",
   "metadata": {},
   "outputs": [],
   "source": []
  }
 ],
 "metadata": {
  "kernelspec": {
   "display_name": "Python 3 (ipykernel)",
   "language": "python",
   "name": "python3"
  },
  "language_info": {
   "codemirror_mode": {
    "name": "ipython",
    "version": 3
   },
   "file_extension": ".py",
   "mimetype": "text/x-python",
   "name": "python",
   "nbconvert_exporter": "python",
   "pygments_lexer": "ipython3",
   "version": "3.10.12"
  }
 },
 "nbformat": 4,
 "nbformat_minor": 5
}
