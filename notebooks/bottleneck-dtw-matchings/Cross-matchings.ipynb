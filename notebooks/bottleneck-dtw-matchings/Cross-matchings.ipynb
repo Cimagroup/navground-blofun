{
 "cells": [
  {
   "cell_type": "markdown",
   "id": "614c69dc-0261-4746-a223-f00dae9a8c57",
   "metadata": {},
   "source": [
    "# Sequence of Persistence Descriptors from a set of trajectories"
   ]
  },
  {
   "cell_type": "markdown",
   "id": "6e39e5df-c11e-4e93-93c1-c32599cc7d96",
   "metadata": {},
   "source": [
    "## 1. Importing modules and setting parameters"
   ]
  },
  {
   "cell_type": "code",
   "execution_count": null,
   "id": "d80dd635-0a58-4184-840d-0f45f2b26eac",
   "metadata": {},
   "outputs": [],
   "source": [
    "import argparse\n",
    "import numpy as np\n",
    "import matplotlib.pyplot as plt\n",
    "import matplotlib.patches as patches\n",
    "import matplotlib.animation as animation\n",
    "import scipy.spatial.distance as dist\n",
    "from navground import sim, core\n",
    "from tslearn.generators import random_walks\n",
    "from tslearn import metrics\n",
    "import seaborn as sns\n",
    "import gudhi\n",
    "from navground.sim.ui.video import display_video_from_run, record_video_from_run\n",
    "from functools import partial\n",
    "from IPython.display import Image\n",
    "\n",
    "# Create folder to save bottleneck distances between matching diagrams\n",
    "import os\n",
    "os.makedirs(\"Cross_matrices\", exist_ok=True)\n",
    "os.makedirs(\"plots\", exist_ok=True)"
   ]
  },
  {
   "cell_type": "code",
   "execution_count": null,
   "id": "0082b8f1-699e-4f79-aa72-ae5249820bb1",
   "metadata": {},
   "outputs": [],
   "source": [
    "parser = argparse.ArgumentParser(description='Simulation Parameters')\n",
    "parser.add_argument('--side', type=float, default=10.0, help='Side of the environment square')\n",
    "parser.add_argument('--num_runs', type=int, default=1, help='Number of simulation runs')\n",
    "parser.add_argument('--num_steps', type=int, default=100, help='Number of steps in the simulation')\n",
    "parser.add_argument('--time_step', type=float, default=0.1, help='Time step for the simulation')\n",
    "parser.add_argument('--num_agents', type=int, default=10, help='Number of agents in the simulation')\n",
    "parser.add_argument('--max_speed', type=float, default=1.0, help='Maximum speed of agents')\n",
    "parser.add_argument('--optimal_speed', type=float, default=1.0, help='Maximum speed of agents')\n",
    "parser.add_argument('--radius', type=float, default=0.25, help='Radius of agents')\n",
    "parser.add_argument('--safety_margin', type=float, default=0.1, help='Safety margin for agents')\n",
    "parser.add_argument('--behavior', type=str, default='HL', help='Behavior type')\n",
    "parser.add_argument('--max_edge_length', type=float, default=100.0, help='Maximum edge length in the simplicial complex')\n",
    "parser.add_argument('--time_delay', type=int, default=1, help='Time delay to analise simulation intervals')\n",
    "parser.add_argument('--embedding_length', type=int, default=10, help='Length of the simulation intervals')"
   ]
  },
  {
   "cell_type": "code",
   "execution_count": null,
   "id": "670d4a80-db89-4557-a8fb-c6373ad22e82",
   "metadata": {},
   "outputs": [],
   "source": [
    "args = parser.parse_args([\n",
    "        '--side', '10.0',\n",
    "        '--num_runs', '3',\n",
    "        '--num_steps', '600',\n",
    "        '--time_step', '0.1',\n",
    "        '--num_agents', '10',\n",
    "        '--max_speed', '1.66',\n",
    "        '--optimal_speed', '1.2',\n",
    "        '--radius', '0.4',\n",
    "        '--safety_margin', '0.1',\n",
    "        '--behavior', 'HL',\n",
    "        '--max_edge_length', '33.0',\n",
    "        '--time_delay', '5',\n",
    "        '--embedding_length', '11'\n",
    "    ])"
   ]
  },
  {
   "cell_type": "markdown",
   "id": "93ac10be-725a-4cda-933a-ee439cbb6bfd",
   "metadata": {},
   "source": [
    "## Prepare custom distance\n",
    "\n",
    "Normalize angle with respect to other variables."
   ]
  },
  {
   "cell_type": "code",
   "execution_count": null,
   "id": "21a20f9f-a2dd-4a82-a065-62453bb2086e",
   "metadata": {},
   "outputs": [],
   "source": [
    "def normangle(angle):\n",
    "    result = np.mod(angle, 2 * np.pi)\n",
    "    result[result > np.pi] -= 2 * np.pi\n",
    "    return result"
   ]
  },
  {
   "cell_type": "markdown",
   "id": "8bf75a16-f174-4276-a1ee-897196566880",
   "metadata": {},
   "source": [
    "Create custom distance to compare positions."
   ]
  },
  {
   "cell_type": "code",
   "execution_count": null,
   "id": "270051f1-cc6c-4105-8ea5-2b6fd89a1c27",
   "metadata": {},
   "outputs": [],
   "source": [
    "def custom_distance(vector1, vector2, weights):\n",
    "    result = 0\n",
    "    if weights[0] != 0:\n",
    "        px_diff = np.abs(vector1[0] - vector2[0])\n",
    "        result += px_diff * weights[0]\n",
    "    if weights[1] != 0:\n",
    "        py_diff = np.abs(vector1[1] - vector2[1])\n",
    "        result += py_diff * weights[1]\n",
    "    if weights[2] != 0:\n",
    "        pr_diff = np.abs(vector1[2] - vector2[2])\n",
    "        pr_diff = np.minimum(pr_diff, 2 * np.pi - pr_diff)\n",
    "        result += pr_diff * weights[2]\n",
    "    return result"
   ]
  },
  {
   "cell_type": "code",
   "execution_count": null,
   "id": "0f8658d7-fe19-40eb-b190-dcb9a30ba5a4",
   "metadata": {},
   "outputs": [],
   "source": [
    "weights = np.array([1/args.side,1/args.side,1/np.pi])"
   ]
  },
  {
   "cell_type": "code",
   "execution_count": null,
   "id": "8e583e43-248f-4b99-9487-d04c6b8b0a0d",
   "metadata": {},
   "outputs": [],
   "source": [
    "custom_distance_with_param = partial(custom_distance, weights=weights)"
   ]
  },
  {
   "cell_type": "markdown",
   "id": "8d54d563-d2ad-4dcd-9502-a9f215758416",
   "metadata": {},
   "source": [
    "### Prepare bottleneck and partial matchings computations"
   ]
  },
  {
   "cell_type": "code",
   "execution_count": null,
   "id": "ca8e60b5-6c0f-4d42-a92a-13e603c47d11",
   "metadata": {},
   "outputs": [],
   "source": [
    "import perdiver.perdiver as perdiver"
   ]
  },
  {
   "cell_type": "markdown",
   "id": "75804836-a1db-49bf-a7f1-d71deb5f893c",
   "metadata": {},
   "source": [
    "Dynamic time warping distance matrices computation"
   ]
  },
  {
   "cell_type": "code",
   "execution_count": null,
   "id": "15a8d7ee-1a89-41cf-89f5-672df4b68167",
   "metadata": {},
   "outputs": [],
   "source": [
    "def dismat_from_steps(trajectories, steps):\n",
    "    num_agents = trajectories.shape[1]\n",
    "    dismat = np.zeros((num_agents, num_agents))\n",
    "    for a in range(num_agents):\n",
    "        for b in range(a+1):\n",
    "            _, tsim = metrics.dtw_path_from_metric(trajectories[steps,a,:], trajectories[steps,b,:], metric=custom_distance_with_param)\n",
    "            dismat[a,b] = tsim\n",
    "        # end for \n",
    "    # end for\n",
    "    return dismat\n",
    "# end def "
   ]
  },
  {
   "cell_type": "markdown",
   "id": "0339158d-126e-4da3-bbfe-27446983c327",
   "metadata": {},
   "source": [
    "Computation of distance matrix list"
   ]
  },
  {
   "cell_type": "code",
   "execution_count": null,
   "id": "4e19dc0b-49af-4177-8448-64544c5c71af",
   "metadata": {},
   "outputs": [],
   "source": [
    "def compute_dismat_list(trajectories, args, num_run):\n",
    "    # Set up arguments\n",
    "    sim_steps = args.num_steps\n",
    "    iterations = sim_steps - (args.embedding_length - 1) * args.time_delay\n",
    "    # Iteration computing distance matrices\n",
    "    dismat_list = []\n",
    "    for i in range(iterations):\n",
    "        progress = (i + 1) / iterations * 100\n",
    "        print(f\"Progress: {progress:.2f}% complete\", end='\\r')\n",
    "        print(f\"\\rRun {num_run + 1}/{args.num_runs}: Progress: {progress:.2f}%\", end=\"\\r\")\n",
    "        steps = [i+args.time_delay*j for j in range(args.embedding_length)]\n",
    "        dismat_list.append(dismat_from_steps(trajectories, steps))\n",
    "    # end for iterations\n",
    "    return dismat_list\n",
    "# def compute_distmat_list"
   ]
  },
  {
   "cell_type": "markdown",
   "id": "0f0f3749-0495-4508-8910-fc57622ed594",
   "metadata": {},
   "source": [
    "Computation of persistence from distance matrix"
   ]
  },
  {
   "cell_type": "code",
   "execution_count": null,
   "id": "62ea0f51-fd54-4f38-a53a-63ea24febee4",
   "metadata": {},
   "outputs": [],
   "source": [
    "def pers_from_dismat(dismat, max_edge_length):\n",
    "    rips_complex = gudhi.RipsComplex(distance_matrix=dismat, max_edge_length=max_edge_length,sparse=None)\n",
    "    simplex_tree = rips_complex.create_simplex_tree(max_dimension=0)\n",
    "    simplex_tree.compute_persistence()\n",
    "    pers = simplex_tree.persistence_intervals_in_dimension(0)\n",
    "    pers[np.isinf(pers[:, 1]), 1] = max_edge_length\n",
    "    return pers\n",
    "# end def"
   ]
  },
  {
   "cell_type": "markdown",
   "id": "518a88a5-ec00-4919-bf61-b9152f1fc3cd",
   "metadata": {},
   "source": [
    "Computation of bottleneck distances"
   ]
  },
  {
   "cell_type": "code",
   "execution_count": null,
   "id": "bf4f3598-bdce-43ab-93aa-21dece86b9a8",
   "metadata": {},
   "outputs": [],
   "source": [
    "def compute_bottleneck(trajectories, dismat_list, args):\n",
    "    bottle = []\n",
    "    sim_steps = trajectories.shape[0] #It could be less than args.num_steps if it gets stuck\n",
    "    iterations = sim_steps - (args.embedding_length - 1) * args.time_delay\n",
    "    pers_list = []\n",
    "    for i in range(iterations):\n",
    "        pers_list.append(pers_from_dismat(dismat_list[i], args.max_edge_length))\n",
    "    # end for\n",
    "    for i in range(1,iterations):\n",
    "        bottle.append(gudhi.bottleneck_distance(pers_list[i-1], pers_list[i]))\n",
    "    # end for\n",
    "    bottle = np.array(bottle)\n",
    "    bottle = np.pad(bottle,pad_width=(0,args.num_steps - sim_steps)) #Fill with 0s if needed\n",
    "    return bottle"
   ]
  },
  {
   "cell_type": "markdown",
   "id": "24d7b034-c549-46c5-ac55-9dcd5158691e",
   "metadata": {},
   "source": [
    "Computation of matching bottleneck signal"
   ]
  },
  {
   "cell_type": "code",
   "execution_count": null,
   "id": "edb8ccce-8599-4fc5-a9bb-27bfd19c59e9",
   "metadata": {},
   "outputs": [],
   "source": [
    "def compute_matching_bottleneck_signal(distmat_list, args):\n",
    "    # Set up arguments\n",
    "    sim_steps = args.num_steps\n",
    "    iterations = sim_steps - (args.embedding_length - 1) * args.time_delay\n",
    "    # Iteration computing matching diagrams\n",
    "    matching_list = []\n",
    "    for i in range(1,iterations):  \n",
    "        match_diagram = perdiver.get_matching_diagram(dismat_list[i-1], dismat_list[i])\n",
    "        matching_list.append(match_diagram)  \n",
    "    # end for\n",
    "    # Iteration computing bottleneck distances\n",
    "    matching_bottleneck_signal = []\n",
    "    for i, diag_2 in enumerate(matching_list[1:]):\n",
    "        diag_1 = matching_list[i]\n",
    "        matching_bottleneck_signal.append(perdiver.bottleneck_matching_diagrams(diag_1, diag_2))\n",
    "    # end for \n",
    "    return matching_bottleneck_signal"
   ]
  },
  {
   "cell_type": "markdown",
   "id": "4c6b31f6-cdf5-4775-b278-c3a1bbfec1fc",
   "metadata": {},
   "source": [
    "List of behaviors:\n",
    "* HL\n",
    "* ORCA\n",
    "* SocialForce"
   ]
  },
  {
   "cell_type": "markdown",
   "id": "d93f4784-8a91-4264-b294-46b4b606503d",
   "metadata": {},
   "source": [
    "## 2. HL behavior"
   ]
  },
  {
   "cell_type": "markdown",
   "id": "2a1a1ca4-bbef-420c-8c16-49fa9108ec44",
   "metadata": {},
   "source": [
    "### Running the experiment"
   ]
  },
  {
   "cell_type": "code",
   "execution_count": null,
   "id": "c77c8377-27d4-48d2-83fb-6d4de30e25ab",
   "metadata": {},
   "outputs": [],
   "source": [
    "yaml = f\"\"\"\n",
    "runs: {args.num_runs}\n",
    "steps: {args.num_steps}\n",
    "time_step: {args.time_step}\n",
    "save_directory: ''\n",
    "record_pose: true\n",
    "record_twist: true\n",
    "record_collisions: true\n",
    "record_deadlocks: true\n",
    "scenario:\n",
    "  type: Cross\n",
    "  side: {args.side}\n",
    "  groups:\n",
    "    -\n",
    "      type: thymio\n",
    "      number: {args.num_agents}\n",
    "      radius: {args.radius}\n",
    "      control_period: 0.1\n",
    "      speed_tolerance: 0.02\n",
    "      kinematics:\n",
    "        type: 2WDiff\n",
    "        wheel_axis: 0.094\n",
    "        max_speed: {args.max_speed}\n",
    "      behavior:\n",
    "        type: {args.behavior}\n",
    "        optimal_speed: {args.optimal_speed}\n",
    "        horizon: 5.0\n",
    "        safety_margin: {args.safety_margin}\n",
    "      state_estimation:\n",
    "        type: Bounded\n",
    "        range: 5.0\n",
    "\"\"\"\n",
    "experiment = sim.load_experiment(yaml)\n",
    "experiment.run()\n",
    "runs = experiment.runs"
   ]
  },
  {
   "cell_type": "code",
   "execution_count": null,
   "id": "33817bd1-ed9e-429a-887a-2768ecf8554e",
   "metadata": {},
   "outputs": [],
   "source": [
    "display_video_from_run(run=runs[0], factor=3.0, fps=30)"
   ]
  },
  {
   "cell_type": "markdown",
   "id": "d28b502a-bccf-4d9f-b2a3-91f912a5b91a",
   "metadata": {},
   "source": [
    "### Computing the matching signals for each run"
   ]
  },
  {
   "cell_type": "code",
   "execution_count": null,
   "id": "d6ca4b88-a4ed-49bb-8f59-746d328b7c7d",
   "metadata": {},
   "outputs": [],
   "source": [
    "bottle_all = []\n",
    "bottle_matching_all = []\n",
    "for r in range(args.num_runs):\n",
    "    # Compute distance matrix list\n",
    "    trajectories = runs[r].poses.copy()\n",
    "    trajectories[:,:,2] = normangle(trajectories[:,:,2]) \n",
    "    dismat_list = compute_dismat_list(trajectories, args, r)\n",
    "    # Compute bottleneck distances\n",
    "    bottle_all.append(compute_bottleneck(trajectories, dismat_list, args))\n",
    "    # Compute matching bottleneck distances\n",
    "    bottle_matching_all.append(compute_matching_bottleneck_signal(dismat_list, args))\n",
    "# end for\n",
    "# Turn into numpy arrays\n",
    "bottle_HL = np.vstack(bottle_all)\n",
    "bottle_matching_HL = np.vstack(bottle_matching_all)\n",
    "# Save into file\n",
    "np.save('Cross_matrices/bottle_HL.npy', bottle_HL)\n",
    "np.save('Cross_matrices/matching_bottleneck_HL.npy', bottle_matching_HL)\n",
    "# Get quartiles\n",
    "quartile_bottle_HL = np.percentile(bottle_HL, [25, 50, 75], axis=0)\n",
    "quartile_matching_HL = np.percentile(bottle_matching_HL, [25, 50, 75], axis=0)"
   ]
  },
  {
   "cell_type": "markdown",
   "id": "25efc203-2691-4aa3-b538-57d3432ff6f8",
   "metadata": {},
   "source": [
    "Plot results for both bottleneck and matching bottleneck for comparison"
   ]
  },
  {
   "cell_type": "code",
   "execution_count": null,
   "id": "48be94b8-5404-459a-b855-295171ef87e6",
   "metadata": {},
   "outputs": [],
   "source": [
    "fig, ax = plt.subplots(ncols=2, figsize=(11,5))\n",
    "cmap = plt.cm.get_cmap('tab10', 3)\n",
    "for j, quartile_list in enumerate([quartile_bottle_HL, quartile_matching_HL]):\n",
    "    indices = np.arange(quartile_list.shape[1])\n",
    "    for i in range(3):\n",
    "        ax[j].plot(indices, quartile_list[i], color=cmap(i))\n",
    "    # for\n",
    "# for\n",
    "plt.legend()\n",
    "ax[0].set_title(\"Bottleneck distance\")\n",
    "ax[1].set_title(\"Matching bottleneck distance\")\n",
    "plt.savefig(\"plots/cross_HL.png\")"
   ]
  },
  {
   "cell_type": "markdown",
   "id": "349fc7e1-c7a8-4959-ba34-58fea20a9665",
   "metadata": {},
   "source": [
    "## 3. ORCA behavior"
   ]
  },
  {
   "cell_type": "code",
   "execution_count": null,
   "id": "857fff15-eaae-40fc-99b4-9afa09b5b5a7",
   "metadata": {},
   "outputs": [],
   "source": [
    "args.behavior = 'ORCA'"
   ]
  },
  {
   "cell_type": "markdown",
   "id": "329d0333-ea2c-4ba2-92a6-fc9d4a62914f",
   "metadata": {},
   "source": [
    "### Running the experiment"
   ]
  },
  {
   "cell_type": "code",
   "execution_count": null,
   "id": "31bb508f-0cad-42ad-a7af-0951903188fd",
   "metadata": {},
   "outputs": [],
   "source": [
    "yaml = f\"\"\"\n",
    "runs: {args.num_runs}\n",
    "steps: {args.num_steps}\n",
    "time_step: {args.time_step}\n",
    "save_directory: ''\n",
    "record_pose: true\n",
    "record_twist: true\n",
    "record_collisions: true\n",
    "record_deadlocks: true\n",
    "scenario:\n",
    "  type: Cross\n",
    "  side: {args.side}\n",
    "  groups:\n",
    "    -\n",
    "      type: thymio\n",
    "      number: {args.num_agents}\n",
    "      radius: {args.radius}\n",
    "      control_period: 0.1\n",
    "      speed_tolerance: 0.02\n",
    "      kinematics:\n",
    "        type: 2WDiff\n",
    "        wheel_axis: 0.094\n",
    "        max_speed: {args.max_speed}\n",
    "      behavior:\n",
    "        type: {args.behavior}\n",
    "        optimal_speed: {args.optimal_speed}\n",
    "        horizon: 5.0\n",
    "        safety_margin: {args.safety_margin}\n",
    "      state_estimation:\n",
    "        type: Bounded\n",
    "        range: 5.0\n",
    "\"\"\"\n",
    "experiment = sim.load_experiment(yaml)\n",
    "experiment.run()\n",
    "runs = experiment.runs"
   ]
  },
  {
   "cell_type": "code",
   "execution_count": null,
   "id": "c6f21e72-213d-457a-99dd-c3cdec4968fb",
   "metadata": {},
   "outputs": [],
   "source": [
    "display_video_from_run(run=runs[0], factor=3.0, fps=30)"
   ]
  },
  {
   "cell_type": "markdown",
   "id": "a20677e1-f589-4b48-b785-49d6ed05b7f9",
   "metadata": {},
   "source": [
    "### Computing the matching signals for each run"
   ]
  },
  {
   "cell_type": "code",
   "execution_count": null,
   "id": "963f1443-eaf0-4b0a-ae96-32280d9389b6",
   "metadata": {},
   "outputs": [],
   "source": [
    "bottle_all = []\n",
    "bottle_matching_all = []\n",
    "for r in range(args.num_runs):\n",
    "    # Compute distance matrix list\n",
    "    trajectories = runs[r].poses.copy()\n",
    "    trajectories[:,:,2] = normangle(trajectories[:,:,2]) \n",
    "    dismat_list = compute_dismat_list(trajectories, args, r)\n",
    "    # Compute bottleneck distances\n",
    "    bottle_all.append(compute_bottleneck(trajectories, dismat_list, args))\n",
    "    # Compute matching bottleneck distances\n",
    "    bottle_matching_all.append(compute_matching_bottleneck_signal(dismat_list, args))\n",
    "# end for\n",
    "# Turn into numpy arrays\n",
    "bottle_ORCA = np.vstack(bottle_all)\n",
    "bottle_matching_ORCA = np.vstack(bottle_matching_all)\n",
    "# Save into file\n",
    "np.save('Cross_matrices/bottle_ORCA.npy', bottle_ORCA)\n",
    "np.save('Cross_matrices/matching_bottleneck_ORCA.npy', bottle_matching_ORCA)\n",
    "# Get quartiles\n",
    "quartile_bottle_ORCA = np.percentile(bottle_ORCA, [25, 50, 75], axis=0)\n",
    "quartile_matching_ORCA = np.percentile(bottle_matching_ORCA, [25, 50, 75], axis=0)"
   ]
  },
  {
   "cell_type": "markdown",
   "id": "ac1bb4eb-7c65-42ac-a2a3-876c031dc134",
   "metadata": {},
   "source": [
    "Plot results for both bottleneck and matching bottleneck for comparison"
   ]
  },
  {
   "cell_type": "code",
   "execution_count": null,
   "id": "2c91a037-e249-458f-a83d-1d09f98d2289",
   "metadata": {},
   "outputs": [],
   "source": [
    "fig, ax = plt.subplots(ncols=2, figsize=(11,5))\n",
    "cmap = plt.cm.get_cmap('tab10', 3)\n",
    "for j, quartile_list in enumerate([quartile_bottle_ORCA, quartile_matching_ORCA]):\n",
    "    indices = np.arange(quartile_list.shape[1])\n",
    "    for i in range(3):\n",
    "        ax[j].plot(indices, quartile_list[i], color=cmap(i))\n",
    "    # for\n",
    "# for\n",
    "plt.legend()\n",
    "ax[0].set_title(\"Bottleneck distance\")\n",
    "ax[1].set_title(\"Matching bottleneck distance\")\n",
    "plt.savefig(\"plots/cross_ORCA.png\")"
   ]
  },
  {
   "cell_type": "markdown",
   "id": "7c4b56f9-a240-4b0f-9ae3-54e06c498d2d",
   "metadata": {},
   "source": [
    "## 4. SocialForce behavior"
   ]
  },
  {
   "cell_type": "code",
   "execution_count": null,
   "id": "58affd41-ea6b-4b65-8c87-2093e465492d",
   "metadata": {},
   "outputs": [],
   "source": [
    "args.behavior = 'SocialForce'"
   ]
  },
  {
   "cell_type": "markdown",
   "id": "c4b3cb67-d643-4953-ab16-fe334d8edd0e",
   "metadata": {},
   "source": [
    "### Running the experiment"
   ]
  },
  {
   "cell_type": "code",
   "execution_count": null,
   "id": "c480600f-1c91-423f-a432-8ed935eab8ce",
   "metadata": {},
   "outputs": [],
   "source": [
    "yaml = f\"\"\"\n",
    "runs: {args.num_runs}\n",
    "steps: {args.num_steps}\n",
    "time_step: {args.time_step}\n",
    "save_directory: ''\n",
    "record_pose: true\n",
    "record_twist: true\n",
    "record_collisions: true\n",
    "record_deadlocks: true\n",
    "scenario:\n",
    "  type: Cross\n",
    "  side: {args.side}\n",
    "  groups:\n",
    "    -\n",
    "      type: thymio\n",
    "      number: {args.num_agents}\n",
    "      radius: {args.radius}\n",
    "      control_period: 0.1\n",
    "      speed_tolerance: 0.02\n",
    "      kinematics:\n",
    "        type: 2WDiff\n",
    "        wheel_axis: 0.094\n",
    "        max_speed: {args.max_speed}\n",
    "      behavior:\n",
    "        type: {args.behavior}\n",
    "        optimal_speed: {args.optimal_speed}\n",
    "        horizon: 5.0\n",
    "        safety_margin: {args.safety_margin}\n",
    "      state_estimation:\n",
    "        type: Bounded\n",
    "        range: 5.0\n",
    "\"\"\"\n",
    "experiment = sim.load_experiment(yaml)\n",
    "experiment.run()\n",
    "runs = experiment.runs"
   ]
  },
  {
   "cell_type": "code",
   "execution_count": null,
   "id": "1ecc8836-c581-4e69-bd75-b02259154ad0",
   "metadata": {},
   "outputs": [],
   "source": [
    "display_video_from_run(run=runs[0], factor=3.0, fps=30)"
   ]
  },
  {
   "cell_type": "markdown",
   "id": "f9883e33-ef0c-417c-8d07-15a0d199fa84",
   "metadata": {},
   "source": [
    "### Computing the matching and bottleneck signals for each run"
   ]
  },
  {
   "cell_type": "code",
   "execution_count": null,
   "id": "68b38a43-ed4d-4841-8839-b4c76ca4188c",
   "metadata": {},
   "outputs": [],
   "source": [
    "bottle_all = []\n",
    "bottle_matching_all = []\n",
    "for r in range(args.num_runs):\n",
    "    # Compute distance matrix list\n",
    "    trajectories = runs[r].poses.copy()\n",
    "    trajectories[:,:,2] = normangle(trajectories[:,:,2]) \n",
    "    dismat_list = compute_dismat_list(trajectories, args, r)\n",
    "    # Compute bottleneck distances\n",
    "    bottle_all.append(compute_bottleneck(trajectories, dismat_list, args))\n",
    "    # Compute matching bottleneck distances\n",
    "    bottle_matching_all.append(compute_matching_bottleneck_signal(dismat_list, args))\n",
    "# end for\n",
    "# Turn into numpy arrays\n",
    "bottle_SF = np.vstack(bottle_all)\n",
    "bottle_matching_SF = np.vstack(bottle_matching_all)\n",
    "# Save into file\n",
    "np.save('Cross_matrices/bottle_SF.npy', bottle_SF)\n",
    "np.save('Cross_matrices/matching_bottleneck_SF.npy', bottle_matching_SF)\n",
    "# Get quartiles\n",
    "quartile_bottle_SF = np.percentile(bottle_SF, [25, 50, 75], axis=0)\n",
    "quartile_matching_SF = np.percentile(bottle_matching_SF, [25, 50, 75], axis=0)"
   ]
  },
  {
   "cell_type": "markdown",
   "id": "dbf4858d-4967-4099-b66c-c8837a78c484",
   "metadata": {},
   "source": [
    "Plot results for both bottleneck and matching bottleneck for comparison"
   ]
  },
  {
   "cell_type": "code",
   "execution_count": null,
   "id": "b8e03745-3d7a-4009-adde-3c8e2f59e99c",
   "metadata": {},
   "outputs": [],
   "source": [
    "fig, ax = plt.subplots(ncols=2, figsize=(11,5))\n",
    "cmap = plt.cm.get_cmap('tab10', 3)\n",
    "for j, quartile_list in enumerate([quartile_bottle_SF, quartile_matching_SF]):\n",
    "    indices = np.arange(quartile_list.shape[1])\n",
    "    for i in range(3):\n",
    "        ax[j].plot(indices, quartile_list[i], color=cmap(i))\n",
    "    # for\n",
    "# for\n",
    "plt.legend()\n",
    "ax[0].set_title(\"Bottleneck distance\")\n",
    "ax[1].set_title(\"Matching bottleneck distance\")\n",
    "plt.savefig(\"plots/cross_SF.png\")"
   ]
  },
  {
   "cell_type": "markdown",
   "id": "c7f2dbc3-c880-44e3-a95b-f7268030b61c",
   "metadata": {},
   "source": [
    "## 5. Behaviors comparison"
   ]
  },
  {
   "cell_type": "code",
   "execution_count": null,
   "id": "c0728853-6c18-476d-b8f3-8bbc76c3577b",
   "metadata": {},
   "outputs": [],
   "source": [
    "fig, ax = plt.subplots(ncols=2, figsize=(11,5))\n",
    "# Bottleneck distance\n",
    "indices = np.arange(quartile_bottle_HL.shape[1])\n",
    "ax[0].plot(indices, quartile_bottle_HL[1], color='blue', label='HL')\n",
    "ax[0].plot(indices, quartile_bottle_ORCA[1], color='red', label='ORCA')\n",
    "ax[0].plot(indices, quartile_bottle_SF[1], color='green', label='SF')\n",
    "# Bottleneck distance\n",
    "indices = np.arange(quartile_matching_HL.shape[1])\n",
    "ax[1].plot(indices, quartile_matching_HL[1], color='blue', label='HL')\n",
    "ax[1].plot(indices, quartile_matching_ORCA[1], color='red', label='ORCA')\n",
    "ax[1].plot(indices, quartile_matching_SF[1], color='green', label='SF')\n",
    "plt.legend()\n",
    "ax[0].set_title(\"Bottleneck distance\")\n",
    "ax[1].set_title(\"Matching bottleneck distance\")\n",
    "plt.savefig(\"plots/cross_comparison.png\")"
   ]
  },
  {
   "cell_type": "code",
   "execution_count": null,
   "id": "95450264-416a-4e41-8479-72e21ca3542c",
   "metadata": {},
   "outputs": [],
   "source": []
  }
 ],
 "metadata": {
  "kernelspec": {
   "display_name": "Python 3 (ipykernel)",
   "language": "python",
   "name": "python3"
  },
  "language_info": {
   "codemirror_mode": {
    "name": "ipython",
    "version": 3
   },
   "file_extension": ".py",
   "mimetype": "text/x-python",
   "name": "python",
   "nbconvert_exporter": "python",
   "pygments_lexer": "ipython3",
   "version": "3.10.12"
  }
 },
 "nbformat": 4,
 "nbformat_minor": 5
}
