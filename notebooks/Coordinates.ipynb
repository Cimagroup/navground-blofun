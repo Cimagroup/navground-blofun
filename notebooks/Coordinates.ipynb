{
 "cells": [
  {
   "cell_type": "code",
   "execution_count": 1,
   "id": "0035ba3d-b91d-46e9-9a11-03a261c92987",
   "metadata": {},
   "outputs": [],
   "source": [
    "import numpy as np\n",
    "import matplotlib.pyplot as plt\n",
    "import scipy.spatial.distance as dist\n",
    "import matplotlib as mpl"
   ]
  },
  {
   "cell_type": "code",
   "execution_count": 2,
   "id": "788e212e-4447-4a69-9163-a47bd16f4c70",
   "metadata": {},
   "outputs": [],
   "source": [
    "from navground import sim, core\n",
    "# Experiment deadlock\n",
    "num_steps = 400\n",
    "yaml = f\"\"\"\n",
    "steps: {num_steps}\n",
    "time_step: 0.1\n",
    "record_safety_violation: true\n",
    "record_task_events: true\n",
    "record_pose: true\n",
    "runs: 1\n",
    "scenario:\n",
    "  type: Cross\n",
    "  radius: 5\n",
    "  side: 11\n",
    "  agent_margin: 0.2\n",
    "  add_safety_to_agent_margin: true\n",
    "  tolerance: 0.5\n",
    "  position_noise: 0.2\n",
    "  groups:\n",
    "    - number: 20\n",
    "      type: thymio\n",
    "      control_period: 0.1\n",
    "      behavior:\n",
    "        type: HL\n",
    "        safety_margin: 0.8\n",
    "      radius: 0.2\n",
    "      kinematics:\n",
    "        type: 2WDiff\n",
    "        max_speed: 1.0\n",
    "        wheel_axis: 2\n",
    "      state_estimation:\n",
    "        type: Bounded\n",
    "        range: 2.0\n",
    "\"\"\"\n",
    "experiment = sim.load_experiment(yaml)\n",
    "experiment.run()"
   ]
  },
  {
   "cell_type": "code",
   "execution_count": 3,
   "id": "e130afd5-3ce0-4556-897c-8c49ff6728c0",
   "metadata": {},
   "outputs": [
    {
     "data": {
      "text/plain": [
       "(400, 20, 3)"
      ]
     },
     "execution_count": 3,
     "metadata": {},
     "output_type": "execute_result"
    }
   ],
   "source": [
    "run = experiment.runs[0]\n",
    "ps = run.poses\n",
    "ps.shape"
   ]
  },
  {
   "cell_type": "code",
   "execution_count": 4,
   "id": "fd26810b-8eb6-45dc-9638-bee15ade993b",
   "metadata": {},
   "outputs": [],
   "source": [
    "def plot_two_timesteps(X, Y, ax):\n",
    "    # Plot figure\n",
    "    ax.scatter(X[:,0], X[:,1], s=20, marker=\"s\", c=\"blue\", zorder=2, label=\"X\")\n",
    "    ax.scatter(Y[:,0], Y[:,1], s=23, marker=\"x\", c=\"red\", zorder=2, label=\"Y\")\n",
    "    for edge in zip(X, Y):\n",
    "        edge_pts = np.array(edge)\n",
    "        ax.plot(edge_pts[:,0], edge_pts[:,1], c=\"gray\", zorder=1)"
   ]
  },
  {
   "cell_type": "code",
   "execution_count": 5,
   "id": "cdc66549-3dfd-45bf-8dce-b718c300cb1f",
   "metadata": {},
   "outputs": [
    {
     "data": {
      "text/plain": [
       "<matplotlib.legend.Legend at 0x7f36af199810>"
      ]
     },
     "execution_count": 5,
     "metadata": {},
     "output_type": "execute_result"
    },
    {
     "data": {
      "image/png": "[encoded data removed]",
      "text/plain": [
       "<Figure size 500x500 with 1 Axes>"
      ]
     },
     "metadata": {},
     "output_type": "display_data"
    }
   ],
   "source": [
    "fig, ax = plt.subplots(figsize=(5,5))\n",
    "X = ps[100] # timestep 100\n",
    "X = X[:,:2] # forget angles\n",
    "Y = ps[120][:,:2]\n",
    "plot_two_timesteps(X, Y, ax)\n",
    "plt.legend()"
   ]
  },
  {
   "cell_type": "code",
   "execution_count": null,
   "id": "5b3c6cc8-15cd-49fe-9379-9ba35cece3e4",
   "metadata": {},
   "outputs": [],
   "source": []
  }
 ],
 "metadata": {
  "kernelspec": {
   "display_name": "Python 3 (ipykernel)",
   "language": "python",
   "name": "python3"
  },
  "language_info": {
   "codemirror_mode": {
    "name": "ipython",
    "version": 3
   },
   "file_extension": ".py",
   "mimetype": "text/x-python",
   "name": "python",
   "nbconvert_exporter": "python",
   "pygments_lexer": "ipython3",
   "version": "3.10.12"
  }
 },
 "nbformat": 4,
 "nbformat_minor": 5
}
