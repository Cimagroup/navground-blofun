{
 "cells": [
  {
   "cell_type": "code",
   "execution_count": null,
   "id": "cbccdb01-fb0d-45e1-ab02-e014d22d1192",
   "metadata": {},
   "outputs": [],
   "source": [
    "import numpy as np\n",
    "import matplotlib.pyplot as plt\n",
    "import scipy.spatial.distance as dist\n",
    "import matplotlib as mpl\n",
    "\n",
    "import iblofunmatch.inter as ibfm\n",
    "import os\n",
    "\n",
    "from navground import core, sim\n",
    "\n",
    "output_dir = \"output\"\n",
    "os.makedirs(\"output\", exist_ok=True)"
   ]
  },
  {
   "cell_type": "code",
   "execution_count": null,
   "id": "1388dfe5-a060-4ca8-9beb-37084ca8041b",
   "metadata": {},
   "outputs": [],
   "source": [
    "num_steps = 800\n",
    "yaml = f\"\"\"\n",
    "steps: {num_steps}\n",
    "time_step: 0.1\n",
    "record_safety_violation: true\n",
    "record_task_events: true\n",
    "record_pose: true\n",
    "runs: 1\n",
    "scenario:\n",
    "  type: Cross\n",
    "  radius: 5\n",
    "  side: 11\n",
    "  agent_margin: 0.15\n",
    "  add_safety_to_agent_margin: true\n",
    "  tolerance: 0.5\n",
    "  position_noise: 0.2\n",
    "  groups:\n",
    "    - number: 18\n",
    "      type: thymio\n",
    "      control_period: 0.1\n",
    "      behavior:\n",
    "        type: HL\n",
    "        safety_margin: 0.2\n",
    "      radius: 0.15\n",
    "      kinematics:\n",
    "        type: 2WDiff\n",
    "        max_speed: 1.0\n",
    "        wheel_axis: 2\n",
    "      state_estimation:\n",
    "        type: Bounded\n",
    "        range: 2.0\n",
    "\"\"\"\n",
    "experiment = sim.load_experiment(yaml)\n",
    "experiment.run()"
   ]
  },
  {
   "cell_type": "code",
   "execution_count": null,
   "id": "cf96f0ce-112a-47a4-bd30-fbd0b989c86d",
   "metadata": {},
   "outputs": [],
   "source": [
    "run = experiment.runs[0]\n",
    "ps = run.poses[:,:,[0,1]]\n",
    "ps.shape"
   ]
  },
  {
   "cell_type": "code",
   "execution_count": null,
   "id": "a0f742f7-ea1b-452e-afe3-fefad60c764f",
   "metadata": {},
   "outputs": [],
   "source": [
    "world = sim.World()\n",
    "experiment.scenario.init_world(world, seed=10)\n",
    "world.agents[0].behavior.barrier_angle"
   ]
  },
  {
   "cell_type": "code",
   "execution_count": null,
   "id": "aa44bfbe-e4b5-4df3-8180-5f975abf4f2d",
   "metadata": {},
   "outputs": [],
   "source": [
    "def plot_two_timesteps(X, Y, ax, X_col=\"blue\", Y_col=\"red\"):\n",
    "    # Plot figure\n",
    "    ax.scatter(X[:,0], X[:,1], s=20, marker=\"s\", c=X_col, zorder=2, label=\"X\")\n",
    "    ax.scatter(Y[:,0], Y[:,1], s=23, marker=\"x\", c=Y_col, zorder=2, label=\"Y\")\n",
    "    for edge in zip(X, Y):\n",
    "        edge_pts = np.array(edge)\n",
    "        ax.plot(edge_pts[:,0], edge_pts[:,1], c=\"gray\", zorder=1)\n",
    "\n",
    "def plot_divergence_diagram(X, Y, ax):\n",
    "    idx_S = list(range(int(X.shape[0])))\n",
    "    # Compute distane matrices\n",
    "    Dist_X = dist.squareform(dist.pdist(X))\n",
    "    Dist_Y = dist.squareform(dist.pdist(Y))\n",
    "    Dist_Z = np.minimum(Dist_X, Dist_Y)\n",
    "    # Compute induced matchings\n",
    "    ibfm_out = [\n",
    "        ibfm.get_IBloFunMatch_subset(Dist_X, Dist_Z, idx_S, output_dir, max_rad=-1, num_it=1, store_0_pm=True, points=False, max_dim=1),\n",
    "        ibfm.get_IBloFunMatch_subset(Dist_Y, Dist_Z, idx_S, output_dir, max_rad=-1, num_it=1, store_0_pm=True, points=False, max_dim=1)\n",
    "    ]\n",
    "    # Divergence diagrams \n",
    "    ibfm.plot_XYZ_matching_0(ibfm_out, ax)\n",
    "    ax.set_xlim([-4,4])\n",
    "    # print persistence divergence \n",
    "    matching_XZ = ibfm_out[0][\"induced_matching_0\"]\n",
    "    matching_YZ = ibfm_out[1][\"induced_matching_0\"]\n",
    "    composition_XY = [matching_YZ.index(i) for i in matching_XZ]\n",
    "    endpoints_0 = np.array(ibfm_out[0][\"S_barcode_0\"][:,1])\n",
    "    endpoints_1 = np.array(ibfm_out[1][\"S_barcode_0\"][:,1])\n",
    "    endpoints_1 = endpoints_1[composition_XY]\n",
    "    persistence_divergence = np.sum(np.sqrt((endpoints_0-endpoints_1)**2))\n",
    "    # print(np.abs(endpoints_0-endpoints_1))\n",
    "    # print(persistence_divergence)\n",
    "    return ibfm_out"
   ]
  },
  {
   "cell_type": "code",
   "execution_count": null,
   "id": "f51cd768-3ebf-4262-80fd-1c85abc5ab1e",
   "metadata": {},
   "outputs": [],
   "source": [
    "start_step = 250\n",
    "X = ps[start_step]\n",
    "Y = ps[start_step + 20]\n",
    "X_len = X.shape[0]-1\n",
    "fig, ax = plt.subplots(nrows=1, ncols=2, figsize=(6, 3))\n",
    "# Interpret diagram via points\n",
    "plot_two_timesteps(X, Y, ax[0])\n",
    "plot_divergence_diagram(X, Y, ax[1])\n",
    "plt.tight_layout()\n",
    "plt.savefig(\"first_exp_divergence.png\")"
   ]
  },
  {
   "cell_type": "code",
   "execution_count": null,
   "id": "94bb3b7e-64b3-4f21-92d2-986c2bdb5940",
   "metadata": {},
   "outputs": [],
   "source": [
    "start_step = 250\n",
    "X = ps[start_step]\n",
    "Y = ps[start_step + 20]\n",
    "X_len = X.shape[0]-1\n",
    "fig, ax = plt.subplots(nrows=X_len, ncols=2, figsize=(6, 3*X_len))\n",
    "# Interpret diagram via points\n",
    "for idx_match in range(X_len):\n",
    "    plot_two_timesteps(X, Y, ax[idx_match, 0], X_col=\"gray\", Y_col=\"gray\")\n",
    "    ibfm_out = plot_divergence_diagram(X, Y, ax[idx_match, 1])\n",
    "    idx_X = ibfm_out[0][\"induced_matching_0\"].index(idx_match)\n",
    "    idx_Y = ibfm_out[1][\"induced_matching_0\"].index(idx_match)\n",
    "    ax[idx_match, 1].plot([-ibfm_out[0][\"S_barcode_0\"][idx_X], ibfm_out[1][\"S_barcode_0\"][idx_Y]], [idx_match, idx_match], color=\"orange\", linewidth=4)\n",
    "    pts_X = X[ibfm_out[0][\"S_reps_0\"][idx_X]]\n",
    "    pts_Y = Y[ibfm_out[1][\"S_reps_0\"][idx_Y]]\n",
    "    # pts_Y = X[ibfm_out[0][\"X_reps_0\"][idx_match]]\n",
    "    ax[idx_match, 0].scatter(pts_X[:,0], pts_X[:,1], c=\"blue\", s=20, zorder=2, marker=\"s\")\n",
    "    ax[idx_match, 0].scatter(pts_Y[:,0], pts_Y[:,1], c=\"red\", s=25, zorder=2.5, marker=\"x\")\n",
    "    # finish interpretation\n",
    "    # ax[idx_match, 0].legend()\n",
    "plt.tight_layout()"
   ]
  },
  {
   "cell_type": "code",
   "execution_count": null,
   "id": "b666ad8f-a81f-4162-b174-e70347d2dbf4",
   "metadata": {},
   "outputs": [],
   "source": [
    "import scipy.spatial.distance as dist\n",
    "import itertools\n",
    "def plot_background_VR(a,b, ax, X, Y):\n",
    "    # Points from X\n",
    "    bool_smaller = dist.pdist(X)<a-1e-3\n",
    "    edgelist = np.array([[i,j] for (i,j) in itertools.product(range(X.shape[0]), range(X.shape[0])) if i < j])[bool_smaller].tolist()\n",
    "    for edge in edgelist:\n",
    "        ax.plot(X[edge][:,0], X[edge][:,1], c=\"blue\", zorder=0.5, linewidth=0.5)\n",
    "    # Points in Y\n",
    "    bool_smaller = dist.pdist(Y)<b-1e-3\n",
    "    edgelist = np.array([[i,j] for (i,j) in itertools.product(range(Y.shape[0]), range(Y.shape[0])) if i < j])[bool_smaller].tolist()\n",
    "    for edge in edgelist:\n",
    "        ax.plot(Y[edge][:,0], Y[edge][:,1], c=\"red\", zorder=0.5, linewidth=0.5)"
   ]
  },
  {
   "cell_type": "code",
   "execution_count": null,
   "id": "f6493703-002b-4862-abff-f83db60b7331",
   "metadata": {},
   "outputs": [],
   "source": [
    "start_step = 250\n",
    "X = ps[start_step]\n",
    "Y = ps[start_step + 20]\n",
    "X_len = X.shape[0]-1\n",
    "fig, ax = plt.subplots(nrows=X_len, ncols=2, figsize=(6, 3*X_len))\n",
    "# Interpret diagram via points\n",
    "for idx_match in range(X_len):\n",
    "    plot_two_timesteps(X, Y, ax[idx_match, 0], X_col=\"gray\", Y_col=\"gray\")\n",
    "    ibfm_out = plot_divergence_diagram(X, Y, ax[idx_match, 1])\n",
    "    idx_X = ibfm_out[0][\"induced_matching_0\"].index(idx_match)\n",
    "    idx_Y = ibfm_out[1][\"induced_matching_0\"].index(idx_match)\n",
    "    ax[idx_match, 1].plot([-ibfm_out[0][\"S_barcode_0\"][idx_X], ibfm_out[1][\"S_barcode_0\"][idx_Y]], [idx_match, idx_match], color=\"orange\", linewidth=4)\n",
    "    pts_X = X[ibfm_out[0][\"S_reps_0\"][idx_X]]\n",
    "    idx_pts_X = ibfm_out[0][\"S_reps_0\"][idx_X] \n",
    "    a = ibfm_out[0][\"S_barcode_0\"][idx_X][1]\n",
    "    b = ibfm_out[1][\"S_barcode_0\"][idx_Y][1]\n",
    "    plot_background_VR(a,b, ax[idx_match,0], X, Y)\n",
    "    # for idx_aux in range(idx_X):\n",
    "    #     pts_aux = X[ibfm_out[0][\"S_reps_0\"][idx_aux]]\n",
    "    #     ax[idx_match, 0].plot(pts_aux[:,0], pts_aux[:,1], c=\"blue\")\n",
    "    # for idx_aux in range(idx_Y):\n",
    "    #     pts_aux = Y[ibfm_out[0][\"S_reps_0\"][idx_aux]]\n",
    "    #     ax[idx_match, 0].plot(pts_aux[:,0], pts_aux[:,1], c=\"red\")\n",
    "    pts_Y = Y[ibfm_out[1][\"S_reps_0\"][idx_Y]]\n",
    "    # pts_Y = X[ibfm_out[0][\"X_reps_0\"][idx_match]]\n",
    "    ax[idx_match, 0].scatter(pts_X[:,0], pts_X[:,1], c=\"blue\", s=20, zorder=2, marker=\"s\")\n",
    "    ax[idx_match, 0].scatter(pts_Y[:,0], pts_Y[:,1], c=\"red\", s=25, zorder=2.5, marker=\"x\")\n",
    "    # finish interpretation\n",
    "    # ax[idx_match, 0].legend()\n",
    "plt.tight_layout()"
   ]
  },
  {
   "cell_type": "code",
   "execution_count": null,
   "id": "2e00df4b-f91f-4186-bb1b-093e6016f92d",
   "metadata": {},
   "outputs": [],
   "source": [
    "ibfm.plot_geometric_matching"
   ]
  },
  {
   "cell_type": "code",
   "execution_count": null,
   "id": "b40defb3-6492-443b-a374-f5dbcd80c87a",
   "metadata": {},
   "outputs": [],
   "source": [
    "def compute_divergence_vector(X, Y):\n",
    "    idx_S = list(range(int(X.shape[0])))\n",
    "    # Compute distane matrices\n",
    "    Dist_X = dist.squareform(dist.pdist(X))\n",
    "    Dist_Y = dist.squareform(dist.pdist(Y))\n",
    "    Dist_Z = np.minimum(Dist_X, Dist_Y)\n",
    "    # Compute matching\n",
    "    ibfm_out = [\n",
    "        ibfm.get_IBloFunMatch_subset(Dist_X, Dist_Z, idx_S, output_dir, max_rad=-1, num_it=1, store_0_pm=True, points=False, max_dim=1),\n",
    "        ibfm.get_IBloFunMatch_subset(Dist_Y, Dist_Z, idx_S, output_dir, max_rad=-1, num_it=1, store_0_pm=True, points=False, max_dim=1)\n",
    "    ]\n",
    "    # Compute induced matchings\n",
    "    matching_XZ = ibfm_out[0][\"induced_matching_0\"]\n",
    "    matching_YZ = ibfm_out[1][\"induced_matching_0\"]\n",
    "    composition_XY = [matching_YZ.index(i) for i in matching_XZ]\n",
    "    endpoints_0 = np.array(ibfm_out[0][\"S_barcode_0\"][:,1])\n",
    "    endpoints_1 = np.array(ibfm_out[1][\"S_barcode_0\"][:,1])\n",
    "    endpoints_1 = endpoints_1[composition_XY]\n",
    "    return endpoints_0 - endpoints_1, ibfm_out[0][\"X_barcode_0\"][:,1]"
   ]
  },
  {
   "cell_type": "code",
   "execution_count": null,
   "id": "2ebf0d7d-a981-4436-9a05-b86cd4f8e95c",
   "metadata": {},
   "outputs": [],
   "source": [
    "divergence_list = []\n",
    "Z_barcodes_list = []\n",
    "for start_step in range(550):\n",
    "    X = ps[start_step]\n",
    "    Y = ps[start_step + 20]\n",
    "    divergence, Z_barcode = compute_divergence_vector(X, Y)\n",
    "    divergence_list.append(divergence)\n",
    "    Z_barcodes_list.append(Z_barcode)\n",
    "\n",
    "divergence_arr = np.array(divergence_list).transpose()\n",
    "Z_barcodes_arr = np.array(Z_barcodes_list).transpose()\n"
   ]
  },
  {
   "cell_type": "code",
   "execution_count": null,
   "id": "83842f7c-9ee6-4152-9298-fc24d8246037",
   "metadata": {},
   "outputs": [],
   "source": [
    "fig, ax = plt.subplots(figsize=(10,2))\n",
    "vmax = np.max(divergence_arr)\n",
    "mapable = ax.imshow(divergence_arr, aspect=\"auto\", vmax=vmax)\n",
    "print(mapable)\n",
    "print(np.max(divergence_arr))\n",
    "ax.set_title(\"First experiment\")\n",
    "plt.colorbar(mapable)\n",
    "plt.tight_layout()\n",
    "plt.savefig(\"first_divergence_diag_hist.png\")"
   ]
  },
  {
   "cell_type": "markdown",
   "id": "9b058c7b-0601-4e1f-b711-42a6e2c5e1e5",
   "metadata": {},
   "source": [
    "We also consider a way of plotting divergence which is continuous."
   ]
  },
  {
   "cell_type": "code",
   "execution_count": null,
   "id": "ffc86127-9277-4028-9115-42abeef0b461",
   "metadata": {},
   "outputs": [],
   "source": [
    "divergence_arr.shape"
   ]
  },
  {
   "cell_type": "code",
   "execution_count": null,
   "id": "2a1c1708-160b-4458-bcae-6b8db2d74aab",
   "metadata": {},
   "outputs": [],
   "source": [
    "Z_barcodes_arr.shape"
   ]
  },
  {
   "cell_type": "code",
   "execution_count": null,
   "id": "8d8c063d-ad3b-4aa8-8d86-f38f29bb49cb",
   "metadata": {},
   "outputs": [],
   "source": [
    "fig, ax = plt.subplots(figsize=(10,2))\n",
    "vmax = np.max(divergence_arr)\n",
    "mapable = ax.imshow(Z_barcodes_arr, aspect=\"auto\", vmax=vmax)\n",
    "ax.set_title(\"Z_barcode\")\n",
    "plt.colorbar(mapable)\n",
    "plt.tight_layout()"
   ]
  },
  {
   "cell_type": "markdown",
   "id": "bab8e659-fb0d-4311-9305-6856668c7763",
   "metadata": {},
   "source": [
    "Combine both"
   ]
  },
  {
   "cell_type": "code",
   "execution_count": null,
   "id": "4d08b258-7006-4192-b080-cdbe555038f8",
   "metadata": {},
   "outputs": [],
   "source": [
    "fig, ax = plt.subplots(figsize=(10,2))\n",
    "combination = np.vstack([divergence_arr, Z_barcodes_arr[range(Z_barcodes_arr.shape[0]-1, -1, -1)]])\n",
    "vmax = np.max(combination)\n",
    "mapable = ax.imshow(combination, aspect=\"auto\", vmax=vmax)\n",
    "ax.set_title(\"divergence_and_Z_barcode\")\n",
    "plt.colorbar(mapable)\n",
    "plt.tight_layout()"
   ]
  },
  {
   "cell_type": "code",
   "execution_count": null,
   "id": "341b7f8c-e375-4e5e-9d60-c18437b46180",
   "metadata": {},
   "outputs": [],
   "source": [
    "cumulative_list = []\n",
    "for j, divergence in enumerate(divergence_arr.transpose()):\n",
    "    cumulative = []\n",
    "    for i in range(divergence_arr.shape[0]):\n",
    "        cumulative.append(np.sum(divergence[:i+1]))\n",
    "    cumulative_list.append(cumulative)\n",
    "cumulative_arr = np.array(cumulative_list).transpose()"
   ]
  },
  {
   "cell_type": "code",
   "execution_count": null,
   "id": "625dafad-14e1-4022-a953-49146aa36fb8",
   "metadata": {},
   "outputs": [],
   "source": [
    "fig, ax = plt.subplots(figsize=(10,2))\n",
    "vmax = np.max(cumulative_arr)\n",
    "vmin = np.min(cumulative_arr)\n",
    "mapable = ax.imshow(cumulative_arr, aspect=\"auto\", vmax=vmax, vmin=vmin)\n",
    "ax.set_title(\"cumulative\")\n",
    "plt.colorbar(mapable)\n",
    "plt.tight_layout()"
   ]
  },
  {
   "cell_type": "code",
   "execution_count": null,
   "id": "5fef8ee6-f617-4d4a-9ccb-6ce003a672bc",
   "metadata": {},
   "outputs": [],
   "source": [
    "y_max = np.max(Z_barcodes_arr)\n",
    "y_min = np.min(Z_barcodes_arr)\n",
    "y_range = np.linspace(y_min, y_max, 10)\n",
    "combinations_list = []\n",
    "for y in y_range:\n",
    "    combinations_row = [] \n",
    "    for j, column in enumerate(Z_barcodes_arr.transpose()):\n",
    "        idx = np.sum(Z_barcodes_arr[:,j] < y)-1\n",
    "        if idx < 0:\n",
    "            combinations_row.append(0)\n",
    "        else:\n",
    "            combinations_row.append(cumulative_arr[idx,j])\n",
    "    combinations_list.append(combinations_row)\n",
    "combinations_arr = np.array(combinations_list)"
   ]
  },
  {
   "cell_type": "code",
   "execution_count": null,
   "id": "c28c8b59-025a-4a23-87c5-87115d25f08d",
   "metadata": {},
   "outputs": [],
   "source": [
    "fig, ax = plt.subplots(figsize=(10,2))\n",
    "vmax = np.max(combinations_arr)\n",
    "vmin = np.min(combinations_arr)\n",
    "mapable = ax.imshow(combinations_arr, aspect=\"auto\", vmax=vmax, vmin=vmin)\n",
    "ax.set_title(\"combinations\")\n",
    "plt.colorbar(mapable)\n",
    "plt.tight_layout()"
   ]
  },
  {
   "cell_type": "markdown",
   "id": "2b2b7bc2-ca1e-41ce-9f66-a02679877efd",
   "metadata": {},
   "source": [
    "# Deadlock experiment"
   ]
  },
  {
   "cell_type": "code",
   "execution_count": null,
   "id": "c49dd431-5558-403e-81ac-124575129a72",
   "metadata": {},
   "outputs": [],
   "source": [
    "num_steps = 600\n",
    "yaml = f\"\"\"\n",
    "steps: {num_steps}\n",
    "time_step: 0.1\n",
    "record_safety_violation: true\n",
    "record_task_events: true\n",
    "record_pose: true\n",
    "runs: 1\n",
    "scenario:\n",
    "  type: Cross\n",
    "  radius: 5\n",
    "  side: 11\n",
    "  agent_margin: 0.15\n",
    "  add_safety_to_agent_margin: true\n",
    "  tolerance: 0.5\n",
    "  position_noise: 0.2\n",
    "  groups:\n",
    "    - number: 18\n",
    "      type: thymio\n",
    "      control_period: 0.1\n",
    "      behavior:\n",
    "        type: HL\n",
    "        safety_margin: 0.5\n",
    "      radius: 0.15\n",
    "      kinematics:\n",
    "        type: 2WDiff\n",
    "        max_speed: 1.0\n",
    "        wheel_axis: 2\n",
    "      state_estimation:\n",
    "        type: Bounded\n",
    "        range: 2.0\n",
    "\"\"\"\n",
    "experiment = sim.load_experiment(yaml)\n",
    "experiment.run()\n",
    "run = experiment.runs[0]\n",
    "ps = run.poses[:,:,[0,1]]\n",
    "ps.shape"
   ]
  },
  {
   "cell_type": "code",
   "execution_count": null,
   "id": "6cf95b0a-ec12-4826-8ccc-f9d1e3539915",
   "metadata": {},
   "outputs": [],
   "source": [
    "start_step = 550\n",
    "X = ps[start_step]\n",
    "Y = ps[start_step + 20]\n",
    "X_len = X.shape[0]-1\n",
    "fig, ax = plt.subplots(nrows=1, ncols=2, figsize=(6, 3))\n",
    "# Interpret diagram via points\n",
    "plot_two_timesteps(X, Y, ax[0])\n",
    "plot_divergence_diagram(X, Y, ax[1])\n",
    "plt.tight_layout()\n",
    "plt.savefig(\"second_exp_divergence.png\")"
   ]
  },
  {
   "cell_type": "code",
   "execution_count": null,
   "id": "7c44f2be-63f2-488b-b79e-e17bd3c97a04",
   "metadata": {},
   "outputs": [],
   "source": [
    "X = ps[290]\n",
    "Y = ps[310]\n",
    "X_len = X.shape[0]-1\n",
    "fig, ax = plt.subplots(nrows=X_len, ncols=2, figsize=(6, 3*X_len))\n",
    "# Interpret diagram via points\n",
    "for idx_match in range(X_len):\n",
    "    plot_two_timesteps(X, Y, ax[idx_match, 0], X_col=\"gray\", Y_col=\"gray\")\n",
    "    ibfm_out = plot_divergence_diagram(X, Y, ax[idx_match, 1])\n",
    "    idx_X = ibfm_out[0][\"induced_matching_0\"].index(idx_match)\n",
    "    idx_Y = ibfm_out[1][\"induced_matching_0\"].index(idx_match)\n",
    "    ax[idx_match, 1].plot([-ibfm_out[0][\"S_barcode_0\"][idx_X], ibfm_out[1][\"S_barcode_0\"][idx_Y]], [idx_match, idx_match], color=\"orange\", linewidth=4)\n",
    "    pts_X = X[ibfm_out[0][\"S_reps_0\"][idx_X]]\n",
    "    pts_Y = Y[ibfm_out[1][\"S_reps_0\"][idx_Y]]\n",
    "    # pts_Y = X[ibfm_out[0][\"X_reps_0\"][idx_match]]\n",
    "    a = ibfm_out[0][\"S_barcode_0\"][idx_X][1]\n",
    "    b = ibfm_out[1][\"S_barcode_0\"][idx_Y][1]\n",
    "    plot_background_VR(a,b, ax[idx_match,0], X, Y)\n",
    "    ax[idx_match, 0].scatter(pts_X[:,0], pts_X[:,1], c=\"blue\", s=20, zorder=2, marker=\"s\")\n",
    "    ax[idx_match, 0].scatter(pts_Y[:,0], pts_Y[:,1], c=\"red\", s=25, zorder=2.5, marker=\"x\")\n",
    "    # finish interpretation\n",
    "    # ax[idx_match, 0].legend()\n",
    "plt.tight_layout()"
   ]
  },
  {
   "cell_type": "code",
   "execution_count": null,
   "id": "1fa5467a-3702-41fe-929f-303f11dfa61f",
   "metadata": {},
   "outputs": [],
   "source": [
    "divergence_list = []\n",
    "for start_step in range(550):\n",
    "    X = ps[start_step]\n",
    "    Y = ps[start_step + 20]\n",
    "    divergence, Z_barcode = compute_divergence_vector(X, Y)\n",
    "    divergence_list.append(divergence)\n",
    "\n",
    "divergence_arr = np.array(divergence_list).transpose()\n"
   ]
  },
  {
   "cell_type": "code",
   "execution_count": null,
   "id": "f41dc3dd-7758-4987-9203-db0dfb1b6af6",
   "metadata": {},
   "outputs": [],
   "source": [
    "fig, ax = plt.subplots(figsize=(10,2))\n",
    "mapable = ax.imshow(divergence_arr, aspect=\"auto\", vmax=vmax)\n",
    "print(mapable)\n",
    "ax.set_title(\"Second experiment\")\n",
    "plt.colorbar(mapable)\n",
    "plt.tight_layout()\n",
    "plt.savefig(\"second_divergence_diag_hist.png\")"
   ]
  },
  {
   "cell_type": "code",
   "execution_count": null,
   "id": "5015ca97-6ec6-4114-9a05-6c282c05d19f",
   "metadata": {},
   "outputs": [],
   "source": [
    "fig, ax = plt.subplots(figsize=(10,2))\n",
    "vmax = np.max(divergence_arr)\n",
    "mapable = ax.imshow(Z_barcodes_arr, aspect=\"auto\", vmax=vmax)\n",
    "ax.set_title(\"Z_barcode\")\n",
    "plt.colorbar(mapable)\n",
    "plt.tight_layout()"
   ]
  },
  {
   "cell_type": "code",
   "execution_count": null,
   "id": "4b5af5c5-1364-4931-9354-339c0df62c96",
   "metadata": {},
   "outputs": [],
   "source": [
    "fig, ax = plt.subplots(figsize=(10,2))\n",
    "combination = np.vstack([divergence_arr, Z_barcodes_arr[range(Z_barcodes_arr.shape[0]-1, -1, -1)]])\n",
    "vmax = np.max(combination)\n",
    "mapable = ax.imshow(combination, aspect=\"auto\", vmax=vmax)\n",
    "ax.set_title(\"divergence_and_Z_barcode\")\n",
    "plt.colorbar(mapable)\n",
    "plt.tight_layout()"
   ]
  },
  {
   "cell_type": "code",
   "execution_count": null,
   "id": "9c4e154e-e870-4a97-b342-f5a544f609c2",
   "metadata": {},
   "outputs": [],
   "source": [
    "cumulative_list = []\n",
    "for j, divergence in enumerate(divergence_arr.transpose()):\n",
    "    cumulative = []\n",
    "    for i in range(divergence_arr.shape[0]):\n",
    "        cumulative.append(np.sum(divergence[:i+1]))\n",
    "    cumulative_list.append(cumulative)\n",
    "cumulative_arr = np.array(cumulative_list).transpose()\n",
    "\n",
    "fig, ax = plt.subplots(figsize=(10,2))\n",
    "vmax = np.max(cumulative_arr)\n",
    "vmin = np.min(cumulative_arr)\n",
    "mapable = ax.imshow(cumulative_arr, aspect=\"auto\", vmax=vmax, vmin=vmin)\n",
    "ax.set_title(\"cumulative\")\n",
    "plt.colorbar(mapable)\n",
    "plt.tight_layout()"
   ]
  },
  {
   "cell_type": "code",
   "execution_count": null,
   "id": "bceb94cc-21bb-4ebc-99ac-07f93894ffe5",
   "metadata": {},
   "outputs": [],
   "source": [
    "y_max = np.max(Z_barcodes_arr)\n",
    "y_min = np.min(Z_barcodes_arr)\n",
    "y_range = np.linspace(y_min, y_max, 10)\n",
    "combinations_list = []\n",
    "for y in y_range:\n",
    "    combinations_row = [] \n",
    "    for j, column in enumerate(Z_barcodes_arr.transpose()):\n",
    "        idx = np.sum(Z_barcodes_arr[:,j] < y)-1\n",
    "        if idx < 0:\n",
    "            combinations_row.append(0)\n",
    "        else:\n",
    "            combinations_row.append(cumulative_arr[idx,j])\n",
    "    combinations_list.append(combinations_row)\n",
    "combinations_arr = np.array(combinations_list)"
   ]
  },
  {
   "cell_type": "code",
   "execution_count": null,
   "id": "834b1a59-7376-415c-b3f7-d5b2e71ad82f",
   "metadata": {},
   "outputs": [],
   "source": [
    "fig, ax = plt.subplots(figsize=(10,2))\n",
    "vmax = np.max(combinations_arr)\n",
    "vmin = np.min(combinations_arr)\n",
    "mapable = ax.imshow(combinations_arr, aspect=\"auto\", vmax=vmax, vmin=vmin)\n",
    "ax.set_title(\"combinations\")\n",
    "plt.colorbar(mapable)\n",
    "plt.tight_layout()"
   ]
  },
  {
   "cell_type": "code",
   "execution_count": null,
   "id": "7cd5cb60-786f-4121-b2ce-78667b7766da",
   "metadata": {},
   "outputs": [],
   "source": []
  }
 ],
 "metadata": {
  "kernelspec": {
   "display_name": "Python 3 (ipykernel)",
   "language": "python",
   "name": "python3"
  },
  "language_info": {
   "codemirror_mode": {
    "name": "ipython",
    "version": 3
   },
   "file_extension": ".py",
   "mimetype": "text/x-python",
   "name": "python",
   "nbconvert_exporter": "python",
   "pygments_lexer": "ipython3",
   "version": "3.10.12"
  }
 },
 "nbformat": 4,
 "nbformat_minor": 5
}
