{
 "cells": [
  {
   "cell_type": "code",
   "execution_count": null,
   "id": "f3c351d0-2fb8-4858-be32-35762faf7634",
   "metadata": {},
   "outputs": [],
   "source": [
    "import numpy as np\n",
    "import matplotlib.pyplot as plt\n",
    "import scipy.spatial.distance as dist\n",
    "import matplotlib as mpl\n",
    "import iblofunmatch.inter as ibfm\n",
    "output_dir=\"output\"\n",
    "\n",
    "from navground import sim, core"
   ]
  },
  {
   "cell_type": "markdown",
   "id": "bfff53f0-e9a4-435d-b5fc-672ce0257431",
   "metadata": {},
   "source": [
    "### Corridor trajectories experiment\n",
    "\n",
    "Corridor experiment with points converging to horizontal trajectories going left and right."
   ]
  },
  {
   "cell_type": "code",
   "execution_count": null,
   "id": "b5e5f0b4-5fc7-4832-84cd-7236a49bd3ad",
   "metadata": {},
   "outputs": [],
   "source": [
    "length = 8.0\n",
    "num_steps = 5000\n",
    "width=1.1\n",
    "yaml = f\"\"\"\n",
    "steps: 3000\n",
    "time_step: 0.1\n",
    "save_directory: ''\n",
    "record_pose: true\n",
    "record_twist: true\n",
    "scenario:\n",
    "  type: Corridor\n",
    "  length: {length}\n",
    "  width: {width} \n",
    "  groups:\n",
    "    -\n",
    "      type: thymio\n",
    "      number: 76\n",
    "      radius: 0.08\n",
    "      control_period: 0.1\n",
    "      speed_tolerance: 0.02\n",
    "      kinematics:\n",
    "        type: 2WDiff\n",
    "        wheel_axis: 0.094\n",
    "        max_speed: 0.166\n",
    "      behavior:\n",
    "        type: HL\n",
    "        optimal_speed: 0.12\n",
    "        horizon: 5.0\n",
    "        safety_margin: 0.02\n",
    "      state_estimation:\n",
    "        type: Bounded\n",
    "        range: 5.0\n",
    "\"\"\"\n",
    "experiment = sim.load_experiment(yaml)\n",
    "experiment.run()"
   ]
  },
  {
   "cell_type": "code",
   "execution_count": null,
   "id": "17572183-a835-46f5-a90c-bae332a2a972",
   "metadata": {},
   "outputs": [],
   "source": [
    "run = experiment.runs[0]\n",
    "ps = run.poses[:,:,[0,1]]\n",
    "twists = run.twists[:,:,:2] # ignore angular speeds"
   ]
  },
  {
   "cell_type": "code",
   "execution_count": null,
   "id": "4f0f1e07-8467-44ac-9a90-d2ddeb73f617",
   "metadata": {},
   "outputs": [],
   "source": [
    "weight = 5"
   ]
  },
  {
   "cell_type": "code",
   "execution_count": null,
   "id": "af7fe164-ce18-4b55-a1f1-9ed0b5d278f1",
   "metadata": {},
   "outputs": [],
   "source": [
    "def trajectory_corridor_distance_weighted_velocities(positions, velocities, weight, length):\n",
    "    assert(len(positions)>0)\n",
    "    assert(len(positions)==len(velocities))\n",
    "    positions_velocities_list = []\n",
    "    for idx, points in enumerate(positions):\n",
    "        positions_velocities_list.append(np.hstack((points, velocities[idx]*weight)))\n",
    "    distances_list = []\n",
    "    for idx, points_vel in enumerate(positions_velocities_list):\n",
    "        # Compare trajectories at same time\n",
    "        points_vel_compare = positions_velocities_list[idx]\n",
    "        dist_0 = dist.cdist(points_vel, points_vel_compare, \"minkowski\", p=2)\n",
    "        shift_points_vel_compare = np.array(points_vel_compare)\n",
    "        shift_points_vel_compare[shift_points_vel_compare[:,0]<length/2]+=[length, 0, 0, 0]\n",
    "        shift_points_vel = np.array(points_vel)\n",
    "        shift_points_vel[shift_points_vel[:,0]<length/2]+=[length, 0, 0, 0]\n",
    "        dist_1 = dist.cdist(shift_points_vel, shift_points_vel_compare, \"minkowski\", p=2)\n",
    "        distances_list.append(np.minimum(dist_0, dist_1))\n",
    "    # end for\n",
    "    distances_arr = np.array(distances_list)\n",
    "    return np.min(distances_arr, axis=0)"
   ]
  },
  {
   "cell_type": "code",
   "execution_count": null,
   "id": "8cc4d643-b8ee-443e-8dea-f445547f2129",
   "metadata": {},
   "outputs": [],
   "source": [
    "def plot_matching_diagram_trajectories(positions, velocities, weight, length, ax, color=\"blue\"):\n",
    "    half_step = int(len(positions)/2)+1\n",
    "    # Compute X, Z barcodes and matching\n",
    "    Dist_X = trajectory_corridor_distance_weighted_velocities(positions[:half_step], velocities[:half_step], weight, length)\n",
    "    Dist_Z = trajectory_corridor_distance_weighted_velocities(positions, velocities, weight, length)\n",
    "    idx_S = list(range(Dist_X.shape[0]))\n",
    "    # Compute matching from X to Z\n",
    "    ibfm_out = ibfm.get_IBloFunMatch_subset(Dist_X, Dist_Z, idx_S, output_dir, max_rad=-1, num_it=1, store_0_pm=True, points=False, max_dim=1)\n",
    "    # Plot 0 persistence diagram of matching \n",
    "    match_diagram = []\n",
    "    for idx, bar_X in enumerate(ibfm_out[\"S_barcode_0\"]):\n",
    "        idx_match = ibfm_out[\"induced_matching_0\"][idx]\n",
    "        bar_Z = ibfm_out[\"X_barcode_0\"][idx_match]\n",
    "        match_diagram.append([bar_X[1], bar_Z[1]])\n",
    "    # end for\n",
    "    match_diagram = np.array(match_diagram)\n",
    "    # Plot matching diagram\n",
    "    ax.scatter(match_diagram[:,0], match_diagram[:,1], color=color)\n",
    "    ax.plot([0,np.max(match_diagram)*1.1], [0,np.max(match_diagram)*1.1], color=\"gray\")"
   ]
  },
  {
   "cell_type": "code",
   "execution_count": null,
   "id": "28a92b4f-1e7b-48e2-a63a-24d7f63fd55c",
   "metadata": {},
   "outputs": [],
   "source": [
    "fig, ax = plt.subplots(figsize=(6,6))\n",
    "steplist = list(range(500,900, 10))\n",
    "shift_time = 40\n",
    "for idx, start_step in enumerate(steplist):\n",
    "    plot_matching_diagram_trajectories(ps[start_step:start_step+shift_time], twists[start_step:start_step+shift_time], weight, length, ax, color=mpl.colormaps[\"GnBu\"](idx/len(steplist)))\n"
   ]
  },
  {
   "cell_type": "code",
   "execution_count": null,
   "id": "567af0f9-ef1d-4be9-a96b-7086a5887be0",
   "metadata": {},
   "outputs": [],
   "source": [
    "def plot_sequence(X_list, ax, mark_points=[]):\n",
    "    # Plot figure\n",
    "    X_old = X_list[0]\n",
    "    ax.scatter(X_old[:,0], X_old[:,1], s=20, marker=\"o\", color=mpl.colormaps[\"RdBu\"](1/(len(X_list)+1)), zorder=2)\n",
    "    for idx, X in enumerate(X_list[1:]):\n",
    "        ax.scatter(X[:,0], X[:,1], s=20, marker=\"o\", color=mpl.colormaps[\"RdBu\"]((idx+1)/(len(X_list)+1)), zorder=2, label=\"X\")\n",
    "        # for edge in zip(X, X_old):\n",
    "        #     edge_pts = np.array(edge)\n",
    "        #     ax.plot(edge_pts[:,0], edge_pts[:,1], color=\"gray\", zorder=1)\n",
    "        if len(mark_points)>0:\n",
    "            mark_X = X[mark_points]\n",
    "            ax.scatter(mark_X[:,0], mark_X[:,1], s=20, marker=\"+\", color=\"red\", zorder=3)\n",
    "        X_old = X\n",
    "    #end for "
   ]
  },
  {
   "cell_type": "code",
   "execution_count": null,
   "id": "e876c2b1-ac40-43b9-b028-ba74c5fe1d6e",
   "metadata": {},
   "outputs": [],
   "source": [
    "start_step=800\n",
    "fig, ax = plt.subplots(figsize=(5, 5))\n",
    "plot_matching_diagram_trajectories(ps[start_step:start_step+shift_time], twists[start_step:start_step+shift_time], weight, length, ax, color=\"blue\")\n",
    "positions = ps[start_step:start_step+shift_time]\n",
    "velocities = twists[start_step:start_step+shift_time]\n",
    "half_step = int(shift_time/2)+1\n",
    "Dist_X = trajectory_corridor_distance_weighted_velocities(positions[:half_step], velocities[:half_step], weight, length)\n",
    "Dist_Y = trajectory_corridor_distance_weighted_velocities(positions, velocities, weight, length)\n",
    "Dist_Z = np.minimum(Dist_X, Dist_Y)\n",
    "idx_S = list(range(Dist_X.shape[0]))\n",
    "# Compute matching from X to Z\n",
    "ibfm_out = ibfm.get_IBloFunMatch_subset(Dist_X, Dist_Z, idx_S, output_dir, max_rad=-1, num_it=1, store_0_pm=True, points=False, max_dim=1)\n",
    "# put persistence pairs together\n",
    "match_diagram = []\n",
    "for idx, bar_X in enumerate(ibfm_out[\"S_barcode_0\"]):\n",
    "    idx_match = ibfm_out[\"induced_matching_0\"][idx]\n",
    "    bar_Z = ibfm_out[\"X_barcode_0\"][idx_match]\n",
    "    match_diagram.append([bar_X[1], bar_Z[1]])\n",
    "# end for\n",
    "match_diagram = np.array(match_diagram)\n",
    "\n",
    "print(np.array(match_diagram))\n",
    "print(ibfm_out[\"S_reps_0\"])"
   ]
  },
  {
   "cell_type": "code",
   "execution_count": null,
   "id": "0952b84a-7f92-418b-bbb9-b73446c2c652",
   "metadata": {},
   "outputs": [],
   "source": [
    "X_seq = ps[list(range(start_step, start_step+shift_time+1, 2))]\n",
    "len(X_seq)\n",
    "fig, ax = plt.subplots(figsize=(10, 5))\n",
    "ax.set_aspect(\"equal\")\n",
    "plot_sequence(X_seq, ax, mark_points=[1])"
   ]
  },
  {
   "cell_type": "code",
   "execution_count": null,
   "id": "fab597d5-1a55-477a-8307-666542557611",
   "metadata": {},
   "outputs": [],
   "source": []
  }
 ],
 "metadata": {
  "kernelspec": {
   "display_name": "Python 3 (ipykernel)",
   "language": "python",
   "name": "python3"
  },
  "language_info": {
   "codemirror_mode": {
    "name": "ipython",
    "version": 3
   },
   "file_extension": ".py",
   "mimetype": "text/x-python",
   "name": "python",
   "nbconvert_exporter": "python",
   "pygments_lexer": "ipython3",
   "version": "3.10.12"
  }
 },
 "nbformat": 4,
 "nbformat_minor": 5
}
