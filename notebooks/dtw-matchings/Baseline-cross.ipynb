{
 "cells": [
  {
   "cell_type": "markdown",
   "id": "69901b3c-b57e-4041-9a98-e4c5b9aa9e31",
   "metadata": {},
   "source": [
    "In this notebook, we explore the baseline measures for navground simulations to see how well these differenciate between behaviors. \n",
    "These measures are the safety margin violations, collisions, agent movement efficacy and deadlocks.\n",
    "\n",
    "We focus on the cross scenario."
   ]
  },
  {
   "cell_type": "code",
   "execution_count": null,
   "id": "9631b76b-6408-4704-af04-e8e30dfbb718",
   "metadata": {},
   "outputs": [],
   "source": [
    "import numpy as np\n",
    "import matplotlib.pyplot as plt\n",
    "import matplotlib.patches as patches\n",
    "import matplotlib.animation as animation\n",
    "import scipy.spatial.distance as dist\n",
    "from navground import sim, core\n",
    "\n",
    "from tslearn.generators import random_walks\n",
    "from tslearn import metrics\n",
    "import seaborn as sns\n",
    "import gudhi\n",
    "from gudhi.wasserstein import wasserstein_distance\n",
    "from navground.sim.ui.video import display_video_from_run, record_video_from_run\n",
    "from functools import partial\n",
    "from IPython.display import Image\n",
    "\n",
    "# Create folder to save bottleneck distances between matching diagrams\n",
    "import os\n",
    "os.makedirs(\"Baseline_cross_matrices\", exist_ok=True)\n",
    "os.makedirs(\"plots\", exist_ok=True)"
   ]
  },
  {
   "cell_type": "code",
   "execution_count": null,
   "id": "5a14b4e1-fde6-4d79-a51c-fb373046cabe",
   "metadata": {},
   "outputs": [],
   "source": [
    "from perdiver.navground_io import parser\n",
    "\n",
    "args = parser.parse_args([\n",
    "        '--scenario', 'Cross',\n",
    "        '--side', '10.0',\n",
    "        '--num_runs', '12',\n",
    "        '--num_steps', '600',\n",
    "        '--time_step', '0.1',\n",
    "        '--num_agents', '10',\n",
    "        '--max_speed', '1.66',\n",
    "        '--optimal_speed_min', '0.9',\n",
    "        '--optimal_speed_max', '1.5',\n",
    "        '--radius', '0.4',\n",
    "        '--safety_margin', '0.1',\n",
    "        '--behavior', 'HL',\n",
    "        '--max_edge_length', '33.0',\n",
    "        '--time_delay', '5',\n",
    "        '--embedding_length', '11',\n",
    "        '--epsilon', '50',\n",
    "    ])"
   ]
  },
  {
   "cell_type": "markdown",
   "id": "3cd97072-3d71-4b72-8e97-808e338c9764",
   "metadata": {},
   "source": [
    "## 1. HL behavior\n",
    "\n",
    "We run the experiment with HL behavior."
   ]
  },
  {
   "cell_type": "code",
   "execution_count": null,
   "id": "835ed6b2-f9d8-405c-8981-e7b6dde02613",
   "metadata": {},
   "outputs": [],
   "source": [
    "from perdiver.navground_io import run_navground\n",
    "runs = run_navground(args)"
   ]
  },
  {
   "cell_type": "code",
   "execution_count": null,
   "id": "9ee4d24a-4cce-4e77-bd98-30dd6dd7c28e",
   "metadata": {},
   "outputs": [],
   "source": [
    "display_video_from_run(run=runs[1], factor=3.0, fps=30)"
   ]
  },
  {
   "cell_type": "code",
   "execution_count": null,
   "id": "197c5aee-281d-43f3-b4d0-6b985feace24",
   "metadata": {},
   "outputs": [],
   "source": [
    "runs[0].collisions"
   ]
  },
  {
   "cell_type": "code",
   "execution_count": null,
   "id": "4ebc3dd3-21ca-4793-91d3-0b31cc6ef2b7",
   "metadata": {},
   "outputs": [],
   "source": [
    "runs[0].safety_violations[145]"
   ]
  },
  {
   "cell_type": "code",
   "execution_count": null,
   "id": "95f9be04-9222-4e88-abde-4668d5e719f4",
   "metadata": {},
   "outputs": [],
   "source": [
    "runs[0].safety_violations.shape"
   ]
  },
  {
   "cell_type": "code",
   "execution_count": null,
   "id": "9dd2ff6f-d6b8-41c9-b072-9aeceb4bb484",
   "metadata": {},
   "outputs": [],
   "source": [
    "safety_violations_HL = []\n",
    "for run_key in runs.keys():\n",
    "    run = runs[run_key]\n",
    "    safety_violations_HL.append(np.sum(run.safety_violations, axis=1))\n",
    "# end for\n",
    "safety_violations_HL = np.array(safety_violations_HL)"
   ]
  },
  {
   "cell_type": "code",
   "execution_count": null,
   "id": "d6d88314-1416-4ce0-a97b-026e74c3bd48",
   "metadata": {},
   "outputs": [],
   "source": [
    "fig, ax = plt.subplots(figsize=(16,5))\n",
    "signal = safety_violations_HL[1]\n",
    "time = range(len(signal))\n",
    "ax.plot(time, signal)\n",
    "ax.set_ylim([0,1])"
   ]
  },
  {
   "cell_type": "markdown",
   "id": "99720964-3489-4348-aeb2-56ee8a9a7490",
   "metadata": {},
   "source": [
    "## 2. ORCA behavior\n",
    "\n",
    "We run the experiment with ORCA behavior."
   ]
  },
  {
   "cell_type": "code",
   "execution_count": null,
   "id": "9c6d5c49-b8d8-4c5e-8612-8806f6e3880c",
   "metadata": {},
   "outputs": [],
   "source": [
    "args.behavior = \"ORCA\"\n",
    "runs = run_navground(args)"
   ]
  },
  {
   "cell_type": "code",
   "execution_count": null,
   "id": "4ba22ad8-ba98-4cd2-bb97-5d63a03b5e53",
   "metadata": {},
   "outputs": [],
   "source": [
    "safety_violations_ORCA = []\n",
    "for run_key in runs.keys():\n",
    "    run = runs[run_key]\n",
    "    safety_violations_ORCA.append(np.sum(run.safety_violations, axis=1))\n",
    "# end for\n",
    "safety_violations_ORCA = np.array(safety_violations_ORCA)"
   ]
  },
  {
   "cell_type": "code",
   "execution_count": null,
   "id": "f63c433a-5f45-4af3-902f-41e5de0d27f1",
   "metadata": {},
   "outputs": [],
   "source": [
    "fig, ax = plt.subplots(figsize=(16,5))\n",
    "signal = safety_violations_ORCA[6]\n",
    "time = range(len(signal))\n",
    "ax.plot(time, signal)\n",
    "ax.set_ylim([0,1])"
   ]
  },
  {
   "cell_type": "markdown",
   "id": "4d6d351f-928e-4f15-a611-7dede26a5de1",
   "metadata": {},
   "source": [
    "## 3. SocialForce behavior\n",
    "\n",
    "We run the experiment with SF behavior."
   ]
  },
  {
   "cell_type": "code",
   "execution_count": null,
   "id": "59b04aad-bbc3-41cf-8f30-eb8f5e4a8d71",
   "metadata": {},
   "outputs": [],
   "source": [
    "args.behavior = \"SocialForce\"\n",
    "runs = run_navground(args)"
   ]
  },
  {
   "cell_type": "code",
   "execution_count": null,
   "id": "a29403a4-4893-4790-a646-00130b0afd67",
   "metadata": {},
   "outputs": [],
   "source": [
    "safety_violations_SF = []\n",
    "for run_key in runs.keys():\n",
    "    run = runs[run_key]\n",
    "    safety_violations_SF.append(np.sum(run.safety_violations, axis=1))\n",
    "# end for\n",
    "safety_violations_SF = np.array(safety_violations_SF)"
   ]
  },
  {
   "cell_type": "code",
   "execution_count": null,
   "id": "3f0e1fe8-5cbd-4acf-86da-ba23d2a9d1ad",
   "metadata": {},
   "outputs": [],
   "source": [
    "fig, ax = plt.subplots(figsize=(16,5))\n",
    "signal = safety_violations_SF[1]\n",
    "time = range(len(signal))\n",
    "ax.plot(time, signal)\n",
    "ax.set_ylim([0,1])"
   ]
  },
  {
   "cell_type": "code",
   "execution_count": null,
   "id": "d71c8a36-c15d-4e5f-8f59-35830140c708",
   "metadata": {},
   "outputs": [],
   "source": [
    "all_safety_violations = np.vstack([\n",
    "    safety_violations_HL, safety_violations_ORCA, safety_violations_SF\n",
    "])\n",
    "all_safety_violations.shape"
   ]
  },
  {
   "cell_type": "code",
   "execution_count": null,
   "id": "7c5c6f07-5672-4530-b98d-ddd5055726a7",
   "metadata": {},
   "outputs": [],
   "source": [
    "from sklearn.decomposition import PCA\n",
    "\n",
    "fig, ax = plt.subplots(figsize=(5,5))\n",
    "\n",
    "titles = [\"safety violations\"]\n",
    "\n",
    "pca = PCA(n_components=2)\n",
    "embedding = pca.fit_transform(all_safety_violations)\n",
    "embedding_dict = {}\n",
    "behavior_list = [\"HL\", \"ORCA\", \"SF\"]\n",
    "for i, behavior in enumerate(behavior_list):\n",
    "    embedding_dict[behavior] = embedding[args.num_runs*i:args.num_runs*(i+1)]\n",
    "# end for\n",
    "\n",
    "color_behavior = { \"HL\": \"blue\", \"ORCA\": \"red\", \"SF\": \"green\"}\n",
    "for behavior in behavior_list:\n",
    "    ax.scatter(embedding_dict[behavior][:,0], embedding_dict[behavior][:,1], color=color_behavior[behavior], label=behavior)\n",
    "\n",
    "ax.set_title(\"safety violations\")\n",
    "plt.legend()\n",
    "plt.savefig(os.path.join(\"plots\", \"PCA-projection-baseline.png\"))"
   ]
  },
  {
   "cell_type": "code",
   "execution_count": null,
   "id": "ad988d4d-cbaa-4196-98df-cc68e3c500dd",
   "metadata": {},
   "outputs": [],
   "source": []
  }
 ],
 "metadata": {
  "kernelspec": {
   "display_name": "Python 3 (ipykernel)",
   "language": "python",
   "name": "python3"
  },
  "language_info": {
   "codemirror_mode": {
    "name": "ipython",
    "version": 3
   },
   "file_extension": ".py",
   "mimetype": "text/x-python",
   "name": "python",
   "nbconvert_exporter": "python",
   "pygments_lexer": "ipython3",
   "version": "3.10.12"
  }
 },
 "nbformat": 4,
 "nbformat_minor": 5
}
