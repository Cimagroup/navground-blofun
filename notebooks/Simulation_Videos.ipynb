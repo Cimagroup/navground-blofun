{
 "cells": [
  {
   "cell_type": "code",
   "execution_count": null,
   "id": "cacd07c1-0086-4443-8562-540f7c25dd8d",
   "metadata": {},
   "outputs": [],
   "source": [
    "from navground import sim, core\n",
    "\n",
    "yaml = \"\"\"\n",
    "type: Cross\n",
    "agent_margin: 0.2\n",
    "side: 10\n",
    "target_margin: 0.6\n",
    "tolerance: 0.2\n",
    "groups:  \n",
    "  -\n",
    "    type: thymio\n",
    "    number: 30\n",
    "    control_period: 0.1\n",
    "    behavior:\n",
    "      type: HL\n",
    "      safety_margin: 0.3 \n",
    "    radius: 0.2\n",
    "    kinematics:\n",
    "      type: 2WDiff\n",
    "      max_speed: 1.0\n",
    "      wheel_axis: 2\n",
    "    state_estimation:\n",
    "      type: Bounded\n",
    "      range: 2.0 \n",
    "\"\"\"\n",
    "scenario = sim.load_scenario(yaml)"
   ]
  },
  {
   "cell_type": "code",
   "execution_count": null,
   "id": "cd65ad56-533c-4e7c-afad-5743bffad93c",
   "metadata": {},
   "outputs": [],
   "source": [
    "import random\n",
    "\n",
    "world = sim.World()\n",
    "scenario.init_world(world, seed=random.randint(0, 2**31))"
   ]
  },
  {
   "cell_type": "code",
   "execution_count": null,
   "id": "bee85d27-6874-4173-ae90-b1a99aa05c46",
   "metadata": {},
   "outputs": [],
   "source": [
    "import matplotlib.colors as colors\n",
    "import matplotlib.cm as cmx\n",
    "\n",
    "def linear_map(a, b, cmap):\n",
    "    c = cmx.ScalarMappable(norm=colors.Normalize(vmin=a, vmax=b), cmap=cmap)  \n",
    "    def f(v):\n",
    "        r, g, b, _ = c.to_rgba(v)\n",
    "        return f\"#{int(r * 255):02x}{int(g * 255):02x}{int(b * 255):02x}\"\n",
    "    return f"
   ]
  },
  {
   "cell_type": "code",
   "execution_count": null,
   "id": "9ec9d1bc-48a6-4d4b-a6b9-503b9fc93452",
   "metadata": {},
   "outputs": [],
   "source": [
    "from navground.sim.ui import WebUI\n",
    "\n",
    "ui = WebUI(port=8002)\n",
    "await ui.prepare()"
   ]
  },
  {
   "cell_type": "code",
   "execution_count": null,
   "id": "a4684a0a-5dd0-445d-b6f4-408a0a871c37",
   "metadata": {},
   "outputs": [],
   "source": [
    "fill_map = linear_map(0.0, 1.0, cmap=cmx.RdYlGn)\n",
    "\n",
    "def f(entity):\n",
    "    if isinstance(entity, sim.Agent):\n",
    "        return {'fill': fill_map(entity.behavior.efficacy)}\n",
    "    return {}\n",
    "\n",
    "ui.decorate = f"
   ]
  },
  {
   "cell_type": "code",
   "execution_count": null,
   "id": "7dc446eb-6306-461e-8530-843d42472be8",
   "metadata": {},
   "outputs": [],
   "source": [
    "from navground.sim.ui.video import display_video\n",
    "\n",
    "display_video(world, time_step=0.1, duration=30.0, factor=5.0, \n",
    "              bounds=((-8, -8), (8, 8)), decorate=f, display_width=300)"
   ]
  },
  {
   "cell_type": "code",
   "execution_count": null,
   "id": "3bbecce4-140c-456c-b734-ca90977af3f1",
   "metadata": {},
   "outputs": [],
   "source": [
    "from navground.sim.ui.video import record_video\n",
    "\n",
    "record_video(\"test.mp4\", world, time_step=0.1, duration=30.0, factor=5.0, \n",
    "              bounds=((-2.5, -2.5), (2.5, 2.5)), decorate=f, width=600)"
   ]
  },
  {
   "cell_type": "code",
   "execution_count": null,
   "id": "26e6a80c-0acc-422c-9118-6e2805c0b5dc",
   "metadata": {},
   "outputs": [],
   "source": []
  }
 ],
 "metadata": {
  "kernelspec": {
   "display_name": "Python 3 (ipykernel)",
   "language": "python",
   "name": "python3"
  },
  "language_info": {
   "codemirror_mode": {
    "name": "ipython",
    "version": 3
   },
   "file_extension": ".py",
   "mimetype": "text/x-python",
   "name": "python",
   "nbconvert_exporter": "python",
   "pygments_lexer": "ipython3",
   "version": "3.10.12"
  }
 },
 "nbformat": 4,
 "nbformat_minor": 5
}
