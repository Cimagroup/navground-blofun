{
 "cells": [
  {
   "cell_type": "markdown",
   "id": "5803c7f8-9fb5-42a1-9892-dc8079e0ed58",
   "metadata": {},
   "source": [
    "Run an experiment video with normal movement."
   ]
  },
  {
   "cell_type": "code",
   "execution_count": 39,
   "id": "cacd07c1-0086-4443-8562-540f7c25dd8d",
   "metadata": {},
   "outputs": [],
   "source": [
    "from navground import sim, core\n",
    "\n",
    "yaml = \"\"\"\n",
    "type: CrossTorus\n",
    "agent_margin: 0.2\n",
    "side: 10\n",
    "tolerance: 0.4\n",
    "position_noise: 0.2\n",
    "groups:  \n",
    "  -\n",
    "    type: thymio\n",
    "    number: 36\n",
    "    control_period: 0.1\n",
    "    behavior:\n",
    "      type: HL\n",
    "      safety_margin: 0.2\n",
    "    radius: 0.15\n",
    "    kinematics:\n",
    "      type: 2WDiff\n",
    "      max_speed: 1\n",
    "      wheel_axis: 2\n",
    "    state_estimation:\n",
    "      type: Bounded\n",
    "      range: 2.0 \n",
    "\"\"\"\n",
    "scenario = sim.load_scenario(yaml)"
   ]
  },
  {
   "cell_type": "code",
   "execution_count": 40,
   "id": "cd65ad56-533c-4e7c-afad-5743bffad93c",
   "metadata": {},
   "outputs": [],
   "source": [
    "# import random\n",
    "\n",
    "# world = sim.World()\n",
    "# scenario.init_world(world, seed=5)"
   ]
  },
  {
   "cell_type": "code",
   "execution_count": 41,
   "id": "bee85d27-6874-4173-ae90-b1a99aa05c46",
   "metadata": {},
   "outputs": [],
   "source": [
    "import matplotlib.colors as colors\n",
    "import matplotlib.cm as cmx\n",
    "\n",
    "def linear_map(a, b, cmap):\n",
    "    c = cmx.ScalarMappable(norm=colors.Normalize(vmin=a, vmax=b), cmap=cmap)  \n",
    "    def f(v):\n",
    "        r, g, b, _ = c.to_rgba(v)\n",
    "        return f\"#{int(r * 255):02x}{int(g * 255):02x}{int(b * 255):02x}\"\n",
    "    return f"
   ]
  },
  {
   "cell_type": "code",
   "execution_count": 42,
   "id": "18fae8ac-5007-476f-bd4d-437ff2fe07c5",
   "metadata": {},
   "outputs": [],
   "source": [
    "# from navground.sim.ui import WebUI\n",
    "\n",
    "# ui = WebUI(port=8002)\n",
    "# await ui.prepare()"
   ]
  },
  {
   "cell_type": "code",
   "execution_count": 43,
   "id": "a4684a0a-5dd0-445d-b6f4-408a0a871c37",
   "metadata": {},
   "outputs": [],
   "source": [
    "fill_map = linear_map(0.0, 1.0, cmap=cmx.RdYlGn)\n",
    "\n",
    "def f(entity):\n",
    "    if isinstance(entity, sim.Agent):\n",
    "        return {'fill': fill_map(entity.behavior.efficacy)}\n",
    "    return {}\n",
    "\n"
   ]
  },
  {
   "cell_type": "code",
   "execution_count": 44,
   "id": "7dc446eb-6306-461e-8530-843d42472be8",
   "metadata": {},
   "outputs": [],
   "source": [
    "# from navground.sim.ui.video import display_video\n",
    "\n",
    "# ui.decorate = f\n",
    "# display_video(world, time_step=0.1, duration=200.0, factor=10.0, \n",
    "#               bounds=((-8, -8), (8, 8)), decorate=f, display_width=300)"
   ]
  },
  {
   "cell_type": "code",
   "execution_count": 45,
   "id": "d9c7d0e1-d470-4b30-831a-2bc7e425d16d",
   "metadata": {},
   "outputs": [],
   "source": [
    "from navground.sim.ui.video import record_video\n",
    "\n",
    "world = sim.World()\n",
    "scenario.init_world(world, seed=5)\n",
    "\n",
    "record_video(\"first_torus_cross_exp.mp4\", world, time_step=0.1, duration=100.0, factor=5.0,\n",
    "              bounds=((-1, -1), (11, 11)), decorate=f, width=300, display_shape=True, fps=1)"
   ]
  },
  {
   "cell_type": "code",
   "execution_count": 46,
   "id": "a8e228b1-76e5-41a3-8bdb-0ede9fdf4997",
   "metadata": {
    "scrolled": true
   },
   "outputs": [
    {
     "data": {
      "text/html": [
       "<video src=\"first_torus_cross_exp.mp4\" controls  width=\"300\" >\n",
       "      Your browser does not support the <code>video</code> element.\n",
       "    </video>"
      ],
      "text/plain": [
       "<IPython.core.display.Video object>"
      ]
     },
     "execution_count": 46,
     "metadata": {},
     "output_type": "execute_result"
    }
   ],
   "source": [
    "from IPython.display import Video\n",
    "\n",
    "Video(\"first_torus_cross_exp.mp4\", width=300)"
   ]
  },
  {
   "cell_type": "markdown",
   "id": "ed28c97c-3c5b-4a50-b67d-245934345571",
   "metadata": {},
   "source": [
    "# Deadlock Simulation\n",
    "\n",
    "We run an example where robots end up in deadlock."
   ]
  },
  {
   "cell_type": "code",
   "execution_count": null,
   "id": "0f325ed6-6900-47eb-83f1-553a97d2b8dc",
   "metadata": {},
   "outputs": [],
   "source": [
    "yaml = \"\"\"\n",
    "type: Cross\n",
    "agent_margin: 0.15\n",
    "side: 11\n",
    "radius: 5\n",
    "tolerance: 0.5\n",
    "position_noise: 0.2\n",
    "groups:  \n",
    "  -\n",
    "    type: thymio\n",
    "    number: 18\n",
    "    control_period: 0.1\n",
    "    behavior:\n",
    "      type: HL\n",
    "      safety_margin: 0.5 \n",
    "    radius: 0.15\n",
    "    kinematics:\n",
    "      type: 2WDiff\n",
    "      max_speed: 1\n",
    "      wheel_axis: 2\n",
    "    state_estimation:\n",
    "      type: Bounded\n",
    "      range: 2.0 \n",
    "\"\"\"\n",
    "scenario = sim.load_scenario(yaml)"
   ]
  },
  {
   "cell_type": "code",
   "execution_count": null,
   "id": "cc62ba73-4021-45cd-afb3-20f42dfb32d7",
   "metadata": {},
   "outputs": [],
   "source": [
    "from navground.sim.ui.video import record_video\n",
    "\n",
    "world = sim.World()\n",
    "scenario.init_world(world, seed=5)\n",
    "record_video(\"second_cross_exp.mp4\", world, time_step=0.1, duration=230.0, factor=5.0,\n",
    "              bounds=((-8, -8), (8, 8)), decorate=f, width=600)\n",
    "\n",
    "from IPython.display import Video\n",
    "\n",
    "Video(\"second_cross_exp.mp4\", width=300)"
   ]
  },
  {
   "cell_type": "markdown",
   "id": "15dbb366-e9aa-4145-99cf-a0747972a0b6",
   "metadata": {},
   "source": [
    "# Images of simulation\n",
    "\n",
    "We start by restarting the simulation. Large margin and number of agents."
   ]
  },
  {
   "cell_type": "code",
   "execution_count": null,
   "id": "ddcf9960-1c2a-45c6-a6c1-b20ef3cc3fb3",
   "metadata": {},
   "outputs": [],
   "source": [
    "from IPython.display import SVG\n",
    "from navground.sim.ui import svg_for_world\n",
    "\n",
    "yaml = \"\"\"\n",
    "type: Cross\n",
    "agent_margin: 0.2\n",
    "side: 11\n",
    "target_margin: 0.6\n",
    "tolerance: 0.4\n",
    "groups:  \n",
    "  -\n",
    "    type: thymio\n",
    "    number: 30\n",
    "    control_period: 0.1\n",
    "    behavior:\n",
    "      type: HL\n",
    "      safety_margin: 0.4 \n",
    "    radius: 0.2\n",
    "    kinematics:\n",
    "      type: 2WDiff\n",
    "      max_speed: 1.0\n",
    "      wheel_axis: 2\n",
    "    state_estimation:\n",
    "      type: Bounded\n",
    "      range: 2.0 \n",
    "\"\"\"\n",
    "scenario = sim.load_scenario(yaml)"
   ]
  },
  {
   "cell_type": "code",
   "execution_count": null,
   "id": "cc9fe0bc-021c-44b2-a534-9a5e831f0852",
   "metadata": {},
   "outputs": [],
   "source": [
    "scenario = sim.load_scenario(yaml)\n",
    "world = sim.World()\n",
    "scenario.init_world(world, seed=5)"
   ]
  },
  {
   "cell_type": "code",
   "execution_count": null,
   "id": "25730a76-594c-4eba-9c22-6890aad12089",
   "metadata": {},
   "outputs": [],
   "source": [
    "world.run(steps=70, time_step=0.1)\n",
    "\n",
    "SVG(data=svg_for_world(world, width=600, decorate=f))"
   ]
  },
  {
   "cell_type": "markdown",
   "id": "41f5640c-a23d-43cb-b086-e8db7ed82fe8",
   "metadata": {},
   "source": [
    "Low number of agents."
   ]
  },
  {
   "cell_type": "code",
   "execution_count": null,
   "id": "fc7d8719-a6e7-4d18-97cd-a6bffd1dcf2e",
   "metadata": {},
   "outputs": [],
   "source": [
    "yaml = \"\"\"\n",
    "type: Cross\n",
    "agent_margin: 0.2\n",
    "side: 11\n",
    "target_margin: 0.6\n",
    "tolerance: 0.4\n",
    "groups:  \n",
    "  -\n",
    "    type: thymio\n",
    "    number: 15\n",
    "    control_period: 0.1\n",
    "    behavior:\n",
    "      type: HL\n",
    "      safety_margin: 0.4 \n",
    "    radius: 0.2\n",
    "    kinematics:\n",
    "      type: 2WDiff\n",
    "      max_speed: 1.0\n",
    "      wheel_axis: 2\n",
    "    state_estimation:\n",
    "      type: Bounded\n",
    "      range: 2.0 \n",
    "\"\"\"\n",
    "scenario = sim.load_scenario(yaml)\n",
    "\n",
    "scenario = sim.load_scenario(yaml)\n",
    "world = sim.World()\n",
    "scenario.init_world(world, seed=3)"
   ]
  },
  {
   "cell_type": "code",
   "execution_count": null,
   "id": "5b262b2d-9802-421f-b6ca-15785afea333",
   "metadata": {},
   "outputs": [],
   "source": [
    "world.run(steps=70, time_step=0.1)\n",
    "\n",
    "SVG(data=svg_for_world(world, width=600, decorate=f))"
   ]
  },
  {
   "cell_type": "markdown",
   "id": "c97cf275-f3c4-4703-a5ca-51c861d88836",
   "metadata": {},
   "source": [
    "# Example Deadlock"
   ]
  },
  {
   "cell_type": "code",
   "execution_count": null,
   "id": "b2ea2743-8142-4ccc-9a65-3d830b0ff81b",
   "metadata": {},
   "outputs": [],
   "source": [
    "yaml = \"\"\"\n",
    "type: Cross\n",
    "agent_margin: 0.2\n",
    "side: 11\n",
    "target_margin: 0.6\n",
    "tolerance: 0.4\n",
    "groups:  \n",
    "  -\n",
    "    type: thymio\n",
    "    number: 22\n",
    "    control_period: 0.1\n",
    "    behavior:\n",
    "      type: HL\n",
    "      safety_margin: 0.2 \n",
    "    radius: 0.2\n",
    "    kinematics:\n",
    "      type: 2WDiff\n",
    "      max_speed: 1.0\n",
    "      wheel_axis: 2\n",
    "    state_estimation:\n",
    "      type: Bounded\n",
    "      range: 2.0 \n",
    "\"\"\"\n",
    "scenario = sim.load_scenario(yaml)"
   ]
  },
  {
   "cell_type": "code",
   "execution_count": null,
   "id": "18373f37-8436-478a-8007-de6c84d37741",
   "metadata": {},
   "outputs": [],
   "source": [
    "scenario = sim.load_scenario(yaml)\n",
    "world = sim.World()\n",
    "scenario.init_world(world, seed=10)"
   ]
  },
  {
   "cell_type": "markdown",
   "id": "e134543a-70c7-47f9-8c19-52028a5e06b4",
   "metadata": {},
   "source": [
    "Also, we color robots by estimated time to target."
   ]
  },
  {
   "cell_type": "code",
   "execution_count": null,
   "id": "e5bfbebd-e59d-4169-8791-32080cfa6395",
   "metadata": {},
   "outputs": [],
   "source": [
    "SVG(data=svg_for_world(world, width=600, decorate=f))"
   ]
  },
  {
   "cell_type": "code",
   "execution_count": null,
   "id": "d69d15ba-b5ff-4339-8fa0-a02ff7b657d2",
   "metadata": {},
   "outputs": [],
   "source": [
    "world.run(steps=850, time_step=0.1)\n",
    "\n",
    "SVG(data=svg_for_world(world, width=600, decorate=f))"
   ]
  },
  {
   "cell_type": "code",
   "execution_count": null,
   "id": "b9ce73a8-3cfb-411f-bd7e-ebd7cab3d67f",
   "metadata": {},
   "outputs": [],
   "source": [
    "world.run(steps=200, time_step=0.1)\n",
    "\n",
    "SVG(data=svg_for_world(world, width=600, decorate=f))"
   ]
  },
  {
   "cell_type": "code",
   "execution_count": null,
   "id": "6caab417-1a08-40f0-98fa-d9a3ca47693a",
   "metadata": {},
   "outputs": [],
   "source": []
  }
 ],
 "metadata": {
  "kernelspec": {
   "display_name": "Python 3 (ipykernel)",
   "language": "python",
   "name": "python3"
  },
  "language_info": {
   "codemirror_mode": {
    "name": "ipython",
    "version": 3
   },
   "file_extension": ".py",
   "mimetype": "text/x-python",
   "name": "python",
   "nbconvert_exporter": "python",
   "pygments_lexer": "ipython3",
   "version": "3.10.12"
  }
 },
 "nbformat": 4,
 "nbformat_minor": 5
}
