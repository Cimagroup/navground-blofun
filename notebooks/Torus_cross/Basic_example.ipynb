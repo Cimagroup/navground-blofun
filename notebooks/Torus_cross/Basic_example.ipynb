{
 "cells": [
  {
   "cell_type": "markdown",
   "id": "feda160c-79fc-43d0-9966-5f6278a98540",
   "metadata": {},
   "source": [
    "# Basic example of simulation on Torus\n",
    "\n",
    "In this example, we run a Navground simulation on a Torus defined by a square with periodic boundary conditions. We explore the basics of computing persistence divergence diagrams.\n",
    "\n",
    "We start by importing a few libraries. We use the `perdiver` library, which in turn uses the `tdqual` library for computing the matching diagrams."
   ]
  },
  {
   "cell_type": "code",
   "execution_count": null,
   "id": "3e4eee11-77c4-45db-abf7-eab068bd038c",
   "metadata": {},
   "outputs": [],
   "source": [
    "import numpy as np\n",
    "import matplotlib.pyplot as plt\n",
    "import scipy.spatial.distance as dist\n",
    "import matplotlib as mpl\n",
    "\n",
    "plots_dir = \"plots/\"\n",
    "import os\n",
    "\n",
    "os.makedirs(plots_dir, exist_ok=True)\n",
    "\n",
    "from perdiver.distances import *\n",
    "import perdiver.perdiver as perdiver"
   ]
  },
  {
   "cell_type": "markdown",
   "id": "344f13e2-40f9-4d20-a2d2-8aaac937563b",
   "metadata": {},
   "source": [
    "We run a simulation with `10`agents using the ORCA behaviour."
   ]
  },
  {
   "cell_type": "code",
   "execution_count": null,
   "id": "4df19766-4f28-49ec-bcd7-745780951a6c",
   "metadata": {},
   "outputs": [],
   "source": [
    "from navground import sim, core\n",
    "side=20\n",
    "# behaviour = \"ORCA\"\n",
    "# # The following YAML contains the information for running the Navground simulation.\n",
    "# yaml = f\"\"\"\n",
    "# steps: 1000\n",
    "# time_step: 0.1\n",
    "# record_pose: true\n",
    "# record_twist: true\n",
    "# runs: 1\n",
    "# scenario:\n",
    "#   type: CrossTorus\n",
    "#   agent_margin: 0.2\n",
    "#   side: {side}\n",
    "#   target_margin: 0.6\n",
    "#   tolerance: 0.4\n",
    "#   groups:   \n",
    "#     -\n",
    "#       type: thymio\n",
    "#       number: 10\n",
    "#       control_period: 0.1\n",
    "#       behavior:\n",
    "#         type: {behaviour}\n",
    "#         safety_margin: 0.2 \n",
    "#         horizon: 3\n",
    "#         barrier_angle: 1\n",
    "#       radius: 0.2\n",
    "#       kinematics:\n",
    "#         type: 2WDiff\n",
    "#         max_speed: 1.0\n",
    "#         wheel_axis: 2\n",
    "#       state_estimation:\n",
    "#         type: Bounded\n",
    "#         range: 2.0 \n",
    "# \"\"\"\n",
    "# experiment = sim.load_experiment(yaml)\n",
    "path = \"recorded_simulation.h5\"\n",
    "# experiment.run(keep=False, data_path=path)\n",
    "# We load the coordinates and velocities at all timesteps \n",
    "recorded_experiment = sim.RecordedExperiment(path)\n",
    "run = recorded_experiment.runs[0]\n",
    "ps = run.poses[:,:,[0,1]]\n",
    "twists = run.twists[:,:,:2] # ignore angular speeds"
   ]
  },
  {
   "cell_type": "markdown",
   "id": "2c8c9369-a6c4-4e1f-bd38-07d263221f54",
   "metadata": {},
   "source": [
    "Now, we plot two timesteps with their velocities."
   ]
  },
  {
   "cell_type": "code",
   "execution_count": null,
   "id": "fad154a2-2ad7-42ee-833d-d0f10eea66a7",
   "metadata": {},
   "outputs": [],
   "source": [
    "fig, ax = plt.subplots(figsize=(5,5))\n",
    "start=110\n",
    "end=140\n",
    "perdiver.plot_two_timesteps_with_velocities(ps[start], ps[end], twists[start], twists[end], ax, X_col=\"blue\", Y_col=\"red\")\n",
    "ax.set_xticks([])\n",
    "ax.set_yticks([])\n",
    "plt.savefig(f\"{plots_dir}two_timesteps.png\")"
   ]
  },
  {
   "cell_type": "markdown",
   "id": "8f4ff64b-8dce-47fe-af18-9dd5ab8d5047",
   "metadata": {},
   "source": [
    "Next, compute distance matrix."
   ]
  },
  {
   "cell_type": "code",
   "execution_count": null,
   "id": "9ddb4b47-8fd2-4f31-9e21-b126ec509ab9",
   "metadata": {},
   "outputs": [],
   "source": [
    "weight=1\n",
    "fig, ax = plt.subplots(ncols=2, figsize=(7,3.5))\n",
    "for idx, w in zip(range(2), [1,5]):\n",
    "    Dist_X, Dist_Y, Dist_Z = compute_distance_matrices_timesteps_2Dtorus(ps[start], ps[end], w*twists[start], w*twists[end], weight, side)\n",
    "    match_diagram = perdiver.get_matching_diagram(Dist_X, Dist_Y)\n",
    "    perdiver.plot_matching_diagram(match_diagram, ax[idx], color=\"blue\")\n",
    "    ax[idx].set_title(f\"D(f) for weight {w:2d}\")\n",
    "\n",
    "plt.savefig(f\"{plots_dir}two_timesteps_matching_diagram.png\")"
   ]
  },
  {
   "cell_type": "code",
   "execution_count": null,
   "id": "d0f4aecb-6352-468e-b1f8-43bc133b9a54",
   "metadata": {},
   "outputs": [],
   "source": []
  }
 ],
 "metadata": {
  "kernelspec": {
   "display_name": "Python 3 (ipykernel)",
   "language": "python",
   "name": "python3"
  },
  "language_info": {
   "codemirror_mode": {
    "name": "ipython",
    "version": 3
   },
   "file_extension": ".py",
   "mimetype": "text/x-python",
   "name": "python",
   "nbconvert_exporter": "python",
   "pygments_lexer": "ipython3",
   "version": "3.10.12"
  }
 },
 "nbformat": 4,
 "nbformat_minor": 5
}
