{
 "cells": [
  {
   "cell_type": "code",
   "execution_count": null,
   "id": "d1c61908-f8f2-4bfc-8e39-33659817f7e3",
   "metadata": {},
   "outputs": [],
   "source": [
    "from navground import sim\n",
    "import h5py\n",
    "import os\n",
    "import matplotlib.pyplot as plt\n",
    "import numpy as np\n",
    "\n",
    "import iblofunmatch.inter as ibfm\n",
    "\n",
    "from navground import sim, core"
   ]
  },
  {
   "cell_type": "code",
   "execution_count": null,
   "id": "eedc110e",
   "metadata": {},
   "outputs": [],
   "source": [
    "side_length = 20\n",
    "yaml = f\"\"\"\n",
    "steps: 10000\n",
    "time_step: 0.1\n",
    "record_safety_violation: true\n",
    "record_task_events: true\n",
    "record_pose: true\n",
    "runs: 2\n",
    "scenario:\n",
    "  type: Cross\n",
    "  side: {side_length}\n",
    "  agent_margin: 0.2\n",
    "  add_safety_to_agent_margin: true\n",
    "  tolerance: 0.6\n",
    "  position_noise: 0.2\n",
    "  groups:\n",
    "    - number: 25\n",
    "      type: thymio\n",
    "      control_period: 0.1\n",
    "      behavior:\n",
    "        type: HL\n",
    "        safety_margin: 0.1\n",
    "      radius: 0.2\n",
    "      kinematics:\n",
    "        type: 2WDiff\n",
    "        max_speed: 1.0\n",
    "        wheel_axis: 2\n",
    "      state_estimation:\n",
    "        type: Bounded\n",
    "        range: 2.0\n",
    "\"\"\"\n",
    "scenario = sim.load_scenario(yaml)"
   ]
  },
  {
   "cell_type": "code",
   "execution_count": null,
   "id": "1a282933-3fe7-46f5-8673-b07a9bf46224",
   "metadata": {},
   "outputs": [],
   "source": [
    "import random\n",
    "\n",
    "world = sim.World()\n",
    "scenario.init_world(world, seed=random.randint(0, 2**31))"
   ]
  },
  {
   "cell_type": "code",
   "execution_count": null,
   "id": "ed813086-abc6-482b-abb2-b74ad6fe78c2",
   "metadata": {},
   "outputs": [],
   "source": [
    "experiment = sim.load_experiment(yaml)\n",
    "experiment.run()"
   ]
  },
  {
   "cell_type": "code",
   "execution_count": null,
   "id": "22fd014a-f2f3-4d8e-abea-b0ba7cbb18d9",
   "metadata": {},
   "outputs": [],
   "source": [
    "ps = experiment.runs[0].poses"
   ]
  },
  {
   "cell_type": "markdown",
   "id": "eb680049-7e71-4c5d-a0cd-665ff128bf8f",
   "metadata": {},
   "source": [
    "### Compute Block Function between two timesteps"
   ]
  },
  {
   "cell_type": "code",
   "execution_count": null,
   "id": "0aa48397-26d6-4c0b-afc6-3e16f6f80b74",
   "metadata": {},
   "outputs": [],
   "source": [
    "start_time = 50\n",
    "end_time = 100 # long wait\n",
    "X = ps[start_time][:,[0,1]]\n",
    "Y = ps[end_time][:,[0,1]]\n",
    "unique_pts = np.sum(np.abs(X-Y), axis=1)>10e-7\n",
    "repeated_pts = np.nonzero(unique_pts==False)[0].tolist()\n",
    "Y_unique = Y[unique_pts]\n",
    "Z = np.vstack((X, Y_unique))\n",
    "output_dir=\"output\"\n",
    "os.makedirs(output_dir, exist_ok=True)\n",
    "ibfm_bfun = [] \n",
    "for i in range(2):\n",
    "    if i ==0:\n",
    "        indices_subpoints = list(range(X.shape[0]))\n",
    "    elif i==1:\n",
    "        indices_subpoints = list(range(X.shape[0], Z.shape[0]))\n",
    "        indices_subpoints += repeated_pts\n",
    "    # finished with lists \n",
    "    print(indices_subpoints)\n",
    "    ibfm_bfun.append(ibfm.get_IBloFunMatch_subset(None, Z, indices_subpoints, output_dir, max_rad=-1, num_it=4, points=True))"
   ]
  },
  {
   "cell_type": "code",
   "execution_count": null,
   "id": "68acfb25-3cfa-425f-b41d-5a188da78898",
   "metadata": {},
   "outputs": [],
   "source": [
    "fig, ax = plt.subplots(figsize=(10,10))\n",
    "ibfm.plot_XYZ_matching_0(ibfm_bfun, ax)\n",
    "ax.set_xlim([-4,4])\n",
    "plt.savefig(\"matching_0_dim_large_radius.png\")"
   ]
  },
  {
   "cell_type": "code",
   "execution_count": null,
   "id": "6b6ab98b-ca4c-47bf-93cf-d7acea123454",
   "metadata": {},
   "outputs": [],
   "source": [
    "fig, ax = plt.subplots(figsize=(10,10))\n",
    "ibfm.plot_XYZ_matching_0(ibfm_bfun, ax)\n",
    "ax.set_xlim([-4,4])\n",
    "plt.savefig(\"matching_0_dim_large_margin.png\")"
   ]
  },
  {
   "cell_type": "code",
   "execution_count": null,
   "id": "2914aeea-28e5-4e8f-a105-9271bd1120c1",
   "metadata": {},
   "outputs": [],
   "source": [
    "fig, ax = plt.subplots(ncols=3, figsize=(18,6))\n",
    "colorlist = [\"red\", \"black\", \"blue\"]\n",
    "# Scatter points \n",
    "ax[0].scatter(X[:,0], X[:,1], c=colorlist[0])\n",
    "ax[2].scatter(Y[:,0], Y[:,1], c=colorlist[2])\n",
    "# plot both point clouds in the middle\n",
    "ax[1].scatter(X[:,0], X[:,1], c=colorlist[0], s=30, zorder=3, marker=\"x\")\n",
    "ax[1].scatter(Y[:,0], Y[:,1], c=colorlist[2], s=30, zorder=3, marker=\"+\")\n",
    "for start, end in zip(X, Y):\n",
    "    ax[1].plot([start[0], end[0]], [start[1], end[1]], c=\"black\")\n",
    "plt.savefig(\"points_matching_low_distance.png\")"
   ]
  },
  {
   "cell_type": "code",
   "execution_count": null,
   "id": "3cd56d10-cc5b-4dbc-8720-e1c155023818",
   "metadata": {},
   "outputs": [],
   "source": [
    "fig, ax = plt.subplots(ncols=3, figsize=(18,6))\n",
    "colorlist = [\"red\", \"black\", \"blue\"]\n",
    "# Scatter points \n",
    "ax[0].scatter(X[:,0], X[:,1], c=colorlist[0])\n",
    "ax[2].scatter(Y[:,0], Y[:,1], c=colorlist[2])\n",
    "# plot both point clouds in the middle\n",
    "ax[1].scatter(X[:,0], X[:,1], c=colorlist[0], s=30, zorder=3, marker=\"x\")\n",
    "ax[1].scatter(Y[:,0], Y[:,1], c=colorlist[2], s=30, zorder=3, marker=\"+\")\n",
    "for start, end in zip(X, Y):\n",
    "    ax[1].plot([start[0], end[0]], [start[1], end[1]], c=\"black\")\n",
    "plt.savefig(\"points_matching_large_margin.png\")"
   ]
  },
  {
   "cell_type": "code",
   "execution_count": null,
   "id": "c93e6724-a452-4538-bac7-1823b8eae77d",
   "metadata": {},
   "outputs": [],
   "source": [
    "block_00 = ibfm_bfun[0][\"block_function_0\"]\n",
    "block_10 = ibfm_bfun[1][\"block_function_0\"]\n",
    "unmatched_block_0 = [i for i in range(ibfm_bfun[0][\"X_barcode_0\"].shape[0]) if (i not in block_00) and (i not in block_10)]\n",
    "double_matched_block_0 = [i for i in block_00 if i in block_10]\n",
    "# unmatched dim 1 \n",
    "block_01 = ibfm_bfun[0][\"block_function_1\"]\n",
    "block_11 = ibfm_bfun[1][\"block_function_1\"]\n",
    "unmatched_block_1 = [i for i in range(ibfm_bfun[0][\"X_barcode_1\"].shape[0]) if (i not in block_01) and (i not in block_11)]"
   ]
  },
  {
   "cell_type": "code",
   "execution_count": null,
   "id": "27360587-be4c-47f7-93da-dd39bb3cb7b5",
   "metadata": {},
   "outputs": [],
   "source": [
    "fig, ax = plt.subplots(nrows=1,ncols=4, figsize=(20,5))\n",
    "ibfm.plot_matching(ibfm_bfun[0], ax[[0,1]], fig, max_rad=-1, block_function=True, dim=0, codomain_int=unmatched_block_0, repeated_codomain=double_matched_block_0)\n",
    "ibfm.plot_matching(ibfm_bfun[1], ax[[2,3]], fig, max_rad=-1, block_function=True, dim=0, codomain_int=unmatched_block_0, repeated_codomain=double_matched_block_0)\n",
    "plt.savefig(\"block_functions_large_margin.png\")"
   ]
  },
  {
   "cell_type": "code",
   "execution_count": null,
   "id": "f8090cff-3772-4b6f-a324-a0682e2e0d42",
   "metadata": {},
   "outputs": [],
   "source": [
    "common_cycles = np.intersect1d(ibfm_bfun[0][\"block_function_1\"], ibfm_bfun[1][\"block_function_1\"])\n",
    "common_cycles = common_cycles[common_cycles>=0].tolist()\n",
    "common_cycles"
   ]
  },
  {
   "cell_type": "code",
   "execution_count": null,
   "id": "d433aaf1-59a6-4247-a2b8-e45f40d2e936",
   "metadata": {},
   "outputs": [],
   "source": [
    "common_cycles = np.intersect1d(ibfm_bfun[0][\"block_function_1\"], ibfm_bfun[1][\"block_function_1\"])\n",
    "common_cycles = common_cycles[common_cycles>=0].tolist()\n",
    "fig, ax = plt.subplots(nrows=len(common_cycles), ncols=3, figsize=(18,6*len(common_cycles)))\n",
    "if len(common_cycles)==1:\n",
    "    ax = [ax]\n",
    "for j, idx in enumerate(common_cycles):\n",
    "    idx_X = ibfm_bfun[0][\"block_function_1\"].index(idx)\n",
    "    idx_Y = ibfm_bfun[1][\"block_function_1\"].index(idx)\n",
    "    assert(ibfm_bfun[0][\"block_function_1\"][idx_X]==idx)\n",
    "    assert(ibfm_bfun[1][\"block_function_1\"][idx_Y]==idx)\n",
    "    # Scatter points \n",
    "    colorlist = [\"red\", \"black\", \"blue\"]\n",
    "    ax[j][0].scatter(X[:,0], X[:,1], c=colorlist[0])\n",
    "    ax[j][2].scatter(Y[:,0], Y[:,1], c=colorlist[2])\n",
    "    # plot both point clouds in the middle\n",
    "    ax[j][1].scatter(Z[:,0], Z[:,1], c=colorlist[1], s=30, zorder=2)\n",
    "    ax[j][1].scatter(X[:,0], X[:,1], c=colorlist[0], s=30, zorder=3, marker=\"x\")\n",
    "    ax[j][1].scatter(Y[:,0], Y[:,1], c=colorlist[2], s=30, zorder=3, marker=\"+\")\n",
    "    cycle_list = [ibfm_bfun[0][\"S_reps_1\"][idx_X], ibfm_bfun[1][\"X_reps_1\"][idx], ibfm_bfun[1][\"S_reps_1\"][idx_Y]]\n",
    "    for i, cycle in enumerate(cycle_list):\n",
    "        repr = cycle.copy()\n",
    "        while len(repr)>0:\n",
    "            edge = [repr.pop(), repr.pop()]\n",
    "            ax[j][i].plot(Z[edge][:,0], Z[edge][:,1], linewidth=3, c=colorlist[i])\n",
    "\n",
    "plt.savefig(\"cycles_match.png\")"
   ]
  },
  {
   "cell_type": "code",
   "execution_count": null,
   "id": "21ad78a6-5b43-4dda-88c0-9a218ba24f88",
   "metadata": {},
   "outputs": [],
   "source": []
  },
  {
   "cell_type": "code",
   "execution_count": null,
   "id": "77732ea9-ad48-44d1-bee5-12c5597cce22",
   "metadata": {},
   "outputs": [],
   "source": []
  }
 ],
 "metadata": {
  "kernelspec": {
   "display_name": "Python 3 (ipykernel)",
   "language": "python",
   "name": "python3"
  },
  "language_info": {
   "codemirror_mode": {
    "name": "ipython",
    "version": 3
   },
   "file_extension": ".py",
   "mimetype": "text/x-python",
   "name": "python",
   "nbconvert_exporter": "python",
   "pygments_lexer": "ipython3",
   "version": "3.10.12"
  }
 },
 "nbformat": 4,
 "nbformat_minor": 5
}
