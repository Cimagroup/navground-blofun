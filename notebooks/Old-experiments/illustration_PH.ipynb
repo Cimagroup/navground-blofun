{
 "cells": [
  {
   "cell_type": "code",
   "execution_count": null,
   "id": "4994d21f-6966-41f3-990a-744a8b0e413c",
   "metadata": {},
   "outputs": [],
   "source": [
    "import numpy as np\n",
    "import matplotlib.pyplot as plt\n",
    "import scipy.spatial.distance as dist\n",
    "import matplotlib as mpl\n",
    "output_dir=\"output\"\n",
    "import os\n",
    "\n",
    "from perdiver.distances import *\n",
    "import perdiver.perdiver as perdiver\n",
    "\n",
    "plots_path = \"plots/illustration/\"\n",
    "os.makedirs(plots_path, exist_ok=True)"
   ]
  },
  {
   "cell_type": "code",
   "execution_count": null,
   "id": "5148b9ec-84eb-4a25-8b72-2aeea4b5d68d",
   "metadata": {},
   "outputs": [],
   "source": [
    "from navground import sim, core\n",
    "\n",
    "number = 10\n",
    "yaml = f\"\"\"\n",
    "steps: 10000\n",
    "time_step: 0.1\n",
    "save_directory: ''\n",
    "record_pose: true\n",
    "record_twist: true\n",
    "scenario:\n",
    "  type: Cross\n",
    "  agent_margin: 0.2\n",
    "  side: 28\n",
    "  target_margin: 0.6\n",
    "  tolerance: 0.4\n",
    "  groups:  \n",
    "    -\n",
    "      type: thymio\n",
    "      number: {number}\n",
    "      control_period: 0.1\n",
    "      behavior:\n",
    "        type: HL\n",
    "        safety_margin: 0.25 \n",
    "        horizon: 3\n",
    "        barrier_angle: 1\n",
    "      radius: 0.25\n",
    "      kinematics:\n",
    "        type: 2WDiff\n",
    "        max_speed: 1.0\n",
    "        wheel_axis: 2\n",
    "      state_estimation:\n",
    "        type: Bounded\n",
    "        range: 2.0 \n",
    "\"\"\"\n",
    "experiment = sim.load_experiment(yaml)\n",
    "experiment.run()"
   ]
  },
  {
   "cell_type": "code",
   "execution_count": null,
   "id": "1224c4cb-098a-44f1-a6f5-f7072106655f",
   "metadata": {},
   "outputs": [],
   "source": [
    "run = experiment.runs[0]\n",
    "ps = run.poses[:,:,[0,1]]\n",
    "twists = run.twists[:,:,:2] # ignore angular speeds"
   ]
  },
  {
   "cell_type": "code",
   "execution_count": null,
   "id": "977c9124-53ab-4a1d-9b79-6e8385fc9f47",
   "metadata": {},
   "outputs": [],
   "source": [
    "step = 400\n",
    "fig, ax = plt.subplots(figsize=(5,5))\n",
    "X = ps[step]\n",
    "vec_X = twists[step]\n",
    "ax.scatter(X[:,0], X[:,1], color=\"red\", zorder=2)\n",
    "for base, vel in zip(X, vec_X):\n",
    "    ax.arrow(base[0], base[1], vel[0], vel[1], color=\"black\", zorder=1, width=0.15)\n",
    "\n",
    "ax.set_title(\"Cross scenario timestep\")\n",
    "plt.tight_layout()\n",
    "plt.savefig(plots_path + \"timestep_cross.png\")"
   ]
  },
  {
   "cell_type": "markdown",
   "id": "0c174628-31d8-4ba4-9b96-7aec95c5df08",
   "metadata": {},
   "source": [
    "Next, we compute the distance matrix at the timestep."
   ]
  },
  {
   "cell_type": "code",
   "execution_count": null,
   "id": "6f26e316-c2f3-466f-af8c-50c7d771e88e",
   "metadata": {},
   "outputs": [],
   "source": [
    "weight=1\n",
    "dist_result = perdiver.distances_weighted_velocities(X, vec_X, weight)"
   ]
  },
  {
   "cell_type": "code",
   "execution_count": null,
   "id": "50d7e1cb-aebc-4208-8818-859033eb3d34",
   "metadata": {},
   "outputs": [],
   "source": [
    "fig, ax = plt.subplots(figsize=(5,5))\n",
    "ax.imshow(dist_result, cmap=\"Blues\")\n",
    "norm = mpl.colors.Normalize(np.min(dist_result), vmax=np.max(dist_result))\n",
    "cmap = mpl.colormaps[\"Blues\"]\n",
    "mappable = mpl.cm.ScalarMappable(norm=norm, cmap=cmap)\n",
    "plt.colorbar(mappable=mappable, ax=ax)\n",
    "plt.tight_layout()\n",
    "plt.savefig(plots_path + \"distance_matrix.png\")"
   ]
  },
  {
   "cell_type": "markdown",
   "id": "11b08393-8626-42d9-b1c5-0fbe0855c636",
   "metadata": {},
   "source": [
    "Let us compute Persistent homology using IBloFunMatch"
   ]
  },
  {
   "cell_type": "code",
   "execution_count": null,
   "id": "886bbd8f-dec2-4681-9392-050d198e79c1",
   "metadata": {},
   "outputs": [],
   "source": [
    "import iblofunmatch.inter as ibfm\n",
    "output_dir = \"output\""
   ]
  },
  {
   "cell_type": "code",
   "execution_count": null,
   "id": "ca45810d-f823-4eac-84aa-468d6a66a961",
   "metadata": {},
   "outputs": [],
   "source": [
    "idx_S = list(range(dist_result.shape[0]))\n",
    "ibfm_out = ibfm.get_IBloFunMatch_subset(dist_result, dist_result, idx_S, output_dir, max_rad=-1, num_it=1, store_0_pm=True, points=False, max_dim=1)"
   ]
  },
  {
   "cell_type": "code",
   "execution_count": null,
   "id": "a6ddd042-bff0-4cb2-86b9-12e4f234f0b4",
   "metadata": {},
   "outputs": [],
   "source": [
    "fig, ax = plt.subplots(figsize=(5,5))\n",
    "ibfm.plot_barcode(ibfm_out[\"X_barcode_0\"], \"orange\", ax)\n",
    "ax.set_title(\"Zero dimensional persistent homology\")\n",
    "plt.tight_layout()\n",
    "plt.savefig(plots_path + \"PH0_cross.png\")"
   ]
  },
  {
   "cell_type": "markdown",
   "id": "f60af1dd-d023-40fb-9391-45834fe176a5",
   "metadata": {},
   "source": [
    "Put together all clusters with distance less or equal to $10$"
   ]
  },
  {
   "cell_type": "code",
   "execution_count": null,
   "id": "732b9744-7073-47c0-aa39-53d872af8d67",
   "metadata": {},
   "outputs": [],
   "source": [
    "np.sum(ibfm_out[\"X_barcode_0\"][:,1]<10)"
   ]
  },
  {
   "cell_type": "code",
   "execution_count": null,
   "id": "9cf4fb87-5d7b-4b73-8e53-d24ee785da0e",
   "metadata": {},
   "outputs": [],
   "source": [
    "ibfm_out[\"X_reps_0\"]"
   ]
  },
  {
   "cell_type": "code",
   "execution_count": null,
   "id": "ed676f2c-0b88-445c-b9a4-c438f4120331",
   "metadata": {},
   "outputs": [],
   "source": [
    "fig, ax = plt.subplots(ncols=2, figsize=(9,5))\n",
    "ax[0].scatter(X[:,0], X[:,1], color=\"red\", zorder=2)\n",
    "for base, vel in zip(X, vec_X):\n",
    "    ax[0].arrow(base[0], base[1], vel[0], vel[1], color=\"black\", zorder=1, width=0.15)\n",
    "\n",
    "treshold = 8\n",
    "num_merged = np.sum(ibfm_out[\"X_barcode_0\"][:,1]<treshold)\n",
    "for i in range(num_merged):\n",
    "    edge = X[ibfm_out[\"X_reps_0\"][i]]\n",
    "    ax[0].plot(edge[:,0], edge[:,1], color=\"gray\", zorder=0.1)\n",
    "    \n",
    "ax[0].set_title(\"Cross scenario timestep\")\n",
    "\n",
    "# Plot diagram with vertical line \n",
    "ibfm.plot_barcode(ibfm_out[\"X_barcode_0\"], \"orange\", ax[1])\n",
    "num_bars = len(ibfm_out[\"X_barcode_0\"])\n",
    "ax[1].plot([treshold, treshold], [-2, num_bars], c=\"gray\", zorder=3)\n",
    "ax[1].set_title(f\"Treshold: {treshold:.1f}\")\n",
    "plt.tight_layout()\n",
    "plt.savefig(plots_path + \"clusters_cross.png\")"
   ]
  },
  {
   "cell_type": "code",
   "execution_count": null,
   "id": "e9736a81-4664-4ad2-8f40-18138052ee1b",
   "metadata": {},
   "outputs": [],
   "source": []
  }
 ],
 "metadata": {
  "kernelspec": {
   "display_name": "Python 3 (ipykernel)",
   "language": "python",
   "name": "python3"
  },
  "language_info": {
   "codemirror_mode": {
    "name": "ipython",
    "version": 3
   },
   "file_extension": ".py",
   "mimetype": "text/x-python",
   "name": "python",
   "nbconvert_exporter": "python",
   "pygments_lexer": "ipython3",
   "version": "3.10.12"
  }
 },
 "nbformat": 4,
 "nbformat_minor": 5
}
