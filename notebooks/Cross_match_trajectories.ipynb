{
 "cells": [
  {
   "cell_type": "code",
   "execution_count": null,
   "id": "35aeeac5-6e45-4233-907c-7c7fc8cdb916",
   "metadata": {},
   "outputs": [],
   "source": [
    "import numpy as np\n",
    "import matplotlib.pyplot as plt\n",
    "import scipy.spatial.distance as dist\n",
    "import matplotlib as mpl\n",
    "import iblofunmatch.inter as ibfm\n",
    "output_dir=\"output\""
   ]
  },
  {
   "cell_type": "code",
   "execution_count": null,
   "id": "f8dafd82-b0a7-4dd3-ba63-77e7eeafe3cc",
   "metadata": {},
   "outputs": [],
   "source": [
    "from navground import sim, core\n",
    "\n",
    "yaml = \"\"\"\n",
    "steps: 10000\n",
    "time_step: 0.1\n",
    "save_directory: ''\n",
    "record_pose: true\n",
    "record_twist: true\n",
    "scenario:\n",
    "  type: Cross\n",
    "  agent_margin: 0.2\n",
    "  side: 28\n",
    "  target_margin: 0.6\n",
    "  tolerance: 0.4\n",
    "  groups:  \n",
    "    -\n",
    "      type: thymio\n",
    "      number: 20\n",
    "      control_period: 0.1\n",
    "      behavior:\n",
    "        type: HL\n",
    "        safety_margin: 0.2 \n",
    "        horizon: 3\n",
    "        barrier_angle: 1\n",
    "      radius: 0.2\n",
    "      kinematics:\n",
    "        type: 2WDiff\n",
    "        max_speed: 1.0\n",
    "        wheel_axis: 2\n",
    "      state_estimation:\n",
    "        type: Bounded\n",
    "        range: 2.0 \n",
    "\"\"\"\n",
    "experiment = sim.load_experiment(yaml)\n",
    "experiment.run()"
   ]
  },
  {
   "cell_type": "code",
   "execution_count": null,
   "id": "521263da-de14-48bd-9939-58bbbd7d4196",
   "metadata": {},
   "outputs": [],
   "source": [
    "run = experiment.runs[0]\n",
    "ps = run.poses[:,:,[0,1]]\n",
    "twists = run.twists[:,:,:2] # ignore angular speeds"
   ]
  },
  {
   "cell_type": "code",
   "execution_count": null,
   "id": "775e0da7-c5b7-4702-a748-79dd4b1255de",
   "metadata": {},
   "outputs": [],
   "source": [
    "weight = 4"
   ]
  },
  {
   "cell_type": "code",
   "execution_count": null,
   "id": "bcd57462-0b6e-4c99-93e0-0e821b78ef0d",
   "metadata": {},
   "outputs": [],
   "source": [
    "def trajectory_distance_weighted_velocities(positions, velocities, weight):\n",
    "    assert(len(positions)>0)\n",
    "    assert(len(positions)==len(velocities))\n",
    "    positions_velocities_list = []\n",
    "    for idx, points in enumerate(positions):\n",
    "        positions_velocities_list.append(np.hstack((points, velocities[idx]*weight)))\n",
    "    distances_list = []\n",
    "    for idx, points_vel in enumerate(positions_velocities_list):\n",
    "        # Compare trajectories at same time\n",
    "        points_vel_compare = positions_velocities_list[idx]\n",
    "        distances_list.append(dist.cdist(points_vel, points_vel_compare, \"minkowski\", p=2))\n",
    "    # end for\n",
    "    distances_arr = np.array(distances_list)\n",
    "    return np.min(distances_arr, axis=0)"
   ]
  },
  {
   "cell_type": "code",
   "execution_count": null,
   "id": "42ca86aa-57d4-482d-9efa-16825f942bc6",
   "metadata": {},
   "outputs": [],
   "source": [
    "dist_result = trajectory_distance_weighted_velocities(ps[:5], twists[:5], weight)"
   ]
  },
  {
   "cell_type": "code",
   "execution_count": null,
   "id": "799bab57-ccba-4cf7-bcc3-af7bf8500bfb",
   "metadata": {},
   "outputs": [],
   "source": [
    "def distances_weighted_velocities(points, velocities, weight):\n",
    "    points_velocities = np.hstack((points, velocities*weight))\n",
    "    return dist.squareform(dist.pdist(points_velocities, \"minkowski\", p=2))"
   ]
  },
  {
   "cell_type": "code",
   "execution_count": null,
   "id": "a28be677-4681-40e5-913f-f629bb2b8a15",
   "metadata": {},
   "outputs": [],
   "source": [
    "def plot_matching_diagram_trajectories(positions, velocities, weight, ax, shift_time, color=\"blue\"):\n",
    "    # Compute X, Z barcodes and matching\n",
    "    half_shift=int(shift_time/2)\n",
    "    Dist_X = trajectory_distance_weighted_velocities(positions[:half_shift], velocities[:half_shift], weight)\n",
    "    Dist_Y = trajectory_distance_weighted_velocities(positions, velocities, weight)\n",
    "    Dist_Z = np.minimum(Dist_X, Dist_Y)\n",
    "    idx_S = list(range(Dist_X.shape[0]))\n",
    "    # Compute matching from X to Z\n",
    "    ibfm_out = ibfm.get_IBloFunMatch_subset(Dist_X, Dist_Z, idx_S, output_dir, max_rad=-1, num_it=1, store_0_pm=True, points=False, max_dim=1)\n",
    "    # Plot 0 persistence diagram of matching \n",
    "    match_diagram = []\n",
    "    for idx, bar_X in enumerate(ibfm_out[\"S_barcode_0\"]):\n",
    "        idx_match = ibfm_out[\"induced_matching_0\"][idx]\n",
    "        bar_Z = ibfm_out[\"X_barcode_0\"][idx_match]\n",
    "        match_diagram.append([bar_X[1], bar_Z[1]])\n",
    "    # end for\n",
    "    match_diagram = np.array(match_diagram)\n",
    "    # Plot matching diagram\n",
    "    ax.scatter(match_diagram[:,0], match_diagram[:,1], color=color)\n",
    "    ax.plot([0,np.max(match_diagram)*1.1], [0,np.max(match_diagram)*1.1], color=\"gray\")"
   ]
  },
  {
   "cell_type": "code",
   "execution_count": null,
   "id": "11e47c4d-4429-47eb-97ab-48eccab7ec24",
   "metadata": {},
   "outputs": [],
   "source": [
    "start_step_list = list(range(7300,7800, 100))\n",
    "fig, ax = plt.subplots(ncols=len(start_step_list), figsize=(6*(len(start_step_list)),6))\n",
    "xmax, ymax = 0,0\n",
    "for idx_start, start_step in enumerate(start_step_list):\n",
    "    shift_time=100\n",
    "    steplist = list(range(start_step, start_step+shift_time*2, 5))\n",
    "    for idx, start_step in enumerate(steplist):\n",
    "        plot_matching_diagram_trajectories(ps[start_step:start_step+shift_time], twists[start_step:start_step+shift_time], weight, ax[idx_start], shift_time, color=mpl.colormaps[\"GnBu\"](idx/len(steplist)))\n",
    "    ax[idx_start].set_title(f\"{start_step}\")\n",
    "    xmax = max(xmax, ax[idx_start].get_xlim()[1])\n",
    "    ymax = max(ymax, ax[idx_start].get_ylim()[1])\n",
    "\n",
    "for idx_start, start_step in enumerate(start_step_list):\n",
    "    ax[idx_start].plot([0,max(xmax, ymax)], [0, max(xmax, ymax)], color=\"gray\")\n",
    "    ax[idx_start].set_xlim(0,xmax)\n",
    "    ax[idx_start].set_ylim(0,ymax)"
   ]
  },
  {
   "cell_type": "code",
   "execution_count": null,
   "id": "9c05005e-654c-4abd-b6cc-f69947307a08",
   "metadata": {},
   "outputs": [],
   "source": [
    "fig, ax = plt.subplots(figsize=(6,6))\n",
    "start_step=5495\n",
    "shift_time =100\n",
    "plot_matching_diagram_trajectories(ps[start_step:start_step+shift_time], twists[start_step:start_step+shift_time], weight, ax, shift_time, color=\"blue\")\n",
    "# get data\n",
    "positions = ps[start_step:start_step+shift_time]\n",
    "velocities = twists[start_step:start_step+shift_time]\n",
    "half_shift = int(shift_time/2)\n",
    "Dist_X = trajectory_distance_weighted_velocities(positions[:half_shift], velocities[:half_shift], weight)\n",
    "Dist_Y = trajectory_distance_weighted_velocities(positions, velocities, weight)\n",
    "Dist_Z = np.minimum(Dist_X, Dist_Y)\n",
    "idx_S = list(range(Dist_X.shape[0]))\n",
    "# Compute matching from X to Z\n",
    "ibfm_out = ibfm.get_IBloFunMatch_subset(Dist_X, Dist_Z, idx_S, output_dir, max_rad=-1, num_it=1, store_0_pm=True, points=False, max_dim=1)\n",
    "# put persistence pairs together\n",
    "match_diagram = []\n",
    "for idx, bar_X in enumerate(ibfm_out[\"S_barcode_0\"]):\n",
    "    idx_match = ibfm_out[\"induced_matching_0\"][idx]\n",
    "    bar_Z = ibfm_out[\"X_barcode_0\"][idx_match]\n",
    "    match_diagram.append([bar_X[1], bar_Z[1]])\n",
    "# end for\n",
    "match_diagram = np.array(match_diagram)\n",
    "\n",
    "print(np.array(match_diagram))\n",
    "print(ibfm_out[\"S_reps_0\"])"
   ]
  },
  {
   "cell_type": "code",
   "execution_count": null,
   "id": "6c99b10f-4655-4875-b0bf-01d35fd2f129",
   "metadata": {},
   "outputs": [],
   "source": [
    "def plot_sequence(X_list, ax, mark_points=[], color=\"red\"):\n",
    "    # Plot figure\n",
    "    X_old = X_list[0]\n",
    "    ax.scatter(X_old[:,0], X_old[:,1], s=20, marker=\"o\", color=mpl.colormaps[\"RdBu\"](1/(len(X_list)+1)), zorder=2)\n",
    "    for idx, X in enumerate(X_list[1:]):\n",
    "        ax.scatter(X[:,0], X[:,1], s=20, marker=\"o\", color=mpl.colormaps[\"RdBu\"]((idx+1)/(len(X_list)+1)), zorder=2, label=\"X\")\n",
    "        # for edge in zip(X, X_old):\n",
    "        #     edge_pts = np.array(edge)\n",
    "        #     ax.plot(edge_pts[:,0], edge_pts[:,1], color=\"gray\", zorder=1)\n",
    "        if len(mark_points)>0:\n",
    "            mark_X = X[mark_points]\n",
    "            ax.scatter(mark_X[:,0], mark_X[:,1], s=20, marker=\"+\", color=color, zorder=3)\n",
    "        X_old = X\n",
    "    #end for "
   ]
  },
  {
   "cell_type": "code",
   "execution_count": null,
   "id": "fc71699f-4657-495d-b347-52426a2b2285",
   "metadata": {},
   "outputs": [],
   "source": [
    "X_seq = ps[list(range(start_step, start_step+shift_time+1, 2))]\n",
    "len(X_seq)\n",
    "fig, ax = plt.subplots(figsize=(10, 5))\n",
    "ax.set_aspect(\"equal\")\n",
    "plot_sequence(X_seq, ax, mark_points=[3], color=\"yellow\")"
   ]
  },
  {
   "cell_type": "code",
   "execution_count": null,
   "id": "8da6d278-2bbc-4fb0-b9f7-41130613f586",
   "metadata": {},
   "outputs": [],
   "source": []
  }
 ],
 "metadata": {
  "kernelspec": {
   "display_name": "Python 3 (ipykernel)",
   "language": "python",
   "name": "python3"
  },
  "language_info": {
   "codemirror_mode": {
    "name": "ipython",
    "version": 3
   },
   "file_extension": ".py",
   "mimetype": "text/x-python",
   "name": "python",
   "nbconvert_exporter": "python",
   "pygments_lexer": "ipython3",
   "version": "3.10.12"
  }
 },
 "nbformat": 4,
 "nbformat_minor": 5
}
