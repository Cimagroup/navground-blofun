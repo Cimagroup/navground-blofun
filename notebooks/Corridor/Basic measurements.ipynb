{
 "cells": [
  {
   "cell_type": "markdown",
   "id": "10174b23-25f5-45d2-85a2-43985ce76950",
   "metadata": {},
   "source": [
    "In this notebook, we explore basic analysis of the positions and speeds to detect similarities and differences between behaviouirs.\n",
    "\n",
    "We start importing some libraries."
   ]
  },
  {
   "cell_type": "code",
   "execution_count": null,
   "id": "35f7c19a-b478-4fa9-9451-2722d6275e7c",
   "metadata": {},
   "outputs": [],
   "source": [
    "import numpy as np\n",
    "import matplotlib.pyplot as plt\n",
    "import matplotlib as mpl\n",
    "import os\n",
    "\n",
    "from navground import core, sim\n",
    "\n",
    "plots_dir = \"plots/basic_metrics\"\n",
    "os.makedirs(plots_dir, exist_ok=True)"
   ]
  },
  {
   "cell_type": "code",
   "execution_count": null,
   "id": "f88c00d1-7647-4543-8357-965de185f7ec",
   "metadata": {},
   "outputs": [],
   "source": [
    "length = 8.0\n",
    "num_steps = 400\n",
    "width=1.0\n",
    "num_agents = 31 # 38\n",
    "num_runs = 10\n",
    "behaviour_list = [\"ORCA\", \"HL\", \"HRVO\", \"Dummy\"]\n",
    "color_behaviour = {}\n",
    "for i, behaviour in enumerate(behaviour_list):\n",
    "    color_behaviour[behaviour] = mpl.colormaps[\"Set1\"](i / (len(behaviour_list) +1))\n",
    "for behaviour in behaviour_list:\n",
    "    path=f\"experiment_basic_{behaviour}.h5\"\n",
    "    yaml = f\"\"\"\n",
    "    steps: {num_steps}\n",
    "    time_step: 0.1\n",
    "    record_pose: true\n",
    "    record_twist: true\n",
    "    runs: {num_runs}\n",
    "    scenario:\n",
    "      type: Corridor\n",
    "      length: {length}\n",
    "      width: {width} \n",
    "      groups:\n",
    "        -\n",
    "          type: thymio\n",
    "          number: {num_agents}\n",
    "          radius: 0.08\n",
    "          control_period: 0.1\n",
    "          speed_tolerance: 0.02\n",
    "          kinematics:\n",
    "            type: 2WDiff\n",
    "            wheel_axis: 0.094\n",
    "            max_speed: 0.166\n",
    "          behavior:\n",
    "            type: {behaviour}\n",
    "            optimal_speed: \n",
    "                sampler: normal\n",
    "                mean: 0.2\n",
    "                std_dev: 0.05\n",
    "            horizon: 5.0\n",
    "            safety_margin: \n",
    "                sampler: normal\n",
    "                mean: 0.08\n",
    "                std_dev: 0.05\n",
    "          state_estimation:\n",
    "            type: Bounded\n",
    "            range: 5.0\n",
    "    \"\"\"\n",
    "    experiment = sim.load_experiment(yaml)\n",
    "    experiment.run(keep=False, data_path=path)\n",
    "    del experiment"
   ]
  },
  {
   "cell_type": "code",
   "execution_count": null,
   "id": "d84b1524-0407-4828-b2ab-8b8485e41a97",
   "metadata": {},
   "outputs": [],
   "source": [
    "runs = {}\n",
    "# Reload simulations\n",
    "for behaviour in behaviour_list:\n",
    "    path = f\"experiment_basic_{behaviour}.h5\"\n",
    "    recorded_experiment = sim.RecordedExperiment(path)\n",
    "    runs[behaviour] = recorded_experiment.runs"
   ]
  },
  {
   "cell_type": "code",
   "execution_count": null,
   "id": "90df0e72-eeaf-4f98-8339-44b396e72d10",
   "metadata": {},
   "outputs": [],
   "source": [
    "timestep_list = list(range(0, 300, 5))\n",
    "variables_behaviour = {}\n",
    "for j, behaviour in enumerate(behaviour_list):\n",
    "    variables_list = []\n",
    "    for ridx in range(num_runs):\n",
    "        variables_run = []\n",
    "        ps = np.array(runs[behaviour][ridx].poses)\n",
    "        twists = np.array(runs[behaviour][ridx].twists)\n",
    "        for idx, step in enumerate(timestep_list):\n",
    "            X = ps[step]\n",
    "            vel_X = twists[step]\n",
    "            variables_run.append(np.hstack((np.mean(X, axis=0), np.std(X, axis=0), np.mean(vel_X, axis=0), np.std(vel_X, axis=0))))\n",
    "        # end for \n",
    "        variables_list.append(np.array(variables_run).transpose())\n",
    "    # end for\n",
    "    variables_behaviour[behaviour] = np.array(variables_list)"
   ]
  },
  {
   "cell_type": "code",
   "execution_count": null,
   "id": "ed4cb365-4d3c-47b8-a8b1-c0903bc91c24",
   "metadata": {},
   "outputs": [],
   "source": [
    "fig, ax = plt.subplots(ncols=2, nrows=6, figsize=(12,8))\n",
    "labels = np.array([\n",
    "    [\"x mean\", \"y mean\", \"angle mean\", \"x std\", \"y std\", \"angule std\"],\n",
    "    [\"v_x mean\", \"v_y mean\", \"angle speed mean\", \"v_x std\", \"v_y std\", \"angular speed std\"]\n",
    "]).transpose()\n",
    "for irow in range(labels.shape[0]):\n",
    "    for icol in range(labels.shape[1]):\n",
    "        for behaviour in behaviour_list:\n",
    "            for variables_run in variables_behaviour[behaviour]:\n",
    "                ax[irow, icol].set_title(labels[irow, icol])\n",
    "                ax[irow, icol].plot(list(range(variables_run.shape[1])), variables_run[icol*6 + irow], color=color_behaviour[behaviour], label=behaviour)\n",
    "\n",
    "plt.tight_layout()\n",
    "# Remove duplicate labels \n",
    "handles, labels = plt.gca().get_legend_handles_labels()\n",
    "by_label = dict(zip(labels, handles))\n",
    "plt.legend(by_label.values(), by_label.keys())\n",
    "plt.savefig(os.sep.join((plots_dir, \"basic_metrics_signals.png\")))"
   ]
  },
  {
   "cell_type": "code",
   "execution_count": null,
   "id": "61d87496-fae1-4d57-b1e4-286ae4f4ffd8",
   "metadata": {},
   "outputs": [],
   "source": [
    "from sklearn.decomposition import PCA"
   ]
  },
  {
   "cell_type": "code",
   "execution_count": null,
   "id": "973c0ffd-e22b-484c-bb3b-0cabe51600cb",
   "metadata": {},
   "outputs": [],
   "source": [
    "fig, ax = plt.subplots(ncols=6, nrows=2, figsize=(12,4))\n",
    "labels = np.array([\n",
    "    [\"x mean\", \"y mean\", \"angle mean\", \"x std\", \"y std\", \"angule std\"],\n",
    "    [\"v_x mean\", \"v_y mean\", \"angle speed mean\", \"v_x std\", \"v_y std\", \"angular speed std\"]\n",
    "])\n",
    "variables = np.vstack([variables_behaviour[behaviour] for behaviour in behaviour_list])\n",
    "for irow in range(labels.shape[0]):\n",
    "    for icol in range(labels.shape[1]):\n",
    "        ax[irow, icol].set_title(labels[irow, icol])\n",
    "        pca = PCA(n_components=2)\n",
    "        Y = pca.fit_transform(variables[:, irow*6 + icol, :])\n",
    "        Y_dict = {}\n",
    "        for i, behaviour in enumerate(behaviour_list):\n",
    "            Y_dict[behaviour] = Y[num_runs*i:num_runs*(i+1)]\n",
    "        # end for\n",
    "        for behaviour in behaviour_list:\n",
    "            ax[irow, icol].scatter(Y_dict[behaviour][:num_runs][:,0], Y_dict[behaviour][:num_runs][:,1], color=color_behaviour[behaviour], label=behaviour)\n",
    "\n",
    "# Remove duplicate labels \n",
    "handles, labels = plt.gca().get_legend_handles_labels()\n",
    "by_label = dict(zip(labels, handles))\n",
    "fig.legend(by_label.values(), by_label.keys(), loc=(0.3,0),  ncol=len(behaviour_list))\n",
    "plt.tight_layout()\n",
    "plt.savefig(os.sep.join((plots_dir, \"basic_metrics_PCA.png\")))"
   ]
  },
  {
   "cell_type": "code",
   "execution_count": null,
   "id": "b008145f-7cb8-405a-a7a2-41bddac42e6e",
   "metadata": {},
   "outputs": [],
   "source": []
  }
 ],
 "metadata": {
  "kernelspec": {
   "display_name": "Python 3 (ipykernel)",
   "language": "python",
   "name": "python3"
  },
  "language_info": {
   "codemirror_mode": {
    "name": "ipython",
    "version": 3
   },
   "file_extension": ".py",
   "mimetype": "text/x-python",
   "name": "python",
   "nbconvert_exporter": "python",
   "pygments_lexer": "ipython3",
   "version": "3.10.12"
  }
 },
 "nbformat": 4,
 "nbformat_minor": 5
}
