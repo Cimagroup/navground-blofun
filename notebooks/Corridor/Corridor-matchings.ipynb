{
 "cells": [
  {
   "cell_type": "markdown",
   "id": "9879a0e4-f0bd-48e3-87db-092ea749bffb",
   "metadata": {},
   "source": [
    "# Corridor experiments\n",
    "\n",
    "In this notebook, we look at matchings with corridor navground robots. \n",
    "\n",
    "First, let us import a few important modules for this task."
   ]
  },
  {
   "cell_type": "code",
   "execution_count": null,
   "id": "276c8bd7-8e52-4a75-a075-fc49590a0817",
   "metadata": {},
   "outputs": [],
   "source": [
    "import numpy as np\n",
    "import matplotlib.pyplot as plt\n",
    "import scipy.spatial.distance as dist\n",
    "import matplotlib as mpl\n",
    "\n",
    "import os\n",
    "\n",
    "from navground import core, sim\n",
    "\n",
    "import perdiver.perdiver as perdiver\n",
    "from perdiver.distances import *\n",
    "\n",
    "plots_dir = \"plots\"\n",
    "os.makedirs(plots_dir, exist_ok=True)"
   ]
  },
  {
   "cell_type": "markdown",
   "id": "a1a59cb6-8e89-47aa-8e75-91e7c41702b8",
   "metadata": {},
   "source": [
    "Next, let us execute the Navground corridor experiment."
   ]
  },
  {
   "cell_type": "code",
   "execution_count": null,
   "id": "3cdd5d27-a69b-4176-b5ec-6ebbb2c2c08e",
   "metadata": {},
   "outputs": [],
   "source": [
    "length = 8.0\n",
    "num_steps = 500\n",
    "width=1.0\n",
    "num_agents = 30 # 38\n",
    "for behaviour in [\"ORCA\", \"HL\"]:\n",
    "    path=f\"recorded_experiment_{behaviour}.h5\"\n",
    "    yaml = f\"\"\"\n",
    "    steps: {num_steps}\n",
    "    time_step: 0.1\n",
    "    record_pose: true\n",
    "    record_twist: true\n",
    "    runs: 1\n",
    "    scenario:\n",
    "      type: Corridor\n",
    "      length: {length}\n",
    "      width: {width} \n",
    "      groups:\n",
    "        -\n",
    "          type: thymio\n",
    "          number: {num_agents}\n",
    "          radius: 0.08\n",
    "          control_period: 0.1\n",
    "          speed_tolerance: 0.02\n",
    "          kinematics:\n",
    "            type: 2WDiff\n",
    "            wheel_axis: 0.094\n",
    "            max_speed: 0.166\n",
    "          behavior:\n",
    "            type: {behaviour}\n",
    "            optimal_speed: 0.12\n",
    "            horizon: 5.0\n",
    "            safety_margin: 0.034\n",
    "          state_estimation:\n",
    "            type: Bounded\n",
    "            range: 5.0\n",
    "    \"\"\"\n",
    "    experiment = sim.load_experiment(yaml)\n",
    "    experiment.run(keep=False, data_path=path)\n",
    "    del experiment"
   ]
  },
  {
   "cell_type": "markdown",
   "id": "c66e74d7-d176-4ad0-90ac-83e83995419b",
   "metadata": {},
   "source": [
    "Reload both experiments and save runs into a dictionary."
   ]
  },
  {
   "cell_type": "code",
   "execution_count": null,
   "id": "1af16873-82c0-4613-b8f4-3c8e62e6cd36",
   "metadata": {},
   "outputs": [],
   "source": [
    "runs = {}\n",
    "# Reload HL simulation\n",
    "path_HL = \"recorded_experiment_HL.h5\"\n",
    "recorded_experiment = sim.RecordedExperiment(path_HL)\n",
    "runs[\"HL\"] = recorded_experiment.runs[0]\n",
    "# Reload ORCA simulation\n",
    "path_ORCA = \"recorded_experiment_ORCA.h5\"\n",
    "recorded_experiment = sim.RecordedExperiment(path_ORCA)\n",
    "runs[\"ORCA\"] = recorded_experiment.runs[0]"
   ]
  },
  {
   "cell_type": "markdown",
   "id": "be9175ae-569a-4c99-b4d6-a5307a0dda7c",
   "metadata": {},
   "source": [
    "Let us display this simulation in a video"
   ]
  },
  {
   "cell_type": "code",
   "execution_count": null,
   "id": "cbd95bce-098a-4b07-8cf4-004d6be9c345",
   "metadata": {},
   "outputs": [],
   "source": [
    "from navground.sim.ui import WebUI\n",
    "from navground.sim.notebook import notebook_view\n",
    "from navground.sim.replay import RealTimeReplay\n",
    "\n",
    "web_ui = WebUI(host='127.0.0.1', max_rate=-1)\n",
    "await web_ui.prepare()"
   ]
  },
  {
   "cell_type": "markdown",
   "id": "a466b7a5-9065-4c22-8e5d-e8f563845ffa",
   "metadata": {},
   "source": [
    "First, let us visualise the HL experiment."
   ]
  },
  {
   "cell_type": "code",
   "execution_count": null,
   "id": "9caccb62-95a0-4d07-b458-31690db7be64",
   "metadata": {},
   "outputs": [],
   "source": [
    "notebook_view(width=300)"
   ]
  },
  {
   "cell_type": "code",
   "execution_count": null,
   "id": "e19abc4a-ea54-451c-91f7-fd2abae26788",
   "metadata": {},
   "outputs": [],
   "source": [
    "rt_sim = RealTimeReplay(run=runs[\"HL\"], factor=20, web_ui=web_ui)\n",
    "await rt_sim.run()"
   ]
  },
  {
   "cell_type": "markdown",
   "id": "dd0e2ea2-f58e-40db-b452-2e2c97235ceb",
   "metadata": {},
   "source": [
    "Now, we visualise the ORCA experiment."
   ]
  },
  {
   "cell_type": "code",
   "execution_count": null,
   "id": "fcd4f69c-c861-4b3e-a8a1-e010f51faa0e",
   "metadata": {},
   "outputs": [],
   "source": [
    "rt_sim = RealTimeReplay(run=runs[\"ORCA\"], factor=20, web_ui=web_ui)\n",
    "await rt_sim.run()"
   ]
  },
  {
   "cell_type": "markdown",
   "id": "aae0e84c-57ad-4b9c-88ef-88562ff00354",
   "metadata": {},
   "source": [
    "Both simulations are very different. In partiuclar, we observe mainly two dynamics, either the robots end up going in straight trajectories or they get stuck. Both examples below where produced with the same variables."
   ]
  },
  {
   "cell_type": "markdown",
   "id": "d5d68f9f-561a-4aa2-8322-bf4499bdc83e",
   "metadata": {},
   "source": [
    "### Pairwise Matchings\n",
    "\n",
    "We are now going to compute the induced matchings and their associated diagrams.\n",
    "\n",
    "Also, we set up the variable \"weight\" and the timestep shift for our experiments."
   ]
  },
  {
   "cell_type": "code",
   "execution_count": null,
   "id": "c7f62901-f2fa-4d07-8fe2-651732e1977f",
   "metadata": {},
   "outputs": [],
   "source": [
    "weight = 2 # This is the weight for velocities\n",
    "shift_time = 30 # Shift between timesteps\n",
    "steps_list = list(range(0, 400, 5)) # Starting timesteps that we consider"
   ]
  },
  {
   "cell_type": "markdown",
   "id": "466df9ac-dc97-4f44-af56-e0f25652918b",
   "metadata": {},
   "source": [
    "Now, we are going to start by considering two timesteps and their associated divergence diagrams. Notice that these do not change much."
   ]
  },
  {
   "cell_type": "code",
   "execution_count": null,
   "id": "dab0e2e2-cef5-480d-8bbc-b9a636a1cbde",
   "metadata": {},
   "outputs": [],
   "source": [
    "start_step = 50\n",
    "gs_kw = dict(width_ratios=[5, 2, 2], height_ratios=[1,1])\n",
    "fig, axd = plt.subplot_mosaic([['points_HL', 'Diag_HL', 'Diag_ORCA'],\n",
    "                               ['points_ORCA', 'Diag_HL', 'Diag_ORCA']],\n",
    "                              gridspec_kw=gs_kw, figsize=(16, 4),\n",
    "                              layout=\"constrained\")\n",
    "for behaviour in [\"ORCA\", \"HL\"]:\n",
    "    ps = np.array(runs[behaviour].poses)[:,:,:2]\n",
    "    twists = np.array(runs[behaviour].twists)[:,:,:2]\n",
    "    X = ps[start_step]\n",
    "    Y = ps[start_step + shift_time]\n",
    "    vel_X = twists[start_step]\n",
    "    vel_Y = twists[start_step + shift_time]\n",
    "    X_len = X.shape[0]-1\n",
    "    # Plot two timesteps\n",
    "    # fig, ax = plt.subplots(figsize=(8, 1))\n",
    "    ax = axd[f\"points_{behaviour}\"]\n",
    "    perdiver.plot_two_timesteps_with_velocities(X, Y, vel_X, vel_Y, ax, arrow_width=0.03)\n",
    "    ax.set_title(f\"points_{behaviour}\", fontsize=20)\n",
    "    # Plot matching diagram\n",
    "    ax = axd[f\"Diag_{behaviour}\"]\n",
    "    Dist_X, Dist_Y, Dist_Z = perdiver.compute_distance_matrices_timesteps_corridor(X, Y, vel_X, vel_Y, weight, length)\n",
    "    match_diagram = perdiver.get_matching_diagram(Dist_X, Dist_Y)\n",
    "    perdiver.plot_matching_diagram(match_diagram, ax, color=\"blue\")\n",
    "    ax.set_title(behaviour, fontsize=20)\n",
    "\n",
    "perdiver.same_diagram_scale(axd[\"Diag_HL\"], axd[\"Diag_ORCA\"])\n",
    "plt.savefig(f\"two_timesteps_points_matching_diags_ORCA_HL.png\")"
   ]
  },
  {
   "cell_type": "markdown",
   "id": "00e061f9-7935-4a32-9159-0112beb69708",
   "metadata": {},
   "source": [
    "Last, we compute the persistence matching diagram across the step list. There seems to be an equilibrium."
   ]
  },
  {
   "cell_type": "code",
   "execution_count": null,
   "id": "78b035e3-dd9d-42cb-a473-6fc55e8ba6ef",
   "metadata": {},
   "outputs": [],
   "source": [
    "fig, ax = plt.subplots(ncols=2, figsize=(9,4))\n",
    "diagrams_behaviour = {}\n",
    "for j, behaviour in enumerate([\"ORCA\", \"HL\"]):\n",
    "    ps = np.array(runs[behaviour].poses)[:,:,:2]\n",
    "    twists = np.array(runs[behaviour].twists)[:,:,:2]\n",
    "    diagrams_list = []\n",
    "    for idx, start_step in enumerate(steps_list):\n",
    "        X = ps[start_step]\n",
    "        Y = ps[start_step + shift_time]\n",
    "        vel_X = twists[start_step]\n",
    "        vel_Y = twists[start_step+shift_time]\n",
    "        Dist_X, Dist_Y, Dist_Z = perdiver.compute_distance_matrices_timesteps_corridor(X, Y, vel_X, vel_Y, weight, length)\n",
    "        match_diagram = perdiver.get_matching_diagram(Dist_X, Dist_Y)\n",
    "        perdiver.plot_matching_diagram(match_diagram, ax[j], color=mpl.colormaps[\"GnBu\"](idx/len(steps_list)))\n",
    "        diagrams_list.append(match_diagram)\n",
    "    # end for \n",
    "    diagrams_behaviour[f\"{behaviour}\"] = diagrams_list\n",
    "    norm = mpl.colors.Normalize(vmin=steps_list[0], vmax=steps_list[-1])\n",
    "    cmap = mpl.colormaps[\"GnBu\"]\n",
    "    mappable = mpl.cm.ScalarMappable(norm=norm, cmap=cmap)\n",
    "    plt.colorbar(mappable=mappable, ax=ax[j])\n",
    "    ax[j].set_title(f\"Evolution matching diagram {behaviour}\")\n",
    "# end for\n",
    "perdiver.same_diagram_scale(ax[0], ax[1])\n",
    "plt.savefig(f\"{plots_dir}/evolution_matching_ORCA_HL.png\")"
   ]
  },
  {
   "cell_type": "markdown",
   "id": "ab95a71f-7863-4d43-97cf-5cd93066bf7c",
   "metadata": {},
   "source": [
    "### Vectorisation of matching diagrams\n",
    "\n",
    "Use persistence images for this."
   ]
  },
  {
   "cell_type": "code",
   "execution_count": null,
   "id": "1d0a1bf2-dd29-4c41-8d46-af9cc43d9cef",
   "metadata": {},
   "outputs": [],
   "source": [
    "from gudhi import representations"
   ]
  },
  {
   "cell_type": "code",
   "execution_count": null,
   "id": "da68ca0b-99c1-411c-8636-37105bdaa050",
   "metadata": {},
   "outputs": [],
   "source": [
    "npixels = 15\n",
    "perim = representations.PersistenceImage(resolution=[npixels, npixels], bandwidth=0.06)\n",
    "perim.fit(diagrams_behaviour[\"HL\"] + diagrams_behaviour[\"ORCA\"])\n",
    "perim_arr_dict = {}\n",
    "perim_arr_dict[\"HL\"] = perim.transform(diagrams_behaviour[\"HL\"])\n",
    "perim_arr_dict[\"ORCA\"] = perim.transform(diagrams_behaviour[\"ORCA\"])"
   ]
  },
  {
   "cell_type": "markdown",
   "id": "82aa3b14-84d3-4d41-978a-8434941a5c78",
   "metadata": {},
   "source": [
    "Visualise two persistence images."
   ]
  },
  {
   "cell_type": "code",
   "execution_count": null,
   "id": "79922d48-02c8-40b9-8b82-611dafe0e829",
   "metadata": {},
   "outputs": [],
   "source": [
    "def timestep_to_idx(steps_list, time):\n",
    "    return np.argmax((np.array(steps_list) - 20)>=0)"
   ]
  },
  {
   "cell_type": "code",
   "execution_count": null,
   "id": "8f0b682f-4182-4502-9fd4-13169ba0ca29",
   "metadata": {},
   "outputs": [],
   "source": [
    "idx = timestep_to_idx(steps_list, 70)\n",
    "fig, ax = plt.subplots(ncols=4, figsize=(11,3), layout=\"constrained\")\n",
    "for idx, behaviour in enumerate([\"HL\", \"ORCA\"]):\n",
    "    ax[2*idx].imshow(perim_arr_dict[behaviour][idx].reshape(15,15))\n",
    "    ax[2*idx].set_title(behaviour, fontsize=20)\n",
    "    perdiver.plot_matching_diagram(diagrams_behaviour[behaviour][idx], ax[1 + 2*idx])\n",
    "    ax[1 + 2*idx].set_aspect(\"equal\")\n",
    "    ax[1 + 2*idx].set_title(behaviour, fontsize=20)\n",
    "# end for \n",
    "# plt.tight_layout()\n",
    "plt.savefig(f\"{plots_dir}/image_persistence_ORCA_HL.png\")"
   ]
  },
  {
   "cell_type": "markdown",
   "id": "737d73eb-cd49-402a-91ef-8bf435614133",
   "metadata": {},
   "source": [
    "### Divergence vectors across time\n",
    "\n",
    "Next, we compute and print the divergence array across a few simulation steps."
   ]
  },
  {
   "cell_type": "code",
   "execution_count": null,
   "id": "f28c02b5-b69f-43a4-bdf0-27b3294ba047",
   "metadata": {},
   "outputs": [],
   "source": [
    "divergence_arrays = []\n",
    "for behaviour in [\"ORCA\", \"HL\"]:\n",
    "    ps = np.array(runs[behaviour].poses)[:,:,:2]\n",
    "    twists = np.array(runs[behaviour].twists)[:,:,:2]\n",
    "    divergence_list = []\n",
    "    Z_barcodes_list = []\n",
    "    for start_step in steps_list:\n",
    "        X = ps[start_step]\n",
    "        Y = ps[start_step + shift_time]\n",
    "        vel_X = twists[start_step]\n",
    "        vel_Y = twists[start_step + shift_time]\n",
    "        Dist_X, Dist_Y, Dist_Z = perdiver.compute_distance_matrices_timesteps_corridor(X, Y, vel_X, vel_Y, weight, length)\n",
    "        divergence_vector = np.sort(perdiver.compute_divergence_vector(Dist_X, Dist_Y))\n",
    "        divergence_list.append(divergence_vector)\n",
    "\n",
    "    divergence_arrays.append( np.array(divergence_list).transpose())\n",
    "\n",
    "vmax = np.max([np.max(divergence_arr) for divergence_arr in divergence_arrays])\n",
    "vmin = np.min([np.min(divergence_arr) for divergence_arr in divergence_arrays])\n",
    "for divergence_arr in divergence_arrays:\n",
    "    ## Save figure \n",
    "    fig, ax = plt.subplots(figsize=(10,2))\n",
    "    mapable = ax.imshow(divergence_arr, aspect=\"auto\", vmax=vmax, vmin=vmin, extent=(steps_list[0], steps_list[-1], 0, X.shape[0]))\n",
    "    ax.set_title(f\"Divergence {behaviour}\")\n",
    "    plt.colorbar(mapable)\n",
    "    plt.tight_layout()\n",
    "    plt.savefig(f\"{plots_dir}/Divergence_vector_evolution_{behaviour}.png\")"
   ]
  },
  {
   "cell_type": "markdown",
   "id": "63274934-0aa8-4355-a567-07ddf5f2da36",
   "metadata": {},
   "source": [
    "### Trajectories analysis\n",
    "\n",
    "Now, we repeat the same experiment, but, instead of considering timesteps, we consider consecutive trajectories."
   ]
  },
  {
   "cell_type": "code",
   "execution_count": null,
   "id": "d55564a8-e125-4d77-b1d4-4346279a37bc",
   "metadata": {},
   "outputs": [],
   "source": [
    "fig, ax = plt.subplots(figsize=(4,4))\n",
    "start_step=300\n",
    "Dist_X, Dist_Y, Dist_Z = compute_distance_matrices_trajectories_corridor(ps, twists, start_step, shift_time, weight, length)\n",
    "perdiver.plot_matching_diagram(Dist_X, Dist_Y, Dist_Z, ax, color=\"blue\", print_barcode_n_reps=True)\n",
    "plt.savefig(f\"{plots_dir}/divergence_diag.png\")"
   ]
  },
  {
   "cell_type": "code",
   "execution_count": null,
   "id": "33258d22-1681-45eb-9870-531129f6d0e0",
   "metadata": {},
   "outputs": [],
   "source": [
    "X_seq = ps[list(range(start_step, start_step+shift_time+1, 10))]\n",
    "fig, ax = plt.subplots(figsize=(10, 5))\n",
    "ax.set_aspect(\"equal\")\n",
    "perdiver.plot_sequence(X_seq, ax)"
   ]
  },
  {
   "cell_type": "code",
   "execution_count": null,
   "id": "60c7be55-1080-4415-8fde-38cc2ba7b64c",
   "metadata": {},
   "outputs": [],
   "source": [
    "divergence_list = []\n",
    "Z_barcodes_list = []\n",
    "for start_step in steps_list:\n",
    "    Dist_X, Dist_Y, Dist_Z = compute_distance_matrices_trajectories_corridor(ps, twists, start_step, shift_time, weight, length)\n",
    "    divergence, Z_barcode = perdiver.compute_divergence_vector(Dist_X, Dist_Y, Dist_Z)\n",
    "    divergence_list.append(divergence)\n",
    "    Z_barcodes_list.append(Z_barcode)\n",
    "\n",
    "divergence_arr = np.array(divergence_list).transpose()\n",
    "Z_barcodes_arr = np.array(Z_barcodes_list).transpose()"
   ]
  },
  {
   "cell_type": "markdown",
   "id": "5272b8c5-2b37-465e-ab49-ef7e7c865e32",
   "metadata": {},
   "source": [
    "Next, we plot divergence vectors over time."
   ]
  },
  {
   "cell_type": "code",
   "execution_count": null,
   "id": "b2bf5db0-2f4a-4430-bacb-ff8f3c0cd7b3",
   "metadata": {},
   "outputs": [],
   "source": [
    "fig, ax = plt.subplots(figsize=(10,2))\n",
    "vmax = np.max(Z_barcodes_arr)\n",
    "mapable = ax.imshow(Z_barcodes_arr, aspect=\"auto\", vmax=vmax, extent=(steps_list[0], steps_list[-1], 0, Z_barcodes_arr.shape[0]))\n",
    "ax.set_title(\"corridor\")\n",
    "plt.colorbar(mapable)\n",
    "plt.tight_layout()\n",
    "plt.savefig(f\"{plots_dir}/corridor_Z_array_hist.png\")"
   ]
  },
  {
   "cell_type": "code",
   "execution_count": null,
   "id": "10deafa9-05bb-4b96-9404-29bab7d4d4cc",
   "metadata": {},
   "outputs": [],
   "source": [
    "fig, ax = plt.subplots(figsize=(10,2))\n",
    "vmax = np.max(divergence_arr)\n",
    "mapable = ax.imshow(divergence_arr, aspect=\"auto\", vmax=vmax, extent=(steps_list[0], steps_list[-1], 0, divergence_arr.shape[0]))\n",
    "print(mapable)\n",
    "print(np.max(divergence_arr))\n",
    "ax.set_title(\"corridor\")\n",
    "plt.colorbar(mapable)\n",
    "plt.tight_layout()\n",
    "plt.savefig(f\"{plots_dir}/corridor_divergence_diag_hist.png\")"
   ]
  },
  {
   "cell_type": "markdown",
   "id": "cfbf13eb-c1b6-4baa-8a58-986d1924d59d",
   "metadata": {},
   "source": [
    "Let us plot the persistence diagram over time for trajectories."
   ]
  },
  {
   "cell_type": "code",
   "execution_count": null,
   "id": "301cd36f-095d-4133-94f2-b176ca418efb",
   "metadata": {},
   "outputs": [],
   "source": [
    "fig, ax = plt.subplots(figsize=(4,4))\n",
    "for idx, start_step in enumerate(steps_list):\n",
    "    Dist_X, Dist_Y, Dist_Z = compute_distance_matrices_trajectories_corridor(ps, twists, start_step, shift_time, weight, length)\n",
    "    perdiver.plot_matching_diagram(Dist_X, Dist_Y, Dist_Z, ax, color=mpl.colormaps[\"GnBu\"](idx/len(steps_list)))\n"
   ]
  },
  {
   "cell_type": "code",
   "execution_count": null,
   "id": "00b84d78-1dbc-4ff4-a106-f0ad29b0b07d",
   "metadata": {},
   "outputs": [],
   "source": [
    "# Persistence Images for corridor experiment"
   ]
  },
  {
   "cell_type": "code",
   "execution_count": null,
   "id": "b0998711-bfb2-4e60-83c5-3ad4bde6b89a",
   "metadata": {},
   "outputs": [],
   "source": [
    "from importlib import reload\n",
    "reload(perdiver)"
   ]
  },
  {
   "cell_type": "code",
   "execution_count": null,
   "id": "f54372ef-0a96-42e1-a04a-1dcfc5cdd4fc",
   "metadata": {},
   "outputs": [],
   "source": [
    "diags = []\n",
    "for idx, start_step in enumerate(steps_list):\n",
    "    Dist_X, Dist_Y, Dist_Z = compute_distance_matrices_trajectories_corridor(ps, twists, start_step, shift_time, weight, length)\n",
    "    diags.append(perdiver.get_matching_diagram(Dist_X, Dist_Y, Dist_Z, ax, color=mpl.colormaps[\"GnBu\"](idx/len(steps_list))))"
   ]
  },
  {
   "cell_type": "markdown",
   "id": "6b07cdc7-daf7-4700-bda4-3752a091c9ec",
   "metadata": {},
   "source": [
    "# Persistence Images"
   ]
  },
  {
   "cell_type": "code",
   "execution_count": null,
   "id": "1f70dc55-5734-412d-8a55-7b31222238d0",
   "metadata": {},
   "outputs": [],
   "source": [
    "length = 8.0\n",
    "num_steps = 2000\n",
    "# num_steps = 0\n",
    "width=1.0\n",
    "yaml = f\"\"\"\n",
    "steps: {num_steps}\n",
    "time_step: 0.1\n",
    "save_directory: ''\n",
    "record_pose: true\n",
    "record_twist: true\n",
    "scenario:\n",
    "  type: Corridor\n",
    "  length: {length}\n",
    "  width: {width} \n",
    "  groups:\n",
    "    -\n",
    "      type: thymio\n",
    "      number: 38\n",
    "      radius: 0.08\n",
    "      control_period: 0.1\n",
    "      speed_tolerance: 0.02\n",
    "      kinematics:\n",
    "        type: 2WDiff\n",
    "        wheel_axis: 0.094\n",
    "        max_speed: 0.166\n",
    "      behavior:\n",
    "        type: HL\n",
    "        optimal_speed: 0.12\n",
    "        horizon: 5.0\n",
    "        safety_margin: 0.034\n",
    "      state_estimation:\n",
    "        type: Bounded\n",
    "        range: 5.0\n",
    "\"\"\"\n",
    "experiment = sim.load_experiment(yaml)\n",
    "experiment.run()\n",
    "run = experiment.runs[0]\n",
    "ps = run.poses[:,:,[0,1]]\n",
    "twists = run.twists[:,:,:2] # ignore angular speeds"
   ]
  },
  {
   "cell_type": "code",
   "execution_count": null,
   "id": "61a4bf8f-73af-4c59-841e-3d5fb793e0f4",
   "metadata": {},
   "outputs": [],
   "source": [
    "diags = []\n",
    "shift_step=30\n",
    "steps_list = list(range(0, 400, shift_step))\n",
    "for idx, start_step in enumerate(steps_list):\n",
    "    Dist_X, Dist_Y, Dist_Z = compute_distance_matrices_trajectories_corridor(ps, twists, start_step, shift_time, weight, length)\n",
    "    \n",
    "    diags.append(perdiver.get_matching_diagram(Dist_X, Dist_Y, Dist_Z, ax, color=mpl.colormaps[\"GnBu\"](idx/len(steps_list))))"
   ]
  },
  {
   "cell_type": "code",
   "execution_count": null,
   "id": "eb2327f0-49ea-46fd-a79c-2fdce381b865",
   "metadata": {},
   "outputs": [],
   "source": [
    "from gudhi import representations"
   ]
  },
  {
   "cell_type": "code",
   "execution_count": null,
   "id": "fc061e93-bc4f-453d-8ecf-4853c0d044b6",
   "metadata": {},
   "outputs": [],
   "source": [
    "shift_step = 10\n",
    "diag_sum_list = []\n",
    "list_step = int(100/shift_step)\n",
    "for start_idx in range(0,len(steps_list), list_step ):\n",
    "    diag_sum_list.append(np.vstack(diags[start_idx: start_idx+list_step ]))\n",
    "\n",
    "diag_sum_list = diag_sum_list[:10]"
   ]
  },
  {
   "cell_type": "code",
   "execution_count": null,
   "id": "dc41f633-3980-428a-b435-60ce9ecf65dc",
   "metadata": {},
   "outputs": [],
   "source": [
    "npixels = 30\n",
    "perim = representations.PersistenceImage(resolution=[npixels, npixels], bandwidth=0.06)\n",
    "perim.fit(diag_sum_list)\n",
    "perim_list = perim.transform(diag_sum_list)\n",
    "# print(diag_trans.shape)\n",
    "# diag_shift_list = []\n",
    "# for diag in diags:\n",
    "#     diag_trans = np.vstack((diag[:,0], diag[:,1])).transpose()\n",
    "#     diag_shift_list.append(diag_trans)\n",
    "    \n",
    "# perim.fit(diag_shift_list)\n",
    "# perim_list = perim.transform(diag_shift_list)\n",
    "for image, diag in zip(perim_list, diag_sum_list):\n",
    "    fig, ax = plt.subplots(ncols=2, figsize=(4,2))\n",
    "    image = image.reshape(npixels,-1)\n",
    "    ax[0].imshow(image)\n",
    "    ax[1].scatter(diag[:,0], diag[:,1])\n",
    "    ax[1].set_aspect(\"equal\")"
   ]
  },
  {
   "cell_type": "code",
   "execution_count": null,
   "id": "d6733df0-d38a-4a8a-9681-bdc526095faa",
   "metadata": {},
   "outputs": [],
   "source": []
  }
 ],
 "metadata": {
  "kernelspec": {
   "display_name": "Python 3 (ipykernel)",
   "language": "python",
   "name": "python3"
  },
  "language_info": {
   "codemirror_mode": {
    "name": "ipython",
    "version": 3
   },
   "file_extension": ".py",
   "mimetype": "text/x-python",
   "name": "python",
   "nbconvert_exporter": "python",
   "pygments_lexer": "ipython3",
   "version": "3.10.12"
  }
 },
 "nbformat": 4,
 "nbformat_minor": 5
}
