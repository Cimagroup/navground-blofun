{
 "cells": [
  {
   "cell_type": "markdown",
   "id": "9879a0e4-f0bd-48e3-87db-092ea749bffb",
   "metadata": {},
   "source": [
    "# Corridor experiments\n",
    "\n",
    "In this notebook, we look at matchings with corridor navground robots. \n",
    "\n",
    "First, let us import a few important modules for this task."
   ]
  },
  {
   "cell_type": "code",
   "execution_count": null,
   "id": "276c8bd7-8e52-4a75-a075-fc49590a0817",
   "metadata": {},
   "outputs": [],
   "source": [
    "import numpy as np\n",
    "import matplotlib.pyplot as plt\n",
    "import scipy.spatial.distance as dist\n",
    "import matplotlib as mpl\n",
    "\n",
    "import os\n",
    "\n",
    "from navground import core, sim\n",
    "\n",
    "import perdiver.perdiver as perdiver\n",
    "from perdiver.distances import *\n",
    "\n",
    "plots_dir = \"plots/corridor/\"\n",
    "os.makedirs(plots_dir, exist_ok=True)"
   ]
  },
  {
   "cell_type": "markdown",
   "id": "a1a59cb6-8e89-47aa-8e75-91e7c41702b8",
   "metadata": {},
   "source": [
    "Next, let us execute the Navground corridor experiment."
   ]
  },
  {
   "cell_type": "code",
   "execution_count": null,
   "id": "3cdd5d27-a69b-4176-b5ec-6ebbb2c2c08e",
   "metadata": {},
   "outputs": [],
   "source": [
    "length = 8.0\n",
    "num_steps = 1000\n",
    "# num_steps = 0\n",
    "width=1.0\n",
    "yaml = f\"\"\"\n",
    "steps: {num_steps}\n",
    "time_step: 0.1\n",
    "save_directory: ''\n",
    "record_pose: true\n",
    "record_twist: true\n",
    "scenario:\n",
    "  type: Corridor\n",
    "  length: {length}\n",
    "  width: {width} \n",
    "  groups:\n",
    "    -\n",
    "      type: thymio\n",
    "      number: 38\n",
    "      radius: 0.08\n",
    "      control_period: 0.1\n",
    "      speed_tolerance: 0.02\n",
    "      kinematics:\n",
    "        type: 2WDiff\n",
    "        wheel_axis: 0.094\n",
    "        max_speed: 0.166\n",
    "      behavior:\n",
    "        type: HL\n",
    "        optimal_speed: 0.12\n",
    "        horizon: 5.0\n",
    "        safety_margin: 0.034\n",
    "      state_estimation:\n",
    "        type: Bounded\n",
    "        range: 5.0\n",
    "\"\"\"\n",
    "experiment = sim.load_experiment(yaml)\n",
    "experiment.run()"
   ]
  },
  {
   "cell_type": "markdown",
   "id": "b9cfed8c-fdb5-47e4-9353-c5b7115efb3d",
   "metadata": {},
   "source": [
    "We read out the positions and velocities of robots during the simulation."
   ]
  },
  {
   "cell_type": "code",
   "execution_count": null,
   "id": "0baf22f6-c846-4d06-b876-1c474d7f6ee4",
   "metadata": {},
   "outputs": [],
   "source": [
    "run = experiment.runs[0]\n",
    "ps = run.poses[:,:,[0,1]]\n",
    "twists = run.twists[:,:,:2] # ignore angular speeds"
   ]
  },
  {
   "cell_type": "markdown",
   "id": "6eb691f3-574b-4a43-b23b-ed026dd1ce83",
   "metadata": {},
   "source": [
    "Let us see a short simulation video."
   ]
  },
  {
   "cell_type": "code",
   "execution_count": null,
   "id": "f22580fe-49a6-43a2-9eb8-ca3b2d648665",
   "metadata": {},
   "outputs": [],
   "source": [
    "# import matplotlib.colors as colors\n",
    "# import matplotlib.cm as cmx\n",
    "# from navground.sim.ui.video import record_video\n",
    "\n",
    "# def linear_map(a, b, cmap):\n",
    "#     c = cmx.ScalarMappable(norm=colors.Normalize(vmin=a, vmax=b), cmap=cmap)  \n",
    "#     def f(v):\n",
    "#         r, g, b, _ = c.to_rgba(v)\n",
    "#         return f\"#{int(r * 255):02x}{int(g * 255):02x}{int(b * 255):02x}\"\n",
    "#     return f\n",
    "\n",
    "\n",
    "# fill_map = linear_map(0.0, 1.0, cmap=cmx.RdYlGn)\n",
    "\n",
    "# def f(entity):\n",
    "#     if isinstance(entity, sim.Agent):\n",
    "#         return {'fill': fill_map(entity.behavior.efficacy)}\n",
    "#     return {}\n",
    "    \n",
    "# record_video(\"stuck_corridor_exp.mp4\", run.world, time_step=0.1, duration=60.0, factor=8.0,\n",
    "#               bounds=((0, 0), (length, width)), decorate=f, width=700, display_shape=True)"
   ]
  },
  {
   "cell_type": "markdown",
   "id": "2551d77d-ae03-4f6a-9681-6efedeef3d6a",
   "metadata": {},
   "source": [
    "We observe mainly two dynamics, either the robots end up going in straight trajectories or they get stuck. Both examples below where produced with the same variables."
   ]
  },
  {
   "cell_type": "code",
   "execution_count": null,
   "id": "86cab838-cf0d-4610-aa9d-acda3d2e7671",
   "metadata": {},
   "outputs": [],
   "source": [
    "# from IPython.display import Video\n",
    "\n",
    "# Video(\"stuck_corridor_exp.mp4\", width=700)"
   ]
  },
  {
   "cell_type": "code",
   "execution_count": null,
   "id": "9952a6c6-4e97-4b3d-8de0-12d67838d3aa",
   "metadata": {},
   "outputs": [],
   "source": [
    "# from IPython.display import Video\n",
    "\n",
    "# Video(\"straight_corridor_exp.mp4\", width=700)"
   ]
  },
  {
   "cell_type": "markdown",
   "id": "d5d68f9f-561a-4aa2-8322-bf4499bdc83e",
   "metadata": {},
   "source": [
    "### Pairwise Matchings\n",
    "\n",
    "We are now going to compute the induced matchings and their associated diagrams.\n",
    "\n",
    "Also, we set up the variable \"weight\" and the timestep shift for our experiments."
   ]
  },
  {
   "cell_type": "code",
   "execution_count": null,
   "id": "c7f62901-f2fa-4d07-8fe2-651732e1977f",
   "metadata": {},
   "outputs": [],
   "source": [
    "weight = 4\n",
    "shift_time = 30\n",
    "steps_list = list(range(0, 800, 5))"
   ]
  },
  {
   "cell_type": "markdown",
   "id": "466df9ac-dc97-4f44-af56-e0f25652918b",
   "metadata": {},
   "source": [
    "Now, we are going to start by considering two timesteps and their associated divergence diagrams. Notice that these do not change much."
   ]
  },
  {
   "cell_type": "code",
   "execution_count": null,
   "id": "dab0e2e2-cef5-480d-8bbc-b9a636a1cbde",
   "metadata": {},
   "outputs": [],
   "source": [
    "start_step = 900\n",
    "X = ps[start_step]\n",
    "Y = ps[start_step + shift_time]\n",
    "vel_X = twists[start_step]\n",
    "vel_Y = twists[start_step + shift_time]\n",
    "X_len = X.shape[0]-1\n",
    "fig, ax = plt.subplots(nrows=1, ncols=2, figsize=(8, 4))\n",
    "# Interpret diagram via points\n",
    "perdiver.plot_two_timesteps(X, Y, ax[0])\n",
    "Dist_X, Dist_Y, Dist_Z = perdiver.compute_distance_matrices_timesteps_corridor(X, Y, vel_X, vel_Y, weight, length)\n",
    "match_diagram = perdiver.get_matching_diagram(Dist_X, Dist_Y)\n",
    "perdiver.plot_matching_diagram(match_diagram, ax[1], color=\"blue\")"
   ]
  },
  {
   "cell_type": "markdown",
   "id": "6c959e52-84be-4418-a12c-c5c6ce120c4b",
   "metadata": {},
   "source": [
    "Next, we compute and print the divergence array across a few simulation steps."
   ]
  },
  {
   "cell_type": "code",
   "execution_count": null,
   "id": "f28c02b5-b69f-43a4-bdf0-27b3294ba047",
   "metadata": {},
   "outputs": [],
   "source": [
    "divergence_list = []\n",
    "Z_barcodes_list = []\n",
    "for start_step in steps_list:\n",
    "    X = ps[start_step]\n",
    "    Y = ps[start_step + shift_time]\n",
    "    vel_X = twists[start_step]\n",
    "    vel_Y = twists[start_step + shift_time]\n",
    "    Dist_X, Dist_Y, Dist_Z = perdiver.compute_distance_matrices_timesteps_corridor(X, Y, vel_X, vel_Y, weight, length)\n",
    "    divergence_vector = perdiver.compute_divergence_vector(Dist_X, Dist_Y)\n",
    "    divergence_list.append(divergence_vector)\n",
    "\n",
    "divergence_arr = np.array(divergence_list).transpose()"
   ]
  },
  {
   "cell_type": "code",
   "execution_count": null,
   "id": "6c1e498b-fe06-4766-9062-934345cb82dc",
   "metadata": {},
   "outputs": [],
   "source": [
    "fig, ax = plt.subplots(figsize=(10,2))\n",
    "vmax = np.max(divergence_arr)\n",
    "mapable = ax.imshow(divergence_arr, aspect=\"auto\", vmax=vmax, extent=(steps_list[0], steps_list[-1], 0, X.shape[0]))\n",
    "ax.set_title(\"Divergence\")\n",
    "plt.colorbar(mapable)\n",
    "plt.tight_layout()\n",
    "ax.set_title(\"Divergence across time\")\n",
    "plt.savefig(\"Divergence_vector_evolution.png\")\n",
    "# ax.set_title(\"Divergence constant speed example\")\n",
    "# plt.savefig(\"Divergence_corridor_constant.png\")"
   ]
  },
  {
   "cell_type": "markdown",
   "id": "00e061f9-7935-4a32-9159-0112beb69708",
   "metadata": {},
   "source": [
    "Last, we compute the persistence matching diagram across the step list. There seems to be an equilibrium."
   ]
  },
  {
   "cell_type": "code",
   "execution_count": null,
   "id": "78b035e3-dd9d-42cb-a473-6fc55e8ba6ef",
   "metadata": {},
   "outputs": [],
   "source": [
    "fig, ax = plt.subplots(figsize=(4,4))\n",
    "for idx, start_step in enumerate(steps_list):\n",
    "    X = ps[start_step]\n",
    "    Y = ps[start_step + shift_time]\n",
    "    vel_X = twists[start_step]\n",
    "    vel_Y = twists[start_step+shift_time]\n",
    "    Dist_X, Dist_Y, Dist_Z = perdiver.compute_distance_matrices_timesteps_corridor(X, Y, vel_X, vel_Y, weight, length)\n",
    "    match_diagram = perdiver.get_matching_diagram(Dist_X, Dist_Y)\n",
    "    perdiver.plot_matching_diagram(match_diagram, ax, color=mpl.colormaps[\"GnBu\"](idx/len(steps_list)))\n",
    "# plt.savefig(\"pers_div_diag_constant.png\")\n",
    "norm = mpl.colors.Normalize(vmin=steps_list[0], vmax=steps_list[-1])\n",
    "cmap = mpl.colormaps[\"GnBu\"]\n",
    "mappable = mpl.cm.ScalarMappable(norm=norm, cmap=cmap)\n",
    "plt.colorbar(mappable=mappable, ax=ax)\n",
    "# plt.savefig(\"pers_div_diag_constant.png\")\n",
    "# plt.savefig(\"pers_div_diag_stuck.png\")"
   ]
  },
  {
   "cell_type": "markdown",
   "id": "63274934-0aa8-4355-a567-07ddf5f2da36",
   "metadata": {},
   "source": [
    "### Trajectories analysis\n",
    "\n",
    "Now, we repeat the same experiment, but, instead of considering timesteps, we consider consecutive trajectories."
   ]
  },
  {
   "cell_type": "code",
   "execution_count": null,
   "id": "d55564a8-e125-4d77-b1d4-4346279a37bc",
   "metadata": {},
   "outputs": [],
   "source": [
    "fig, ax = plt.subplots(figsize=(4,4))\n",
    "start_step=300\n",
    "Dist_X, Dist_Y, Dist_Z = compute_distance_matrices_trajectories_corridor(ps, twists, start_step, shift_time, weight, length)\n",
    "perdiver.plot_matching_diagram(Dist_X, Dist_Y, Dist_Z, ax, color=\"blue\", print_barcode_n_reps=True)\n",
    "plt.savefig(plots_dir + \"divergence_diag.png\")"
   ]
  },
  {
   "cell_type": "code",
   "execution_count": null,
   "id": "33258d22-1681-45eb-9870-531129f6d0e0",
   "metadata": {},
   "outputs": [],
   "source": [
    "X_seq = ps[list(range(start_step, start_step+shift_time+1, 10))]\n",
    "fig, ax = plt.subplots(figsize=(10, 5))\n",
    "ax.set_aspect(\"equal\")\n",
    "perdiver.plot_sequence(X_seq, ax)"
   ]
  },
  {
   "cell_type": "code",
   "execution_count": null,
   "id": "60c7be55-1080-4415-8fde-38cc2ba7b64c",
   "metadata": {},
   "outputs": [],
   "source": [
    "divergence_list = []\n",
    "Z_barcodes_list = []\n",
    "for start_step in steps_list:\n",
    "    Dist_X, Dist_Y, Dist_Z = compute_distance_matrices_trajectories_corridor(ps, twists, start_step, shift_time, weight, length)\n",
    "    divergence, Z_barcode = perdiver.compute_divergence_vector(Dist_X, Dist_Y, Dist_Z)\n",
    "    divergence_list.append(divergence)\n",
    "    Z_barcodes_list.append(Z_barcode)\n",
    "\n",
    "divergence_arr = np.array(divergence_list).transpose()\n",
    "Z_barcodes_arr = np.array(Z_barcodes_list).transpose()"
   ]
  },
  {
   "cell_type": "markdown",
   "id": "5272b8c5-2b37-465e-ab49-ef7e7c865e32",
   "metadata": {},
   "source": [
    "Next, we plot divergence vectors over time."
   ]
  },
  {
   "cell_type": "code",
   "execution_count": null,
   "id": "10deafa9-05bb-4b96-9404-29bab7d4d4cc",
   "metadata": {},
   "outputs": [],
   "source": [
    "fig, ax = plt.subplots(figsize=(10,2))\n",
    "vmax = np.max(divergence_arr)\n",
    "mapable = ax.imshow(divergence_arr, aspect=\"auto\", vmax=vmax, extent=(steps_list[0], steps_list[-1], 0, divergence_arr.shape[0]))\n",
    "print(mapable)\n",
    "print(np.max(divergence_arr))\n",
    "ax.set_title(\"corridor\")\n",
    "plt.colorbar(mapable)\n",
    "plt.tight_layout()\n",
    "plt.savefig(\"corridor_divergence_diag_hist.png\")"
   ]
  },
  {
   "cell_type": "code",
   "execution_count": null,
   "id": "b2bf5db0-2f4a-4430-bacb-ff8f3c0cd7b3",
   "metadata": {},
   "outputs": [],
   "source": [
    "fig, ax = plt.subplots(figsize=(10,2))\n",
    "vmax = np.max(Z_barcodes_arr)\n",
    "mapable = ax.imshow(Z_barcodes_arr, aspect=\"auto\", vmax=vmax, extent=(steps_list[0], steps_list[-1], 0, Z_barcodes_arr.shape[0]))\n",
    "ax.set_title(\"corridor\")\n",
    "plt.colorbar(mapable)\n",
    "plt.tight_layout()\n",
    "plt.savefig(\"corridor_Z_array_hist.png\")"
   ]
  },
  {
   "cell_type": "markdown",
   "id": "cfbf13eb-c1b6-4baa-8a58-986d1924d59d",
   "metadata": {},
   "source": [
    "Let us plot the persistence diagram over time for trajectories."
   ]
  },
  {
   "cell_type": "code",
   "execution_count": null,
   "id": "301cd36f-095d-4133-94f2-b176ca418efb",
   "metadata": {},
   "outputs": [],
   "source": [
    "fig, ax = plt.subplots(figsize=(4,4))\n",
    "for idx, start_step in enumerate(steps_list):\n",
    "    Dist_X, Dist_Y, Dist_Z = compute_distance_matrices_trajectories_corridor(ps, twists, start_step, shift_time, weight, length)\n",
    "    perdiver.plot_matching_diagram(Dist_X, Dist_Y, Dist_Z, ax, color=mpl.colormaps[\"GnBu\"](idx/len(steps_list)))\n"
   ]
  },
  {
   "cell_type": "code",
   "execution_count": null,
   "id": "00b84d78-1dbc-4ff4-a106-f0ad29b0b07d",
   "metadata": {},
   "outputs": [],
   "source": [
    "# Persistence Images for corridor experiment"
   ]
  },
  {
   "cell_type": "code",
   "execution_count": null,
   "id": "b0998711-bfb2-4e60-83c5-3ad4bde6b89a",
   "metadata": {},
   "outputs": [],
   "source": [
    "from importlib import reload\n",
    "reload(perdiver)"
   ]
  },
  {
   "cell_type": "code",
   "execution_count": null,
   "id": "f54372ef-0a96-42e1-a04a-1dcfc5cdd4fc",
   "metadata": {},
   "outputs": [],
   "source": [
    "diags = []\n",
    "for idx, start_step in enumerate(steps_list):\n",
    "    Dist_X, Dist_Y, Dist_Z = compute_distance_matrices_trajectories_corridor(ps, twists, start_step, shift_time, weight, length)\n",
    "    diags.append(perdiver.get_matching_diagram(Dist_X, Dist_Y, Dist_Z, ax, color=mpl.colormaps[\"GnBu\"](idx/len(steps_list))))"
   ]
  },
  {
   "cell_type": "markdown",
   "id": "6b07cdc7-daf7-4700-bda4-3752a091c9ec",
   "metadata": {},
   "source": [
    "# Persistence Images"
   ]
  },
  {
   "cell_type": "code",
   "execution_count": null,
   "id": "1f70dc55-5734-412d-8a55-7b31222238d0",
   "metadata": {},
   "outputs": [],
   "source": [
    "length = 8.0\n",
    "num_steps = 2000\n",
    "# num_steps = 0\n",
    "width=1.0\n",
    "yaml = f\"\"\"\n",
    "steps: {num_steps}\n",
    "time_step: 0.1\n",
    "save_directory: ''\n",
    "record_pose: true\n",
    "record_twist: true\n",
    "scenario:\n",
    "  type: Corridor\n",
    "  length: {length}\n",
    "  width: {width} \n",
    "  groups:\n",
    "    -\n",
    "      type: thymio\n",
    "      number: 38\n",
    "      radius: 0.08\n",
    "      control_period: 0.1\n",
    "      speed_tolerance: 0.02\n",
    "      kinematics:\n",
    "        type: 2WDiff\n",
    "        wheel_axis: 0.094\n",
    "        max_speed: 0.166\n",
    "      behavior:\n",
    "        type: HL\n",
    "        optimal_speed: 0.12\n",
    "        horizon: 5.0\n",
    "        safety_margin: 0.034\n",
    "      state_estimation:\n",
    "        type: Bounded\n",
    "        range: 5.0\n",
    "\"\"\"\n",
    "experiment = sim.load_experiment(yaml)\n",
    "experiment.run()\n",
    "run = experiment.runs[0]\n",
    "ps = run.poses[:,:,[0,1]]\n",
    "twists = run.twists[:,:,:2] # ignore angular speeds"
   ]
  },
  {
   "cell_type": "code",
   "execution_count": null,
   "id": "61a4bf8f-73af-4c59-841e-3d5fb793e0f4",
   "metadata": {},
   "outputs": [],
   "source": [
    "diags = []\n",
    "steps_list = list(range(0, 1400, shift_step))\n",
    "for idx, start_step in enumerate(steps_list):\n",
    "    Dist_X, Dist_Y, Dist_Z = compute_distance_matrices_trajectories_corridor(ps, twists, start_step, shift_time, weight, length)\n",
    "    diags.append(perdiver.get_matching_diagram(Dist_X, Dist_Y, Dist_Z, ax, color=mpl.colormaps[\"GnBu\"](idx/len(steps_list))))"
   ]
  },
  {
   "cell_type": "code",
   "execution_count": null,
   "id": "eb2327f0-49ea-46fd-a79c-2fdce381b865",
   "metadata": {},
   "outputs": [],
   "source": [
    "from gudhi import representations"
   ]
  },
  {
   "cell_type": "code",
   "execution_count": null,
   "id": "fc061e93-bc4f-453d-8ecf-4853c0d044b6",
   "metadata": {},
   "outputs": [],
   "source": [
    "shift_step = 10\n",
    "diag_sum_list = []\n",
    "list_step = int(100/shift_step)\n",
    "for start_idx in range(0,len(steps_list), list_step ):\n",
    "    diag_sum_list.append(np.vstack(diags[start_idx: start_idx+list_step ]))\n",
    "\n",
    "diag_sum_list = diag_sum_list[:10]"
   ]
  },
  {
   "cell_type": "code",
   "execution_count": null,
   "id": "dc41f633-3980-428a-b435-60ce9ecf65dc",
   "metadata": {},
   "outputs": [],
   "source": [
    "npixels = 30\n",
    "perim = representations.PersistenceImage(resolution=[npixels, npixels], bandwidth=0.06)\n",
    "perim.fit(diag_sum_list)\n",
    "perim_list = perim.transform(diag_sum_list)\n",
    "# print(diag_trans.shape)\n",
    "# diag_shift_list = []\n",
    "# for diag in diags:\n",
    "#     diag_trans = np.vstack((diag[:,0], diag[:,1])).transpose()\n",
    "#     diag_shift_list.append(diag_trans)\n",
    "    \n",
    "# perim.fit(diag_shift_list)\n",
    "# perim_list = perim.transform(diag_shift_list)\n",
    "for image, diag in zip(perim_list, diag_sum_list):\n",
    "    fig, ax = plt.subplots(ncols=2, figsize=(4,2))\n",
    "    image = image.reshape(npixels,-1)\n",
    "    ax[0].imshow(image)\n",
    "    ax[1].scatter(diag[:,0], diag[:,1])\n",
    "    ax[1].set_aspect(\"equal\")"
   ]
  },
  {
   "cell_type": "code",
   "execution_count": null,
   "id": "d6733df0-d38a-4a8a-9681-bdc526095faa",
   "metadata": {},
   "outputs": [],
   "source": []
  }
 ],
 "metadata": {
  "kernelspec": {
   "display_name": "Python 3 (ipykernel)",
   "language": "python",
   "name": "python3"
  },
  "language_info": {
   "codemirror_mode": {
    "name": "ipython",
    "version": 3
   },
   "file_extension": ".py",
   "mimetype": "text/x-python",
   "name": "python",
   "nbconvert_exporter": "python",
   "pygments_lexer": "ipython3",
   "version": "3.10.12"
  }
 },
 "nbformat": 4,
 "nbformat_minor": 5
}
