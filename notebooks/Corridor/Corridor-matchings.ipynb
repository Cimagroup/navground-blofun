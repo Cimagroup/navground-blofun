{
 "cells": [
  {
   "cell_type": "markdown",
   "id": "9879a0e4-f0bd-48e3-87db-092ea749bffb",
   "metadata": {},
   "source": [
    "# Corridor experiments\n",
    "\n",
    "In this notebook, we look at matchings with corridor navground robots. \n",
    "\n",
    "First, let us import a few important modules for this task."
   ]
  },
  {
   "cell_type": "code",
   "execution_count": null,
   "id": "276c8bd7-8e52-4a75-a075-fc49590a0817",
   "metadata": {},
   "outputs": [],
   "source": [
    "import numpy as np\n",
    "import matplotlib.pyplot as plt\n",
    "import scipy.spatial.distance as dist\n",
    "import matplotlib as mpl\n",
    "\n",
    "import os\n",
    "\n",
    "from navground import core, sim\n",
    "\n",
    "import perdiver.perdiver as perdiver\n",
    "from perdiver.distances import *\n",
    "\n",
    "plots_dir = os.path.join(\"plots\", \"matchings\")\n",
    "experiment_dir = \"experiments\"\n",
    "os.makedirs(plots_dir, exist_ok=True)\n",
    "os.makedirs(\"experiments\", exist_ok=True)"
   ]
  },
  {
   "cell_type": "markdown",
   "id": "a1a59cb6-8e89-47aa-8e75-91e7c41702b8",
   "metadata": {},
   "source": [
    "Next, let us execute the Navground corridor experiment."
   ]
  },
  {
   "cell_type": "code",
   "execution_count": null,
   "id": "3cdd5d27-a69b-4176-b5ec-6ebbb2c2c08e",
   "metadata": {},
   "outputs": [],
   "source": [
    "length = 8.0\n",
    "num_steps = 500\n",
    "width=1.0\n",
    "num_agents = 31 # 38\n",
    "behaviour_list = [\"ORCA\", \"HL\", \"HRVO\", \"Dummy\"]\n",
    "for behaviour in behaviour_list:\n",
    "    path = os.path.join(experiment_dir, f\"matchings_{behaviour}.h5\")\n",
    "    yaml = f\"\"\"\n",
    "    steps: {num_steps}\n",
    "    time_step: 0.1\n",
    "    record_pose: true\n",
    "    record_twist: true\n",
    "    runs: 1\n",
    "    scenario:\n",
    "      type: Corridor\n",
    "      length: {length}\n",
    "      width: {width} \n",
    "      groups:\n",
    "        -\n",
    "          type: thymio\n",
    "          number: {num_agents}\n",
    "          radius: 0.08\n",
    "          control_period: 0.1\n",
    "          speed_tolerance: 0.02\n",
    "          kinematics:\n",
    "            type: 2WDiff\n",
    "            wheel_axis: 0.094\n",
    "            max_speed: 0.166\n",
    "          behavior:\n",
    "            type: {behaviour}\n",
    "            optimal_speed: 0.12\n",
    "            horizon: 5.0\n",
    "            safety_margin: 0.03\n",
    "          state_estimation:\n",
    "            type: Bounded\n",
    "            range: 5.0\n",
    "    \"\"\"\n",
    "    experiment = sim.load_experiment(yaml)\n",
    "    experiment.run(keep=False, data_path=path)\n",
    "    del experiment"
   ]
  },
  {
   "cell_type": "markdown",
   "id": "c66e74d7-d176-4ad0-90ac-83e83995419b",
   "metadata": {},
   "source": [
    "Reload both experiments and save runs into a dictionary."
   ]
  },
  {
   "cell_type": "code",
   "execution_count": null,
   "id": "1af16873-82c0-4613-b8f4-3c8e62e6cd36",
   "metadata": {},
   "outputs": [],
   "source": [
    "runs = {}\n",
    "# Reload simulations\n",
    "for behaviour in behaviour_list:\n",
    "    path = os.path.join(experiment_dir, f\"matchings_{behaviour}.h5\")\n",
    "    recorded_experiment = sim.RecordedExperiment(path)\n",
    "    runs[behaviour] = recorded_experiment.runs"
   ]
  },
  {
   "cell_type": "markdown",
   "id": "be9175ae-569a-4c99-b4d6-a5307a0dda7c",
   "metadata": {},
   "source": [
    "Let us display this simulation in a video"
   ]
  },
  {
   "cell_type": "code",
   "execution_count": null,
   "id": "cbd95bce-098a-4b07-8cf4-004d6be9c345",
   "metadata": {},
   "outputs": [],
   "source": [
    "from navground.sim.ui import WebUI\n",
    "from navground.sim.notebook import notebook_view\n",
    "from navground.sim.replay import RealTimeReplay\n",
    "\n",
    "web_ui = WebUI(host='127.0.0.1', max_rate=-1)\n",
    "await web_ui.prepare()"
   ]
  },
  {
   "cell_type": "markdown",
   "id": "a466b7a5-9065-4c22-8e5d-e8f563845ffa",
   "metadata": {},
   "source": [
    "First, let us visualise the HL experiment."
   ]
  },
  {
   "cell_type": "code",
   "execution_count": null,
   "id": "9caccb62-95a0-4d07-b458-31690db7be64",
   "metadata": {},
   "outputs": [],
   "source": [
    "notebook_view(width=300)"
   ]
  },
  {
   "cell_type": "code",
   "execution_count": null,
   "id": "e19abc4a-ea54-451c-91f7-fd2abae26788",
   "metadata": {},
   "outputs": [],
   "source": [
    "rt_sim = RealTimeReplay(run=runs[\"HL\"][0], factor=10, web_ui=web_ui)\n",
    "await rt_sim.run()"
   ]
  },
  {
   "cell_type": "markdown",
   "id": "dd0e2ea2-f58e-40db-b452-2e2c97235ceb",
   "metadata": {},
   "source": [
    "Now, we visualise the ORCA experiment."
   ]
  },
  {
   "cell_type": "code",
   "execution_count": null,
   "id": "fcd4f69c-c861-4b3e-a8a1-e010f51faa0e",
   "metadata": {},
   "outputs": [],
   "source": [
    "rt_sim = RealTimeReplay(run=runs[\"ORCA\"][0], factor=10, web_ui=web_ui)\n",
    "await rt_sim.run()"
   ]
  },
  {
   "cell_type": "markdown",
   "id": "37c1332c-e769-45bc-bb2f-af005428b09c",
   "metadata": {},
   "source": [
    "Also HRVO and Dummy"
   ]
  },
  {
   "cell_type": "code",
   "execution_count": null,
   "id": "3ee86a27-6aa1-4ce3-bf60-ddbcc3c1ff45",
   "metadata": {},
   "outputs": [],
   "source": [
    "rt_sim = RealTimeReplay(run=runs[\"HRVO\"][0], factor=10, web_ui=web_ui)\n",
    "await rt_sim.run()"
   ]
  },
  {
   "cell_type": "code",
   "execution_count": null,
   "id": "fabb89e1-e57c-4f99-87e8-05d0fc108f19",
   "metadata": {},
   "outputs": [],
   "source": [
    "rt_sim = RealTimeReplay(run=runs[\"Dummy\"][0], factor=10, web_ui=web_ui)\n",
    "await rt_sim.run()"
   ]
  },
  {
   "cell_type": "markdown",
   "id": "aae0e84c-57ad-4b9c-88ef-88562ff00354",
   "metadata": {},
   "source": [
    "Both simulations are very different. In partiuclar, we observe mainly two dynamics, either the robots end up going in straight trajectories or they get stuck. Both examples below where produced with the same variables."
   ]
  },
  {
   "cell_type": "markdown",
   "id": "d5d68f9f-561a-4aa2-8322-bf4499bdc83e",
   "metadata": {},
   "source": [
    "### Pairwise Matchings\n",
    "\n",
    "We are now going to compute the induced matchings and their associated diagrams.\n",
    "\n",
    "Also, we set up the variable \"weight\" and the timestep shift for our experiments."
   ]
  },
  {
   "cell_type": "code",
   "execution_count": null,
   "id": "c7f62901-f2fa-4d07-8fe2-651732e1977f",
   "metadata": {},
   "outputs": [],
   "source": [
    "weight = 1 # This is the weight for velocities\n",
    "shift_time = 20 # Shift between timesteps\n",
    "steps_list = list(range(20, 120, 10)) # Starting timesteps that we consider"
   ]
  },
  {
   "cell_type": "markdown",
   "id": "466df9ac-dc97-4f44-af56-e0f25652918b",
   "metadata": {},
   "source": [
    "Now, we are going to start by considering two timesteps and their associated divergence diagrams. Notice that these do not change much."
   ]
  },
  {
   "cell_type": "code",
   "execution_count": null,
   "id": "dab0e2e2-cef5-480d-8bbc-b9a636a1cbde",
   "metadata": {},
   "outputs": [],
   "source": [
    "start_step = 20\n",
    "gs_kw = dict(width_ratios=[5, 2, 2], height_ratios=[1,1])\n",
    "fig, axd = plt.subplot_mosaic([['points_HL', 'Diag_HL', 'Diag_ORCA'],\n",
    "                               ['points_ORCA', 'Diag_HL', 'Diag_ORCA']],\n",
    "                              gridspec_kw=gs_kw, figsize=(16, 4),\n",
    "                              layout=\"constrained\")\n",
    "for behaviour in [\"HL\", \"ORCA\"]:\n",
    "    ps = np.array(runs[behaviour][0].poses)[:,:]\n",
    "    twists = np.array(runs[behaviour][0].twists)[:,:]\n",
    "    X = ps[start_step]\n",
    "    Y = ps[start_step + shift_time]\n",
    "    vel_X = twists[start_step]\n",
    "    vel_Y = twists[start_step + shift_time]\n",
    "    X_len = X.shape[0]-1\n",
    "    # Plot two timesteps\n",
    "    # fig, ax = plt.subplots(figsize=(8, 1))\n",
    "    ax = axd[f\"points_{behaviour}\"]\n",
    "    perdiver.plot_two_timesteps_with_velocities(X[:,:2], Y[:,:2], vel_X[:,:2], vel_Y[:,:2], ax, arrow_width=0.03)\n",
    "    ax.set_title(f\"points_{behaviour}\", fontsize=20)\n",
    "    # Plot matching diagram\n",
    "    ax = axd[f\"Diag_{behaviour}\"]\n",
    "    Dist_X, Dist_Y, Dist_Z = perdiver.compute_distance_matrices_timesteps_corridor(X, Y, vel_X, vel_Y, weight, length)\n",
    "    match_diagram = perdiver.get_matching_diagram(Dist_X, Dist_Y)\n",
    "    perdiver.plot_matching_diagram(match_diagram, ax, color=\"blue\")\n",
    "    ax.set_title(behaviour, fontsize=20)\n",
    "\n",
    "perdiver.same_diagram_scale(axd[\"Diag_HL\"], axd[\"Diag_ORCA\"])\n",
    "plt.savefig(os.path.join(plots_dir, f\"two_timesteps_points_matching_diags_ORCA_HL.png\"))"
   ]
  },
  {
   "cell_type": "markdown",
   "id": "00e061f9-7935-4a32-9159-0112beb69708",
   "metadata": {},
   "source": [
    "Last, we compute the persistence matching diagram across the step list. There seems to be an equilibrium."
   ]
  },
  {
   "cell_type": "code",
   "execution_count": null,
   "id": "78b035e3-dd9d-42cb-a473-6fc55e8ba6ef",
   "metadata": {},
   "outputs": [],
   "source": [
    "fig, ax = plt.subplots(ncols=len(behaviour_list), figsize=(5*len(behaviour_list),4))\n",
    "diagrams_behaviour = {}\n",
    "for j, behaviour in enumerate(behaviour_list):\n",
    "    ps = np.array(runs[behaviour][0].poses)\n",
    "    twists = np.array(runs[behaviour][0].twists)\n",
    "    diagrams_list = []\n",
    "    for idx, start_step in enumerate(steps_list):\n",
    "        X = ps[start_step]\n",
    "        Y = ps[start_step + shift_time]\n",
    "        vel_X = twists[start_step]\n",
    "        vel_Y = twists[start_step+shift_time]\n",
    "        Dist_X, Dist_Y, Dist_Z = perdiver.compute_distance_matrices_timesteps_corridor(X, Y, vel_X, vel_Y, weight, length)\n",
    "        match_diagram = perdiver.get_matching_diagram(Dist_X, Dist_Y)\n",
    "        perdiver.plot_matching_diagram(match_diagram, ax[j], color=mpl.colormaps[\"GnBu\"](idx/len(steps_list)))\n",
    "        diagrams_list.append(match_diagram)\n",
    "    # end for \n",
    "    diagrams_behaviour[f\"{behaviour}\"] = diagrams_list\n",
    "    norm = mpl.colors.Normalize(vmin=steps_list[0], vmax=steps_list[-1])\n",
    "    cmap = mpl.colormaps[\"GnBu\"]\n",
    "    mappable = mpl.cm.ScalarMappable(norm=norm, cmap=cmap)\n",
    "    plt.colorbar(mappable=mappable, ax=ax[j])\n",
    "    ax[j].set_title(f\"Evolution matching diagram {behaviour}\")\n",
    "# end for\n",
    "perdiver.same_diagram_scale(ax[0], ax[1])\n",
    "plt.savefig(os.path.join(plots_dir, f\"evolution_matching_ORCA_HL.png\"))"
   ]
  },
  {
   "cell_type": "markdown",
   "id": "ab95a71f-7863-4d43-97cf-5cd93066bf7c",
   "metadata": {},
   "source": [
    "### Vectorisation of matching diagrams\n",
    "\n",
    "Use persistence images for this."
   ]
  },
  {
   "cell_type": "code",
   "execution_count": null,
   "id": "1d0a1bf2-dd29-4c41-8d46-af9cc43d9cef",
   "metadata": {},
   "outputs": [],
   "source": [
    "from gudhi import representations"
   ]
  },
  {
   "cell_type": "code",
   "execution_count": null,
   "id": "da68ca0b-99c1-411c-8636-37105bdaa050",
   "metadata": {},
   "outputs": [],
   "source": [
    "npixels = 15\n",
    "perim = representations.PersistenceImage(resolution=[npixels, npixels], bandwidth=0.1, im_range=[0,3,-3,3])\n",
    "all_diagrams = []\n",
    "for behaviour in behaviour_list:\n",
    "    all_diagrams += diagrams_behaviour[behaviour]\n",
    "perim.fit(all_diagrams)\n",
    "perim_arr_dict = {}\n",
    "for behaviour in behaviour_list:\n",
    "    perim_arr_dict[behaviour] = perim.transform(diagrams_behaviour[behaviour])"
   ]
  },
  {
   "cell_type": "markdown",
   "id": "82aa3b14-84d3-4d41-978a-8434941a5c78",
   "metadata": {},
   "source": [
    "Visualise persistence images."
   ]
  },
  {
   "cell_type": "code",
   "execution_count": null,
   "id": "8f0b682f-4182-4502-9fd4-13169ba0ca29",
   "metadata": {},
   "outputs": [],
   "source": [
    "fig, ax = plt.subplots(ncols=len(behaviour_list), figsize=(3.5*len(behaviour_list),3), layout=\"constrained\")\n",
    "for idx, behaviour in enumerate(behaviour_list):\n",
    "    # mean_perim = perim_arr_dict[behaviour].mean(axis=0).reshape(15,15)\n",
    "    # mean_perim = (mean_perim / mean_perim.max(axis=0))\n",
    "    # ax[idx].imshow(mean_perim)\n",
    "    ax[idx].imshow(perim_arr_dict[behaviour].mean(axis=0).reshape(15,15))\n",
    "    ax[idx].set_title(behaviour, fontsize=20)\n",
    "# end for \n",
    "# plt.tight_layout()\n",
    "plt.savefig(os.path.join(plots_dir, f\"image_persistence_ORCA_HL.png\"))"
   ]
  },
  {
   "cell_type": "code",
   "execution_count": null,
   "id": "79922d48-02c8-40b9-8b82-611dafe0e829",
   "metadata": {},
   "outputs": [],
   "source": [
    "def timestep_to_idx(steps_list, time):\n",
    "    return np.argmax((np.array(steps_list) - 20)>=0)"
   ]
  },
  {
   "cell_type": "markdown",
   "id": "ba88b88d-6a2c-481a-8747-58cf47e6c765",
   "metadata": {},
   "source": [
    "Measure differeces across time."
   ]
  },
  {
   "cell_type": "markdown",
   "id": "737d73eb-cd49-402a-91ef-8bf435614133",
   "metadata": {},
   "source": [
    "### Divergence vectors across time\n",
    "\n",
    "Next, we compute and print the divergence array across a few simulation steps."
   ]
  },
  {
   "cell_type": "code",
   "execution_count": null,
   "id": "f28c02b5-b69f-43a4-bdf0-27b3294ba047",
   "metadata": {},
   "outputs": [],
   "source": [
    "divergence_dict = {}\n",
    "for behaviour in behaviour_list:\n",
    "    ps = np.array(runs[behaviour][0].poses)\n",
    "    twists = np.array(runs[behaviour][0].twists)\n",
    "    divergence_list = []\n",
    "    Z_barcodes_list = []\n",
    "    for start_step in steps_list:\n",
    "        X = ps[start_step]\n",
    "        Y = ps[start_step + shift_time]\n",
    "        vel_X = twists[start_step]\n",
    "        vel_Y = twists[start_step + shift_time]\n",
    "        Dist_X, Dist_Y, Dist_Z = perdiver.compute_distance_matrices_timesteps_corridor(X, Y, vel_X, vel_Y, weight, length)\n",
    "        divergence_vector = np.sort(perdiver.compute_divergence_vector(Dist_X, Dist_Y))\n",
    "        divergence_list.append(divergence_vector)\n",
    "\n",
    "    divergence_dict[behaviour] = np.array(divergence_list).transpose()\n",
    "\n",
    "vmax = np.max([np.max(divergence_dict[behaviour]) for behaviour in divergence_dict.keys()])\n",
    "vmin = np.min([np.min(divergence_dict[behaviour]) for behaviour in divergence_dict.keys()])\n",
    "for behaviour in divergence_dict.keys():\n",
    "    divergence_arr = divergence_dict[behaviour]\n",
    "    ## Save figure \n",
    "    fig, ax = plt.subplots(figsize=(10,2))\n",
    "    mapable = ax.imshow(divergence_arr, aspect=\"auto\", vmax=vmax, vmin=vmin, extent=(steps_list[0], steps_list[-1], 0, X.shape[0]))\n",
    "    ax.set_title(f\"Divergence {behaviour}\")\n",
    "    plt.colorbar(mapable)\n",
    "    plt.tight_layout()\n",
    "    plt.savefig(os.path.join(plots_dir, f\"Divergence_vector_evolution_{behaviour}.png\"))"
   ]
  },
  {
   "cell_type": "code",
   "execution_count": null,
   "id": "d6733df0-d38a-4a8a-9681-bdc526095faa",
   "metadata": {},
   "outputs": [],
   "source": []
  }
 ],
 "metadata": {
  "kernelspec": {
   "display_name": "Python 3 (ipykernel)",
   "language": "python",
   "name": "python3"
  },
  "language_info": {
   "codemirror_mode": {
    "name": "ipython",
    "version": 3
   },
   "file_extension": ".py",
   "mimetype": "text/x-python",
   "name": "python",
   "nbconvert_exporter": "python",
   "pygments_lexer": "ipython3",
   "version": "3.10.12"
  }
 },
 "nbformat": 4,
 "nbformat_minor": 5
}
