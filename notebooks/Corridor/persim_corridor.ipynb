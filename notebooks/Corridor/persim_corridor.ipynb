{
 "cells": [
  {
   "cell_type": "code",
   "execution_count": null,
   "id": "ffd927f7-13bb-4a41-bd02-e747b297c235",
   "metadata": {},
   "outputs": [],
   "source": [
    "import numpy as np\n",
    "import matplotlib.pyplot as plt\n",
    "import scipy.spatial.distance as dist\n",
    "import matplotlib as mpl\n",
    "\n",
    "import iblofunmatch.inter as ibfm\n",
    "import os\n",
    "\n",
    "from navground import core, sim\n",
    "\n",
    "import perdiver.perdiver as perdiver\n",
    "from perdiver.distances import *\n",
    "\n",
    "plots_dir = \"plots/corridor/\"\n",
    "output_dir = \"output\"\n",
    "os.makedirs(output_dir, exist_ok=True)\n",
    "os.makedirs(plots_dir, exist_ok=True)"
   ]
  },
  {
   "cell_type": "code",
   "execution_count": null,
   "id": "6baf3d41-f9e3-4e77-bd81-4f90d898bfc7",
   "metadata": {},
   "outputs": [],
   "source": [
    "length = 8.0\n",
    "num_steps = 2000\n",
    "width=1.0\n",
    "# num_agents = 28\n",
    "num_agents = 20\n",
    "# num_steps = 0\n",
    "shift_time = 100\n",
    "# shift_time = 50\n",
    "steps_list = list(range(0, num_steps-shift_time, shift_time))\n",
    "diags_list = []\n",
    "weight= 3\n",
    "behaviour_list = [\"ORCA\", \"HL\"]\n",
    "for behaviour in behaviour_list:\n",
    "    yaml = f\"\"\"\n",
    "    steps: {num_steps}\n",
    "    time_step: 0.1\n",
    "    save_directory: ''\n",
    "    record_pose: true\n",
    "    record_twist: true\n",
    "    scenario:\n",
    "      type: Corridor\n",
    "      length: {length}\n",
    "      width: {width} \n",
    "      groups:\n",
    "        -\n",
    "          type: thymio\n",
    "          number: {num_agents}\n",
    "          radius: 0.08\n",
    "          control_period: 0.1\n",
    "          speed_tolerance: 0.02\n",
    "          kinematics:\n",
    "            type: 2WDiff\n",
    "            wheel_axis: 0.094\n",
    "            max_speed: 0.166\n",
    "          behavior:\n",
    "            type: {behaviour}\n",
    "            optimal_speed: 0.12\n",
    "            horizon: 5.0\n",
    "            safety_margin: 0.034\n",
    "          state_estimation:\n",
    "            type: Bounded\n",
    "            range: 5.0\n",
    "    \"\"\"\n",
    "    experiment = sim.load_experiment(yaml)\n",
    "    experiment.run()\n",
    "    run = experiment.runs[0]\n",
    "    ps = run.poses[:,:,[0,1]]\n",
    "    twists = run.twists[:,:,:2] # ignore angular speeds\n",
    "    # COmpute persistence diagrams and store\n",
    "    diags = []\n",
    "    for idx, start_step in enumerate(steps_list):\n",
    "        Dist_X, Dist_Y, Dist_Z = compute_distance_matrices_trajectories_corridor(ps, twists, start_step, shift_time, weight, length)\n",
    "        diags.append(perdiver.get_matching_diagram(Dist_X, Dist_Y, Dist_Z, output_dir))\n",
    "    diags_list.append(diags)"
   ]
  },
  {
   "cell_type": "markdown",
   "id": "35075e8a-a339-4746-adf8-9c4dcb8c24ae",
   "metadata": {},
   "source": [
    "Compute persistence images"
   ]
  },
  {
   "cell_type": "code",
   "execution_count": null,
   "id": "995ddce8-ebbc-441c-bbe2-750f284a2f9d",
   "metadata": {},
   "outputs": [],
   "source": [
    "from gudhi import representations\n",
    "npixels = 30\n",
    "xmax = max(np.max(diags_list[0]), np.max(diags_list[1]))*1.1\n",
    "ymax = xmax\n",
    "perim = representations.PersistenceImage(resolution=[npixels, npixels], bandwidth=0.08, im_range=[0, xmax, -ymax, 0])\n",
    "perim.fit(diags_list[0] + diags_list[1])\n",
    "ORCA_perimages = perim.transform(diags_list[0])\n",
    "HL_perimages = perim.transform(diags_list[1])"
   ]
  },
  {
   "cell_type": "code",
   "execution_count": null,
   "id": "a4cc1ce3-a54c-4a15-91bd-4daeaa336381",
   "metadata": {},
   "outputs": [],
   "source": [
    "xmax"
   ]
  },
  {
   "cell_type": "code",
   "execution_count": null,
   "id": "06322595-6fba-4ab0-a377-ce33f4010161",
   "metadata": {},
   "outputs": [],
   "source": [
    "for i, (image, diag) in enumerate(zip(ORCA_perimages, diags_list[0])):\n",
    "    fig, ax = plt.subplots(ncols=2, figsize=(8,4))\n",
    "    image = image.reshape(npixels,-1)\n",
    "    ax[0].imshow(image)\n",
    "    ax[0].set_xticks([])\n",
    "    ax[0].set_yticks([])\n",
    "    perdiver.plot_matching_diagram(diag, ax[1], max_val_diag=xmax)\n",
    "    fig.suptitle(f\"{behaviour_list[0]} step: {steps_list[i]:5d}\")\n",
    "    plt.tight_layout()\n",
    "    plt.savefig(plots_dir + f\"ORCA_{steps_list[i]:04d}\" + \".png\")\n",
    "    plt.close()"
   ]
  },
  {
   "cell_type": "code",
   "execution_count": null,
   "id": "e1b84312-edbe-4a85-8711-cfd7e1ed3752",
   "metadata": {},
   "outputs": [],
   "source": [
    "for i, (image, diag) in enumerate(zip(HL_perimages, diags_list[1])):\n",
    "    fig, ax = plt.subplots(ncols=2, figsize=(8,4))\n",
    "    image = image.reshape(npixels,-1)\n",
    "    ax[0].imshow(image)\n",
    "    ax[0].set_xticks([])\n",
    "    ax[0].set_yticks([])\n",
    "    perdiver.plot_matching_diagram(diag, ax[1], max_val_diag=xmax)\n",
    "    fig.suptitle(f\"{behaviour_list[1]} step: {steps_list[i]:5d}\")\n",
    "    plt.tight_layout()\n",
    "    plt.savefig(plots_dir + f\"HL_{steps_list[i]:04d}\" + \".png\")\n",
    "    plt.close()"
   ]
  },
  {
   "cell_type": "markdown",
   "id": "5cd92eb0-2063-4bfd-8828-287f3af91300",
   "metadata": {},
   "source": [
    "# Plot videos of both experiments to see how they behave"
   ]
  },
  {
   "cell_type": "code",
   "execution_count": null,
   "id": "510be084-4391-4fc6-a779-e32a27ca0d16",
   "metadata": {},
   "outputs": [],
   "source": [
    "import matplotlib.colors as colors\n",
    "import matplotlib.cm as cmx\n",
    "from navground.sim.ui.video import record_video\n",
    "\n",
    "def linear_map(a, b, cmap):\n",
    "    c = cmx.ScalarMappable(norm=colors.Normalize(vmin=a, vmax=b), cmap=cmap)  \n",
    "    def f(v):\n",
    "        r, g, b, _ = c.to_rgba(v)\n",
    "        return f\"#{int(r * 255):02x}{int(g * 255):02x}{int(b * 255):02x}\"\n",
    "    return f\n",
    "\n",
    "\n",
    "fill_map = linear_map(0.0, 1.0, cmap=cmx.RdYlGn)\n",
    "\n",
    "def f(entity):\n",
    "    if isinstance(entity, sim.Agent):\n",
    "        return {'fill': fill_map(entity.behavior.efficacy)}\n",
    "    return {}\n",
    "    "
   ]
  },
  {
   "cell_type": "code",
   "execution_count": null,
   "id": "31e95648-2468-4c14-bf01-fe88737249a9",
   "metadata": {},
   "outputs": [],
   "source": [
    "for behaviour in [\"ORCA\", \"HL\"]:\n",
    "    yaml = f\"\"\"\n",
    "    steps: 2\n",
    "    time_step: 0.1\n",
    "    save_directory: ''\n",
    "    record_pose: true\n",
    "    record_twist: true\n",
    "    scenario:\n",
    "      type: Corridor\n",
    "      length: {length}\n",
    "      width: {width} \n",
    "      groups:\n",
    "        -\n",
    "          type: thymio\n",
    "          number: {num_agents}\n",
    "          radius: 0.08\n",
    "          control_period: 0.1\n",
    "          speed_tolerance: 0.02\n",
    "          kinematics:\n",
    "            type: 2WDiff\n",
    "            wheel_axis: 0.094\n",
    "            max_speed: 0.166\n",
    "          behavior:\n",
    "            type: {behaviour}\n",
    "            optimal_speed: 0.12\n",
    "            horizon: 5.0\n",
    "            safety_margin: 0.034\n",
    "          state_estimation:\n",
    "            type: Bounded\n",
    "            range: 5.0\n",
    "    \"\"\"\n",
    "    experiment = sim.load_experiment(yaml)\n",
    "    experiment.run()\n",
    "    run = experiment.runs[0]\n",
    "    # Record video\n",
    "    record_video(f\"{plots_dir}{behaviour}_exp_{num_agents}.mp4\", run.world, time_step=0.1, duration=200.0, factor=14.0,\n",
    "                  bounds=((0, 0), (length, width)), decorate=f, width=700, display_shape=True)"
   ]
  },
  {
   "cell_type": "code",
   "execution_count": null,
   "id": "8fd478b6-5969-4d36-98d6-3b810d777785",
   "metadata": {},
   "outputs": [],
   "source": [
    "from navground.sim.ui.render import png_for_world\n",
    "from IPython.display import Image\n",
    "\n",
    "world = run.world\n",
    "# Image(data=png_for_world(world), width=700, filename=\"corridor.png\")\n",
    "with open(\"corridor.png\", \"wb\") as png:\n",
    "    png.write(png_for_world(world))"
   ]
  },
  {
   "cell_type": "markdown",
   "id": "7b4bc427-b312-4021-9133-0cef0b64ed4d",
   "metadata": {},
   "source": [
    "Now, we can see the generated videos"
   ]
  },
  {
   "cell_type": "code",
   "execution_count": null,
   "id": "8da49dc4-b7b0-4b96-9c74-902bf2945ee6",
   "metadata": {},
   "outputs": [],
   "source": [
    "from IPython.display import Video\n",
    "\n",
    "Video(f\"{plots_dir}ORCA_exp_{num_agents}.mp4\", width=700)"
   ]
  },
  {
   "cell_type": "code",
   "execution_count": null,
   "id": "66f157a7-fe10-45de-b131-fafc18bda1d5",
   "metadata": {},
   "outputs": [],
   "source": [
    "from IPython.display import Video\n",
    "\n",
    "Video(f\"{plots_dir}HL_exp_{num_agents}.mp4\", width=700)"
   ]
  },
  {
   "cell_type": "code",
   "execution_count": null,
   "id": "6feeccb9-80d5-45d4-844a-d4393e33d57f",
   "metadata": {},
   "outputs": [],
   "source": []
  }
 ],
 "metadata": {
  "kernelspec": {
   "display_name": "Python 3 (ipykernel)",
   "language": "python",
   "name": "python3"
  },
  "language_info": {
   "codemirror_mode": {
    "name": "ipython",
    "version": 3
   },
   "file_extension": ".py",
   "mimetype": "text/x-python",
   "name": "python",
   "nbconvert_exporter": "python",
   "pygments_lexer": "ipython3",
   "version": "3.10.12"
  }
 },
 "nbformat": 4,
 "nbformat_minor": 5
}
