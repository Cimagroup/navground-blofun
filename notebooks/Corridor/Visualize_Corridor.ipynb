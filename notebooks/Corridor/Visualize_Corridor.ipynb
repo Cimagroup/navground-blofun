{
 "cells": [
  {
   "cell_type": "markdown",
   "id": "dd73ec18-5465-422b-8c5c-0ab014b3584a",
   "metadata": {},
   "source": [
    "Este notebook de pruebas es para ver cómo se visualiza bien la simulación del Corridor"
   ]
  },
  {
   "cell_type": "code",
   "execution_count": 17,
   "id": "c834bd54-4fb7-40cf-a4af-ce7e3043b610",
   "metadata": {},
   "outputs": [],
   "source": [
    "import numpy as np\n",
    "import matplotlib.pyplot as plt\n",
    "import scipy.spatial.distance as dist\n",
    "import matplotlib as mpl\n",
    "from navground import sim, core\n",
    "# from tslearn.generators import random_walks\n",
    "# from tslearn import metrics"
   ]
  },
  {
   "cell_type": "code",
   "execution_count": 23,
   "id": "1edae864-81b1-4c94-9fa7-f5a4169773ad",
   "metadata": {},
   "outputs": [],
   "source": [
    "length = 10.0\n",
    "width = 3\n",
    "num_steps = 300\n",
    "time_step = 0.1\n",
    "num_agents = 19\n",
    "max_speed = 0.166\n",
    "safety_margin = 0.5\n",
    "radius = 0.1\n",
    "\n",
    "\n",
    "yaml = f\"\"\"\n",
    "steps: {num_steps}\n",
    "time_step: {time_step}\n",
    "save_directory: ''\n",
    "record_pose: true\n",
    "record_twist: true\n",
    "scenario:\n",
    "  type: Corridor\n",
    "  length: {length}\n",
    "  width: {width}\n",
    "  groups:\n",
    "    -\n",
    "      type: thymio\n",
    "      number: {num_agents}\n",
    "      radius: {radius}\n",
    "      control_period: 0.2\n",
    "      speed_tolerance: 0.02\n",
    "      kinematics:\n",
    "        type: 2WDiff\n",
    "        wheel_axis: 0.094\n",
    "        max_speed: {max_speed}\n",
    "      behavior:\n",
    "        type: HL\n",
    "        optimal_speed: 0.12\n",
    "        horizon: 5.0\n",
    "        safety_margin: {safety_margin}\n",
    "      state_estimation:\n",
    "        type: Bounded\n",
    "        range: 5.0\n",
    "\"\"\"\n",
    "experiment = sim.load_experiment(yaml)\n",
    "experiment.run()\n",
    "run = experiment.runs[0]"
   ]
  },
  {
   "cell_type": "code",
   "execution_count": 26,
   "id": "5225b945-2972-4b14-8ded-46a912df1355",
   "metadata": {},
   "outputs": [],
   "source": [
    "import matplotlib.colors as colors\n",
    "import matplotlib.cm as cmx\n",
    "from navground.sim.ui.video import record_video\n",
    "\n",
    "def linear_map(a, b, cmap):\n",
    "    c = cmx.ScalarMappable(norm=colors.Normalize(vmin=a, vmax=b), cmap=cmap)  \n",
    "    def f(v):\n",
    "        r, g, b, _ = c.to_rgba(v)\n",
    "        return f\"#{int(r * 255):02x}{int(g * 255):02x}{int(b * 255):02x}\"\n",
    "    return f\n",
    "\n",
    "\n",
    "fill_map = linear_map(0.0, 1.0, cmap=cmx.RdYlGn)\n",
    "\n",
    "def f(entity):\n",
    "    if isinstance(entity, sim.Agent):\n",
    "        return {'fill': fill_map(entity.behavior.efficacy)}\n",
    "    return {}\n",
    "\n",
    "bounds=[np.array([length,0]),np.array([length*2, width])]\n",
    "record_video(\"corridor_exp_visualise.mp4\", run.world, time_step=0.1, duration=60.0, factor=6.0,\n",
    "              bounds=bounds, decorate=f, width=500)"
   ]
  },
  {
   "cell_type": "code",
   "execution_count": 27,
   "id": "4f1dfac0-9146-4e3b-83f8-d7372efc6cab",
   "metadata": {},
   "outputs": [
    {
     "data": {
      "text/html": [
       "<video src=\"corridor_exp_visualise.mp4\" controls  width=\"600\" >\n",
       "      Your browser does not support the <code>video</code> element.\n",
       "    </video>"
      ],
      "text/plain": [
       "<IPython.core.display.Video object>"
      ]
     },
     "execution_count": 27,
     "metadata": {},
     "output_type": "execute_result"
    }
   ],
   "source": [
    "from IPython.display import Video\n",
    "\n",
    "Video(\"corridor_exp_visualise.mp4\", width=600)"
   ]
  },
  {
   "cell_type": "code",
   "execution_count": null,
   "id": "165d86d6-bef3-4d4b-83b2-03c97b88a984",
   "metadata": {},
   "outputs": [],
   "source": []
  }
 ],
 "metadata": {
  "kernelspec": {
   "display_name": "Python 3 (ipykernel)",
   "language": "python",
   "name": "python3"
  },
  "language_info": {
   "codemirror_mode": {
    "name": "ipython",
    "version": 3
   },
   "file_extension": ".py",
   "mimetype": "text/x-python",
   "name": "python",
   "nbconvert_exporter": "python",
   "pygments_lexer": "ipython3",
   "version": "3.10.12"
  }
 },
 "nbformat": 4,
 "nbformat_minor": 5
}
