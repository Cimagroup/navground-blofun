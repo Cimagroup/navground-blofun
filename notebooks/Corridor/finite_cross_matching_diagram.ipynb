{
 "cells": [
  {
   "cell_type": "code",
   "execution_count": null,
   "id": "35aeeac5-6e45-4233-907c-7c7fc8cdb916",
   "metadata": {},
   "outputs": [],
   "source": [
    "import numpy as np\n",
    "import matplotlib.pyplot as plt\n",
    "import scipy.spatial.distance as dist\n",
    "import matplotlib as mpl\n",
    "output_dir=\"output\"\n",
    "plots_dir = \"plots/finite_cross/\"\n",
    "import os\n",
    "\n",
    "os.makedirs(plots_dir, exist_ok=True)\n",
    "\n",
    "from perdiver.distances import *\n",
    "import perdiver.perdiver as perdiver"
   ]
  },
  {
   "cell_type": "code",
   "execution_count": null,
   "id": "f8dafd82-b0a7-4dd3-ba63-77e7eeafe3cc",
   "metadata": {},
   "outputs": [],
   "source": [
    "from navground import sim, core\n",
    "\n",
    "behaviour= \"ORCA\"\n",
    "number = 20\n",
    "side = 16\n",
    "yaml = f\"\"\"\n",
    "steps: 10000\n",
    "time_step: 0.1\n",
    "save_directory: ''\n",
    "record_pose: true\n",
    "record_twist: true\n",
    "scenario:\n",
    "  type: Cross\n",
    "  agent_margin: 0.2\n",
    "  side: {side}\n",
    "  target_margin: 1.0\n",
    "  tolerance: 0.5\n",
    "  groups:  \n",
    "    -\n",
    "      type: thymio\n",
    "      number: {number}\n",
    "      control_period: 0.1\n",
    "      behavior:\n",
    "        type: {behaviour}\n",
    "        safety_margin: 0.25 \n",
    "        horizon: 3\n",
    "        barrier_angle: 1\n",
    "      radius: 0.2\n",
    "      kinematics:\n",
    "        type: 2WDiff\n",
    "        max_speed: 0.5\n",
    "        wheel_axis: 2\n",
    "      state_estimation:\n",
    "        type: Bounded\n",
    "        range: 2.0 \n",
    "\"\"\"\n",
    "experiment = sim.load_experiment(yaml)\n",
    "experiment.run()"
   ]
  },
  {
   "cell_type": "code",
   "execution_count": null,
   "id": "521263da-de14-48bd-9939-58bbbd7d4196",
   "metadata": {},
   "outputs": [],
   "source": [
    "run = experiment.runs[0]\n",
    "ps = run.poses[:,:,[0,1]]\n",
    "twists = run.twists[:,:,:2] # ignore angular speeds"
   ]
  },
  {
   "cell_type": "markdown",
   "id": "78bd8ac7-1fc6-4089-876d-f7e06a997d77",
   "metadata": {},
   "source": [
    "Record Video"
   ]
  },
  {
   "cell_type": "code",
   "execution_count": null,
   "id": "92c429f4-784b-4815-a3c8-46707da8ba13",
   "metadata": {},
   "outputs": [],
   "source": [
    "import matplotlib.colors as colors\n",
    "import matplotlib.cm as cmx\n",
    "from navground.sim.ui.video import record_video, record_video_from_run\n",
    "\n",
    "def linear_map(a, b, cmap):\n",
    "    c = cmx.ScalarMappable(norm=colors.Normalize(vmin=a, vmax=b), cmap=cmap)  \n",
    "    def f(v):\n",
    "        r, g, b, _ = c.to_rgba(v)\n",
    "        return f\"#{int(r * 255):02x}{int(g * 255):02x}{int(b * 255):02x}\"\n",
    "    return f\n",
    "\n",
    "\n",
    "fill_map = linear_map(0.0, 1.0, cmap=cmx.RdYlGn)\n",
    "\n",
    "def f(entity):\n",
    "    if isinstance(entity, sim.Agent):\n",
    "        return {'fill': fill_map(entity.behavior.efficacy)}\n",
    "    return {}\n",
    "    \n",
    "record_video(f\"{plots_dir}{behaviour}_exp.mp4\", run.world, time_step=0.1, duration=60.0, factor=6.0,\n",
    "             bounds=((-side*0.6, -side*0.6), (side*0.6, side*0.6)), decorate=f, width=500)"
   ]
  },
  {
   "cell_type": "code",
   "execution_count": null,
   "id": "e5967f1d-fa89-44d8-9401-9e1ea04c2ec0",
   "metadata": {},
   "outputs": [],
   "source": [
    "from IPython.display import Video\n",
    "\n",
    "Video(f\"{plots_dir}{behaviour}_exp.mp4\", width=200)"
   ]
  },
  {
   "cell_type": "code",
   "execution_count": null,
   "id": "775e0da7-c5b7-4702-a748-79dd4b1255de",
   "metadata": {},
   "outputs": [],
   "source": [
    "weight = 0.5"
   ]
  },
  {
   "cell_type": "code",
   "execution_count": null,
   "id": "42ca86aa-57d4-482d-9efa-16825f942bc6",
   "metadata": {},
   "outputs": [],
   "source": [
    "dist_result = perdiver.trajectory_distance_weighted_velocities(ps[:5], twists[:5], weight)"
   ]
  },
  {
   "cell_type": "code",
   "execution_count": null,
   "id": "11e47c4d-4429-47eb-97ab-48eccab7ec24",
   "metadata": {},
   "outputs": [],
   "source": [
    "start_step_list = list(range(0,2400, 500))\n",
    "fig, ax = plt.subplots(ncols=len(start_step_list), figsize=(6*(len(start_step_list)),6))\n",
    "xmax, ymax = 0,0\n",
    "for idx_start, start_step in enumerate(start_step_list):\n",
    "    shift_time=50\n",
    "    X, Y = ps[idx_start], ps[idx_start+shift_time]\n",
    "    vel_X, vel_Y = twists[idx_start], twists[idx_start+shift_time]\n",
    "    Dist_X = perdiver.distances_weighted_velocities(X, vel_X, weight)\n",
    "    Dist_Y = perdiver.distances_weighted_velocities(Y, vel_Y, weight)\n",
    "    Dist_Z = np.minimum(Dist_X, Dist_Y)\n",
    "    perdiver.plot_matching_diagram(Dist_X, Dist_Y, Dist_Z, ax[idx_start])\n",
    "    # plot_matching_diagram_trajectories(ps[start_step:start_step+shift_time], twists[start_step:start_step+shift_time], weight, ax[idx_start], shift_time, color=mpl.colormaps[\"GnBu\"](idx/len(steplist)))\n",
    "    ax[idx_start].set_title(f\"{start_step}\")\n",
    "    xmax = max(xmax, ax[idx_start].get_xlim()[1])\n",
    "    ymax = max(ymax, ax[idx_start].get_ylim()[1])\n",
    "\n",
    "for idx_start, start_step in enumerate(start_step_list):\n",
    "    ax[idx_start].plot([0,max(xmax, ymax)], [0, max(xmax, ymax)], color=\"gray\")\n",
    "    ax[idx_start].set_xlim(0,xmax)\n",
    "    ax[idx_start].set_ylim(0,ymax)"
   ]
  },
  {
   "cell_type": "code",
   "execution_count": null,
   "id": "f63f0f87-fb33-42b7-b82d-2c4a80b75418",
   "metadata": {},
   "outputs": [],
   "source": [
    "fig, ax = plt.subplots(figsize=(5,5))\n",
    "step = 1605\n",
    "shift_time = 40\n",
    "X, Y = ps[step], ps[step+shift_time]\n",
    "vel_X, vel_Y = twists[step], twists[step+shift_time]\n",
    "Dist_X = perdiver.distances_weighted_velocities(X, vel_X, weight)\n",
    "Dist_Y = perdiver.distances_weighted_velocities(Y, vel_Y, weight)\n",
    "Dist_Z = np.minimum(Dist_X, Dist_Y)\n",
    "perdiver.plot_matching_diagram(Dist_X, Dist_Y, Dist_Z, ax)\n",
    "plt.tight_layout()\n",
    "plt.savefig(f\"per_div_cross_{number}.png\")"
   ]
  },
  {
   "cell_type": "code",
   "execution_count": null,
   "id": "8da6d278-2bbc-4fb0-b9f7-41130613f586",
   "metadata": {},
   "outputs": [],
   "source": [
    "start_step_list = list(range(3600,4000, 5))\n",
    "shift_time=40\n",
    "fig, ax = plt.subplots(figsize=(8,6))\n",
    "for idx, step in enumerate(start_step_list):\n",
    "    X, Y = ps[step], ps[step+shift_time]\n",
    "    vel_X, vel_Y = twists[step], twists[step+shift_time]\n",
    "    Dist_X = perdiver.distances_weighted_velocities(X, vel_X, weight)\n",
    "    Dist_Y = perdiver.distances_weighted_velocities(Y, vel_Y, weight)\n",
    "    Dist_Z = np.minimum(Dist_X, Dist_Y)\n",
    "    perdiver.plot_matching_diagram(Dist_X, Dist_Y, Dist_Z, ax, color=mpl.colormaps[\"GnBu\"](idx/len(start_step_list)), max_val_diag=8)\n",
    "    \n",
    "# Colorbar \n",
    "norm = mpl.colors.Normalize(start_step_list[0], vmax=start_step_list[-1])\n",
    "cmap = mpl.colormaps[\"GnBu\"]\n",
    "mappable = mpl.cm.ScalarMappable(norm=norm, cmap=cmap)\n",
    "plt.colorbar(mappable=mappable, ax=ax)\n",
    "plt.tight_layout()\n",
    "plt.savefig(f\"{plots_dir}{behaviour}_{weight}_perdiver.png\")"
   ]
  },
  {
   "cell_type": "code",
   "execution_count": null,
   "id": "3dcb4e68-1809-454b-8d54-88d10defd059",
   "metadata": {},
   "outputs": [],
   "source": [
    "fig, ax = plt.subplots(figsize=(6,6))\n",
    "X = ps[2000]\n",
    "ax.scatter(X[:,0], X[:,1], c=\"black\", marker=\"o\", s=20)"
   ]
  },
  {
   "cell_type": "code",
   "execution_count": null,
   "id": "bfde48f6-c678-4e60-ae1c-5b02178dab0f",
   "metadata": {},
   "outputs": [],
   "source": []
  },
  {
   "cell_type": "code",
   "execution_count": null,
   "id": "3aff44c7-5b33-4efb-9ea6-dec62fbd3e40",
   "metadata": {},
   "outputs": [],
   "source": []
  }
 ],
 "metadata": {
  "kernelspec": {
   "display_name": "Python 3 (ipykernel)",
   "language": "python",
   "name": "python3"
  },
  "language_info": {
   "codemirror_mode": {
    "name": "ipython",
    "version": 3
   },
   "file_extension": ".py",
   "mimetype": "text/x-python",
   "name": "python",
   "nbconvert_exporter": "python",
   "pygments_lexer": "ipython3",
   "version": "3.10.12"
  }
 },
 "nbformat": 4,
 "nbformat_minor": 5
}
