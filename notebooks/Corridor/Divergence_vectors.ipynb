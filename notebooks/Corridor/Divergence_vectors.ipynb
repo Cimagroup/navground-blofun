{
 "cells": [
  {
   "cell_type": "markdown",
   "id": "2830c5ee-5d1e-4a54-91fa-1e677353b319",
   "metadata": {},
   "source": [
    "# Divergence Vectors on Corridor Experiment\n",
    "\n",
    "In this notebook, we run various simulations on the corridor experimetn using both HL and ORCA behaviuors.\n",
    "\n",
    "We use divergence vectors to see if these are able to distinguish between both."
   ]
  },
  {
   "cell_type": "code",
   "execution_count": null,
   "id": "7f6cee38-96e7-47c9-94c7-51ccfb6b3da0",
   "metadata": {},
   "outputs": [],
   "source": [
    "import numpy as np\n",
    "import matplotlib.pyplot as plt\n",
    "import scipy.spatial.distance as dist\n",
    "import matplotlib as mpl\n",
    "\n",
    "import os\n",
    "\n",
    "from navground import core, sim\n",
    "\n",
    "import perdiver.perdiver as perdiver\n",
    "from perdiver.distances import *\n",
    "\n",
    "plots_dir = \"plots\"\n",
    "os.makedirs(plots_dir, exist_ok=True)"
   ]
  },
  {
   "cell_type": "markdown",
   "id": "3a59cfcd-1e8b-464b-a5b6-47b182ccaa7d",
   "metadata": {},
   "source": [
    "We run a few times the corridor experiment."
   ]
  },
  {
   "cell_type": "code",
   "execution_count": null,
   "id": "452e7849-badc-44b9-b254-54c0a9d51f65",
   "metadata": {},
   "outputs": [],
   "source": [
    "length = 8.0\n",
    "num_steps = 400\n",
    "width=1.0\n",
    "num_agents = 31 # 38\n",
    "num_runs = 30\n",
    "for behaviour in [\"ORCA\", \"HL\"]:\n",
    "    path=f\"experiment_diverg_vect_{behaviour}.h5\"\n",
    "    yaml = f\"\"\"\n",
    "    steps: {num_steps}\n",
    "    time_step: 0.1\n",
    "    record_pose: true\n",
    "    record_twist: true\n",
    "    runs: {num_runs}\n",
    "    scenario:\n",
    "      type: Corridor\n",
    "      length: {length}\n",
    "      width: {width} \n",
    "      groups:\n",
    "        -\n",
    "          type: thymio\n",
    "          number: {num_agents}\n",
    "          radius: 0.08\n",
    "          control_period: 0.1\n",
    "          speed_tolerance: 0.02\n",
    "          kinematics:\n",
    "            type: 2WDiff\n",
    "            wheel_axis: 0.094\n",
    "            max_speed: 0.166\n",
    "          behavior:\n",
    "            type: {behaviour}\n",
    "            optimal_speed: 0.12\n",
    "            horizon: 5.0\n",
    "            safety_margin: 0.03\n",
    "          state_estimation:\n",
    "            type: Bounded\n",
    "            range: 5.0\n",
    "    \"\"\"\n",
    "    # optimal_speed: \n",
    "    #     sampler: normal\n",
    "    #     mean: 0.2\n",
    "    #     std_dev: 0.05\n",
    "    # horizon: 5.0\n",
    "    # safety_margin: \n",
    "    #     sampler: normal\n",
    "    #     mean: 0.08\n",
    "    #     std_dev: 0.05\n",
    "    experiment = sim.load_experiment(yaml)\n",
    "    experiment.run(keep=False, data_path=path)\n",
    "    del experiment"
   ]
  },
  {
   "cell_type": "markdown",
   "id": "479de14b-c6f9-421a-b006-1a8d167852e7",
   "metadata": {},
   "source": [
    "We reload both experiment runs and save them into a dictionary of lists."
   ]
  },
  {
   "cell_type": "code",
   "execution_count": null,
   "id": "d29c3111-ec68-4bf7-86ab-6f199cc42334",
   "metadata": {},
   "outputs": [],
   "source": [
    "runs = {}\n",
    "# Reload HL simulation\n",
    "path_HL = \"experiment_diverg_vect_HL.h5\"\n",
    "recorded_experiment = sim.RecordedExperiment(path_HL)\n",
    "runs[\"HL\"] = recorded_experiment.runs\n",
    "# Reload ORCA simulation\n",
    "path_ORCA = \"experiment_diverg_vect_ORCA.h5\"\n",
    "recorded_experiment = sim.RecordedExperiment(path_ORCA)\n",
    "runs[\"ORCA\"] = recorded_experiment.runs"
   ]
  },
  {
   "cell_type": "markdown",
   "id": "cba17da4-9bd3-4d1d-b2be-0a5e856e01a2",
   "metadata": {},
   "source": [
    "Compute the persistence matching diagrams across both simulations, using a step list variable that contains which steps we consider as initial values. In addition, we consider a number of steps shift between timesteps."
   ]
  },
  {
   "cell_type": "code",
   "execution_count": null,
   "id": "24a45d98-3b8b-49c6-8529-94675bfce391",
   "metadata": {},
   "outputs": [],
   "source": [
    "# Set persistence divergence parameters\n",
    "shift_timesteps = 30\n",
    "initial_steps = list(range(100, 350, 20))\n",
    "weight=2\n",
    "# Compute persistence divergence for all runs\n",
    "divergence_behaviour = {}\n",
    "for j, behaviour in enumerate([\"ORCA\", \"HL\"]):\n",
    "    divergence_array_list = []\n",
    "    for ridx in range(num_runs):\n",
    "        divergence_list = []\n",
    "        ps = np.array(runs[behaviour][ridx].poses)\n",
    "        twists = np.array(runs[behaviour][ridx].twists)\n",
    "        for idx, start_step in enumerate(initial_steps):\n",
    "            X = ps[start_step]\n",
    "            Y = ps[start_step + shift_timesteps]\n",
    "            vel_X = twists[start_step]\n",
    "            vel_Y = twists[start_step+shift_timesteps]\n",
    "            Dist_X, Dist_Y, Dist_Z = perdiver.compute_distance_matrices_timesteps_corridor(X, Y, vel_X, vel_Y, weight, length)\n",
    "            divergence_vector = np.sort(perdiver.compute_divergence_vector(Dist_X, Dist_Y))\n",
    "            divergence_list.append(divergence_vector)\n",
    "        # end for \n",
    "        divergence_array_list.append(np.array(divergence_list).transpose())\n",
    "    # end for\n",
    "    divergence_behaviour[behaviour] = divergence_array_list\n",
    "# end for"
   ]
  },
  {
   "cell_type": "code",
   "execution_count": null,
   "id": "a86e0232-4ffc-486b-8735-5e25d1fa5c4e",
   "metadata": {},
   "outputs": [],
   "source": [
    "divergences = []\n",
    "for behaviour in divergence_behaviour.keys():\n",
    "    for divergence_arr in divergence_behaviour[behaviour]:\n",
    "        divergences.append(divergence_arr.ravel().tolist())"
   ]
  },
  {
   "cell_type": "markdown",
   "id": "7f9f2097-86bb-4bf4-8c58-4bc1b9f0e903",
   "metadata": {},
   "source": [
    "Compute PCA projection to see the distribution of points."
   ]
  },
  {
   "cell_type": "code",
   "execution_count": null,
   "id": "85e3b755-3b8d-42d5-9fb5-3ed753e3daa7",
   "metadata": {},
   "outputs": [],
   "source": [
    "from sklearn.decomposition import PCA"
   ]
  },
  {
   "cell_type": "code",
   "execution_count": null,
   "id": "d59e293a-cd2f-4d43-81af-5cd8ffcd84c8",
   "metadata": {},
   "outputs": [],
   "source": [
    "pca = PCA(n_components=2)\n",
    "Y = pca.fit_transform(divergences)"
   ]
  },
  {
   "cell_type": "code",
   "execution_count": null,
   "id": "178571fe-6cd5-4e65-b7e4-448743f27282",
   "metadata": {},
   "outputs": [],
   "source": [
    "fig, ax = plt.subplots(figsize=(4,4))\n",
    "half_runs = int(num_runs/2)\n",
    "ax.scatter(Y[:num_runs,0], Y[:num_runs,1], c=\"black\", marker=\"o\", s=20, label=\"ORCA\")\n",
    "ax.scatter(Y[num_runs:,0], Y[num_runs:,1], c=\"red\", marker=\"x\", s=20, label=\"HL\")\n",
    "plt.legend()\n",
    "plt.savefig(plots_dir + \"pca_divergence.png\")"
   ]
  },
  {
   "cell_type": "code",
   "execution_count": null,
   "id": "15b723e1-d495-4fb4-ab47-1d202f726552",
   "metadata": {},
   "outputs": [],
   "source": [
    "for behaviour in divergence_behaviour.keys():\n",
    "    divergence_arr = divergence_behaviour[behaviour][1]\n",
    "    ## Save figure \n",
    "    fig, ax = plt.subplots(figsize=(10,2))\n",
    "    mapable = ax.imshow(divergence_arr, aspect=\"auto\", vmax=13, vmin=-13, extent=(initial_steps[0], initial_steps[-1], 0, X.shape[0]))\n",
    "    ax.set_title(f\"Divergence {behaviour}\")\n",
    "    plt.colorbar(mapable)\n",
    "    plt.tight_layout()\n",
    "    plt.savefig(f\"{plots_dir}/Divergence_vector_evolution_{behaviour}.png\")"
   ]
  },
  {
   "cell_type": "code",
   "execution_count": null,
   "id": "d22076b0-78ca-4abd-a161-0909ef5855c1",
   "metadata": {},
   "outputs": [],
   "source": [
    "from navground.sim.ui import WebUI\n",
    "from navground.sim.notebook import notebook_view\n",
    "from navground.sim.replay import RealTimeReplay\n",
    "\n",
    "web_ui = WebUI(host='127.0.0.1', max_rate=-1)\n",
    "await web_ui.prepare()"
   ]
  },
  {
   "cell_type": "code",
   "execution_count": null,
   "id": "258c7b8e-75f1-4634-9f99-08d6453bf3bc",
   "metadata": {},
   "outputs": [],
   "source": [
    "notebook_view(width=300)"
   ]
  },
  {
   "cell_type": "code",
   "execution_count": null,
   "id": "c81b029c-69bc-4a9c-9267-604103bd60af",
   "metadata": {},
   "outputs": [],
   "source": [
    "mixed_ORCA_run = np.argmin(Y[:num_runs,0])\n",
    "mixed_HL_run = np.argmax(Y[num_runs:,0])"
   ]
  },
  {
   "cell_type": "code",
   "execution_count": null,
   "id": "ebe1e0ed-2ce0-4499-a17e-aff1d82ff708",
   "metadata": {},
   "outputs": [],
   "source": [
    "rt_sim = RealTimeReplay(run=runs[\"ORCA\"][mixed_ORCA_run], factor=20, web_ui=web_ui)\n",
    "await rt_sim.run()"
   ]
  },
  {
   "cell_type": "code",
   "execution_count": null,
   "id": "40f5a205-23bd-4a80-805b-ddfa1f44b859",
   "metadata": {},
   "outputs": [],
   "source": [
    "rt_sim = RealTimeReplay(run=runs[\"HL\"][mixed_HL_run], factor=20, web_ui=web_ui)\n",
    "await rt_sim.run()"
   ]
  },
  {
   "cell_type": "markdown",
   "id": "0817e946-447e-4e7e-ba79-d87807e5aa77",
   "metadata": {},
   "source": [
    "Now we see what we get by analysing other basic variables, such as variance of angular speed."
   ]
  },
  {
   "cell_type": "code",
   "execution_count": null,
   "id": "9f84eeaf-7815-447d-a7bd-c07817d6ee9b",
   "metadata": {},
   "outputs": [],
   "source": [
    "timestep_list = list(range(0, 300, 5))\n",
    "variables_behaviour = {}\n",
    "for j, behaviour in enumerate([\"ORCA\", \"HL\"]):\n",
    "    variables_list = []\n",
    "    for ridx in range(num_runs):\n",
    "        variables_run = []\n",
    "        ps = np.array(runs[behaviour][ridx].poses)\n",
    "        twists = np.array(runs[behaviour][ridx].twists)\n",
    "        for idx, step in enumerate(timestep_list):\n",
    "            X = ps[step]\n",
    "            vel_X = twists[step]\n",
    "            variables_run.append(np.hstack((np.mean(X, axis=0), np.std(X, axis=0), weight*np.mean(vel_X, axis=0), weight*np.std(vel_X, axis=0))))\n",
    "        # end for \n",
    "        variables_list.append(np.array(variables_run).transpose())\n",
    "    # end for\n",
    "    variables_behaviour[behaviour] = np.array(variables_list)"
   ]
  },
  {
   "cell_type": "code",
   "execution_count": null,
   "id": "a70e336f-462f-4f78-87f2-7916a7f1d046",
   "metadata": {},
   "outputs": [],
   "source": [
    "matrix = np.copy(variables_behaviour[\"ORCA\"])\n",
    "matrix.shape"
   ]
  },
  {
   "cell_type": "code",
   "execution_count": null,
   "id": "ccf43bd6-43ac-4e2b-ae76-811373676482",
   "metadata": {},
   "outputs": [],
   "source": [
    "fig, ax = plt.subplots(ncols=2, nrows=6, figsize=(10,10))\n",
    "color_behaviour = {\"HL\":\"red\", \"ORCA\":\"black\"}\n",
    "labels = np.array([\n",
    "    [\"x mean\", \"y mean\", \"angle mean\", \"x std\", \"y std\", \"angule std\"],\n",
    "    [\"v_x mean\", \"v_y mean\", \"angle speed mean\", \"v_x std\", \"v_y std\", \"angular speed std\"]\n",
    "]).transpose()\n",
    "for irow in range(labels.shape[0]):\n",
    "    for icol in range(labels.shape[1]):\n",
    "        for behaviour in [\"ORCA\", \"HL\"]:\n",
    "            for variables_run in variables_behaviour[behaviour]:\n",
    "                ax[irow, icol].set_title(labels[irow, icol])\n",
    "                ax[irow, icol].plot(list(range(variables_run.shape[1])), variables_run[icol*6 + irow], color=color_behaviour[behaviour])"
   ]
  },
  {
   "cell_type": "markdown",
   "id": "a315c42f-5b1c-4c00-8d54-d514ee4b3671",
   "metadata": {},
   "source": [
    "See how PCA does by using these variables"
   ]
  },
  {
   "cell_type": "code",
   "execution_count": null,
   "id": "3b057fe3-2e37-4f81-9130-6ade58bb62e9",
   "metadata": {},
   "outputs": [],
   "source": [
    "runs_coordinates = []\n",
    "for behaviour in [\"HL\", \"ORCA\"]:\n",
    "    for variables_run in variables_behaviour[behaviour]:\n",
    "        runs_coordinates.append(variables_run.ravel())\n",
    "\n",
    "runs_coordinates = np.array(runs_coordinates)"
   ]
  },
  {
   "cell_type": "code",
   "execution_count": null,
   "id": "6c095eb1-59c8-4df2-86e5-b635b053d18f",
   "metadata": {},
   "outputs": [],
   "source": [
    "runs_coordinates.shape"
   ]
  },
  {
   "cell_type": "code",
   "execution_count": null,
   "id": "45804ac8-b1b8-42d6-9534-d5722e093b6d",
   "metadata": {},
   "outputs": [],
   "source": [
    "pca = PCA(n_components=2)\n",
    "Y_variables = pca.fit_transform(runs_coordinates)"
   ]
  },
  {
   "cell_type": "code",
   "execution_count": null,
   "id": "2009d5c3-0a54-4a8a-97e6-5b98bb70a238",
   "metadata": {},
   "outputs": [],
   "source": [
    "fig, ax = plt.subplots(figsize=(4,4))\n",
    "half_runs = int(num_runs/2)\n",
    "ax.scatter(Y_variables[:num_runs,0], Y_variables[:num_runs,1], c=\"black\", marker=\"o\", s=20, label=\"ORCA\")\n",
    "ax.scatter(Y_variables[num_runs:,0], Y_variables[num_runs:,1], c=\"red\", marker=\"x\", s=20, label=\"HL\")\n",
    "plt.legend()\n",
    "plt.savefig(plots_dir + \"pca_variables.png\")"
   ]
  },
  {
   "cell_type": "code",
   "execution_count": null,
   "id": "5b5f834c-8624-4ecf-a311-a8f9b5235d70",
   "metadata": {},
   "outputs": [],
   "source": [
    "runs_coordinates.shape"
   ]
  },
  {
   "cell_type": "code",
   "execution_count": null,
   "id": "b5b2f70a-36bf-4f5b-b1c6-10196d185cb5",
   "metadata": {},
   "outputs": [],
   "source": [
    "fig, ax = plt.subplots(figsize=(4,4))\n",
    "num_steps = len(timestep_list)\n",
    "runs_coordinates_speeds = runs_coordinates[:, 10*int(runs_coordinates.shape[1]/12):11*int(runs_coordinates.shape[1]/12)]\n",
    "Y_speeds = pca.fit_transform(runs_coordinates_speeds)\n",
    "half_runs = int(num_runs/2)\n",
    "ax.scatter(Y_speeds[:num_runs,0], Y_variables[:num_runs,1], c=\"black\", marker=\"o\", s=20, label=\"ORCA\")\n",
    "ax.scatter(Y_speeds[num_runs:,0], Y_variables[num_runs:,1], c=\"red\", marker=\"x\", s=20, label=\"HL\")\n",
    "plt.legend()\n",
    "plt.savefig(plots_dir + \"pca_speeds.png\")"
   ]
  },
  {
   "cell_type": "code",
   "execution_count": null,
   "id": "8e68a5e9-c075-49b7-86fc-e4535d39d8d1",
   "metadata": {},
   "outputs": [],
   "source": []
  }
 ],
 "metadata": {
  "kernelspec": {
   "display_name": "Python 3 (ipykernel)",
   "language": "python",
   "name": "python3"
  },
  "language_info": {
   "codemirror_mode": {
    "name": "ipython",
    "version": 3
   },
   "file_extension": ".py",
   "mimetype": "text/x-python",
   "name": "python",
   "nbconvert_exporter": "python",
   "pygments_lexer": "ipython3",
   "version": "3.10.12"
  }
 },
 "nbformat": 4,
 "nbformat_minor": 5
}
