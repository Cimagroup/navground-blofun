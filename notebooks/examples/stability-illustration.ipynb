{
 "cells": [
  {
   "cell_type": "markdown",
   "id": "593c41d2-9cd5-4147-8329-97e5c465ab79",
   "metadata": {},
   "source": [
    "# Matching diagram stability illustration\n",
    "\n",
    "In this notebook, we illustrate the stability of the matching diagram via an example Navground simulation run."
   ]
  },
  {
   "cell_type": "code",
   "execution_count": null,
   "id": "8ffc434e-2b06-452c-b390-e1b6de1317af",
   "metadata": {},
   "outputs": [],
   "source": [
    "import numpy as np\n",
    "import matplotlib.pyplot as plt\n",
    "import matplotlib.patches as patches\n",
    "import matplotlib.animation as animation\n",
    "import scipy.spatial.distance as dist\n",
    "from navground import sim, core\n",
    "from tslearn.generators import random_walks\n",
    "from tslearn import metrics\n",
    "import seaborn as sns\n",
    "import gudhi\n",
    "from gudhi.wasserstein import wasserstein_distance\n",
    "from navground.sim.ui.video import display_video_from_run, record_video_from_run\n",
    "from functools import partial\n",
    "from IPython.display import Image\n",
    "\n",
    "# Create folder to save bottleneck distances between matching diagrams\n",
    "import os\n",
    "DATA_DIR = \"cross_matrices\"\n",
    "PLOTS_DIR = \"plots/stability\"\n",
    "os.makedirs(DATA_DIR, exist_ok=True)\n",
    "os.makedirs(PLOTS_DIR, exist_ok=True)"
   ]
  },
  {
   "cell_type": "markdown",
   "id": "a664134e-79b0-406a-8994-7f7566418c43",
   "metadata": {},
   "source": [
    "We run a navground simulation on a cross."
   ]
  },
  {
   "cell_type": "code",
   "execution_count": null,
   "id": "8a5a3ce8-e818-4f4f-8e05-d4a96a1abffe",
   "metadata": {},
   "outputs": [],
   "source": [
    "from perdiver.navground_io import parser, run_navground\n",
    "\n",
    "args = parser.parse_args([\n",
    "        '--scenario', 'Cross',\n",
    "        '--side', '5',\n",
    "        '--num_runs', '1',\n",
    "        '--num_steps', '100',\n",
    "        '--time_step', '0.1',\n",
    "        '--num_agents', '10',\n",
    "        '--max_speed', '1.66',\n",
    "        '--optimal_speed_min', '0.9',\n",
    "        '--optimal_speed_max', '1.3',\n",
    "        '--radius', '0.4',\n",
    "        '--safety_margin', '0.1',\n",
    "        '--behavior', 'ORCA',\n",
    "        '--max_edge_length', '100.0',\n",
    "        '--time_delay', '5',\n",
    "        '--epsilon', '50',\n",
    "    ])\n",
    "run = run_navground(args)[0]"
   ]
  },
  {
   "cell_type": "markdown",
   "id": "39a786be-60de-458c-96be-38173a527872",
   "metadata": {},
   "source": [
    "Next, we plot two timesteps."
   ]
  },
  {
   "cell_type": "code",
   "execution_count": null,
   "id": "1bd47155-60f0-47dc-b383-8656eca0b38e",
   "metadata": {},
   "outputs": [],
   "source": []
  }
 ],
 "metadata": {
  "kernelspec": {
   "display_name": "Python 3 (ipykernel)",
   "language": "python",
   "name": "python3"
  },
  "language_info": {
   "codemirror_mode": {
    "name": "ipython",
    "version": 3
   },
   "file_extension": ".py",
   "mimetype": "text/x-python",
   "name": "python",
   "nbconvert_exporter": "python",
   "pygments_lexer": "ipython3",
   "version": "3.10.12"
  }
 },
 "nbformat": 4,
 "nbformat_minor": 5
}
