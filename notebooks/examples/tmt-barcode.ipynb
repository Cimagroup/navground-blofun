{
 "cells": [
  {
   "cell_type": "markdown",
   "id": "2b136970-c058-4a60-897d-5e806ab0545a",
   "metadata": {},
   "source": [
    "# Triplet Merge Tree and component evolution example.\n",
    "\n",
    "In this notebook, we compute a couple of examples that depict the evolution of connected components and triplet merge trees on the one dimensional Vietoris-Rips filtration.\n",
    "\n",
    "This notebooks has been adapted from a notebook in the topological data quality repository, see:\n",
    "https://github.com/Cimagroup/tdqual/blob/main/notebooks/example_Mf_computation.ipynb"
   ]
  },
  {
   "cell_type": "code",
   "execution_count": null,
   "id": "405a6d7c-0aab-4c46-9812-2e0521bfaf56",
   "metadata": {},
   "outputs": [],
   "source": [
    "import numpy as np\n",
    "import matplotlib.pyplot as plt\n",
    "import matplotlib as mpl\n",
    "\n",
    "import scipy.spatial.distance as dist\n",
    "import itertools\n",
    "\n",
    "import tdqual.topological_data_quality_0 as tdqual\n",
    "\n",
    "import os \n",
    "plots_dir = os.path.join(\"plots\", \"tmt-components\")\n",
    "os.makedirs(plots_dir, exist_ok=True)"
   ]
  },
  {
   "cell_type": "markdown",
   "id": "3c074035-5e9c-41f0-b925-840fce459ffb",
   "metadata": {},
   "source": [
    "To make some plots from this notebook, we need to install GUDHI for working with simplicial complexes in an easy way."
   ]
  },
  {
   "cell_type": "code",
   "execution_count": null,
   "id": "86bcb396-e343-4e2e-970d-d8aae7ab45b8",
   "metadata": {},
   "outputs": [],
   "source": [
    "# pip install gudhi\n",
    "import gudhi"
   ]
  },
  {
   "cell_type": "markdown",
   "id": "02221a65-0679-411e-860a-da7f04f87b3b",
   "metadata": {},
   "source": [
    "# Computation of Block Function in dimension 0\n",
    "\n",
    "Consider the following example, with points taken from a sample.\n",
    "\n",
    "We consider 7 points. "
   ]
  },
  {
   "cell_type": "code",
   "execution_count": null,
   "id": "81ede3f5-0f0b-43a8-aeec-bd55eb5c11a4",
   "metadata": {},
   "outputs": [],
   "source": [
    "RandGen = np.random.default_rng(2)\n",
    "# # Generate Random Sample\n",
    "Z = tdqual.sampled_circle(0,2,6, RandGen)\n",
    "# Sort Z so that the first # X points are from X, also, modify some points and save \n",
    "Z = np.vstack([Z, np.array([[-0.1,0], [0.4,0], [0.15, np.sqrt(0.5**2 - 0.25**2)]]) + [-1.6,1]])\n",
    "# Plot point cloud\n",
    "fig, ax = plt.subplots(ncols=1, figsize=(3,3))\n",
    "ax.scatter(Z[:,0], Z[:,1], color=mpl.colormaps[\"RdBu\"](1/1.3), s=40, marker=\"o\", zorder=1)\n",
    "ax.set_axis_off()\n",
    "ax.set_aspect(\"equal\")\n",
    "plt.savefig(plots_dir + \"points_0.png\")"
   ]
  },
  {
   "cell_type": "markdown",
   "id": "c2445317-01d2-4015-b752-9cb804fbc73d",
   "metadata": {},
   "source": [
    "We plot, for illustration, the Vietoris-Rips complex at a sequence of values"
   ]
  },
  {
   "cell_type": "code",
   "execution_count": null,
   "id": "52911078-d43b-4604-99d4-a2d14915f6ab",
   "metadata": {},
   "outputs": [],
   "source": [
    "### Geometric Matching \n",
    "def compute_components(edgelist, num_points):\n",
    "    components = np.array(range(num_points))\n",
    "    for edge in edgelist:\n",
    "        max_idx = np.max(components[edge])\n",
    "        min_idx = np.min(components[edge])\n",
    "        indices = np.nonzero(components == components[max_idx])[0]\n",
    "        components[indices]=np.ones(len(indices))*components[min_idx]\n",
    "    \n",
    "    return components"
   ]
  },
  {
   "cell_type": "code",
   "execution_count": null,
   "id": "1318e21a-3d02-4426-98b7-ce65fa99f044",
   "metadata": {},
   "outputs": [],
   "source": [
    "def plot_Vietoris_Rips(Z,  filt_val, ax, labels=False, fontsize=15):\n",
    "    # Plot point cloud\n",
    "    if labels:\n",
    "        ax.scatter(Z[:,0], Z[:,1], color=mpl.colormaps[\"RdBu\"](1/1.3), s=230, marker=\"o\", zorder=1)\n",
    "    else:\n",
    "        ax.scatter(Z[:,0], Z[:,1], color=mpl.colormaps[\"RdBu\"](1/1.3), s=40, marker=\"o\", zorder=1)\n",
    "    # Plot simplicial complex \n",
    "    rips_complex = gudhi.RipsComplex(points=Z, max_edge_length=filt_val)\n",
    "    simplex_tree = rips_complex.create_simplex_tree(max_dimension=1)\n",
    "    simplex_tree.expansion(2)\n",
    "    edgelist = []\n",
    "    for filtered_value in simplex_tree.get_filtration():\n",
    "        simplex = filtered_value[0]\n",
    "        if len(simplex)==2:\n",
    "            edgelist.append(simplex)\n",
    "            ax.plot(Z[simplex][:,0], Z[simplex][:,1], linewidth=2, c=mpl.colormaps[\"RdBu\"](1/1.3), zorder=0.5)\n",
    "        # end if\n",
    "    # end for\n",
    "    ax.set_aspect(\"equal\")\n",
    "    # Adjust margins\n",
    "    xscale = ax.get_xlim()[1]-ax.get_xlim()[0]\n",
    "    yscale = ax.get_ylim()[1]-ax.get_ylim()[0]\n",
    "    xlim = ax.get_xlim()\n",
    "    xlim = (xlim[0]-xscale*0.1, xlim[1]+xscale*0.1)\n",
    "    ax.set_xlim(xlim)\n",
    "    ylim = ax.get_ylim()\n",
    "    ylim = (ylim[0]-yscale*0.1, ylim[1]+yscale*0.1)\n",
    "    ax.set_ylim(ylim)\n",
    "    # Plot labels\n",
    "    if labels:\n",
    "        components = compute_components(edgelist, Z.shape[0])\n",
    "        # Point Labels \n",
    "        for i in range(Z.shape[0]):\n",
    "            ax.text(Z[i,0]-0.035*xscale, Z[i,1]-0.035*yscale, f\"{components[i]}\", fontsize=fontsize, color=\"white\", fontweight=\"bold\")\n",
    "    # Finish with aspect details \n",
    "    ax.set_xticks([])\n",
    "    ax.set_yticks([])"
   ]
  },
  {
   "cell_type": "code",
   "execution_count": null,
   "id": "5aa716fd-947b-4b18-ab02-152bcfcadb1a",
   "metadata": {},
   "outputs": [],
   "source": [
    "filtrations = [0.0, 0.8, 1.1, 2]\n",
    "fig, ax = plt.subplots(ncols=len(filtrations), figsize=(3*len(filtrations),3))\n",
    "for j, filt_val in enumerate(filtrations):\n",
    "    plot_Vietoris_Rips(Z, filt_val, ax[j], labels=True)\n",
    "    # Set title \n",
    "    ax[j].set_title(f\"{filt_val:1.1f}\", fontsize=20) \n",
    "# end for\n",
    "plt.tight_layout()\n",
    "plt.savefig(os.path.join(plots_dir, \"VR_filtration.png\"))\n"
   ]
  },
  {
   "cell_type": "markdown",
   "id": "19cf4c2e-7f78-4682-a0fa-5fae4969336f",
   "metadata": {},
   "source": [
    "Now, we describe the $0$-persistence barcodes in terms of evolution of components."
   ]
  },
  {
   "cell_type": "code",
   "execution_count": null,
   "id": "9f9e29df-9c14-46fe-8cdf-cdd50c3565b8",
   "metadata": {},
   "outputs": [],
   "source": [
    "def plot_merge_tree(endpoints_0, reps_0, ax):\n",
    "    max_x = np.max(endpoints_0)*1.1\n",
    "    num_points = len(endpoints_0)+1\n",
    "    y= np.linspace(0, 0.3*num_points, num_points)\n",
    "    idx_death = []\n",
    "    merging_into= []\n",
    "    death_val = []\n",
    "    for idx, (end, rep) in enumerate(zip(endpoints_0, reps_0)):\n",
    "        ax.plot([0,end], [y[idx], y[idx]], c=mpl.colormaps[\"RdBu\"](1/1.3), linewidth=3, zorder=0.5)\n",
    "        idx_death.append(np.max(rep))\n",
    "        merging_into.append(np.min(rep))\n",
    "        death_val.append(end)\n",
    "    \n",
    "    # merge lines in red\n",
    "    idx_death.append(0)\n",
    "    for idx, (j, death) in enumerate(zip( merging_into, death_val)):\n",
    "        death_merging = idx_death.index(j)\n",
    "        ax.plot([death, death], [y[idx],y[death_merging]], linewidth=3, c=mpl.colormaps[\"RdBu\"](0.3/1.3), zorder=0.5)\n",
    "\n",
    "    xscale = (ax.get_xlim()[1]-ax.get_xlim()[0])*0.5\n",
    "    yscale = (ax.get_ylim()[1]-ax.get_ylim()[0])*0.5\n",
    "    for i, idx in enumerate(idx_death):\n",
    "        ax.text(-0.015*xscale, y[i]-0.04*yscale, f\"{idx}\", zorder=0.7, fontsize=10, color=\"white\", fontweight=\"bold\")\n",
    "        if i < len(idx_death)-1:\n",
    "            death_x = endpoints_0[i]\n",
    "            ax.text(death_x-0.015*xscale, y[i]-0.04*yscale, f\"{merging_into[i]}\", zorder=0.7, fontsize=10, color=\"white\", fontweight=\"bold\")\n",
    "\n",
    "    ax.scatter(np.zeros(len(y)),y, s=100, marker=\"o\", color=mpl.colormaps[\"RdBu\"](1/1.3), zorder=0.6)\n",
    "    ax.scatter(endpoints_0, y[:-1], s=100, marker=\"o\", color=mpl.colormaps[\"RdBu\"](0.3/1.3), zorder=0.6)\n",
    "    ax.set_xlim(ax.get_xlim()[0]-0.1*xscale, ax.get_xlim()[1]+0.1*xscale)\n",
    "    ax.set_ylim(ax.get_ylim()[0]-0.1*yscale, ax.get_ylim()[1]+0.1*yscale)\n",
    "    # Top horizontal interval\n",
    "    ax.plot([0,max_x*2], [y[-1],y[-1]], linewidth=3, c=mpl.colormaps[\"RdBu\"](1/1.3), zorder=0.5)\n",
    "    ax.set_yticks([])"
   ]
  },
  {
   "cell_type": "code",
   "execution_count": null,
   "id": "2992d6b8-c264-41f8-ab81-a0b54fbb4cf1",
   "metadata": {},
   "outputs": [],
   "source": [
    "filt_Z, pairs_arr_Z = tdqual.mst_edge_filtration(Z)\n",
    "TMT_Z_pairs = tdqual.compute_tmt_pairs(filt_Z, pairs_arr_Z)"
   ]
  },
  {
   "cell_type": "code",
   "execution_count": null,
   "id": "5c80fbfa-789f-4a0c-9eec-ee92cee51df5",
   "metadata": {},
   "outputs": [],
   "source": [
    "fig, ax = plt.subplots(figsize=(8,3))\n",
    "plot_merge_tree(filt_Z, TMT_Z_pairs, ax)\n",
    "ax.set_title(\"Merge Tree\", fontsize=20)\n",
    "plt.tight_layout()\n",
    "plt.savefig(os.path.join(plots_dir, \"merge_tree.png\"))"
   ]
  },
  {
   "cell_type": "code",
   "execution_count": null,
   "id": "931980fc-4adb-496c-8f21-9d1866abbdb5",
   "metadata": {},
   "outputs": [],
   "source": []
  }
 ],
 "metadata": {
  "kernelspec": {
   "display_name": "Python 3 (ipykernel)",
   "language": "python",
   "name": "python3"
  },
  "language_info": {
   "codemirror_mode": {
    "name": "ipython",
    "version": 3
   },
   "file_extension": ".py",
   "mimetype": "text/x-python",
   "name": "python",
   "nbconvert_exporter": "python",
   "pygments_lexer": "ipython3",
   "version": "3.10.12"
  }
 },
 "nbformat": 4,
 "nbformat_minor": 5
}
