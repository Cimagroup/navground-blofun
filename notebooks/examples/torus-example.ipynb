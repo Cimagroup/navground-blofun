{
 "cells": [
  {
   "cell_type": "markdown",
   "id": "9879a0e4-f0bd-48e3-87db-092ea749bffb",
   "metadata": {},
   "source": [
    "# CrossTorus example\n",
    "\n",
    "In this notebook, we run a Navground simulation on the cross torus for illustration purposes.\n",
    "\n",
    "To start, we load some necessary modules and create some directories as well."
   ]
  },
  {
   "cell_type": "code",
   "execution_count": null,
   "id": "276c8bd7-8e52-4a75-a075-fc49590a0817",
   "metadata": {
    "scrolled": true
   },
   "outputs": [],
   "source": [
    "import numpy as np\n",
    "import matplotlib.pyplot as plt\n",
    "import matplotlib as mpl\n",
    "\n",
    "import os\n",
    "\n",
    "from navground import core, sim\n",
    "from navground.sim.ui.video import display_video_from_run\n",
    "\n",
    "import perdiver.perdiver as perdiver\n",
    "from perdiver.navground_io import parser, run_navground\n",
    "from perdiver.distances import *\n",
    "\n",
    "plots_dir = os.path.join(\"plots\", \"CrossTorus\")\n",
    "os.makedirs(plots_dir, exist_ok=True)"
   ]
  },
  {
   "cell_type": "markdown",
   "id": "a1a59cb6-8e89-47aa-8e75-91e7c41702b8",
   "metadata": {},
   "source": [
    "Next, let us execute the Navground cross torus experiment. We next run the experiment."
   ]
  },
  {
   "cell_type": "code",
   "execution_count": null,
   "id": "3cdd5d27-a69b-4176-b5ec-6ebbb2c2c08e",
   "metadata": {},
   "outputs": [],
   "source": [
    "args = parser.parse_args([\n",
    "        '--scenario', 'CrossTorus',\n",
    "        '--side', '6.5',\n",
    "        '--num_steps', '500',\n",
    "        '--time_step', '0.1',\n",
    "        '--num_agents', '12',\n",
    "        '--max_speed', '1.66',\n",
    "        '--optimal_speed_min', '0.1',\n",
    "        '--optimal_speed_min', '0.15',\n",
    "        '--radius', '0.4',\n",
    "        '--safety_margin', '0.1',\n",
    "        '--epsilon', '30',\n",
    "        '--time_delay', '5',\n",
    "])\n",
    "behavior_list = [\"ORCA\"]\n",
    "runs = {}\n",
    "for behavior in behavior_list:\n",
    "    args.behavior = behavior\n",
    "    runs[behavior] = run_navground(args)"
   ]
  },
  {
   "cell_type": "markdown",
   "id": "dd0e2ea2-f58e-40db-b452-2e2c97235ceb",
   "metadata": {},
   "source": [
    "Now, we visualise the ORCA experiment."
   ]
  },
  {
   "cell_type": "code",
   "execution_count": null,
   "id": "fcd4f69c-c861-4b3e-a8a1-e010f51faa0e",
   "metadata": {},
   "outputs": [],
   "source": [
    "display_video_from_run(run=runs[\"ORCA\"][0], factor=6.0, fps=20)"
   ]
  },
  {
   "cell_type": "markdown",
   "id": "01292cfb-605e-4004-9b46-2dd154336d61",
   "metadata": {},
   "source": [
    "Now, we plot the two timesteps. For this, we import some necessary modules from the perdiver module. We set the start step as well."
   ]
  },
  {
   "cell_type": "code",
   "execution_count": null,
   "id": "6317fd2a-9e92-422d-81a5-aa18e93dc17b",
   "metadata": {},
   "outputs": [],
   "source": [
    "from perdiver.perdiver import plot_timesteps_cross_torus\n",
    "\n",
    "args.start_step = 20\n",
    "\n",
    "fig, ax = plt.subplots(figsize=(5,5))\n",
    "\n",
    "run = runs[\"ORCA\"][0]\n",
    "ps = np.array(run.poses)\n",
    "twists = np.array(run.twists)\n",
    "X = ps[args.start_step]\n",
    "Y = ps[args.start_step + args.epsilon]\n",
    "vel_X = twists[args.start_step]\n",
    "vel_Y = twists[args.start_step + args.epsilon]\n",
    "X_len = X.shape[0]-1\n",
    "# Plot two timesteps\n",
    "plot_timesteps_cross_torus(run, [args.start_step, args.start_step + args.epsilon], args.side, ax) \n",
    "# Save figure\n",
    "ax.set_xticks([])\n",
    "ax.set_yticks([])\n",
    "plt.savefig(os.path.join(plots_dir, \"two_timesteps_ORCA.png\"))"
   ]
  },
  {
   "cell_type": "markdown",
   "id": "56e3787b-aaf7-4965-879f-9b47e809b51a",
   "metadata": {},
   "source": [
    "Now, we plot the corresponding matching diagram for a pair of weights."
   ]
  },
  {
   "cell_type": "code",
   "execution_count": null,
   "id": "dab0e2e2-cef5-480d-8bbc-b9a636a1cbde",
   "metadata": {},
   "outputs": [],
   "source": [
    "import itertools\n",
    "\n",
    "from perdiver.distances import  distances_2Dtorus_weighted_velocities\n",
    "from perdiver.perdiver import get_matching_diagram, plot_matching_diagram, same_diagram_scale\n",
    "\n",
    "args.weight = 1\n",
    "\n",
    "fig, ax = plt.subplots(ncols=4, figsize=(16,4))\n",
    "\n",
    "epsilon_list = [10, 30]\n",
    "weight_list = [1, 1.8]\n",
    "\n",
    "for i, (epsilon, weight) in enumerate(itertools.product(epsilon_list, weight_list)):\n",
    "    args.epsilon = epsilon\n",
    "    run = runs[\"ORCA\"][0]\n",
    "    ps = np.array(run.poses)\n",
    "    twists = np.array(run.twists)\n",
    "    # Record poses and velocities\n",
    "    X = ps[args.start_step]\n",
    "    Y = ps[args.start_step + args.epsilon]\n",
    "    vel_X = twists[args.start_step]\n",
    "    vel_Y = twists[args.start_step + args.epsilon]\n",
    "    X_len = X.shape[0]-1\n",
    "    # Plot matching diagram\n",
    "    Dist_X = distances_2Dtorus_weighted_velocities(X, vel_X, weight, args.side)\n",
    "    Dist_Y = distances_2Dtorus_weighted_velocities(Y, vel_Y, weight, args.side)\n",
    "    match_diagram = get_matching_diagram(Dist_X, Dist_Y)\n",
    "    plot_matching_diagram(match_diagram, ax[i], color=\"blue\")\n",
    "    ax[i].set_title(f\"W:{weight}, Eps:{args.epsilon}\", fontsize=20)\n",
    "# end for\n",
    "\n",
    "same_diagram_scale(ax)\n",
    "plt.savefig(os.path.join(plots_dir, f\"matching_diagrams_two_timesteps.png\"))"
   ]
  },
  {
   "cell_type": "markdown",
   "id": "772cb1ba-0e19-4cd2-9287-c5b045c8a4cc",
   "metadata": {},
   "source": [
    "We can also visualise the evolution of matching diagrams over time."
   ]
  },
  {
   "cell_type": "code",
   "execution_count": null,
   "id": "0900dec5-46a1-43b8-91cd-49e25425c434",
   "metadata": {},
   "outputs": [],
   "source": [
    "fig, ax = plt.subplots(ncols=4, figsize=(18,4))\n",
    "\n",
    "args.steps_list = list(range(0, args.num_steps-args.epsilon-args.time_delay, args.time_delay))\n",
    "\n",
    "### Start by computing the matching diagrams across time\n",
    "diagrams_parameters = []\n",
    "run = runs[\"ORCA\"][0]\n",
    "for i, (epsilon, weight) in enumerate(itertools.product(epsilon_list, weight_list)):\n",
    "    args.epsilon=epsilon\n",
    "    ps = np.array(run.poses)\n",
    "    twists = np.array(run.twists)\n",
    "    diagrams_list = []\n",
    "    for idx, start_step in enumerate(args.steps_list):\n",
    "        if ps.shape[0] > start_step + args.epsilon:\n",
    "            X = ps[start_step]\n",
    "            Y = ps[start_step + args.epsilon]\n",
    "            vel_X = twists[start_step]\n",
    "            vel_Y = twists[start_step + args.epsilon]\n",
    "            Dist_X = distances_2Dtorus_weighted_velocities(X, vel_X, weight, args.side)\n",
    "            Dist_Y = distances_2Dtorus_weighted_velocities(Y, vel_Y, weight, args.side)\n",
    "            match_diagram = perdiver.get_matching_diagram(Dist_X, Dist_Y)\n",
    "            diagrams_list.append(match_diagram)\n",
    "        else: # Add matching diagram from previus loop\n",
    "            diagrams_list.append(match_diagram)\n",
    "    # end for over start steps\n",
    "    diagrams_parameters.append(np.array(diagrams_list))\n",
    "# end for over behaviors\n",
    "\n",
    "for i, (epsilon, weight) in enumerate(itertools.product(epsilon_list, weight_list)):\n",
    "    diagrams_run = diagrams_parameters[i] # Take the run we are considering\n",
    "    for idx, start_step in enumerate(args.steps_list):\n",
    "        perdiver.plot_matching_diagram(diagrams_run[idx], ax[i], color=mpl.colormaps[\"GnBu\"](idx/len(args.steps_list)))\n",
    "    # end for \n",
    "    norm = mpl.colors.Normalize(vmin=args.steps_list[0], vmax=args.steps_list[-1])\n",
    "    cmap = mpl.colormaps[\"GnBu\"]\n",
    "    mappable = mpl.cm.ScalarMappable(norm=norm, cmap=cmap)\n",
    "    plt.colorbar(mappable=mappable, ax=ax[i])\n",
    "    ax[i].set_title(f\"W:{weight}, Eps:{epsilon}\", fontsize=20)\n",
    "# end for\n",
    "\n",
    "same_diagram_scale(ax)\n",
    "plt.savefig(os.path.join(plots_dir, f\"matching_diagrams_evolution.png\"))"
   ]
  },
  {
   "cell_type": "markdown",
   "id": "f0d2eb2a-db58-43ab-906e-c207ac028eac",
   "metadata": {},
   "source": [
    "### Cumulative persistence images\n",
    "\n",
    "We illustrate cumulative persistence images across time. For this, we use the persistence image representation from GUDHI."
   ]
  },
  {
   "cell_type": "code",
   "execution_count": null,
   "id": "f0b61a0c-2a7f-478c-b11e-1e15b7d96078",
   "metadata": {},
   "outputs": [],
   "source": [
    "from gudhi import representations\n",
    "\n",
    "# Load persistence images\n",
    "npixels = 15\n",
    "perim = representations.PersistenceImage(resolution=[npixels, npixels], bandwidth=0.1, im_range=[0,3,-3,3])\n",
    "# Put all \n",
    "all_diagrams = []\n",
    "for diagrams_run in diagrams_parameters:\n",
    "    all_diagrams += diagrams_run.tolist()\n",
    "# end for\n",
    "perim.fit(all_diagrams)\n",
    "perim_means = []\n",
    "### Compute persistence images for all behaviors and runs\n",
    "for diagrams_run in diagrams_parameters: \n",
    "    perim_run = perim.transform(diagrams_run)\n",
    "    perim_means.append(perim_run.mean(axis=0).reshape(15,15))\n",
    "# end for\n",
    "\n",
    "## Plot result\n",
    "fig, ax = plt.subplots(ncols=4, figsize=(16,4), layout=\"constrained\")\n",
    "for i, (epsilon, weight) in enumerate(itertools.product(epsilon_list, weight_list)):\n",
    "    ax[i].imshow(perim_means[i])\n",
    "    ax[i].set_title(f\"W:{weight}, Eps:{epsilon}\", fontsize=20)\n",
    "# end for \n",
    "# plt.tight_layout()\n",
    "plt.savefig(os.path.join(plots_dir, f\"persistence_images_means.png\"))\n"
   ]
  },
  {
   "cell_type": "markdown",
   "id": "86d03008-6eea-46d1-b39f-5714e4c4c88f",
   "metadata": {},
   "source": [
    "### Divergence images\n",
    "\n",
    "We depict divergence images for the four compinations of parameters. We start by computing the persistence images across different runs."
   ]
  },
  {
   "cell_type": "code",
   "execution_count": null,
   "id": "dd774e53-7725-4fa7-9a08-53ce4cc40047",
   "metadata": {},
   "outputs": [],
   "source": [
    "from perdiver.perdiver import compute_divergence_vector\n",
    "\n",
    "divergence_runs = []\n",
    "for i, (epsilon, weight) in enumerate(itertools.product(epsilon_list, weight_list)):\n",
    "    divergence_list = []\n",
    "    for matching_diagram in diagrams_parameters[i]:\n",
    "        divergence_list.append(np.sort(compute_divergence_vector(matching_diagram)))\n",
    "    # end for\n",
    "    divergence_runs.append(np.array(divergence_list).transpose())\n",
    "# end for"
   ]
  },
  {
   "cell_type": "markdown",
   "id": "b7881794-3baf-415a-819f-4321a7fd382c",
   "metadata": {},
   "source": [
    "Next, we plot the persistence images."
   ]
  },
  {
   "cell_type": "code",
   "execution_count": null,
   "id": "8213e67a-2dc4-4d88-b569-6f1ad506a4cc",
   "metadata": {},
   "outputs": [],
   "source": [
    "vmax = np.max(divergence_runs)\n",
    "vmin = np.min(divergence_runs)\n",
    "\n",
    "fig, ax = plt.subplots(nrows=2, ncols=2, figsize=(12,4))\n",
    "for i, epsilon in enumerate(epsilon_list):\n",
    "    for j, weigth in enumerate(weight_list):\n",
    "        divergence_arr = divergence_runs[2*i + j]\n",
    "        mapable = ax[i,j].imshow(divergence_arr, aspect=\"auto\", vmax=vmax, vmin=vmin, extent=(args.steps_list[0], args.steps_list[-1], 0, X.shape[0]))\n",
    "        ax[i,j].set_title(f\"W:{weight}, Eps:{epsilon}\", fontsize=20)\n",
    "        plt.colorbar(mapable)\n",
    "        plt.tight_layout()\n",
    "\n",
    "plt.savefig(os.path.join(plots_dir, f\"perdiver_images.png\"))"
   ]
  },
  {
   "cell_type": "markdown",
   "id": "3a2f1f91-f9d6-4fd8-90e1-301927e5cfe9",
   "metadata": {},
   "source": [
    "### Absolute divergence\n",
    "\n",
    "This vectorisation consists in computing the absolute value of persistence divergence."
   ]
  },
  {
   "cell_type": "code",
   "execution_count": null,
   "id": "2c2d4710-cd2c-4223-a09b-f4c221555727",
   "metadata": {},
   "outputs": [],
   "source": [
    "from perdiver.perdiver import absolute_perdiver_signal\n",
    "\n",
    "absdiver_runs = []\n",
    "for i, diagram in enumerate(diagrams_parameters):\n",
    "    absdiver_runs.append(\n",
    "        absolute_perdiver_signal(diagram)\n",
    "    )\n",
    "# for over runs"
   ]
  },
  {
   "cell_type": "code",
   "execution_count": null,
   "id": "3dacde33-3ea0-4a88-a933-6bee893ab86b",
   "metadata": {},
   "outputs": [],
   "source": [
    "len(absdiver_runs[0])"
   ]
  },
  {
   "cell_type": "code",
   "execution_count": null,
   "id": "632f2354-23e1-4413-b3af-144eb1b14010",
   "metadata": {},
   "outputs": [],
   "source": [
    "len(args.steps_list)"
   ]
  },
  {
   "cell_type": "code",
   "execution_count": null,
   "id": "602900f2-f128-4785-b5c0-715f0738b512",
   "metadata": {},
   "outputs": [],
   "source": [
    "fig, ax = plt.subplots(figsize=(8,4))\n",
    "\n",
    "for i, (epsilon, weight) in enumerate(itertools.product(epsilon_list, weight_list)):\n",
    "    absdiver = absdiver_runs[i]\n",
    "    ax.plot(args.steps_list, absdiver, color=mpl.colormaps[\"Set1\"](i/4), label=f\"W:{weight}, Eps:{epsilon}\")\n",
    "# end plotting\n",
    "handles, labels = plt.gca().get_legend_handles_labels()\n",
    "by_label = dict(zip(labels, handles))\n",
    "fig.legend(by_label.values(), by_label.keys(),  ncol=len(behavior_list))\n",
    "plt.tight_layout()\n",
    "plt.savefig(os.path.join(plots_dir, \"absolute-persistence-divergence.png\"))"
   ]
  },
  {
   "cell_type": "code",
   "execution_count": null,
   "id": "76af0f50-e046-4a54-a772-0c8323ffbaf0",
   "metadata": {},
   "outputs": [],
   "source": []
  }
 ],
 "metadata": {
  "kernelspec": {
   "display_name": "Python 3 (ipykernel)",
   "language": "python",
   "name": "python3"
  },
  "language_info": {
   "codemirror_mode": {
    "name": "ipython",
    "version": 3
   },
   "file_extension": ".py",
   "mimetype": "text/x-python",
   "name": "python",
   "nbconvert_exporter": "python",
   "pygments_lexer": "ipython3",
   "version": "3.10.12"
  }
 },
 "nbformat": 4,
 "nbformat_minor": 5
}
