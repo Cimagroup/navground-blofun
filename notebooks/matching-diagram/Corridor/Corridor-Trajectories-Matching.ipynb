{
 "cells": [
  {
   "cell_type": "code",
   "execution_count": null,
   "id": "f3c351d0-2fb8-4858-be32-35762faf7634",
   "metadata": {},
   "outputs": [],
   "source": [
    "import numpy as np\n",
    "import matplotlib.pyplot as plt\n",
    "import scipy.spatial.distance as dist\n",
    "import matplotlib as mpl\n",
    "import iblofunmatch.inter as ibfm\n",
    "output_dir=\"output\"\n",
    "\n",
    "from navground import sim, core\n",
    "\n",
    "from perdiver.distances import *\n",
    "import perdiver.perdiver as perdiver"
   ]
  },
  {
   "cell_type": "markdown",
   "id": "bfff53f0-e9a4-435d-b5fc-672ce0257431",
   "metadata": {},
   "source": [
    "### Corridor trajectories experiment\n",
    "\n",
    "Corridor experiment with points converging to horizontal trajectories going left and right."
   ]
  },
  {
   "cell_type": "code",
   "execution_count": null,
   "id": "b5e5f0b4-5fc7-4832-84cd-7236a49bd3ad",
   "metadata": {},
   "outputs": [],
   "source": [
    "length = 8.0\n",
    "num_steps = 5000\n",
    "width=1.1\n",
    "yaml = f\"\"\"\n",
    "steps: 3000\n",
    "time_step: 0.1\n",
    "save_directory: ''\n",
    "record_pose: true\n",
    "record_twist: true\n",
    "scenario:\n",
    "  type: Corridor\n",
    "  length: {length}\n",
    "  width: {width} \n",
    "  groups:\n",
    "    -\n",
    "      type: thymio\n",
    "      number: 50\n",
    "      radius: 0.08\n",
    "      control_period: 0.1\n",
    "      speed_tolerance: 0.02\n",
    "      kinematics:\n",
    "        type: 2WDiff\n",
    "        wheel_axis: 0.094\n",
    "        max_speed: 0.166\n",
    "      behavior:\n",
    "        type: HL\n",
    "        optimal_speed: 0.12\n",
    "        horizon: 5.0\n",
    "        safety_margin: 0.2\n",
    "      state_estimation:\n",
    "        type: Bounded\n",
    "        range: 5.0\n",
    "\"\"\"\n",
    "experiment = sim.load_experiment(yaml)\n",
    "experiment.run()"
   ]
  },
  {
   "cell_type": "code",
   "execution_count": null,
   "id": "17572183-a835-46f5-a90c-bae332a2a972",
   "metadata": {},
   "outputs": [],
   "source": [
    "run = experiment.runs[0]\n",
    "ps = run.poses[:,:,[0,1]]\n",
    "twists = run.twists[:,:,:2] # ignore angular speeds"
   ]
  },
  {
   "cell_type": "code",
   "execution_count": null,
   "id": "4f0f1e07-8467-44ac-9a90-d2ddeb73f617",
   "metadata": {},
   "outputs": [],
   "source": [
    "weight = 5"
   ]
  },
  {
   "cell_type": "code",
   "execution_count": null,
   "id": "28a92b4f-1e7b-48e2-a63a-24d7f63fd55c",
   "metadata": {},
   "outputs": [],
   "source": [
    "fig, ax = plt.subplots(figsize=(6,6))\n",
    "steplist = list(range(500,900, 10))\n",
    "shift_time = 40\n",
    "for idx, start_step in enumerate(steplist):\n",
    "    Dist_X, Dist_Y, Dist_Z = compute_distance_matrices_trajectories_corridor(ps, twists, start_step, shift_time, weight, length)\n",
    "    perdiver.plot_matching_diagram(Dist_X, Dist_Y, Dist_Z, ax, color=mpl.colormaps[\"GnBu\"](idx/len(steplist)))\n"
   ]
  },
  {
   "cell_type": "code",
   "execution_count": null,
   "id": "e876c2b1-ac40-43b9-b028-ba74c5fe1d6e",
   "metadata": {},
   "outputs": [],
   "source": [
    "start_step=800\n",
    "fig, ax = plt.subplots(figsize=(5, 5))\n",
    "Dist_X, Dist_Y, Dist_Z = compute_distance_matrices_trajectories_corridor(ps, twists, start_step, shift_time, weight, length)\n",
    "perdiver.plot_matching_diagram(Dist_X, Dist_Y, Dist_Z, ax, color=\"blue\", print_barcode_n_reps=True)"
   ]
  },
  {
   "cell_type": "code",
   "execution_count": null,
   "id": "0952b84a-7f92-418b-bbb9-b73446c2c652",
   "metadata": {},
   "outputs": [],
   "source": [
    "X_seq = ps[list(range(start_step, start_step+shift_time+1, 2))]\n",
    "len(X_seq)\n",
    "fig, ax = plt.subplots(figsize=(10, 5))\n",
    "ax.set_aspect(\"equal\")\n",
    "perdiver.plot_sequence(X_seq, ax, mark_points=[1])"
   ]
  },
  {
   "cell_type": "code",
   "execution_count": null,
   "id": "fab597d5-1a55-477a-8307-666542557611",
   "metadata": {},
   "outputs": [],
   "source": []
  }
 ],
 "metadata": {
  "kernelspec": {
   "display_name": "Python 3 (ipykernel)",
   "language": "python",
   "name": "python3"
  },
  "language_info": {
   "codemirror_mode": {
    "name": "ipython",
    "version": 3
   },
   "file_extension": ".py",
   "mimetype": "text/x-python",
   "name": "python",
   "nbconvert_exporter": "python",
   "pygments_lexer": "ipython3",
   "version": "3.10.12"
  }
 },
 "nbformat": 4,
 "nbformat_minor": 5
}
