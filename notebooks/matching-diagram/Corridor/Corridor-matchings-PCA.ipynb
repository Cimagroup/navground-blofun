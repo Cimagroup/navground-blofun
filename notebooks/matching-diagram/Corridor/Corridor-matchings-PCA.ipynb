{
 "cells": [
  {
   "cell_type": "markdown",
   "id": "20b038c9-f60e-4e97-902f-d802486855c3",
   "metadata": {},
   "source": [
    "In this notebook we consider matching diagrams and see how well they distinguish between behaviours. Also, we see how well they relate to number of collisions, efficacy and deadlocks.\n",
    "\n",
    "We start loading the necessary modules."
   ]
  },
  {
   "cell_type": "code",
   "execution_count": null,
   "id": "acecf02f-bb67-4e30-af0a-93e42581feda",
   "metadata": {},
   "outputs": [],
   "source": [
    "import numpy as np\n",
    "import matplotlib.pyplot as plt\n",
    "import scipy.spatial.distance as dist\n",
    "import matplotlib as mpl\n",
    "\n",
    "import os\n",
    "\n",
    "from navground import core, sim\n",
    "\n",
    "import perdiver.perdiver as perdiver\n",
    "from perdiver.distances import *\n",
    "\n",
    "plots_dir = os.path.join(\"plots\", \"matchings_PCA\")\n",
    "experiment_dir = \"experiments\"\n",
    "os.makedirs(plots_dir, exist_ok=True)\n",
    "os.makedirs(\"experiments\", exist_ok=True)"
   ]
  },
  {
   "cell_type": "markdown",
   "id": "951573cc-7624-4c98-bc15-13306311eafc",
   "metadata": {},
   "source": [
    "Now, we run the corridor experiment with various behaviours."
   ]
  },
  {
   "cell_type": "code",
   "execution_count": null,
   "id": "e39169b8-b6e2-45f7-930c-3743eab4d13a",
   "metadata": {},
   "outputs": [],
   "source": [
    "# Small Corridor\n",
    "# length = 8\n",
    "# width=1.0\n",
    "# Large Corridor\n",
    "width=2\n",
    "length = 15.0\n",
    "num_steps = 400\n",
    "\n",
    "num_agents = 12 # 31\n",
    "num_runs = 15\n",
    "behaviour_list = [\"ORCA\", \"HL\", \"HRVO\", \"Dummy\", \"SocialForce\"]\n",
    "marker_behaviour = {\"ORCA\": \"o\", \"HL\": \"X\", \"HRVO\": \"+\", \"Dummy\": \"*\", \"SocialForce\": \"x\"}\n",
    "color_behaviour = {}\n",
    "for i, behaviour in enumerate(behaviour_list):\n",
    "    color_behaviour[behaviour] = mpl.colormaps[\"Set1\"](i / (len(behaviour_list) +1))\n",
    "for behaviour in behaviour_list:\n",
    "    path = os.path.join(experiment_dir, f\"matchings_PCA_{behaviour}.h5\")\n",
    "    yaml = f\"\"\"\n",
    "    steps: {num_steps}\n",
    "    time_step: 0.1\n",
    "    record_pose: true\n",
    "    record_twist: true\n",
    "    runs: {num_runs}\n",
    "    record_collisions: true\n",
    "    record_deadlocks: true\n",
    "    record_safety_violation: true\n",
    "    record_efficacy: true\n",
    "    terminated_when_idle_or_stuck: false\n",
    "    scenario:\n",
    "      type: Corridor\n",
    "      length: {length}\n",
    "      width: {width} \n",
    "      groups:\n",
    "        -\n",
    "          type: thymio\n",
    "          number: {num_agents}\n",
    "          radius: 0.35\n",
    "          control_period: 0.1\n",
    "          speed_tolerance: 0.02\n",
    "          kinematics:\n",
    "            type: 2WDiff\n",
    "            wheel_axis: 0.094\n",
    "            max_speed: 0.2\n",
    "          behavior:\n",
    "            type: {behaviour}\n",
    "            optimal_speed: \n",
    "                sampler: normal\n",
    "                mean: 0.16\n",
    "                std_dev: 0.04\n",
    "            horizon: 5.0\n",
    "            safety_margin: 0.1\n",
    "          state_estimation:\n",
    "            type: Bounded\n",
    "            range: 5.0\n",
    "    \"\"\"\n",
    "    experiment = sim.load_experiment(yaml)\n",
    "    experiment.run(keep=False, data_path=path)\n",
    "    del experiment"
   ]
  },
  {
   "cell_type": "markdown",
   "id": "d884f57b-2d3a-4124-9164-016a0637154f",
   "metadata": {},
   "source": [
    "And we load the saved runs."
   ]
  },
  {
   "cell_type": "code",
   "execution_count": null,
   "id": "4f492245-45fb-4347-bed6-b3189c4a4162",
   "metadata": {},
   "outputs": [],
   "source": [
    "runs = {}\n",
    "# Reload simulations\n",
    "for behaviour in behaviour_list:\n",
    "    path = os.path.join(experiment_dir, f\"matchings_PCA_{behaviour}.h5\")\n",
    "    recorded_experiment = sim.RecordedExperiment(path)\n",
    "    runs[behaviour] = recorded_experiment.runs"
   ]
  },
  {
   "cell_type": "markdown",
   "id": "cd751a5a-90e9-4a95-b35c-d1e7bac4ee49",
   "metadata": {},
   "source": [
    "# PCA using Matching diagrams\n",
    "\n",
    "Next, we compute the persistence matching diagrams. We do this by ranging over an initial step list. We add such persistence diagrams to obtain one for each run."
   ]
  },
  {
   "cell_type": "code",
   "execution_count": null,
   "id": "9863b0db-bf35-4744-83ea-4d9d2eab3d9f",
   "metadata": {},
   "outputs": [],
   "source": [
    "weight = 1 # This is the weight for velocities\n",
    "shift_step = 30 # Shift between timesteps\n",
    "steps_list = list(range(100, 240, 10)) # Starting timesteps that we consider"
   ]
  },
  {
   "cell_type": "code",
   "execution_count": null,
   "id": "100793ec-fa49-4022-99c6-2c9393a5f3ec",
   "metadata": {},
   "outputs": [],
   "source": [
    "import scipy.spatial.distance as dist\n",
    "\n",
    "diagrams_behaviour = {}\n",
    "for j, behaviour in enumerate(behaviour_list):\n",
    "    diagrams_run_list = []\n",
    "    for i_run in range(num_runs):\n",
    "        ps = np.array(runs[behaviour][i_run].poses)\n",
    "        twists = np.array(runs[behaviour][i_run].twists)\n",
    "        diagrams_list = []\n",
    "        for idx, start_step in enumerate(steps_list):\n",
    "            X = ps[start_step]\n",
    "            Y = ps[start_step + shift_step]\n",
    "            vel_X = twists[start_step]\n",
    "            vel_Y = twists[start_step + shift_step]\n",
    "            Dist_X, Dist_Y, Dist_Z = perdiver.compute_distance_matrices_timesteps_corridor(X, Y, vel_X, vel_Y, weight, length, False)\n",
    "            # Dist_X = dist.squareform(dist.pdist(vel_X))\n",
    "            # Dist_Y = dist.squareform(dist.pdist(vel_Y))\n",
    "            match_diagram = perdiver.get_matching_diagram(Dist_X, Dist_Y)\n",
    "            diagrams_list.append(match_diagram)\n",
    "        # end for \n",
    "        diagrams_run_list.append(np.vstack(np.array(diagrams_list)))\n",
    "    # end for\n",
    "    diagrams_behaviour[f\"{behaviour}\"] = diagrams_run_list\n",
    "    if behaviour==\"ORCA\":\n",
    "        fig, ax = plt.subplots(figsize=(4,4))\n",
    "        match_diagram = diagrams_run_list[-1]\n",
    "        perdiver.plot_matching_diagram(match_diagram, ax, color=\"blue\")\n",
    "        plt.savefig(\"ORCA_matching_diagram.png\")\n",
    "# end for"
   ]
  },
  {
   "cell_type": "markdown",
   "id": "883baa93-334a-4fed-9d3a-82e30db1f657",
   "metadata": {},
   "source": [
    "Plot resulting diagrams for different behaviours. We should see notable differences."
   ]
  },
  {
   "cell_type": "code",
   "execution_count": null,
   "id": "b43a5f48-bc50-43b0-b4c8-d2170e31a038",
   "metadata": {},
   "outputs": [],
   "source": [
    "fig, ax = plt.subplots(ncols=len(behaviour_list), figsize=(4*len(behaviour_list),4))\n",
    "for j, behaviour in enumerate(behaviour_list):\n",
    "    for idx, start_step in enumerate(steps_list):\n",
    "        match_diagram = diagrams_behaviour[behaviour][5]\n",
    "        perdiver.plot_matching_diagram(match_diagram, ax[j], color=\"blue\")\n",
    "    # end for \n",
    "    ax[j].set_title(f\"Sum matching diagram {behaviour}\")\n",
    "# end for\n",
    "perdiver.same_diagram_scale(ax.ravel())\n",
    "plt.savefig(os.path.join(plots_dir, f\"diagrams_added_behaviours.png\"))"
   ]
  },
  {
   "cell_type": "markdown",
   "id": "1808a698-7cc7-462b-8b9f-7c9d15645508",
   "metadata": {},
   "source": [
    "### Persistence images\n",
    "\n",
    "Now, compute persistence images."
   ]
  },
  {
   "cell_type": "code",
   "execution_count": null,
   "id": "e1d1134b-6e21-485f-81dc-f1329dee9ddf",
   "metadata": {},
   "outputs": [],
   "source": [
    "from gudhi import representations\n",
    "\n",
    "npixels = 8\n",
    "perim = representations.PersistenceImage(resolution=[npixels, npixels], bandwidth=0.3)\n",
    "all_diagrams = []\n",
    "for behaviour in behaviour_list:\n",
    "    all_diagrams += diagrams_behaviour[behaviour]\n",
    "perim.fit(all_diagrams)\n",
    "perim_arr_dict = {}\n",
    "for behaviour in behaviour_list:\n",
    "    perim_arr_dict[behaviour] = perim.transform(diagrams_behaviour[behaviour])\n",
    "\n",
    "all_perim = np.vstack([perim_arr_dict[behaviour] for behaviour in behaviour_list])"
   ]
  },
  {
   "cell_type": "code",
   "execution_count": null,
   "id": "e5cee7f4-2180-4e06-904e-2ec13542cbae",
   "metadata": {},
   "outputs": [],
   "source": [
    "all_perim_transformed = []\n",
    "for i, behaviour in enumerate(behaviour_list):\n",
    "    for image in perim_arr_dict[behaviour]:\n",
    "        image_transformed = image.reshape((npixels,npixels))\n",
    "        all_perim_transformed.append(image_transformed.ravel())"
   ]
  },
  {
   "cell_type": "code",
   "execution_count": null,
   "id": "2281e708-e80a-419d-a87a-b6d6a871a717",
   "metadata": {},
   "outputs": [],
   "source": [
    "fig, ax = plt.subplots(ncols=len(behaviour_list), figsize=(20,5))\n",
    "for i, behaviour in enumerate(behaviour_list):\n",
    "    image = perim_arr_dict[behaviour][1].reshape((npixels,npixels))\n",
    "    image = image * np.array(list(range(npixels)))\n",
    "    ax[i].set_title(behaviour)\n",
    "    ax[i].imshow(image)"
   ]
  },
  {
   "cell_type": "markdown",
   "id": "aeb023ce-0849-466e-bfb8-8f9496b34923",
   "metadata": {},
   "source": [
    "Do PCA on these images."
   ]
  },
  {
   "cell_type": "code",
   "execution_count": null,
   "id": "e6c0efbd-f1e8-46dd-b9ec-478b128622c3",
   "metadata": {},
   "outputs": [],
   "source": [
    "from sklearn.decomposition import PCA\n",
    "from sklearn.preprocessing import minmax_scale\n",
    "\n",
    "pca = PCA(n_components=2)\n",
    "# scaled_all_perim = minmax_scale(all_perim_transformed)\n",
    "# Y = pca.fit_transform(scaled_all_perim)\n",
    "Y = pca.fit_transform(all_perim_transformed[:-num_runs])\n",
    "\n",
    "Y_dict = {}\n",
    "for i, behaviour in enumerate(behaviour_list):\n",
    "    Y_dict[behaviour] = Y[num_runs*i:num_runs*(i+1)]\n",
    "# end for\n",
    "# Plot PCA\n",
    "fig, ax = plt.subplots(figsize=(5,5))\n",
    "for behaviour in behaviour_list:\n",
    "    # if behaviour==\"HRVO\":\n",
    "    #     continue\n",
    "    ax.scatter(Y_dict[behaviour][:,0], Y_dict[behaviour][:,1], color=color_behaviour[behaviour], label=behaviour)\n",
    "\n",
    "handles, labels = plt.gca().get_legend_handles_labels()\n",
    "by_label = dict(zip(labels, handles))\n",
    "fig.legend(by_label.values(), by_label.keys(), loc=(0.1,0),  ncol=len(behaviour_list))\n",
    "plt.tight_layout()\n",
    "plt.savefig(os.path.join(plots_dir, \"PCA-projection.png\"))"
   ]
  },
  {
   "cell_type": "markdown",
   "id": "71c3450d-9dc5-4012-963d-0b4d8a9a2f92",
   "metadata": {},
   "source": [
    "We also try with UMAP"
   ]
  },
  {
   "cell_type": "code",
   "execution_count": null,
   "id": "6e330285-a40b-4676-99d2-af45b0c713ec",
   "metadata": {},
   "outputs": [],
   "source": [
    "import umap\n",
    "\n",
    "reducer = umap.UMAP()\n",
    "embedding = reducer.fit_transform(all_perim_transformed)\n",
    "fig, ax = plt.subplots(figsize=(5,5))\n",
    "embedding_dict = {}\n",
    "for i, behaviour in enumerate(behaviour_list):\n",
    "    embedding_dict[behaviour] = embedding[num_runs*i:num_runs*(i+1)]\n",
    "# end for\n",
    "for behaviour in behaviour_list:\n",
    "    # if behaviour==\"HRVO\":\n",
    "    #     continue\n",
    "    ax.scatter(embedding_dict[behaviour][:,0], embedding_dict[behaviour][:,1], color=color_behaviour[behaviour], label=behaviour)\n",
    "\n",
    "plt.savefig(os.path.join(plots_dir, \"UMAP-projection.png\"))"
   ]
  },
  {
   "cell_type": "markdown",
   "id": "add22346-931e-4b89-9eb0-5b684c184809",
   "metadata": {},
   "source": [
    "See how this projection relates to efficacy, collisions and deadlocks."
   ]
  },
  {
   "cell_type": "code",
   "execution_count": null,
   "id": "0d4da07e-b275-435d-a52a-ddd1c6196e00",
   "metadata": {},
   "outputs": [],
   "source": [
    "import pandas as pd\n",
    "\n",
    "def count_deadlocks(deadlock_time, initial_time, final_time):\n",
    "    is_deadlocked = np.logical_and(deadlock_time > initial_time, deadlock_time < (final_time - 5.0))\n",
    "    return sum(is_deadlocked)\n",
    "\n",
    "def extract_data(experiment, initial_step, final_step):\n",
    "    collisions = []\n",
    "    deadlocks = []\n",
    "    efficacy = []\n",
    "    sms = []\n",
    "    seeds = []\n",
    "    for i, run in experiment.runs.items():\n",
    "        world = run.world\n",
    "        initial_time, final_time = initial_step*run.time_step, final_step*run.time_step\n",
    "        deadlocks.append(count_deadlocks(np.array(run.deadlocks), initial_time, final_time))\n",
    "        collisions.append(np.sum(np.logical_and(\n",
    "            initial_step < run.collisions[:,0], run.collisions[:,0] < final_step\n",
    "        )))\n",
    "        efficacy.append(np.array(run.efficacy[initial_step:final_step]).mean())\n",
    "\n",
    "    df = pd.DataFrame({\n",
    "        'deadlocks': deadlocks,\n",
    "        'collisions': collisions,\n",
    "        'efficacy': efficacy})\n",
    "    df['safe'] = (df.collisions == 0).astype(int)\n",
    "    df['fluid'] = (df.deadlocks == 0).astype(int)\n",
    "    df['ok'] = ((df.deadlocks == 0) & (df.collisions == 0)).astype(int)\n",
    "    return df"
   ]
  },
  {
   "cell_type": "code",
   "execution_count": null,
   "id": "7ff702a5-7cae-4644-8b5b-95e1e5d8c576",
   "metadata": {},
   "outputs": [],
   "source": [
    "initial_step = 0\n",
    "final_step = 100\n",
    "deadlocks = {}\n",
    "collisions = {}\n",
    "efficacy = {}\n",
    "for behaviour in behaviour_list:\n",
    "    path = os.path.join(experiment_dir, f\"matchings_PCA_{behaviour}.h5\")\n",
    "    recorded_experiment = sim.RecordedExperiment(path)\n",
    "    df = extract_data(recorded_experiment, initial_step, final_step)\n",
    "    collisions[behaviour] =  list(df.collisions)\n",
    "    deadlocks[behaviour] = list(df.deadlocks)\n",
    "    efficacy[behaviour] = list(df.efficacy)"
   ]
  },
  {
   "cell_type": "markdown",
   "id": "73bcb883-1d60-4e5f-afa7-5412f24cf7c9",
   "metadata": {},
   "source": [
    "Plot classes against efficacy, collisions and deadlocks"
   ]
  },
  {
   "cell_type": "code",
   "execution_count": null,
   "id": "053a21c1-8c90-4e93-8cc0-27900283185a",
   "metadata": {},
   "outputs": [],
   "source": [
    "fig, ax = plt.subplots(figsize=(12,4), ncols=3)\n",
    "for behaviour in behaviour_list:\n",
    "    ax[0].scatter(deadlocks[behaviour], collisions[behaviour], color=color_behaviour[behaviour], label=behaviour)\n",
    "    ax[0].set_xlabel(\"deadlocks\")\n",
    "    ax[0].set_ylabel(\"collisions\")\n",
    "    ax[1].scatter(efficacy[behaviour], collisions[behaviour], color=color_behaviour[behaviour], label=behaviour)\n",
    "    ax[1].set_xlabel(\"efficacy\")\n",
    "    ax[1].set_ylabel(\"collisions\")\n",
    "    ax[2].scatter(efficacy[behaviour], deadlocks[behaviour], color=color_behaviour[behaviour], label=behaviour)\n",
    "    ax[2].set_xlabel(\"efficacy\")\n",
    "    ax[2].set_ylabel(\"deadlocks\")\n",
    "# end for\n",
    "handles, labels = plt.gca().get_legend_handles_labels()\n",
    "by_label = dict(zip(labels, handles))\n",
    "fig.legend(by_label.values(), by_label.keys(), loc=(0.3,0),  ncol=len(behaviour_list))\n",
    "plt.tight_layout()\n",
    "plt.savefig(os.sep.join((plots_dir, \"efficiency_collisions_corridor.png\")))"
   ]
  },
  {
   "cell_type": "code",
   "execution_count": null,
   "id": "ec9c0777-5de3-4620-833b-e7b035e3e01b",
   "metadata": {},
   "outputs": [],
   "source": [
    "# Plot efficacy, collisions and deadlocks using existing PCA projection\n",
    "cmap_dict = {\"efficacy\" : mpl.colormaps[\"Greens\"], \"collisions\" : mpl.colormaps[\"Reds\"], \"deadlocks\" : mpl.colormaps[\"Blues\"]}\n",
    "performance_dict ={\"efficacy\" : efficacy, \"collisions\" : collisions, \"deadlocks\" : deadlocks}\n",
    "fig, ax = plt.subplots(ncols=3, figsize=(15,4))\n",
    "for i, title in enumerate(performance_dict.keys()):\n",
    "    performance = performance_dict[title]\n",
    "    max_performance = np.max([performance[behaviour] for behaviour in behaviour_list])\n",
    "    cmap = cmap_dict[title]\n",
    "    for behaviour in behaviour_list:\n",
    "        colors = [cmap(p) for p in np.array(performance[behaviour])/max_performance]\n",
    "        ax[i].scatter(Y_dict[behaviour][:,0], Y_dict[behaviour][:,1], color=colors, label=behaviour)\n",
    "    # Draw colorbar\n",
    "    norm = mpl.colors.Normalize(vmin=0, vmax=max_performance)\n",
    "    mappable = mpl.cm.ScalarMappable(norm=norm, cmap=cmap)\n",
    "    plt.colorbar(mappable=mappable, ax=ax[i])\n",
    "    ax[i].set_title(title, fontsize=20)\n",
    "plt.tight_layout()"
   ]
  },
  {
   "cell_type": "code",
   "execution_count": null,
   "id": "5bf937be-9880-4bcf-a207-bffe85b3c604",
   "metadata": {},
   "outputs": [],
   "source": [
    "# Plot efficacy, collisions and deadlocks using existing PCA projection\n",
    "cmap_dict = {\"efficacy\" : mpl.colormaps[\"Greens\"], \"collisions\" : mpl.colormaps[\"Reds\"], \"deadlocks\" : mpl.colormaps[\"Blues\"]}\n",
    "performance_dict ={\"efficacy\" : efficacy, \"collisions\" : collisions, \"deadlocks\" : deadlocks}\n",
    "fig, ax = plt.subplots(ncols=3, figsize=(15,4))\n",
    "for i, title in enumerate(performance_dict.keys()):\n",
    "    performance = performance_dict[title]\n",
    "    max_performance = np.max([performance[behaviour] for behaviour in behaviour_list])\n",
    "    cmap = cmap_dict[title]\n",
    "    for behaviour in behaviour_list:\n",
    "        colors = [cmap(p) for p in np.array(performance[behaviour])/max_performance]\n",
    "        ax[i].scatter(embedding_dict[behaviour][:,0], embedding_dict[behaviour][:,1], color=colors, label=behaviour)\n",
    "    # Draw colorbar\n",
    "    norm = mpl.colors.Normalize(vmin=0, vmax=max_performance)\n",
    "    mappable = mpl.cm.ScalarMappable(norm=norm, cmap=cmap)\n",
    "    plt.colorbar(mappable=mappable, ax=ax[i])\n",
    "    ax[i].set_title(title, fontsize=20)\n",
    "plt.tight_layout()"
   ]
  },
  {
   "cell_type": "code",
   "execution_count": null,
   "id": "d7dd625b-685b-4c52-998b-49e996fcb64f",
   "metadata": {},
   "outputs": [],
   "source": []
  }
 ],
 "metadata": {
  "kernelspec": {
   "display_name": "Python 3 (ipykernel)",
   "language": "python",
   "name": "python3"
  },
  "language_info": {
   "codemirror_mode": {
    "name": "ipython",
    "version": 3
   },
   "file_extension": ".py",
   "mimetype": "text/x-python",
   "name": "python",
   "nbconvert_exporter": "python",
   "pygments_lexer": "ipython3",
   "version": "3.10.12"
  }
 },
 "nbformat": 4,
 "nbformat_minor": 5
}
