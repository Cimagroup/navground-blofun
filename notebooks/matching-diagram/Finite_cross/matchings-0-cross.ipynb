{
 "cells": [
  {
   "cell_type": "code",
   "execution_count": null,
   "id": "fc0a1325-4756-41d1-b31a-926a39dd1286",
   "metadata": {},
   "outputs": [],
   "source": [
    "import numpy as np\n",
    "import matplotlib.pyplot as plt\n",
    "import scipy.spatial.distance as dist\n",
    "import matplotlib as mpl"
   ]
  },
  {
   "cell_type": "code",
   "execution_count": null,
   "id": "51b567db-f0af-4969-a938-dd20cf2b41cf",
   "metadata": {},
   "outputs": [],
   "source": [
    "from navground import sim, core\n",
    "\n",
    "yaml = \"\"\"\n",
    "type: Cross\n",
    "agent_margin: 0.2\n",
    "side: 11\n",
    "target_margin: 0.6\n",
    "tolerance: 0.4\n",
    "groups:  \n",
    "  -\n",
    "    type: thymio\n",
    "    number: 22\n",
    "    control_period: 0.1\n",
    "    behavior:\n",
    "      type: HL\n",
    "      safety_margin: 0.2 \n",
    "      horizon: 3\n",
    "      barrier_angle: 1\n",
    "    radius: 0.2\n",
    "    kinematics:\n",
    "      type: 2WDiff\n",
    "      max_speed: 1.0\n",
    "      wheel_axis: 2\n",
    "    state_estimation:\n",
    "      type: Bounded\n",
    "      range: 2.0 \n",
    "\"\"\"\n",
    "scenario = sim.load_scenario(yaml)"
   ]
  },
  {
   "cell_type": "code",
   "execution_count": null,
   "id": "15df8015-7bcb-4647-829f-6f29aa589763",
   "metadata": {},
   "outputs": [],
   "source": []
  },
  {
   "cell_type": "code",
   "execution_count": null,
   "id": "35809bd7-57fb-4e0e-817f-c7932ed87288",
   "metadata": {},
   "outputs": [],
   "source": [
    "scenario = sim.load_scenario(yaml)\n",
    "world = sim.World()\n",
    "scenario.init_world(world, seed=10)"
   ]
  },
  {
   "cell_type": "code",
   "execution_count": null,
   "id": "a998b85f-15d2-473a-a99e-6fed42ddd1e1",
   "metadata": {},
   "outputs": [],
   "source": [
    "world.agents[10].behavior.horizon"
   ]
  },
  {
   "cell_type": "code",
   "execution_count": null,
   "id": "9fd26b9f-3fba-4168-a113-5b6f7587f2fb",
   "metadata": {},
   "outputs": [],
   "source": [
    "world.agents[0].behavior.barrier_angle"
   ]
  },
  {
   "cell_type": "code",
   "execution_count": null,
   "id": "9b18788a-5eb6-4800-9eb2-f1c433732913",
   "metadata": {},
   "outputs": [],
   "source": [
    "def get_positions(world):\n",
    "    ps = [] \n",
    "    for agent in world.agents:\n",
    "        ps.append(agent.position)\n",
    "    return(np.array(ps))"
   ]
  },
  {
   "cell_type": "code",
   "execution_count": null,
   "id": "c5280741-0a77-4317-b30e-2854612ad2ef",
   "metadata": {},
   "outputs": [],
   "source": [
    "# Initialize world\n",
    "world = sim.World()\n",
    "scenario.init_world(world, seed=10)\n",
    "# Compute positions\n",
    "ps = []\n",
    "ps.append(get_positions(world))\n",
    "world.run(steps=20, time_step=0.1)\n",
    "ps.append(get_positions(world))\n",
    "# Plot figure\n",
    "fig = plt.figure(figsize=(5,5))\n",
    "ax = plt.gca()\n",
    "ax.scatter(ps[0][:,0], ps[0][:,1], s=20, marker=\"s\", c=\"blue\", zorder=2, label=\"X\")\n",
    "ax.scatter(ps[1][:,0], ps[1][:,1], s=23, marker=\"x\", c=\"red\", zorder=2, label=\"Y\")\n",
    "for edge in zip(ps[0], ps[1]):\n",
    "    edge_pts = np.array(edge)\n",
    "    ax.plot(edge_pts[:,0], edge_pts[:,1], c=\"gray\", zorder=1)\n",
    "\n",
    "plt.legend()\n",
    "plt.tight_layout()\n",
    "plt.savefig(\"matching-X-Y-positions.png\")"
   ]
  },
  {
   "cell_type": "markdown",
   "id": "464dcb04-b279-4f75-8490-88d42f13f0d0",
   "metadata": {},
   "source": [
    "Next, we compute both persistent homologies at both timesteps, together with their barcodes and the matrices."
   ]
  },
  {
   "cell_type": "code",
   "execution_count": null,
   "id": "871a1e15-76b0-47be-9d6d-3b9c571d67d9",
   "metadata": {},
   "outputs": [],
   "source": [
    "import iblofunmatch.inter as ibfm\n",
    "import os\n",
    "output_dir = \"output\"\n",
    "os.makedirs(\"output\", exist_ok=True)"
   ]
  },
  {
   "cell_type": "code",
   "execution_count": null,
   "id": "3d7a9e31-89a4-4542-8c10-140b90b3d599",
   "metadata": {},
   "outputs": [],
   "source": [
    "X = ps[0]\n",
    "Y = ps[1]\n",
    "idx_S = list(range(int(X.shape[0])))\n",
    "# Compute distane matrices\n",
    "Dist_X = dist.squareform(dist.pdist(X))\n",
    "Dist_Y = dist.squareform(dist.pdist(Y))\n",
    "Dist_Z = np.minimum(Dist_X, Dist_Y)\n",
    "# Compute induced matchings\n",
    "ibfm_out = [\n",
    "    ibfm.get_IBloFunMatch_subset(Dist_X, Dist_Z, idx_S, output_dir, max_rad=-1, num_it=1, store_0_pm=True, points=False, max_dim=1),\n",
    "    ibfm.get_IBloFunMatch_subset(Dist_Y, Dist_Z, idx_S, output_dir, max_rad=-1, num_it=1, store_0_pm=True, points=False, max_dim=1)\n",
    "]"
   ]
  },
  {
   "cell_type": "code",
   "execution_count": null,
   "id": "9f3cda71-a49c-4631-a7d7-e2ef9962fe60",
   "metadata": {},
   "outputs": [],
   "source": [
    "def get_matrix(entries_list, num_rows):\n",
    "    M_X = np.zeros((num_rows, len(entries_list))).astype(\"int\")\n",
    "    for col_idx, col in enumerate(entries_list):\n",
    "        for idx in col:\n",
    "            M_X[idx, col_idx]=1\n",
    "\n",
    "    return M_X"
   ]
  },
  {
   "cell_type": "code",
   "execution_count": null,
   "id": "27c85fda-3ee0-418f-8cdd-4d5ef73e94ba",
   "metadata": {},
   "outputs": [],
   "source": [
    "fig, ax = plt.subplots(ncols=5, figsize=(10,3))\n",
    "ibfm.plot_barcode(ibfm_out[0][\"S_barcode_0\"], \"blue\", ax[0])\n",
    "M = get_matrix(ibfm_out[0][\"pm_matrix_0\"], ibfm_out[0][\"X_barcode_0\"].shape[0])\n",
    "ax[1].matshow(M, cmap=\"Grays\")\n",
    "ax[1].set_xticks([])\n",
    "ax[1].set_yticks([])\n",
    "ibfm.plot_barcode(ibfm_out[0][\"X_barcode_0\"], \"black\", ax[2])\n",
    "M = get_matrix(ibfm_out[1][\"pm_matrix_0\"], ibfm_out[1][\"X_barcode_0\"].shape[0])\n",
    "ax[3].matshow(M, cmap=\"Grays\")\n",
    "ax[3].set_xticks([])\n",
    "ax[3].set_yticks([])\n",
    "ibfm.plot_barcode(ibfm_out[1][\"S_barcode_0\"], \"red\", ax[4])\n",
    "### Print titles \n",
    "ax[0].set_title(\"PH_0(X) barcode\")\n",
    "ax[1].set_title(\"Matrix F\")\n",
    "ax[2].set_title(\"PH_0(XuY) barcode\")\n",
    "ax[3].set_title(\"Matrix G\")\n",
    "ax[4].set_title(\"PH_0(Y) barcode\")\n",
    "plt.savefig(\"barcode_0_X_Y_matrices.png\")"
   ]
  },
  {
   "cell_type": "markdown",
   "id": "19bca01a-22d3-4428-9f65-0258520763ea",
   "metadata": {},
   "source": [
    "Next, we depict matching, as well as back to back plot."
   ]
  },
  {
   "cell_type": "code",
   "execution_count": null,
   "id": "0cea5270-dc4a-43f2-9c96-01cc42febb02",
   "metadata": {},
   "outputs": [],
   "source": [
    "fig, ax = plt.subplots(ncols=2, figsize=(5,3))\n",
    "ibfm.plot_matching(ibfm_out[0], ax, fig, max_rad=-1, dim=0, block_function=True)\n",
    "plt.savefig(\"matchings_0_X_Z.png\")"
   ]
  },
  {
   "cell_type": "code",
   "execution_count": null,
   "id": "60055b6a-3a14-4ad3-a344-f30c6a94b609",
   "metadata": {},
   "outputs": [],
   "source": [
    "a = ibfm_out[0][\"S_barcode_0\"][-2][1]\n",
    "b = ibfm_out[0][\"X_barcode_0\"][\n",
    "    ibfm_out[0][\"block_function_0\"][-2]\n",
    "][1]\n",
    "a"
   ]
  },
  {
   "cell_type": "code",
   "execution_count": null,
   "id": "b0bd2848-b8e6-460d-aa86-cfffed96885f",
   "metadata": {},
   "outputs": [],
   "source": [
    "fig, ax = plt.subplots(figsize=(5,7))\n",
    "ibfm.plot_XYZ_matching_0(ibfm_out, ax)\n",
    "plt.savefig(\"matchings_XYZ_illustration.png\")"
   ]
  },
  {
   "cell_type": "markdown",
   "id": "494b812f-ec26-4366-8b1f-019bdee2a410",
   "metadata": {},
   "source": [
    "# Perform analysis\n",
    "\n",
    "Measure impact of variables in overall matching performance."
   ]
  },
  {
   "cell_type": "code",
   "execution_count": null,
   "id": "b7b842d7-e82d-40ea-a4da-cddd138b5cbb",
   "metadata": {},
   "outputs": [],
   "source": [
    "# Experiment deadlock\n",
    "num_steps = 400\n",
    "yaml = f\"\"\"\n",
    "steps: {num_steps}\n",
    "time_step: 0.1\n",
    "record_safety_violation: true\n",
    "record_task_events: true\n",
    "record_pose: true\n",
    "runs: 1\n",
    "scenario:\n",
    "  type: Cross\n",
    "  radius: 5\n",
    "  side: 11\n",
    "  agent_margin: 0.2\n",
    "  add_safety_to_agent_margin: true\n",
    "  tolerance: 0.5\n",
    "  position_noise: 0.2\n",
    "  groups:\n",
    "    - number: 18\n",
    "      type: thymio\n",
    "      control_period: 0.1\n",
    "      behavior:\n",
    "        type: HL\n",
    "        safety_margin: 0.8\n",
    "      radius: 0.2\n",
    "      kinematics:\n",
    "        type: 2WDiff\n",
    "        max_speed: 1.0\n",
    "        wheel_axis: 2\n",
    "      state_estimation:\n",
    "        type: Bounded\n",
    "        range: 2.0\n",
    "\"\"\"\n",
    "experiment = sim.load_experiment(yaml)\n",
    "experiment.run()"
   ]
  },
  {
   "cell_type": "code",
   "execution_count": null,
   "id": "d32ec286-d00d-45a6-990a-a7777a7d565c",
   "metadata": {},
   "outputs": [],
   "source": [
    "num_steps = 400\n",
    "yaml = f\"\"\"\n",
    "steps: {num_steps}\n",
    "time_step: 0.1\n",
    "record_safety_violation: true\n",
    "record_task_events: true\n",
    "record_pose: true\n",
    "runs: 1\n",
    "scenario:\n",
    "  type: Cross\n",
    "  radius: 5\n",
    "  side: 11\n",
    "  agent_margin: 0.2\n",
    "  add_safety_to_agent_margin: true\n",
    "  tolerance: 0.5\n",
    "  position_noise: 0.2\n",
    "  groups:\n",
    "    - number: 18\n",
    "      type: thymio\n",
    "      control_period: 0.1\n",
    "      behavior:\n",
    "        type: HL\n",
    "        safety_margin: 0.3\n",
    "      radius: 0.2\n",
    "      kinematics:\n",
    "        type: 2WDiff\n",
    "        max_speed: 1.0\n",
    "        wheel_axis: 2\n",
    "      state_estimation:\n",
    "        type: Bounded\n",
    "        range: 2.0\n",
    "\"\"\"\n",
    "experiment = sim.load_experiment(yaml)\n",
    "experiment.run()"
   ]
  },
  {
   "cell_type": "code",
   "execution_count": null,
   "id": "e867ce97-9b57-4ba6-9343-0c3203462126",
   "metadata": {},
   "outputs": [],
   "source": [
    "print(f\"Performed {len(experiment.runs)} runs in {experiment.duration.total_seconds()} seconds\")"
   ]
  },
  {
   "cell_type": "code",
   "execution_count": null,
   "id": "29762bab-a539-49db-a43f-b71edf9f78c0",
   "metadata": {},
   "outputs": [],
   "source": [
    "run = experiment.runs[0]\n",
    "ps = run.poses[:,:,[0,1]]\n",
    "start_ps = 120\n",
    "ps = ps[start_ps:]\n",
    "ps.shape"
   ]
  },
  {
   "cell_type": "markdown",
   "id": "50127cf4-28bd-41e0-8ec8-c6bf3db6bf95",
   "metadata": {},
   "source": [
    "Plot poses between timesteps 100 and 120. Together with matching diagrams."
   ]
  },
  {
   "cell_type": "code",
   "execution_count": null,
   "id": "1d26b97d-28a9-4565-8fb4-6c66db222465",
   "metadata": {},
   "outputs": [],
   "source": [
    "def plot_two_timesteps(X, Y, ax):\n",
    "    # Plot figure\n",
    "    ax.scatter(X[:,0], X[:,1], s=20, marker=\"s\", c=\"blue\", zorder=2, label=\"X\")\n",
    "    ax.scatter(Y[:,0], Y[:,1], s=23, marker=\"x\", c=\"red\", zorder=2, label=\"Y\")\n",
    "    for edge in zip(X, Y):\n",
    "        edge_pts = np.array(edge)\n",
    "        ax.plot(edge_pts[:,0], edge_pts[:,1], c=\"gray\", zorder=1)\n",
    "    "
   ]
  },
  {
   "cell_type": "code",
   "execution_count": null,
   "id": "e8a553bb-5d92-490b-9157-ede36f82af84",
   "metadata": {},
   "outputs": [],
   "source": [
    "def plot_divergence_diagram(X, Y, ax):\n",
    "    idx_S = list(range(int(X.shape[0])))\n",
    "    # Compute distane matrices\n",
    "    Dist_X = dist.squareform(dist.pdist(X))\n",
    "    Dist_Y = dist.squareform(dist.pdist(Y))\n",
    "    Dist_Z = np.minimum(Dist_X, Dist_Y)\n",
    "    # Compute induced matchings\n",
    "    ibfm_out = [\n",
    "        ibfm.get_IBloFunMatch_subset(Dist_X, Dist_Z, idx_S, output_dir, max_rad=-1, num_it=1, store_0_pm=True, points=False, max_dim=1),\n",
    "        ibfm.get_IBloFunMatch_subset(Dist_Y, Dist_Z, idx_S, output_dir, max_rad=-1, num_it=1, store_0_pm=True, points=False, max_dim=1)\n",
    "    ]\n",
    "    # Divergence diagrams \n",
    "    ibfm.plot_XYZ_matching_0(ibfm_out, ax)\n",
    "    ax.set_xlim([-4,4])\n",
    "    # print persistence divergence \n",
    "    matching_XZ = ibfm_out[0][\"induced_matching_0\"]\n",
    "    matching_YZ = ibfm_out[1][\"induced_matching_0\"]\n",
    "    composition_XY = [matching_YZ.index(i) for i in matching_XZ]\n",
    "    endpoints_0 = np.array(ibfm_out[0][\"S_barcode_0\"][:,1])\n",
    "    endpoints_1 = np.array(ibfm_out[1][\"S_barcode_0\"][:,1])\n",
    "    endpoints_1 = endpoints_1[composition_XY]\n",
    "    persistence_divergence = np.sum(np.sqrt((endpoints_0-endpoints_1)**2))\n",
    "    print(np.abs(endpoints_0-endpoints_1))\n",
    "    print(persistence_divergence)"
   ]
  },
  {
   "cell_type": "code",
   "execution_count": null,
   "id": "45ba9b03-4b0a-48b8-9a5d-5da555d4a31c",
   "metadata": {},
   "outputs": [],
   "source": [
    "fig, ax = plt.subplots(ncols=2, figsize=(10,5))\n",
    "X = ps[200]\n",
    "Y = ps[220]\n",
    "plot_two_timesteps(X, Y, ax[0])\n",
    "plot_divergence_diagram(X, Y, ax[1])\n",
    "ax[0].legend()\n",
    "plt.tight_layout()\n",
    "plt.savefig(\"persistence_divergence_diagram.png\")"
   ]
  },
  {
   "cell_type": "markdown",
   "id": "dcd00691-9db5-488d-921f-0a45dd97420d",
   "metadata": {},
   "source": [
    "Now, we measure the persistence divergence and interpret it in terms of changes between point clouds, efficiency, collisions and deadlocks"
   ]
  },
  {
   "cell_type": "code",
   "execution_count": null,
   "id": "63d69108-1ab7-434b-a0cd-6f94e6777867",
   "metadata": {},
   "outputs": [],
   "source": [
    "persdiv_list=[] \n",
    "shift = 30\n",
    "idx_S = list(range(int(ps[0].shape[0])))\n",
    "for start_timestep in range(num_steps-shift-start_ps):\n",
    "    X = ps[start_timestep]\n",
    "    Y = ps[start_timestep + shift]\n",
    "    # Compute distane matrices\n",
    "    Dist_X = dist.squareform(dist.pdist(X))\n",
    "    Dist_Y = dist.squareform(dist.pdist(Y))\n",
    "    Dist_Z = np.minimum(Dist_X, Dist_Y)\n",
    "    # Compute induced matchings\n",
    "    ibfm_out = [\n",
    "        ibfm.get_IBloFunMatch_subset(Dist_X, Dist_Z, idx_S, output_dir, max_rad=-1, num_it=1, points=False, max_dim=1),\n",
    "        ibfm.get_IBloFunMatch_subset(Dist_Y, Dist_Z, idx_S, output_dir, max_rad=-1, num_it=1, points=False, max_dim=1)\n",
    "    ]\n",
    "    # Compute persistence divergence\n",
    "    matching_XZ = ibfm_out[0][\"induced_matching_0\"]\n",
    "    matching_YZ = ibfm_out[1][\"induced_matching_0\"]\n",
    "    composition_XY = [matching_YZ.index(i) for i in matching_XZ]\n",
    "    endpoints_0 = np.array(ibfm_out[0][\"S_barcode_0\"][:,1])\n",
    "    endpoints_1 = np.array(ibfm_out[1][\"S_barcode_0\"][:,1])\n",
    "    endpoints_1 = endpoints_1[composition_XY]\n",
    "    persistence_divergence = np.sum(np.sqrt((endpoints_0-endpoints_1)**2))\n",
    "    # Store \n",
    "    persdiv_list.append(persistence_divergence)"
   ]
  },
  {
   "cell_type": "code",
   "execution_count": null,
   "id": "087189c5-7b1a-45b9-a792-8f31847c398f",
   "metadata": {},
   "outputs": [],
   "source": [
    "persdiv_list"
   ]
  },
  {
   "cell_type": "code",
   "execution_count": null,
   "id": "564b11e8-12cc-4dd1-bcca-92011304ec29",
   "metadata": {},
   "outputs": [],
   "source": [
    "matching_XZ = ibfm_out[0][\"induced_matching_0\"]\n",
    "matching_YZ = ibfm_out[1][\"induced_matching_0\"]\n",
    "composition_XY = [matching_YZ.index(i) for i in matching_XZ]\n",
    "print(matching_XZ)\n",
    "print(matching_YZ)\n",
    "print(composition_XY)"
   ]
  },
  {
   "cell_type": "markdown",
   "id": "d468edf2-6fad-49b1-9353-1b67d063b9d1",
   "metadata": {},
   "source": [
    "Now we plot the persistence divergences."
   ]
  },
  {
   "cell_type": "code",
   "execution_count": null,
   "id": "1687458e-ca51-46d0-9f5b-1592a9ba970b",
   "metadata": {},
   "outputs": [],
   "source": [
    "average_range = 2*shift\n",
    "divergences_averages = [np.average(persdiv_list[i: i+average_range]) for i in range(len(persdiv_list)-average_range)]\n",
    "divergences_averages = persdiv_list"
   ]
  },
  {
   "cell_type": "code",
   "execution_count": null,
   "id": "c6f7d11b-1cad-41af-8fd3-b224968ccea6",
   "metadata": {},
   "outputs": [],
   "source": [
    "fig, ax = plt.subplots(figsize=(10,5))\n",
    "ax.plot(list(range(len(divergences_averages))), divergences_averages, c=\"black\", label=f\"persistence divergence\")\n",
    "plt.legend()"
   ]
  },
  {
   "cell_type": "markdown",
   "id": "356d3127-20c5-41b5-9d3c-499b117b426b",
   "metadata": {},
   "source": [
    "We can check that the point $380$ with higher persistene divergence changes corresponds to a bit chaothic movement of points."
   ]
  },
  {
   "cell_type": "code",
   "execution_count": null,
   "id": "71608aef-e86f-469d-8a2a-0ce20403542b",
   "metadata": {},
   "outputs": [],
   "source": [
    "timestep = np.argmax(divergences_averages)\n",
    "X = ps[timestep]\n",
    "Y = ps[timestep + shift]\n",
    "fig, ax = plt.subplots(ncols=2, figsize=(10,5))\n",
    "plot_two_timesteps(X, Y, ax[0])\n",
    "plot_divergence_diagram(X, Y, ax[1])\n",
    "ax[0].legend()\n",
    "plt.savefig(\"max_divergence.png\")"
   ]
  },
  {
   "cell_type": "code",
   "execution_count": null,
   "id": "453d0d37-31d8-4d6b-8df9-127a857e8d6f",
   "metadata": {},
   "outputs": [],
   "source": [
    "timestep = np.argmin(divergences_averages)\n",
    "X = ps[timestep]\n",
    "Y = ps[timestep + shift]\n",
    "fig, ax = plt.subplots(ncols=2, figsize=(10,5))\n",
    "plot_two_timesteps(X, Y, ax[0])\n",
    "plot_divergence_diagram(X, Y, ax[1])\n",
    "ax[0].legend()\n",
    "plt.savefig(\"min_divergence.png\")"
   ]
  },
  {
   "cell_type": "markdown",
   "id": "f800eadb-fc50-4ecf-afda-5c9df581fe13",
   "metadata": {},
   "source": [
    "On the other hand, the point with less persistence divergence, corresponds to the point with a very ordered movement of agents."
   ]
  },
  {
   "cell_type": "code",
   "execution_count": null,
   "id": "e567284c-8dbc-4e7c-ac57-377002d27ac5",
   "metadata": {},
   "outputs": [],
   "source": [
    "timestep = np.argmin(divergences_averages)\n",
    "X = ps[timestep]\n",
    "Y = ps[timestep + shift]\n",
    "fig, ax = plt.subplots(ncols=2, figsize=(10,5))\n",
    "plot_two_timesteps(X, Y, ax[0])\n",
    "plot_divergence_diagram(X, Y, ax[1])\n",
    "ax[0].legend()\n",
    "plt.savefig(\"min_divergence.png\")"
   ]
  },
  {
   "cell_type": "markdown",
   "id": "d7b8c190-3834-46b4-ad15-eaccd43efa34",
   "metadata": {},
   "source": [
    "Let us now do this for the $n$ largest local maxima and the $n$ smallest local minima."
   ]
  },
  {
   "cell_type": "code",
   "execution_count": null,
   "id": "cd08398e-2527-47a7-8add-750ca11ffc35",
   "metadata": {},
   "outputs": [],
   "source": [
    "timestep_list = list(range(50,120,50))\n",
    "fig, ax = plt.subplots(nrows=len(timestep_list), ncols=2, figsize=(10,5*len(timestep_list)))\n",
    "for idx, timestep in enumerate(timestep_list):\n",
    "    X = ps[timestep]\n",
    "    Y = ps[timestep + shift]\n",
    "    plot_two_timesteps(X, Y, ax[idx, 0])\n",
    "    plot_divergence_diagram(X, Y, ax[idx,1])\n",
    "    ax[idx,0].legend()\n",
    "\n",
    "plt.savefig(\"exploration_matchings.png\")\n",
    "# plt.savefig(\"deadlock_matchings.png\")"
   ]
  },
  {
   "cell_type": "code",
   "execution_count": null,
   "id": "1ad1cfb4-bcad-4607-a46e-a4374f12c89e",
   "metadata": {},
   "outputs": [],
   "source": [
    "n = 4\n",
    "from scipy.signal import argrelextrema\n",
    "persdiv_arr = np.array(persdiv_list)\n",
    "local_maxima = argrelextrema(persdiv_arr, np.greater)[0]\n",
    "local_minima = argrelextrema(persdiv_arr, np.less)[0]\n",
    "### Take n largest and n smallest maxima/minima\n",
    "local_maxima = local_maxima[np.argsort(-persdiv_arr[local_maxima])[:n]]\n",
    "local_minima = local_minima[np.argsort(persdiv_arr[local_minima])[:n]]\n",
    "\n",
    "local_maxima.sort()\n",
    "local_minima.sort()"
   ]
  },
  {
   "cell_type": "code",
   "execution_count": null,
   "id": "e6f4a614-457f-45ec-a16a-e1e1282302d0",
   "metadata": {},
   "outputs": [],
   "source": [
    "# local_maxima.sort()\n",
    "# local_minima = [i + np.argmin(persdiv_arr[i:j]) for i,j in zip(local_maxima[:-1], local_maxima[1:])]"
   ]
  },
  {
   "cell_type": "code",
   "execution_count": null,
   "id": "f482cc79-055c-4793-b195-e8c9efb6d791",
   "metadata": {},
   "outputs": [],
   "source": [
    "local_maxima"
   ]
  },
  {
   "cell_type": "code",
   "execution_count": null,
   "id": "4ac111f2-c59b-4a68-b8d0-20699536c77d",
   "metadata": {},
   "outputs": [],
   "source": [
    "local_minima"
   ]
  },
  {
   "cell_type": "markdown",
   "id": "8b0312bc-57ab-4526-ad38-c367b924d4f2",
   "metadata": {},
   "source": [
    "We plot these in the persistence divergence function."
   ]
  },
  {
   "cell_type": "code",
   "execution_count": null,
   "id": "675c905f-ac77-43a8-962a-f9f908d2010a",
   "metadata": {},
   "outputs": [],
   "source": [
    "fig, ax = plt.subplots(figsize=(10,5))\n",
    "ax.plot(list(range(len(persdiv_list))), persdiv_list, c=\"black\", label=f\"persistence divergence\")\n",
    "ax.scatter(local_maxima, persdiv_arr[local_maxima], c=\"red\", label=\"local maxima\")\n",
    "ax.scatter(local_minima, persdiv_arr[local_minima], c=\"blue\", label=\"local minima\")\n",
    "plt.legend()"
   ]
  },
  {
   "cell_type": "code",
   "execution_count": null,
   "id": "b3026e5f-e892-4f47-9e91-8288bda80340",
   "metadata": {},
   "outputs": [],
   "source": [
    "local_maxima"
   ]
  },
  {
   "cell_type": "code",
   "execution_count": null,
   "id": "831382b1-003d-4f19-98f9-4be728e674d4",
   "metadata": {},
   "outputs": [],
   "source": [
    "fig, ax = plt.subplots(nrows=2, ncols=(n-1), figsize=(5*(n-1), 10))\n",
    "for idx, max_step in enumerate(local_maxima[:-1]):\n",
    "    X = ps[max_step]\n",
    "    Y = ps[max_step + shift]\n",
    "    plot_two_timesteps(X, Y, ax[0, idx])\n",
    "for idx, min_step in enumerate(local_minima[:-1]):\n",
    "    X = ps[min_step]\n",
    "    Y = ps[min_step + shift]\n",
    "    plot_two_timesteps(X, Y, ax[1, idx])"
   ]
  },
  {
   "cell_type": "code",
   "execution_count": null,
   "id": "4f4d8afe-0995-4d66-a59c-aa18b6b80483",
   "metadata": {},
   "outputs": [],
   "source": [
    "persdiv_arr[local_maxima]"
   ]
  },
  {
   "cell_type": "code",
   "execution_count": null,
   "id": "58e1a082-1460-49cc-a269-42f3ccee6620",
   "metadata": {},
   "outputs": [],
   "source": [
    "persdiv_arr[local_minima]"
   ]
  },
  {
   "cell_type": "code",
   "execution_count": null,
   "id": "5e00f817-3807-4f29-b583-dbbc10352b58",
   "metadata": {},
   "outputs": [],
   "source": [
    "fig, ax = plt.subplots(nrows=2, ncols=(n-1), figsize=(5*(n-1), 10))\n",
    "for idx, max_step in enumerate(local_maxima[:-1]):\n",
    "    X = ps[max_step]\n",
    "    Y = ps[max_step + shift]\n",
    "    plot_divergence_diagram(X, Y, ax[0,idx])\n",
    "\n",
    "print()\n",
    "for idx, min_step in enumerate(local_minima[:-1]):\n",
    "    X = ps[min_step]\n",
    "    Y = ps[min_step + shift]\n",
    "    plot_divergence_diagram(X, Y, ax[1,idx])"
   ]
  },
  {
   "cell_type": "code",
   "execution_count": null,
   "id": "98807b99-826b-4467-9c64-6dd99e10cd9a",
   "metadata": {},
   "outputs": [],
   "source": []
  }
 ],
 "metadata": {
  "kernelspec": {
   "display_name": "Python 3 (ipykernel)",
   "language": "python",
   "name": "python3"
  },
  "language_info": {
   "codemirror_mode": {
    "name": "ipython",
    "version": 3
   },
   "file_extension": ".py",
   "mimetype": "text/x-python",
   "name": "python",
   "nbconvert_exporter": "python",
   "pygments_lexer": "ipython3",
   "version": "3.10.12"
  }
 },
 "nbformat": 4,
 "nbformat_minor": 5
}
