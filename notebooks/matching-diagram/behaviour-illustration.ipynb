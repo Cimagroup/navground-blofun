{
 "cells": [
  {
   "cell_type": "markdown",
   "id": "10174b23-25f5-45d2-85a2-43985ce76950",
   "metadata": {},
   "source": [
    "## Behaviour illustration\n",
    "\n",
    "In this notebook, we plot trajectories related to navground simulations on two scenarios: the corridor and the finite cross. We depict such trajectories considering various behaviors.\n",
    "\n",
    "We start by importing some relevant libraries as well as creating some necessary folders."
   ]
  },
  {
   "cell_type": "code",
   "execution_count": null,
   "id": "35f7c19a-b478-4fa9-9451-2722d6275e7c",
   "metadata": {},
   "outputs": [],
   "source": [
    "import numpy as np\n",
    "import matplotlib.pyplot as plt\n",
    "import matplotlib as mpl\n",
    "import os\n",
    "\n",
    "import perdiver.perdiver as perdiver\n",
    "from perdiver.navground_io import parser, run_navground\n",
    "\n",
    "from navground import core, sim\n",
    "\n",
    "plots_dir = os.path.join(\"plots\", \"visualisation\")\n",
    "experiment_dir = \"experiments\"\n",
    "os.makedirs(plots_dir, exist_ok=True)\n",
    "os.makedirs(\"experiments\", exist_ok=True)"
   ]
  },
  {
   "cell_type": "code",
   "execution_count": null,
   "id": "f7680583-dc34-4b23-939d-6c8256b9f367",
   "metadata": {},
   "outputs": [],
   "source": [
    "Next, we run Navground simulations "
   ]
  },
  {
   "cell_type": "code",
   "execution_count": null,
   "id": "f88c00d1-7647-4543-8357-965de185f7ec",
   "metadata": {},
   "outputs": [],
   "source": [
    "args = parser.parse_args([\n",
    "        '--scenario', 'Corridor',\n",
    "        '--length', '8.0',\n",
    "        '--width', '1.0',\n",
    "        '--time_step', '0.1',\n",
    "        '--radius', '0.08',\n",
    "        '--num_agents', '11',\n",
    "        '--max_speed', '0.166',\n",
    "        '--num_steps', '400',\n",
    "    ])\n",
    "\n",
    "\n",
    "behavior_list = [\"ORCA\", \"HL\", \"HRVO\", \"Dummy\"]\n",
    "marker_behavior = {\"ORCA\": \"o\", \"HL\": \"X\", \"HRVO\": \"+\", \"Dummy\": \"*\"}\n",
    "\n",
    "# Runs as dictionary with behaviors\n",
    "runs = {}\n",
    "for behavior in behavior_list:\n",
    "    args.behavior = behavior\n",
    "    print(args.behavior)\n",
    "    runs[behavior] = run_navground(args)\n",
    "# end for"
   ]
  },
  {
   "cell_type": "markdown",
   "id": "ec5913e6-73bc-4a7e-b5c0-1a0fe3f11ee4",
   "metadata": {},
   "source": [
    "Now, we illustrate movements for each behavior in a single image."
   ]
  },
  {
   "cell_type": "code",
   "execution_count": null,
   "id": "73b1f80f-61aa-4a96-b574-c4d361661a5a",
   "metadata": {},
   "outputs": [],
   "source": [
    "fig, ax = plt.subplots(nrows=len(behavior_list), figsize=(10, 1.5*len(behavior_list)))\n",
    "timestep_list = list(range(100,200,10))\n",
    "for i, behavior in enumerate(behavior_list):\n",
    "    run = runs[behavior][0]\n",
    "    perdiver.plot_timesteps_corridor(run, timestep_list, args.length, args.width, ax[i])\n",
    "    ax[i].set_title(behavior, fontsize=10)\n",
    "plt.tight_layout()\n",
    "plt.savefig(os.path.join(plots_dir, \"behaviors_simulations.png\"))"
   ]
  },
  {
   "cell_type": "code",
   "execution_count": null,
   "id": "5d7f81e7-6864-4981-aebd-a95b3381ad84",
   "metadata": {},
   "outputs": [],
   "source": [
    "def plot_image_cross(run, image, timestep_list, side, ax):\n",
    "    # Load poses and number of agents\n",
    "    poses = run.poses\n",
    "    num_agents = poses.shape[1]\n",
    "    # Plot image and adjust bounds\n",
    "    ax.imshow(image, extent=[-side/2, side/2, -side/2, side/2])\n",
    "    ax.set_xlim([-side/2, side/2])\n",
    "    ax.set_ylim([-side/2, side/2])\n",
    "    # Plot trajectories\n",
    "    for i in range(num_agents):\n",
    "        for f, t in zip(timestep_list[:-1], timestep_list[1:]):\n",
    "            edge = np.array([poses[f,i], poses[t,i]])\n",
    "            ax.plot(edge[:,0], edge[:,1], color=mpl.colormaps['Set1'](i/(num_agents+3)))\n",
    "        # end for\n",
    "    # end for"
   ]
  },
  {
   "cell_type": "code",
   "execution_count": null,
   "id": "c519586b-d1ff-4331-a338-dce5ea5cbda9",
   "metadata": {},
   "outputs": [],
   "source": [
    "args.scenario = \"Cross\"\n",
    "args.side = 3\n",
    "\n",
    "# Runs as dictionary with behaviors\n",
    "runs = {}\n",
    "for behavior in behavior_list:\n",
    "    args.behavior = behavior\n",
    "    print(args.behavior)\n",
    "    runs[behavior] = run_navground(args)\n",
    "# end for"
   ]
  },
  {
   "cell_type": "code",
   "execution_count": null,
   "id": "99632d3d-389b-487b-8d15-c54b1bbe8252",
   "metadata": {},
   "outputs": [],
   "source": [
    "fig, ax = plt.subplots(ncols=len(behavior_list), figsize=(4*len(behavior_list),4))\n",
    "timestep_list = list(range(60,140,15))\n",
    "for i, behaviour in enumerate(behavior_list):\n",
    "    run = runs[behaviour][0]\n",
    "    image = perdiver.image_run_timestep_list(run, timestep_list)\n",
    "    plot_image_cross(run, image, timestep_list, args.side, ax[i])\n",
    "    ax[i].set_title(behaviour, fontsize=20)\n",
    "\n",
    "plt.savefig(os.path.join(plots_dir, \"behaviours_cross.png\"))"
   ]
  },
  {
   "cell_type": "code",
   "execution_count": null,
   "id": "5f732183-2d96-477b-b877-1fb97e302d87",
   "metadata": {},
   "outputs": [],
   "source": []
  }
 ],
 "metadata": {
  "kernelspec": {
   "display_name": "Python 3 (ipykernel)",
   "language": "python",
   "name": "python3"
  },
  "language_info": {
   "codemirror_mode": {
    "name": "ipython",
    "version": 3
   },
   "file_extension": ".py",
   "mimetype": "text/x-python",
   "name": "python",
   "nbconvert_exporter": "python",
   "pygments_lexer": "ipython3",
   "version": "3.10.12"
  }
 },
 "nbformat": 4,
 "nbformat_minor": 5
}
