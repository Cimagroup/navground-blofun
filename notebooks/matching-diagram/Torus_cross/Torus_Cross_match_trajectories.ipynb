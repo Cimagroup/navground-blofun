{
 "cells": [
  {
   "cell_type": "markdown",
   "id": "e9c6b369-f609-44fd-a49f-2215f7e10423",
   "metadata": {},
   "source": [
    "# Persistence divergence on Torus\n",
    "\n",
    "In this example, we review persistence divergence of autonomoous wheelchairs moving on a square with periodic boundary conditions (i.e. a torus)\n",
    "\n",
    "Firs of all, we import some necessary modules."
   ]
  },
  {
   "cell_type": "code",
   "execution_count": null,
   "id": "35aeeac5-6e45-4233-907c-7c7fc8cdb916",
   "metadata": {},
   "outputs": [],
   "source": [
    "import numpy as np\n",
    "import matplotlib.pyplot as plt\n",
    "import scipy.spatial.distance as dist\n",
    "import matplotlib as mpl\n",
    "import iblofunmatch.inter as ibfm\n",
    "output_dir=\"output\"\n",
    "plots_dir = \"plots/torus_cross/\"\n",
    "import os\n",
    "\n",
    "os.makedirs(plots_dir, exist_ok=True)\n",
    "\n",
    "from perdiver.distances import *\n",
    "import perdiver.perdiver as perdiver"
   ]
  },
  {
   "cell_type": "markdown",
   "id": "5d40bf2d-06e0-4796-bb75-0756e6ffd66a",
   "metadata": {},
   "source": [
    "In this experiment, we see a big change in dynamics when changing agents from $31$ to $33$. The first case follows a very ordered movement. On the second case, the movement is much less ordered."
   ]
  },
  {
   "cell_type": "code",
   "execution_count": null,
   "id": "f8dafd82-b0a7-4dd3-ba63-77e7eeafe3cc",
   "metadata": {},
   "outputs": [],
   "source": [
    "from navground import sim, core\n",
    "side=15\n",
    "behaviour = \"ORCA\"\n",
    "yaml = f\"\"\"\n",
    "steps: 1000\n",
    "time_step: 0.1\n",
    "record_pose: true\n",
    "record_twist: true\n",
    "runs: 1\n",
    "scenario:\n",
    "  type: CrossTorus\n",
    "  agent_margin: 0.2\n",
    "  side: {side}\n",
    "  target_margin: 0.6\n",
    "  tolerance: 0.4\n",
    "  groups:   \n",
    "    -\n",
    "      type: thymio\n",
    "      number: 29\n",
    "      control_period: 0.1\n",
    "      behavior:\n",
    "        type: {behaviour}\n",
    "        safety_margin: 0.2 \n",
    "        horizon: 3\n",
    "        barrier_angle: 1\n",
    "      radius: 0.2\n",
    "      kinematics:\n",
    "        type: 2WDiff\n",
    "        max_speed: 1.0\n",
    "        wheel_axis: 2\n",
    "      state_estimation:\n",
    "        type: Bounded\n",
    "        range: 2.0 \n",
    "\"\"\"\n",
    "experiment = sim.load_experiment(yaml)\n",
    "experiment.run()\n",
    "# experiment.record_config.set_all(True)\n",
    "\n",
    "# experiment.record_config.set_all(True)\n",
    "# path = \"recorded_experiment.h5\"\n",
    "# os.remove(path)\n",
    "# experiment.run(keep=False, data_path=path)\n",
    "# recorded_experiment = sim.RecordedExperiment(path)"
   ]
  },
  {
   "cell_type": "markdown",
   "id": "916946fa-d67a-41af-9a97-435e72a79d50",
   "metadata": {},
   "source": [
    "Now, let us read the velocities and positions of wheelchairs on the simulation."
   ]
  },
  {
   "cell_type": "code",
   "execution_count": null,
   "id": "521263da-de14-48bd-9939-58bbbd7d4196",
   "metadata": {},
   "outputs": [],
   "source": [
    "# recorded_experiment = sim.RecordedExperiment(path)\n",
    "# run = recorded_experiment.runs[0]\n",
    "run = experiment.runs[0]\n",
    "ps = run.poses[:,:,[0,1]]\n",
    "twists = run.twists[:,:,:2] # ignore angular speeds"
   ]
  },
  {
   "cell_type": "markdown",
   "id": "77df9a9e-2527-4946-8d7e-b8a84aad0985",
   "metadata": {},
   "source": [
    "Let us visualise the experiment in both situations. First, we plot the case when the wheelchairs stabilise into constant speed trajectories."
   ]
  },
  {
   "cell_type": "code",
   "execution_count": null,
   "id": "d04afccf-019b-4512-a818-25e1f85190b8",
   "metadata": {},
   "outputs": [],
   "source": [
    "import matplotlib.colors as colors\n",
    "import matplotlib.cm as cmx\n",
    "from navground.sim.ui.video import record_video, record_video_from_run\n",
    "\n",
    "def linear_map(a, b, cmap):\n",
    "    c = cmx.ScalarMappable(norm=colors.Normalize(vmin=a, vmax=b), cmap=cmap)  \n",
    "    def f(v):\n",
    "        r, g, b, _ = c.to_rgba(v)\n",
    "        return f\"#{int(r * 255):02x}{int(g * 255):02x}{int(b * 255):02x}\"\n",
    "    return f\n",
    "\n",
    "\n",
    "fill_map = linear_map(0.0, 1.0, cmap=cmx.RdYlGn)\n",
    "\n",
    "def f(entity):\n",
    "    if isinstance(entity, sim.Agent):\n",
    "        return {'fill': fill_map(entity.behavior.efficacy)}\n",
    "    return {}\n",
    "    \n",
    "record_video(f\"{plots_dir}{behaviour}torus_ordered_exp.mp4\", run.world, time_step=0.1, duration=60.0, factor=6.0,\n",
    "             bounds=((-side*0.1, -side*0.1), (side*1.1, side*1.1)), decorate=f, width=500)\n",
    "\n",
    "# run.world = ((-side*0.1, -side*0.1), (side*1.1, side*1.1))\n",
    "# record_video_from_run(f\"{behaviour}torus_ordered_exp.mp4\", run, factor= 1.0, fps= 30, decorate=f, width=500, from_time=0, to_time=20)"
   ]
  },
  {
   "cell_type": "code",
   "execution_count": null,
   "id": "19477d6b-2c9d-4806-9bbe-97c69c35b132",
   "metadata": {},
   "outputs": [],
   "source": [
    "from IPython.display import Video\n",
    "\n",
    "Video(f\"{plots_dir}{behaviour}torus_ordered_exp.mp4\", width=200)"
   ]
  },
  {
   "cell_type": "code",
   "execution_count": null,
   "id": "92f679a6-4868-472e-9e2e-071bf74d1f50",
   "metadata": {},
   "outputs": [],
   "source": [
    "# from IPython.display import Video\n",
    "\n",
    "# Video(\"torus_messy_exp.mp4\", width=200)"
   ]
  },
  {
   "cell_type": "markdown",
   "id": "bd64caf5-8d81-48e3-9f3d-4c905fd67360",
   "metadata": {},
   "source": [
    "Next, let us see the impact on persistence divergence diagrams."
   ]
  },
  {
   "cell_type": "code",
   "execution_count": null,
   "id": "775e0da7-c5b7-4702-a748-79dd4b1255de",
   "metadata": {},
   "outputs": [],
   "source": [
    "weight = 3"
   ]
  },
  {
   "cell_type": "code",
   "execution_count": null,
   "id": "e9b97ea2-83fc-441c-b932-b1a72506a5f1",
   "metadata": {},
   "outputs": [],
   "source": [
    "fig, ax = plt.subplots(ncols=1, figsize=(4,4))\n",
    "Dist_X, Dist_Y, Dist_Z = compute_distance_matrices_trajectories_2D_torus(ps, twists, 800, 100, weight, side)\n",
    "match_diagram = perdiver.get_matching_diagram(Dist_X, Dist_Y)\n",
    "perdiver.plot_matching_diagram(match_diagram, ax, color=\"blue\")"
   ]
  },
  {
   "cell_type": "markdown",
   "id": "0570e901-2510-4d85-8b70-1dacb0891bcb",
   "metadata": {},
   "source": [
    "Plot persistence divergence over first 2500 steps."
   ]
  },
  {
   "cell_type": "code",
   "execution_count": null,
   "id": "c1f378d4-81cf-4eb6-9285-1deeed092b02",
   "metadata": {},
   "outputs": [],
   "source": [
    "fig, ax = plt.subplots(figsize=(6,6))\n",
    "steplist = list(range(2000, 2500, 50))\n",
    "shift_time=30\n",
    "for idx, start_step_traj in enumerate(steplist):\n",
    "    Dist_X, Dist_Y, Dist_Z = compute_distance_matrices_trajectories_2D_torus(ps, twists, start_step_traj, shift_time, weight, side)\n",
    "    perdiver.plot_matching_diagram( Dist_X, Dist_Y, Dist_Z, ax, color=mpl.colormaps[\"GnBu\"](idx/len(steplist)))\n",
    "\n",
    "norm = mpl.colors.Normalize(vmin=steplist[0], vmax=steplist[-1])\n",
    "cmap = mpl.colormaps[\"GnBu\"]\n",
    "mappable = mpl.cm.ScalarMappable(norm=norm, cmap=cmap)\n",
    "plt.colorbar(mappable=mappable, ax=ax)\n",
    "plt.savefig(f\"{plots_dir}{behaviour}_perdiver.png\")\n",
    "# plt.savefig(\"perdiver_diagram_messy.png\")"
   ]
  },
  {
   "cell_type": "code",
   "execution_count": null,
   "id": "11e47c4d-4429-47eb-97ab-48eccab7ec24",
   "metadata": {},
   "outputs": [],
   "source": [
    "start_step_list = list(range(898,1340, 100))\n",
    "fig, ax = plt.subplots(ncols=len(start_step_list), figsize=(6*(len(start_step_list)),6))\n",
    "xmax, ymax = 0,0\n",
    "for idx_start, start_step in enumerate(start_step_list):\n",
    "    shift_time=40\n",
    "    steplist = list(range(start_step, start_step+shift_time, 10))\n",
    "    for idx, start_step_traj in enumerate(steplist):\n",
    "        Dist_X, Dist_Y, Dist_Z = compute_distance_matrices_trajectories_2D_torus(ps, twists, start_step_traj, shift_time, weight, side)\n",
    "        perdiver.plot_matching_diagram( Dist_X, Dist_Y, Dist_Z, ax[idx_start], color=mpl.colormaps[\"GnBu\"](idx/len(steplist)))\n",
    "    ax[idx_start].set_title(f\"{start_step}\")\n",
    "    xmax = max(xmax, ax[idx_start].get_xlim()[1])\n",
    "    ymax = max(ymax, ax[idx_start].get_ylim()[1])\n",
    "\n",
    "for idx_start, start_step in enumerate(start_step_list):\n",
    "    ax[idx_start].plot([0,max(xmax, ymax)], [0, max(xmax, ymax)], color=\"gray\")\n",
    "    ax[idx_start].set_xlim(0,xmax)\n",
    "    ax[idx_start].set_ylim(0,ymax)"
   ]
  },
  {
   "cell_type": "code",
   "execution_count": null,
   "id": "2aac8d1e-0d50-47f8-a0a2-f49e311725b0",
   "metadata": {},
   "outputs": [],
   "source": []
  },
  {
   "cell_type": "code",
   "execution_count": null,
   "id": "ab81c68a-9dbd-4c4d-9a1c-9ebe4b42f425",
   "metadata": {},
   "outputs": [],
   "source": [
    "np.unique(np.nonzero(run.safety_violations)[0])"
   ]
  },
  {
   "cell_type": "code",
   "execution_count": null,
   "id": "bb06a9dc-da79-4295-9392-d55a27510e95",
   "metadata": {},
   "outputs": [],
   "source": [
    "start_step=730\n",
    "shift_time =40\n",
    "np.sum(run.safety_violations[start_step:start_step+shift_time])"
   ]
  },
  {
   "cell_type": "code",
   "execution_count": null,
   "id": "9b9af010-ae93-4c7c-9bff-a51ae2c8331b",
   "metadata": {},
   "outputs": [],
   "source": [
    "fig, ax = plt.subplots(figsize=(6,6))\n",
    "start_step=900\n",
    "shift_time =40\n",
    "\n",
    "Dist_X, Dist_Y, Dist_Z = compute_distance_matrices_trajectories_2D_torus(ps, twists, start_step, shift_time, weight, side)\n",
    "perdiver.plot_matching_diagram_trajectories(\n",
    "    Dist_X, Dist_Y, Dist_Z, ax, color=\"blue\",\n",
    "    print_barcode_n_reps=True\n",
    ")"
   ]
  },
  {
   "cell_type": "code",
   "execution_count": null,
   "id": "fc71699f-4657-495d-b347-52426a2b2285",
   "metadata": {},
   "outputs": [],
   "source": [
    "X_seq = ps[list(range(start_step, start_step+shift_time+1, 2))]\n",
    "len(X_seq)\n",
    "fig, ax = plt.subplots(figsize=(10, 5))\n",
    "ax.set_aspect(\"equal\")\n",
    "perdiver.plot_sequence(X_seq, ax, mark_points=[15,27], color=\"yellow\")"
   ]
  },
  {
   "cell_type": "markdown",
   "id": "25a4f1d1-b7a5-46f5-9396-91daaad7e44e",
   "metadata": {},
   "source": [
    "# Check out persistence divergence over time."
   ]
  },
  {
   "cell_type": "code",
   "execution_count": null,
   "id": "7fa493e4-a990-4cf3-8eb8-7c4994bd82f5",
   "metadata": {},
   "outputs": [],
   "source": [
    "steps_list = list(range(5000, 6000, 5))\n",
    "shift_step = 100\n",
    "divergence_arr, Z_barcodes_arr = perdiver.compute_divergence_Z_arrays(ps, twists, steps_list, shift_step, weight, side)"
   ]
  },
  {
   "cell_type": "code",
   "execution_count": null,
   "id": "93882a81-996b-4465-b9c5-d91b508bd99b",
   "metadata": {},
   "outputs": [],
   "source": [
    "def plot_divergence_array(div_arr, steps_list, ax, vmin=None, vmax=None):\n",
    "    if vmin is None:\n",
    "        vmin = np.min(div_arr)\n",
    "    if vmax is None:\n",
    "        vmax = np.max(div_arr)\n",
    "    mapable = ax.imshow(div_arr, aspect=\"auto\", vmax=vmax, vmin=vmin, extent=(steps_list[0], steps_list[-1], 0, div_arr.shape[0]))\n",
    "    plt.colorbar(mapable)"
   ]
  },
  {
   "cell_type": "code",
   "execution_count": null,
   "id": "522af409-a1f3-40ca-8017-c6a0c24d98e8",
   "metadata": {},
   "outputs": [],
   "source": [
    "fig, ax = plt.subplots(figsize=(15,2))\n",
    "plot_divergence_array(divergence_arr, steps_list, ax)\n",
    "ax.set_title(\"Persistence Divergence\")\n",
    "plt.tight_layout()\n",
    "plt.savefig(\"torus_cross_divergence_diag_hist.png\")"
   ]
  },
  {
   "cell_type": "code",
   "execution_count": null,
   "id": "6c61d383-85ec-4115-8138-970d2251ff2c",
   "metadata": {},
   "outputs": [],
   "source": [
    "fig, ax = plt.subplots(figsize=(15,2))\n",
    "plot_divergence_array(Z_barcodes_arr, steps_list, ax)\n",
    "ax.set_title(\"Z barcode evolution\")\n",
    "plt.tight_layout()"
   ]
  },
  {
   "cell_type": "code",
   "execution_count": null,
   "id": "ffcb33ea-4f9b-4a42-8d5b-f6daff135f62",
   "metadata": {},
   "outputs": [],
   "source": [
    "fig, ax = plt.subplots(figsize=(10,2))\n",
    "cumulative_arr = perdiver.compute_cumulative_array(divergence_arr)\n",
    "plot_divergence_array(cumulative_arr, steps_list, ax)\n",
    "ax.set_title(\"Cumulative Persistence Divergence\")\n",
    "plt.tight_layout()"
   ]
  },
  {
   "cell_type": "code",
   "execution_count": null,
   "id": "e945c920-8de3-4f2b-85bb-890446f1c8ab",
   "metadata": {},
   "outputs": [],
   "source": [
    "prev_div_min = np.min(divergence_arr)\n",
    "prev_div_max = np.max(divergence_arr)\n",
    "prev_cdiv_min = np.min(cumulative_arr)\n",
    "prev_cdiv_max = np.max(cumulative_arr)"
   ]
  },
  {
   "cell_type": "markdown",
   "id": "905f2682-e370-4d36-a664-ffca76b50d35",
   "metadata": {},
   "source": [
    "#  Check again in another dataset."
   ]
  },
  {
   "cell_type": "code",
   "execution_count": null,
   "id": "8b86c822-1113-4610-8d01-5a0e2405d0b3",
   "metadata": {},
   "outputs": [],
   "source": [
    "fig, ax = plt.subplots(figsize=(15,2))\n",
    "plot_divergence_array(divergence_arr, steps_list, ax, vmin=prev_div_min, vmax=prev_div_max)\n",
    "ax.set_title(\"cross_on_torus\")\n",
    "plt.tight_layout()\n",
    "plt.savefig(\"torus_cross_divergence_diag_hist.png\")"
   ]
  },
  {
   "cell_type": "code",
   "execution_count": null,
   "id": "abaa1e30-cc35-42b6-a60e-1ad10d692545",
   "metadata": {},
   "outputs": [],
   "source": [
    "fig, ax = plt.subplots(figsize=(15,2))\n",
    "plot_divergence_array(Z_barcodes_arr, steps_list, ax)\n",
    "ax.set_title(\"Z_barcode_cross_on_torus\")\n",
    "plt.tight_layout()"
   ]
  },
  {
   "cell_type": "code",
   "execution_count": null,
   "id": "f4b0cd2e-bedb-47b4-8d59-2f3b008aff43",
   "metadata": {},
   "outputs": [],
   "source": [
    "# def compute_cumulative_array(div_arr):\n",
    "#     cumulative_list = []\n",
    "#     for j, divergence in enumerate(div_arr.transpose()):\n",
    "#         cumulative = []\n",
    "#         for i in range(div_arr.shape[0]):\n",
    "#             cumulative.append(np.sum(divergence[:i+1]))\n",
    "#         cumulative_list.append(cumulative)\n",
    "#     return np.array(cumulative_list).transpose()"
   ]
  },
  {
   "cell_type": "code",
   "execution_count": null,
   "id": "7ce173e5-48b0-420b-a6a4-3b9fddd887ad",
   "metadata": {},
   "outputs": [],
   "source": [
    "fig, ax = plt.subplots(figsize=(10,2))\n",
    "cumulative_arr = perdiver.compute_cumulative_array(divergence_arr)\n",
    "plot_divergence_array(cumulative_arr, steps_list, ax, vmin=prev_cdiv_min, vmax=prev_cdiv_max)\n",
    "ax.set_title(\"cumulative\")\n",
    "plt.tight_layout()"
   ]
  },
  {
   "cell_type": "code",
   "execution_count": null,
   "id": "5003f19f-2de5-4e02-a549-45c603780fa4",
   "metadata": {},
   "outputs": [],
   "source": [
    "# y_max = np.max(Z_barcodes_arr)\n",
    "# y_min = np.min(Z_barcodes_arr)\n",
    "# y_range = np.linspace(y_min, y_max, 40)\n",
    "# combinations_list = []\n",
    "# for y in y_range:\n",
    "#     combinations_row = [] \n",
    "#     for j, column in enumerate(Z_barcodes_arr.transpose()):\n",
    "#         idx = np.sum(Z_barcodes_arr[:,j] < y)-1\n",
    "#         if idx < 0:\n",
    "#             combinations_row.append(0)\n",
    "#         else:\n",
    "#             combinations_row.append(cumulative_arr[idx,j])\n",
    "#     combinations_list.append(combinations_row)\n",
    "# combinations_arr = np.array(combinations_list)"
   ]
  },
  {
   "cell_type": "code",
   "execution_count": null,
   "id": "c5ddc234-f82a-4af0-ae9e-24cf681641c9",
   "metadata": {},
   "outputs": [],
   "source": [
    "# fig, ax = plt.subplots(figsize=(10,2))\n",
    "# vmax = np.max(combinations_arr)\n",
    "# vmin = np.min(combinations_arr)\n",
    "# mapable = ax.imshow(combinations_arr, aspect=\"auto\", vmax=vmax, vmin=vmin, extent=(steps_list[0], steps_list[-1], y_max, 0))\n",
    "# ax.set_title(\"combinations\")\n",
    "# plt.colorbar(mapable)\n",
    "# plt.tight_layout()"
   ]
  },
  {
   "cell_type": "markdown",
   "id": "e9e62b83-6449-46bd-bdae-ffed59149278",
   "metadata": {},
   "source": [
    "# Record simulation Video"
   ]
  },
  {
   "cell_type": "code",
   "execution_count": null,
   "id": "872a5c89-70f1-4c72-89a4-8bc38d1440b8",
   "metadata": {},
   "outputs": [],
   "source": [
    "import matplotlib.colors as colors\n",
    "import matplotlib.cm as cmx\n",
    "\n",
    "def linear_map(a, b, cmap):\n",
    "    c = cmx.ScalarMappable(norm=colors.Normalize(vmin=a, vmax=b), cmap=cmap)  \n",
    "    def f(v):\n",
    "        r, g, b, _ = c.to_rgba(v)\n",
    "        return f\"#{int(r * 255):02x}{int(g * 255):02x}{int(b * 255):02x}\"\n",
    "    return f\n",
    "\n",
    "fill_map = linear_map(0.0, 1.0, cmap=cmx.RdYlGn)\n",
    "\n",
    "def f(entity):\n",
    "    if isinstance(entity, sim.Agent):\n",
    "        return {'fill': fill_map(entity.behavior.efficacy)}\n",
    "    return {}"
   ]
  },
  {
   "cell_type": "code",
   "execution_count": null,
   "id": "46dc9e5b-36cd-48b7-a717-3c533803cda5",
   "metadata": {},
   "outputs": [],
   "source": [
    "from navground.sim.ui.video import record_video\n",
    "\n",
    "bounds = (np.array([-1,-1]), np.array([12,12]))\n",
    "record_video(\"first_torus_cross_exp.mp4\", run.world, time_step=0.1, duration=60, factor=5.0, decorate=f, width=300, display_shape=True, fps=30, bounds=bounds)"
   ]
  },
  {
   "cell_type": "code",
   "execution_count": null,
   "id": "0808fa15-cab1-4786-997f-856e86db90e9",
   "metadata": {},
   "outputs": [],
   "source": [
    "from IPython.display import Video\n",
    "\n",
    "Video(\"first_torus_cross_exp.mp4\", width=300)"
   ]
  },
  {
   "cell_type": "code",
   "execution_count": null,
   "id": "cc8c9fa9-0958-4ccd-bee2-765579ede706",
   "metadata": {},
   "outputs": [],
   "source": []
  }
 ],
 "metadata": {
  "kernelspec": {
   "display_name": "Python 3 (ipykernel)",
   "language": "python",
   "name": "python3"
  },
  "language_info": {
   "codemirror_mode": {
    "name": "ipython",
    "version": 3
   },
   "file_extension": ".py",
   "mimetype": "text/x-python",
   "name": "python",
   "nbconvert_exporter": "python",
   "pygments_lexer": "ipython3",
   "version": "3.10.12"
  }
 },
 "nbformat": 4,
 "nbformat_minor": 5
}
