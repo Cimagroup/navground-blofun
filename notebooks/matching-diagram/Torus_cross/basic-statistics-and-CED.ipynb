{
 "cells": [
  {
   "cell_type": "markdown",
   "id": "10174b23-25f5-45d2-85a2-43985ce76950",
   "metadata": {},
   "source": [
    "### Basic statistics and CED \n",
    "\n",
    "In this notebook, we explore basic analysis of the positions and speeds to detect similarities and differences between behaviors. In particular, we compute the means and standard deviations on all output variables of navground simulations, and analyse their evolutions. In addition, we inspect also the Collisions, Efficacy and Deadlocks (CED).\n",
    "\n",
    "We start importing some libraries."
   ]
  },
  {
   "cell_type": "code",
   "execution_count": null,
   "id": "35f7c19a-b478-4fa9-9451-2722d6275e7c",
   "metadata": {},
   "outputs": [],
   "source": [
    "import numpy as np\n",
    "import matplotlib.pyplot as plt\n",
    "import matplotlib as mpl\n",
    "import os\n",
    "\n",
    "from navground import core, sim\n",
    "from navground.sim.ui.video import display_video_from_run\n",
    "\n",
    "from perdiver.navground_io import parser, run_navground\n",
    "\n",
    "plots_dir = os.path.join(\"plots\", \"basic_metrics\")\n",
    "experiment_dir = \"experiments\"\n",
    "os.makedirs(plots_dir, exist_ok=True)\n",
    "os.makedirs(\"experiments\", exist_ok=True)"
   ]
  },
  {
   "cell_type": "code",
   "execution_count": null,
   "id": "f88c00d1-7647-4543-8357-965de185f7ec",
   "metadata": {},
   "outputs": [],
   "source": [
    "args = parser.parse_args([\n",
    "        '--scenario', 'CrossTorus',\n",
    "        '--side', '6.5',\n",
    "        '--length', '15.0',\n",
    "        '--width', '3.5',\n",
    "        '--num_runs', '15',\n",
    "        '--num_steps', '500',\n",
    "        '--time_step', '0.1',\n",
    "        '--num_agents', '12',\n",
    "        '--max_speed', '1.66',\n",
    "        '--optimal_speed_min', '0.1',\n",
    "        '--optimal_speed_min', '0.15',\n",
    "        '--radius', '0.4',\n",
    "        '--safety_margin', '0.1',\n",
    "        '--epsilon', '20',\n",
    "        '--time_delay', '10',\n",
    "])\n",
    "\n",
    "behavior_list = [\"ORCA\", \"HL\", \"HRVO\", \"SocialForce\"]\n",
    "marker_behavior = {\"ORCA\": \"o\", \"HL\": \"X\", \"HRVO\": \"+\", \"Dummy\": \"*\", \"SocialForce\": \"x\"}\n",
    "color_behavior = {}\n",
    "for i, behavior in enumerate(behavior_list):\n",
    "    color_behavior[behavior] = mpl.colormaps[\"Set1\"](i / (len(behavior_list) +1))\n",
    "\n",
    "runs = {}\n",
    "for behavior in behavior_list:\n",
    "    args.behavior = behavior\n",
    "    runs[behavior] = run_navground(args)"
   ]
  },
  {
   "cell_type": "markdown",
   "id": "72d3ffbd-e18a-49b1-8c9f-454845c22619",
   "metadata": {},
   "source": [
    "Visualise runs."
   ]
  },
  {
   "cell_type": "code",
   "execution_count": null,
   "id": "ad424fd3-6659-4f01-aaf0-0e9a74dcd195",
   "metadata": {},
   "outputs": [],
   "source": [
    "display_video_from_run(run=runs[\"ORCA\"][0], factor=6.0, fps=20)"
   ]
  },
  {
   "cell_type": "markdown",
   "id": "cbfdf654-7fd1-469d-82db-75fba0c5d74f",
   "metadata": {},
   "source": [
    "Obtain statistic measures related to both poses and twists from navground simulations."
   ]
  },
  {
   "cell_type": "code",
   "execution_count": null,
   "id": "90df0e72-eeaf-4f98-8339-44b396e72d10",
   "metadata": {},
   "outputs": [],
   "source": [
    "args.timestep_list = list(range(30, 100, 5))\n",
    "variables_behavior = {}\n",
    "for j, behavior in enumerate(behavior_list):\n",
    "    variables_list = []\n",
    "    for ridx in range(args.num_runs):\n",
    "        run = runs[behavior][ridx]\n",
    "        variables_run = []\n",
    "        ps = np.array(run.poses)\n",
    "        twists = np.array(run.twists)\n",
    "        for idx, step in enumerate(args.timestep_list):\n",
    "            if step >= run.recorded_steps:\n",
    "                variables_run.append(variables_run[-1])\n",
    "                continue\n",
    "            X = ps[step]\n",
    "            vel_X = twists[step]\n",
    "            variables_run.append(np.hstack((np.mean(X, axis=0), np.std(X, axis=0), np.mean(vel_X, axis=0), np.std(vel_X, axis=0))))\n",
    "        # end for \n",
    "        \n",
    "        variables_list.append(np.array(variables_run).transpose())\n",
    "    # end for\n",
    "    variables_behavior[behavior] = variables_list"
   ]
  },
  {
   "cell_type": "code",
   "execution_count": null,
   "id": "ed4cb365-4d3c-47b8-a8b1-c0903bc91c24",
   "metadata": {},
   "outputs": [],
   "source": [
    "fig, ax = plt.subplots(ncols=2, nrows=6, figsize=(12,8))\n",
    "labels = np.array([\n",
    "    [\"x mean\", \"y mean\", \"angle mean\", \"x std\", \"y std\", \"angle std\"],\n",
    "    [\"v_x mean\", \"v_y mean\", \"angle speed mean\", \"v_x std\", \"v_y std\", \"angular speed std\"]\n",
    "]).transpose()\n",
    "for irow in range(labels.shape[0]):\n",
    "    for icol in range(labels.shape[1]):\n",
    "        for behavior in behavior_list:\n",
    "            for variables_run in variables_behavior[behavior]:\n",
    "                ax[irow, icol].set_title(labels[irow, icol])\n",
    "                timesteps = args.timestep_list[:len(variables_run[icol*6 + irow])]\n",
    "                ax[irow, icol].plot(timesteps, variables_run[icol*6 + irow], color=color_behavior[behavior], label=behavior)\n",
    "\n",
    "plt.tight_layout()\n",
    "# Remove duplicate labels \n",
    "handles, labels = plt.gca().get_legend_handles_labels()\n",
    "by_label = dict(zip(labels, handles))\n",
    "fig.legend(by_label.values(), by_label.keys())\n",
    "plt.savefig(os.sep.join((plots_dir, \"basic_metrics_signals.png\")))"
   ]
  },
  {
   "cell_type": "markdown",
   "id": "165d7e72-dd89-4c6c-b188-5f2c365c6b6a",
   "metadata": {},
   "source": [
    "Velocity in $x$ and $y$ standard deviations are very good at seeing the differences. Let us repeat the plot for velocities only."
   ]
  },
  {
   "cell_type": "code",
   "execution_count": null,
   "id": "2e1dc49b-7e0c-4689-a186-1c82ca2ef835",
   "metadata": {},
   "outputs": [],
   "source": [
    "fig, ax = plt.subplots(ncols=1, nrows=3, figsize=(8,4), squeeze=False)\n",
    "labels = np.array([[\"v_x std\", \"v_y std\", \"angular speed std\"]]).transpose()\n",
    "for irow in range(labels.shape[0]):\n",
    "    for icol in range(labels.shape[1]):\n",
    "        for behavior in behavior_list:\n",
    "            for variables_run in variables_behavior[behavior]:\n",
    "                ax[irow, icol].set_title(labels[irow, icol])\n",
    "                variables = variables_run[9 + irow]\n",
    "                timesteps = args.timestep_list[:len(variables)]\n",
    "                ax[irow, icol].plot(timesteps, variables, color=color_behavior[behavior], label=behavior)\n",
    "\n",
    "\n",
    "# Remove duplicate labels \n",
    "handles, labels = plt.gca().get_legend_handles_labels()\n",
    "by_label = dict(zip(labels, handles))\n",
    "fig.legend(by_label.values(), by_label.keys(), loc=(0.3,0),  ncol=len(behavior_list))\n",
    "plt.tight_layout()\n",
    "plt.savefig(os.sep.join((plots_dir, \"basic_metrics_velocities.png\")))"
   ]
  },
  {
   "cell_type": "code",
   "execution_count": null,
   "id": "61d87496-fae1-4d57-b1e4-286ae4f4ffd8",
   "metadata": {},
   "outputs": [],
   "source": [
    "from sklearn.decomposition import PCA"
   ]
  },
  {
   "cell_type": "code",
   "execution_count": null,
   "id": "973c0ffd-e22b-484c-bb3b-0cabe51600cb",
   "metadata": {},
   "outputs": [],
   "source": [
    "fig, ax = plt.subplots(ncols=6, nrows=2, figsize=(12,4))\n",
    "labels = np.array([\n",
    "    [\"x mean\", \"y mean\", \"angle mean\", \"x std\", \"y std\", \"angule std\"],\n",
    "    [\"v_x mean\", \"v_y mean\", \"angle speed mean\", \"v_x std\", \"v_y std\", \"angular speed std\"]\n",
    "])\n",
    "variables = np.vstack([variables_behavior[behavior] for behavior in behavior_list])\n",
    "for irow in range(labels.shape[0]):\n",
    "    for icol in range(labels.shape[1]):\n",
    "        ax[irow, icol].set_title(labels[irow, icol])\n",
    "        pca = PCA(n_components=2)\n",
    "        Y = pca.fit_transform(variables[:, irow*6 + icol, :])\n",
    "        Y_dict = {}\n",
    "        for i, behavior in enumerate(behavior_list):\n",
    "            Y_dict[behavior] = Y[args.num_runs*i:args.num_runs*(i+1)]\n",
    "        # end for\n",
    "        for behavior in behavior_list:\n",
    "            ax[irow, icol].scatter(Y_dict[behavior][:args.num_runs][:,0], Y_dict[behavior][:args.num_runs][:,1], color=color_behavior[behavior], marker=marker_behavior[behavior], label=behavior)\n",
    "# Remove duplicate labels \n",
    "handles, labels = plt.gca().get_legend_handles_labels()\n",
    "by_label = dict(zip(labels, handles))\n",
    "fig.legend(by_label.values(), by_label.keys(), loc=(0.3,0),  ncol=len(behavior_list))\n",
    "plt.tight_layout()\n",
    "plt.savefig(os.sep.join((plots_dir, \"basic_metrics_PCA.png\")))"
   ]
  },
  {
   "cell_type": "markdown",
   "id": "0f7a0d3c-7acf-4764-9300-f48f78035656",
   "metadata": {},
   "source": [
    "Repeat PCA only for standard deviations of $v_x$ and $v_y$"
   ]
  },
  {
   "cell_type": "code",
   "execution_count": null,
   "id": "ec880f43-459b-4a22-9ce4-10bc83259a48",
   "metadata": {},
   "outputs": [],
   "source": [
    "fig, ax = plt.subplots(ncols=3, nrows=1, figsize=(9,3), squeeze=False)\n",
    "labels = np.array([\n",
    "    [ \"v_x std\", \"v_y std\", \"angular speed std\"]\n",
    "])\n",
    "variables = np.vstack([variables_behavior[behavior] for behavior in behavior_list])\n",
    "for irow in range(labels.shape[0]):\n",
    "    for icol in range(labels.shape[1]):\n",
    "        ax[irow, icol].set_title(f\"PCA {labels[irow, icol]}\")\n",
    "        pca = PCA(n_components=2)\n",
    "        Y = pca.fit_transform(variables[:, 9 + icol, :])\n",
    "        Y_dict = {}\n",
    "        for i, behavior in enumerate(behavior_list):\n",
    "            Y_dict[behavior] = Y[args.num_runs*i:args.num_runs*(i+1)]\n",
    "        # end for\n",
    "        for behavior in behavior_list:\n",
    "            ax[irow, icol].scatter(Y_dict[behavior][:args.num_runs][:,0], Y_dict[behavior][:args.num_runs][:,1], color=color_behavior[behavior], marker=marker_behavior[behavior], label=behavior)\n",
    "\n",
    "# Remove duplicate labels \n",
    "handles, labels = plt.gca().get_legend_handles_labels()\n",
    "by_label = dict(zip(labels, handles))\n",
    "fig.legend(by_label.values(), by_label.keys(), loc=(0.3,0),  ncol=len(behavior_list))\n",
    "plt.tight_layout()\n",
    "plt.savefig(os.sep.join((plots_dir, \"std_velocities_PCA.png\")))"
   ]
  },
  {
   "cell_type": "markdown",
   "id": "7ade1261-6b14-49f0-9ee5-02f1d8d23b8a",
   "metadata": {},
   "source": [
    "Let us see how these simulations relate to collisions, efficacy and deadlocks (CED)."
   ]
  },
  {
   "cell_type": "code",
   "execution_count": null,
   "id": "a872af1d-578a-44df-aea2-a74691e3f8a2",
   "metadata": {},
   "outputs": [],
   "source": [
    "from perdiver.navground_io import extract_data\n",
    "\n",
    "initial_step = 0\n",
    "final_step = args.num_steps\n",
    "deadlocks = {}\n",
    "collisions = {}\n",
    "efficacy = {}\n",
    "for behavior in behavior_list:\n",
    "    df = extract_data(runs[behavior], initial_step, final_step)\n",
    "    collisions[behavior] =  list(df.collisions)\n",
    "    deadlocks[behavior] = list(df.deadlocks)\n",
    "    efficacy[behavior] = list(df.efficacy)"
   ]
  },
  {
   "cell_type": "code",
   "execution_count": null,
   "id": "1b3badd0-72f1-4114-84b7-743aa79462ce",
   "metadata": {},
   "outputs": [],
   "source": [
    "fig, ax = plt.subplots(figsize=(9,3), ncols=3)\n",
    "for behavior in behavior_list:\n",
    "    ax[0].scatter(deadlocks[behavior], collisions[behavior], color=color_behavior[behavior], label=behavior, marker=marker_behavior[behavior])\n",
    "    ax[0].set_xlabel(\"deadlocks\")\n",
    "    ax[0].set_ylabel(\"collisions\")\n",
    "    ax[1].scatter(efficacy[behavior], collisions[behavior], color=color_behavior[behavior], label=behavior, marker=marker_behavior[behavior])\n",
    "    ax[1].set_xlabel(\"efficacy\")\n",
    "    ax[1].set_ylabel(\"collisions\")\n",
    "    ax[2].scatter(efficacy[behavior], deadlocks[behavior], color=color_behavior[behavior], label=behavior, marker=marker_behavior[behavior])\n",
    "    ax[2].set_xlabel(\"efficacy\")\n",
    "    ax[2].set_ylabel(\"deadlocks\")\n",
    "# end for\n",
    "handles, labels = plt.gca().get_legend_handles_labels()\n",
    "by_label = dict(zip(labels, handles))\n",
    "fig.legend(by_label.values(), by_label.keys(), loc=(0.3,0),  ncol=len(behavior_list))\n",
    "plt.tight_layout()\n",
    "plt.savefig(os.sep.join((plots_dir, \"efficacy_collisions_cross_torus.png\")))"
   ]
  },
  {
   "cell_type": "code",
   "execution_count": null,
   "id": "d5d20a0c-7b99-422a-b47e-81634c3ca7cc",
   "metadata": {},
   "outputs": [],
   "source": []
  }
 ],
 "metadata": {
  "kernelspec": {
   "display_name": "Python 3 (ipykernel)",
   "language": "python",
   "name": "python3"
  },
  "language_info": {
   "codemirror_mode": {
    "name": "ipython",
    "version": 3
   },
   "file_extension": ".py",
   "mimetype": "text/x-python",
   "name": "python",
   "nbconvert_exporter": "python",
   "pygments_lexer": "ipython3",
   "version": "3.10.12"
  }
 },
 "nbformat": 4,
 "nbformat_minor": 5
}
